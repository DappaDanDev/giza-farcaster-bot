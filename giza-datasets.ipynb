{
 "cells": [
  {
   "cell_type": "code",
   "execution_count": 1,
   "metadata": {},
   "outputs": [],
   "source": [
    "from giza_datasets import DatasetsHub, DatasetsLoader"
   ]
  },
  {
   "cell_type": "code",
   "execution_count": 14,
   "metadata": {},
   "outputs": [],
   "source": [
    "import os\n",
    "import certifi\n",
    "import json\n",
    "import polars as pl\n",
    "\n",
    "os.environ['SSL_CERT_FILE'] = certifi.where()"
   ]
  },
  {
   "cell_type": "code",
   "execution_count": 3,
   "metadata": {},
   "outputs": [],
   "source": [
    "hub = DatasetsHub()"
   ]
  },
  {
   "cell_type": "code",
   "execution_count": 4,
   "metadata": {},
   "outputs": [
    {
     "name": "stdout",
     "output_type": "stream",
     "text": [
      "Dataset read from cache.\n",
      "Loading dataset farcaster-casts from cache.\n"
     ]
    }
   ],
   "source": [
    "loader = DatasetsLoader()\n",
    "df = loader.load('farcaster-casts')\n"
   ]
  },
  {
   "cell_type": "code",
   "execution_count": 5,
   "metadata": {},
   "outputs": [
    {
     "data": {
      "text/html": [
       "<div><style>\n",
       ".dataframe > thead > tr,\n",
       ".dataframe > tbody > tr {\n",
       "  text-align: right;\n",
       "  white-space: pre-wrap;\n",
       "}\n",
       "</style>\n",
       "<small>shape: (5, 13)</small><table border=\"1\" class=\"dataframe\"><thead><tr><th>created_at</th><th>id</th><th>fid</th><th>hash</th><th>text</th><th>embeds</th><th>mentions</th><th>parent_fid</th><th>parent_url</th><th>parent_hash</th><th>root_parent_url</th><th>root_parent_hash</th><th>mentions_positions</th></tr><tr><td>datetime[ns]</td><td>i64</td><td>i64</td><td>str</td><td>str</td><td>str</td><td>str</td><td>i64</td><td>str</td><td>str</td><td>str</td><td>str</td><td>str</td></tr></thead><tbody><tr><td>2024-01-27 05:53:58.000000906</td><td>108884669</td><td>234592</td><td>&quot;0x89dc1a122c5e…</td><td>&quot;Am late i gues…</td><td>&quot;[]&quot;</td><td>&quot;[]&quot;</td><td>2007</td><td>null</td><td>&quot;0x97f2c919a8f0…</td><td>&quot;https://warpca…</td><td>&quot;0x97f2c919a8f0…</td><td>&quot;[]&quot;</td></tr><tr><td>2024-01-27 06:04:17.000000105</td><td>108884763</td><td>234592</td><td>&quot;0x056cc3a8920e…</td><td>&quot;New to farcast…</td><td>&quot;[]&quot;</td><td>&quot;[]&quot;</td><td>null</td><td>null</td><td>null</td><td>null</td><td>&quot;0x056cc3a8920e…</td><td>&quot;[]&quot;</td></tr><tr><td>2024-01-05 13:46:37.000000043</td><td>108667070</td><td>12741</td><td>&quot;0x0a5b1c23d805…</td><td>&quot;Congrats , you…</td><td>&quot;[]&quot;</td><td>&quot;[189929]&quot;</td><td>12741</td><td>null</td><td>&quot;0xeb8c8c3695bd…</td><td>null</td><td>&quot;0xeb8c8c3695bd…</td><td>&quot;[9]&quot;</td></tr><tr><td>2024-01-23 13:34:00.000000288</td><td>108839455</td><td>12741</td><td>&quot;0x5be39f41f259…</td><td>&quot;Congrats , you…</td><td>&quot;[]&quot;</td><td>&quot;[21000]&quot;</td><td>12741</td><td>null</td><td>&quot;0xeb8c8c3695bd…</td><td>null</td><td>&quot;0xeb8c8c3695bd…</td><td>&quot;[9]&quot;</td></tr><tr><td>2024-01-23 13:39:51.000000814</td><td>108839493</td><td>12741</td><td>&quot;0xe67bb80c580e…</td><td>&quot;Congrats , you…</td><td>&quot;[]&quot;</td><td>&quot;[18944]&quot;</td><td>12741</td><td>null</td><td>&quot;0xeb8c8c3695bd…</td><td>null</td><td>&quot;0xeb8c8c3695bd…</td><td>&quot;[9]&quot;</td></tr></tbody></table></div>"
      ],
      "text/plain": [
       "shape: (5, 13)\n",
       "┌────────────┬───────────┬────────┬────────────┬───┬───────────┬───────────┬───────────┬───────────┐\n",
       "│ created_at ┆ id        ┆ fid    ┆ hash       ┆ … ┆ parent_ha ┆ root_pare ┆ root_pare ┆ mentions_ │\n",
       "│ ---        ┆ ---       ┆ ---    ┆ ---        ┆   ┆ sh        ┆ nt_url    ┆ nt_hash   ┆ positions │\n",
       "│ datetime[n ┆ i64       ┆ i64    ┆ str        ┆   ┆ ---       ┆ ---       ┆ ---       ┆ ---       │\n",
       "│ s]         ┆           ┆        ┆            ┆   ┆ str       ┆ str       ┆ str       ┆ str       │\n",
       "╞════════════╪═══════════╪════════╪════════════╪═══╪═══════════╪═══════════╪═══════════╪═══════════╡\n",
       "│ 2024-01-27 ┆ 108884669 ┆ 234592 ┆ 0x89dc1a12 ┆ … ┆ 0x97f2c91 ┆ https://w ┆ 0x97f2c91 ┆ []        │\n",
       "│ 05:53:58.0 ┆           ┆        ┆ 2c5e66e678 ┆   ┆ 9a8f06ecc ┆ arpcast.c ┆ 9a8f06ecc ┆           │\n",
       "│ 00000906   ┆           ┆        ┆ fe1f9ff410 ┆   ┆ 5673ad1d8 ┆ om/~/chan ┆ 5673ad1d8 ┆           │\n",
       "│            ┆           ┆        ┆ 47…        ┆   ┆ 8828a…    ┆ nel/c…    ┆ 8828a…    ┆           │\n",
       "│ 2024-01-27 ┆ 108884763 ┆ 234592 ┆ 0x056cc3a8 ┆ … ┆ null      ┆ null      ┆ 0x056cc3a ┆ []        │\n",
       "│ 06:04:17.0 ┆           ┆        ┆ 920edbaec2 ┆   ┆           ┆           ┆ 8920edbae ┆           │\n",
       "│ 00000105   ┆           ┆        ┆ 7114db013a ┆   ┆           ┆           ┆ c27114db0 ┆           │\n",
       "│            ┆           ┆        ┆ 01…        ┆   ┆           ┆           ┆ 13a01…    ┆           │\n",
       "│ 2024-01-05 ┆ 108667070 ┆ 12741  ┆ 0x0a5b1c23 ┆ … ┆ 0xeb8c8c3 ┆ null      ┆ 0xeb8c8c3 ┆ [9]       │\n",
       "│ 13:46:37.0 ┆           ┆        ┆ d8056318e2 ┆   ┆ 695bdb47d ┆           ┆ 695bdb47d ┆           │\n",
       "│ 00000043   ┆           ┆        ┆ d046d7026f ┆   ┆ 6ea16e247 ┆           ┆ 6ea16e247 ┆           │\n",
       "│            ┆           ┆        ┆ 75…        ┆   ┆ aa234…    ┆           ┆ aa234…    ┆           │\n",
       "│ 2024-01-23 ┆ 108839455 ┆ 12741  ┆ 0x5be39f41 ┆ … ┆ 0xeb8c8c3 ┆ null      ┆ 0xeb8c8c3 ┆ [9]       │\n",
       "│ 13:34:00.0 ┆           ┆        ┆ f259d312ed ┆   ┆ 695bdb47d ┆           ┆ 695bdb47d ┆           │\n",
       "│ 00000288   ┆           ┆        ┆ d3822f63a8 ┆   ┆ 6ea16e247 ┆           ┆ 6ea16e247 ┆           │\n",
       "│            ┆           ┆        ┆ a5…        ┆   ┆ aa234…    ┆           ┆ aa234…    ┆           │\n",
       "│ 2024-01-23 ┆ 108839493 ┆ 12741  ┆ 0xe67bb80c ┆ … ┆ 0xeb8c8c3 ┆ null      ┆ 0xeb8c8c3 ┆ [9]       │\n",
       "│ 13:39:51.0 ┆           ┆        ┆ 580e70a746 ┆   ┆ 695bdb47d ┆           ┆ 695bdb47d ┆           │\n",
       "│ 00000814   ┆           ┆        ┆ 3f1e5f534f ┆   ┆ 6ea16e247 ┆           ┆ 6ea16e247 ┆           │\n",
       "│            ┆           ┆        ┆ d1…        ┆   ┆ aa234…    ┆           ┆ aa234…    ┆           │\n",
       "└────────────┴───────────┴────────┴────────────┴───┴───────────┴───────────┴───────────┴───────────┘"
      ]
     },
     "execution_count": 5,
     "metadata": {},
     "output_type": "execute_result"
    }
   ],
   "source": [
    "df.head()"
   ]
  },
  {
   "cell_type": "code",
   "execution_count": 12,
   "metadata": {},
   "outputs": [],
   "source": [
    "df.write_csv('filename.csv')"
   ]
  },
  {
   "cell_type": "code",
   "execution_count": 21,
   "metadata": {},
   "outputs": [],
   "source": [
    "sampled_df = df.sample(n=5)"
   ]
  },
  {
   "cell_type": "code",
   "execution_count": 23,
   "metadata": {},
   "outputs": [
    {
     "data": {
      "text/html": [
       "<div><style>\n",
       ".dataframe > thead > tr,\n",
       ".dataframe > tbody > tr {\n",
       "  text-align: right;\n",
       "  white-space: pre-wrap;\n",
       "}\n",
       "</style>\n",
       "<small>shape: (5,)</small><table border=\"1\" class=\"dataframe\"><thead><tr><th>text</th></tr><tr><td>str</td></tr></thead><tbody><tr><td>&quot;อีกหนึ่ง Liqui…</td></tr><tr><td>&quot;paging  who ha…</td></tr><tr><td>&quot;4 $DEGEN&quot;</td></tr><tr><td>&quot;Mint dog\n",
       "Recas…</td></tr><tr><td>&quot;765 $DEGEN&quot;</td></tr></tbody></table></div>"
      ],
      "text/plain": [
       "shape: (5,)\n",
       "Series: 'text' [str]\n",
       "[\n",
       "\t\"อีกหนึ่ง Liqui…\n",
       "\t\"paging  who ha…\n",
       "\t\"4 $DEGEN\"\n",
       "\t\"Mint dog\n",
       "Recas…\n",
       "\t\"765 $DEGEN\"\n",
       "]"
      ]
     },
     "execution_count": 23,
     "metadata": {},
     "output_type": "execute_result"
    }
   ],
   "source": [
    "random_values = sampled_df[\"text\"]\n",
    "random_values"
   ]
  },
  {
   "cell_type": "code",
   "execution_count": 16,
   "metadata": {},
   "outputs": [
    {
     "data": {
      "text/plain": [
       "110660"
      ]
     },
     "execution_count": 16,
     "metadata": {},
     "output_type": "execute_result"
    }
   ],
   "source": [
    "unique_count = df['fid'].unique().len()\n",
    "unique_count"
   ]
  },
  {
   "cell_type": "code",
   "execution_count": 6,
   "metadata": {},
   "outputs": [],
   "source": [
    "\n",
    "df.select(\"fid\").unique().write_csv(\"unique_fids.csv\")\n"
   ]
  },
  {
   "cell_type": "code",
   "execution_count": 16,
   "metadata": {},
   "outputs": [
    {
     "name": "stdout",
     "output_type": "stream",
     "text": [
      "5896687\n"
     ]
    }
   ],
   "source": [
    "num_rows = df.height\n",
    "print(num_rows)\n"
   ]
  },
  {
   "cell_type": "code",
   "execution_count": 17,
   "metadata": {},
   "outputs": [
    {
     "data": {
      "text/plain": [
       "True"
      ]
     },
     "execution_count": 17,
     "metadata": {},
     "output_type": "execute_result"
    }
   ],
   "source": [
    "fid_to_check = 355637\n",
    "fid_exists = (df[\"fid\"] == fid_to_check).any()\n",
    "fid_exists"
   ]
  },
  {
   "cell_type": "code",
   "execution_count": 18,
   "metadata": {},
   "outputs": [
    {
     "data": {
      "text/html": [
       "<div><style>\n",
       ".dataframe > thead > tr,\n",
       ".dataframe > tbody > tr {\n",
       "  text-align: right;\n",
       "  white-space: pre-wrap;\n",
       "}\n",
       "</style>\n",
       "<small>shape: (20, 13)</small><table border=\"1\" class=\"dataframe\"><thead><tr><th>created_at</th><th>id</th><th>fid</th><th>hash</th><th>text</th><th>embeds</th><th>mentions</th><th>parent_fid</th><th>parent_url</th><th>parent_hash</th><th>root_parent_url</th><th>root_parent_hash</th><th>mentions_positions</th></tr><tr><td>datetime[ns]</td><td>i64</td><td>i64</td><td>str</td><td>str</td><td>str</td><td>str</td><td>i64</td><td>str</td><td>str</td><td>str</td><td>str</td><td>str</td></tr></thead><tbody><tr><td>2024-02-20 09:02:25.000000620</td><td>242895179</td><td>354330</td><td>&quot;0x00dad90d5be3…</td><td>&quot;Well, look wha…</td><td>&quot;[{&quot;url&quot;: &quot;http…</td><td>&quot;[]&quot;</td><td>null</td><td>&quot;chain://eip155…</td><td>null</td><td>&quot;chain://eip155…</td><td>&quot;0x00dad90d5be3…</td><td>&quot;[]&quot;</td></tr><tr><td>2024-02-20 09:04:06.000000327</td><td>242949032</td><td>354330</td><td>&quot;0x9b9503aa80b0…</td><td>&quot;100 $DEGEN LFG…</td><td>&quot;[]&quot;</td><td>&quot;[]&quot;</td><td>266471</td><td>null</td><td>&quot;0x8858553a53fc…</td><td>&quot;chain://eip155…</td><td>&quot;0x8858553a53fc…</td><td>&quot;[]&quot;</td></tr><tr><td>2024-02-20 09:08:34.000000883</td><td>243086994</td><td>354330</td><td>&quot;0x0382efae53e7…</td><td>&quot;How come I can…</td><td>&quot;[{&quot;url&quot;: &quot;http…</td><td>&quot;[]&quot;</td><td>null</td><td>&quot;chain://eip155…</td><td>null</td><td>&quot;chain://eip155…</td><td>&quot;0x0382efae53e7…</td><td>&quot;[]&quot;</td></tr><tr><td>2024-02-20 07:18:30.000000959</td><td>240382591</td><td>354330</td><td>&quot;0x492ed2f528c6…</td><td>&quot;10 $DEGEN&quot;</td><td>&quot;[]&quot;</td><td>&quot;[]&quot;</td><td>14636</td><td>null</td><td>&quot;0x59903827a4e4…</td><td>&quot;chain://eip155…</td><td>&quot;0x59903827a4e4…</td><td>&quot;[]&quot;</td></tr><tr><td>2024-02-20 07:24:03.000000589</td><td>240423011</td><td>354330</td><td>&quot;0xec321cd15d26…</td><td>&quot;AltLayer Raise…</td><td>&quot;[{&quot;url&quot;: &quot;http…</td><td>&quot;[]&quot;</td><td>null</td><td>&quot;chain://eip155…</td><td>null</td><td>&quot;chain://eip155…</td><td>&quot;0xec321cd15d26…</td><td>&quot;[]&quot;</td></tr><tr><td>&hellip;</td><td>&hellip;</td><td>&hellip;</td><td>&hellip;</td><td>&hellip;</td><td>&hellip;</td><td>&hellip;</td><td>&hellip;</td><td>&hellip;</td><td>&hellip;</td><td>&hellip;</td><td>&hellip;</td><td>&hellip;</td></tr><tr><td>2024-02-24 15:14:43.000000027</td><td>288889068</td><td>354330</td><td>&quot;0xc3459afcf5f9…</td><td>&quot;EXGz4HmvR5Ez64…</td><td>&quot;[]&quot;</td><td>&quot;[]&quot;</td><td>370078</td><td>null</td><td>&quot;0x5f8b7c01ed98…</td><td>&quot;https://solana…</td><td>&quot;0x5f8b7c01ed98…</td><td>&quot;[]&quot;</td></tr><tr><td>2024-02-22 20:55:38.000000569</td><td>282469129</td><td>354330</td><td>&quot;0xa54a161d5f6d…</td><td>&quot;Done ✅&quot;</td><td>&quot;[]&quot;</td><td>&quot;[]&quot;</td><td>9019</td><td>null</td><td>&quot;0x7dc70d75b24c…</td><td>null</td><td>&quot;0x7dc70d75b24c…</td><td>&quot;[]&quot;</td></tr><tr><td>2024-02-22 20:58:21.000000358</td><td>282500010</td><td>354330</td><td>&quot;0x15e04c708dfa…</td><td>&quot;200 $DEGEN&quot;</td><td>&quot;[]&quot;</td><td>&quot;[]&quot;</td><td>15983</td><td>null</td><td>&quot;0x722c4f1822e3…</td><td>&quot;chain://eip155…</td><td>&quot;0x722c4f1822e3…</td><td>&quot;[]&quot;</td></tr><tr><td>2024-02-22 21:02:06.000000934</td><td>282545657</td><td>354330</td><td>&quot;0x4a5d9d5e41ec…</td><td>&quot;gm gm&quot;</td><td>&quot;[]&quot;</td><td>&quot;[]&quot;</td><td>303</td><td>null</td><td>&quot;0xf256ca1db3ae…</td><td>&quot;https://basepa…</td><td>&quot;0xf256ca1db3ae…</td><td>&quot;[]&quot;</td></tr><tr><td>2024-02-22 21:36:08.000000108</td><td>282929192</td><td>354330</td><td>&quot;0xe46a52b25318…</td><td>&quot;If you have do…</td><td>&quot;[{&quot;url&quot;: &quot;http…</td><td>&quot;[]&quot;</td><td>null</td><td>&quot;chain://eip155…</td><td>null</td><td>&quot;chain://eip155…</td><td>&quot;0xe46a52b25318…</td><td>&quot;[]&quot;</td></tr></tbody></table></div>"
      ],
      "text/plain": [
       "shape: (20, 13)\n",
       "┌────────────┬───────────┬────────┬────────────┬───┬───────────┬───────────┬───────────┬───────────┐\n",
       "│ created_at ┆ id        ┆ fid    ┆ hash       ┆ … ┆ parent_ha ┆ root_pare ┆ root_pare ┆ mentions_ │\n",
       "│ ---        ┆ ---       ┆ ---    ┆ ---        ┆   ┆ sh        ┆ nt_url    ┆ nt_hash   ┆ positions │\n",
       "│ datetime[n ┆ i64       ┆ i64    ┆ str        ┆   ┆ ---       ┆ ---       ┆ ---       ┆ ---       │\n",
       "│ s]         ┆           ┆        ┆            ┆   ┆ str       ┆ str       ┆ str       ┆ str       │\n",
       "╞════════════╪═══════════╪════════╪════════════╪═══╪═══════════╪═══════════╪═══════════╪═══════════╡\n",
       "│ 2024-02-20 ┆ 242895179 ┆ 354330 ┆ 0x00dad90d ┆ … ┆ null      ┆ chain://e ┆ 0x00dad90 ┆ []        │\n",
       "│ 09:02:25.0 ┆           ┆        ┆ 5be38699e0 ┆   ┆           ┆ ip155:777 ┆ d5be38699 ┆           │\n",
       "│ 00000620   ┆           ┆        ┆ 0517c04ae7 ┆   ┆           ┆ 7777/erc7 ┆ e00517c04 ┆           │\n",
       "│            ┆           ┆        ┆ ae…        ┆   ┆           ┆ 21:0x…    ┆ ae7ae…    ┆           │\n",
       "│ 2024-02-20 ┆ 242949032 ┆ 354330 ┆ 0x9b9503aa ┆ … ┆ 0x8858553 ┆ chain://e ┆ 0x8858553 ┆ []        │\n",
       "│ 09:04:06.0 ┆           ┆        ┆ 80b037d250 ┆   ┆ a53fc8e0d ┆ ip155:777 ┆ a53fc8e0d ┆           │\n",
       "│ 00000327   ┆           ┆        ┆ ee61d87653 ┆   ┆ dd04c050a ┆ 7777/erc7 ┆ dd04c050a ┆           │\n",
       "│            ┆           ┆        ┆ 5c…        ┆   ┆ 87c48…    ┆ 21:0x…    ┆ 87c48…    ┆           │\n",
       "│ 2024-02-20 ┆ 243086994 ┆ 354330 ┆ 0x0382efae ┆ … ┆ null      ┆ chain://e ┆ 0x0382efa ┆ []        │\n",
       "│ 09:08:34.0 ┆           ┆        ┆ 53e737d635 ┆   ┆           ┆ ip155:777 ┆ e53e737d6 ┆           │\n",
       "│ 00000883   ┆           ┆        ┆ 9e6edce541 ┆   ┆           ┆ 7777/erc7 ┆ 359e6edce ┆           │\n",
       "│            ┆           ┆        ┆ d3…        ┆   ┆           ┆ 21:0x…    ┆ 541d3…    ┆           │\n",
       "│ 2024-02-20 ┆ 240382591 ┆ 354330 ┆ 0x492ed2f5 ┆ … ┆ 0x5990382 ┆ chain://e ┆ 0x5990382 ┆ []        │\n",
       "│ 07:18:30.0 ┆           ┆        ┆ 28c607ded6 ┆   ┆ 7a4e4aecd ┆ ip155:777 ┆ 7a4e4aecd ┆           │\n",
       "│ 00000959   ┆           ┆        ┆ c80ce1b6a9 ┆   ┆ cc7388dba ┆ 7777/erc7 ┆ cc7388dba ┆           │\n",
       "│            ┆           ┆        ┆ 52…        ┆   ┆ a8cf9…    ┆ 21:0x…    ┆ a8cf9…    ┆           │\n",
       "│ 2024-02-20 ┆ 240423011 ┆ 354330 ┆ 0xec321cd1 ┆ … ┆ null      ┆ chain://e ┆ 0xec321cd ┆ []        │\n",
       "│ 07:24:03.0 ┆           ┆        ┆ 5d2689d07c ┆   ┆           ┆ ip155:777 ┆ 15d2689d0 ┆           │\n",
       "│ 00000589   ┆           ┆        ┆ 23cb16464c ┆   ┆           ┆ 7777/erc7 ┆ 7c23cb164 ┆           │\n",
       "│            ┆           ┆        ┆ 98…        ┆   ┆           ┆ 21:0x…    ┆ 64c98…    ┆           │\n",
       "│ …          ┆ …         ┆ …      ┆ …          ┆ … ┆ …         ┆ …         ┆ …         ┆ …         │\n",
       "│ 2024-02-24 ┆ 288889068 ┆ 354330 ┆ 0xc3459afc ┆ … ┆ 0x5f8b7c0 ┆ https://s ┆ 0x5f8b7c0 ┆ []        │\n",
       "│ 15:14:43.0 ┆           ┆        ┆ f5f9cd3c5f ┆   ┆ 1ed98fadb ┆ olana.com ┆ 1ed98fadb ┆           │\n",
       "│ 00000027   ┆           ┆        ┆ 235785c151 ┆   ┆ ad7ee0cd2 ┆           ┆ ad7ee0cd2 ┆           │\n",
       "│            ┆           ┆        ┆ b4…        ┆   ┆ 49c48…    ┆           ┆ 49c48…    ┆           │\n",
       "│ 2024-02-22 ┆ 282469129 ┆ 354330 ┆ 0xa54a161d ┆ … ┆ 0x7dc70d7 ┆ null      ┆ 0x7dc70d7 ┆ []        │\n",
       "│ 20:55:38.0 ┆           ┆        ┆ 5f6d9daa44 ┆   ┆ 5b24caf64 ┆           ┆ 5b24caf64 ┆           │\n",
       "│ 00000569   ┆           ┆        ┆ 8646ebd469 ┆   ┆ fc23d2e83 ┆           ┆ fc23d2e83 ┆           │\n",
       "│            ┆           ┆        ┆ 18…        ┆   ┆ 5439d…    ┆           ┆ 5439d…    ┆           │\n",
       "│ 2024-02-22 ┆ 282500010 ┆ 354330 ┆ 0x15e04c70 ┆ … ┆ 0x722c4f1 ┆ chain://e ┆ 0x722c4f1 ┆ []        │\n",
       "│ 20:58:21.0 ┆           ┆        ┆ 8dfa5936e8 ┆   ┆ 822e3dd56 ┆ ip155:777 ┆ 822e3dd56 ┆           │\n",
       "│ 00000358   ┆           ┆        ┆ be0abad917 ┆   ┆ 1c12ea1a1 ┆ 7777/erc7 ┆ 1c12ea1a1 ┆           │\n",
       "│            ┆           ┆        ┆ 97…        ┆   ┆ 4aa84…    ┆ 21:0x…    ┆ 4aa84…    ┆           │\n",
       "│ 2024-02-22 ┆ 282545657 ┆ 354330 ┆ 0x4a5d9d5e ┆ … ┆ 0xf256ca1 ┆ https://b ┆ 0xf256ca1 ┆ []        │\n",
       "│ 21:02:06.0 ┆           ┆        ┆ 41ec188302 ┆   ┆ db3aee71b ┆ asepaint. ┆ db3aee71b ┆           │\n",
       "│ 00000934   ┆           ┆        ┆ b800c1f3a3 ┆   ┆ 4fedc9031 ┆ xyz       ┆ 4fedc9031 ┆           │\n",
       "│            ┆           ┆        ┆ f3…        ┆   ┆ 8b843…    ┆           ┆ 8b843…    ┆           │\n",
       "│ 2024-02-22 ┆ 282929192 ┆ 354330 ┆ 0xe46a52b2 ┆ … ┆ null      ┆ chain://e ┆ 0xe46a52b ┆ []        │\n",
       "│ 21:36:08.0 ┆           ┆        ┆ 5318a033b7 ┆   ┆           ┆ ip155:777 ┆ 25318a033 ┆           │\n",
       "│ 00000108   ┆           ┆        ┆ fb5c3cfb86 ┆   ┆           ┆ 7777/erc7 ┆ b7fb5c3cf ┆           │\n",
       "│            ┆           ┆        ┆ c7…        ┆   ┆           ┆ 21:0x…    ┆ b86c7…    ┆           │\n",
       "└────────────┴───────────┴────────┴────────────┴───┴───────────┴───────────┴───────────┴───────────┘"
      ]
     },
     "execution_count": 18,
     "metadata": {},
     "output_type": "execute_result"
    }
   ],
   "source": [
    "value_to_match = \"354330\"\n",
    "\n",
    "\n",
    "filtered_df = df.filter(df[\"fid\"] == value_to_match)\n",
    "\n",
    "filtered_df.head(20)\n"
   ]
  },
  {
   "cell_type": "code",
   "execution_count": 22,
   "metadata": {},
   "outputs": [],
   "source": [
    "import json\n",
    "\n",
    "# Load the JSON file\n",
    "with open('neighbors.json') as f:\n",
    "    data = json.load(f)\n",
    "\n",
    "# Extract all the \"fid\" values from the JSON\n",
    "fids = [item['fid'] for item in data]\n",
    "\n",
    "# Create a dictionary to store the results\n",
    "result = {}\n",
    "\n",
    "# Loop over the fids and search in the DataFrame\n",
    "for fid in fids:\n",
    "    text = df.filter(pl.col('fid') == fid)['text'].to_list()\n",
    "    if text:\n",
    "        # Add 'fid': fid at the start of each unique fid\n",
    "        result[fid] = [{'fid': fid}, {'casts':text}]\n",
    "\n",
    "# Save the results to a JSON file\n",
    "with open('casts2.json', 'w') as f:\n",
    "    json.dump(result, f)\n"
   ]
  },
  {
   "cell_type": "code",
   "execution_count": 35,
   "metadata": {},
   "outputs": [],
   "source": [
    "import json\n",
    "\n",
    "# Load the JSON files into Python dictionaries\n",
    "with open('user-profiles.json') as f1, open('neighbors.json') as f2, open('casts2.json') as f3:\n",
    "    dict1 = json.load(f1)\n",
    "    dict2 = json.load(f2)\n",
    "    dict3 = json.load(f3)\n",
    "\n",
    "# Create a new dictionary to hold the combined data\n",
    "combined_dict = {}\n",
    "\n",
    "# Combine the dictionaries\n",
    "for key, value in dict1.items():\n",
    "    fid = value['result']['user']['fid']\n",
    "    if fid not in combined_dict:\n",
    "        combined_dict[fid] = {}\n",
    "    combined_dict[fid]['file1'] = value['result']['user']\n",
    "\n",
    "for item in dict2:\n",
    "    fid = item['fid']\n",
    "    if fid not in combined_dict:\n",
    "        combined_dict[fid] = {}\n",
    "    combined_dict[fid]['file2'] = item\n",
    "\n",
    "for key, value in dict3.items():\n",
    "    if isinstance(value, list) and len(value) > 1 and isinstance(value[0], dict) and 'fid' in value[0] and isinstance(value[1], dict):\n",
    "        fid = value[0]['fid']\n",
    "        if fid not in combined_dict:\n",
    "            combined_dict[fid] = {}\n",
    "        combined_dict[fid]['file3'] = value[1]\n",
    "\n",
    "# Save the combined dictionary to a new JSON file\n",
    "with open('farcaster-dataset.json', 'w') as f:\n",
    "    json.dump(combined_dict, f)"
   ]
  },
  {
   "cell_type": "code",
   "execution_count": 16,
   "metadata": {},
   "outputs": [],
   "source": [
    "data = json.load(open('farcaster-dataset.json'))"
   ]
  },
  {
   "cell_type": "code",
   "execution_count": 17,
   "metadata": {},
   "outputs": [
    {
     "name": "stdout",
     "output_type": "stream",
     "text": [
      "shape: (1_733, 15)\n",
      "┌────────┬────────────┬────────────┬───────────┬───┬───────────┬───────────┬───────────┬───────────┐\n",
      "│ fid    ┆ custodyAdd ┆ username   ┆ displayNa ┆ … ┆ powerBadg ┆ followers ┆ following ┆ casts     │\n",
      "│ ---    ┆ ress       ┆ ---        ┆ me        ┆   ┆ e         ┆ ---       ┆ ---       ┆ ---       │\n",
      "│ i64    ┆ ---        ┆ str        ┆ ---       ┆   ┆ ---       ┆ list[str] ┆ list[str] ┆ list[str] │\n",
      "│        ┆ str        ┆            ┆ str       ┆   ┆ bool      ┆           ┆           ┆           │\n",
      "╞════════╪════════════╪════════════╪═══════════╪═══╪═══════════╪═══════════╪═══════════╪═══════════╡\n",
      "│ 355637 ┆ 0x5834b8b2 ┆ faridazka8 ┆ Farid     ┆ … ┆ false     ┆ [\"441944\" ┆ [\"351755\" ┆ [\"rake    │\n",
      "│        ┆ 046aed5aa4 ┆ 330        ┆ Azka      ┆   ┆           ┆ ]         ┆ ,         ┆ fund      │\n",
      "│        ┆ f15087b120 ┆            ┆           ┆   ┆           ┆           ┆ \"341634\"] ┆ quiet,    │\n",
      "│        ┆ 64…        ┆            ┆           ┆   ┆           ┆           ┆           ┆ gulch     │\n",
      "│        ┆            ┆            ┆           ┆   ┆           ┆           ┆           ┆ wooly o…  │\n",
      "│ 328517 ┆ 0x3d941f97 ┆ tropzhoeni ┆ Tropz     ┆ … ┆ false     ┆ [\"396825\" ┆ [\"195457\" ┆ [\"Mint 50 │\n",
      "│        ┆ 55655601fc ┆ x          ┆           ┆   ┆           ┆ ,         ┆ ,         ┆ A Collect │\n",
      "│        ┆ b3a323d86e ┆            ┆           ┆   ┆           ┆ \"508457\", ┆ \"22488\",  ┆ ive       │\n",
      "│        ┆ d2…        ┆            ┆           ┆   ┆           ┆ …         ┆ … \"48\"]   ┆ Signal    │\n",
      "│        ┆            ┆            ┆           ┆   ┆           ┆ \"304685\"] ┆           ┆ wi…       │\n",
      "│ 8941   ┆ 0x87262f2e ┆ justinzhan ┆ Mad Man   ┆ … ┆ false     ┆ [\"402262\" ┆ [\"4143\",  ┆ [\"Twitter │\n",
      "│        ┆ df379f8717 ┆ g          ┆ Justin    ┆   ┆           ┆ ,         ┆ \"50\", …   ┆ : \"]      │\n",
      "│        ┆ 7830446bf1 ┆            ┆           ┆   ┆           ┆ \"400518\", ┆ \"4434\"]   ┆           │\n",
      "│        ┆ 95…        ┆            ┆           ┆   ┆           ┆ …         ┆           ┆           │\n",
      "│        ┆            ┆            ┆           ┆   ┆           ┆ \"219370\"] ┆           ┆           │\n",
      "│ 197040 ┆ 0xbaa566ac ┆ cfhgoregri ┆ Spider    ┆ … ┆ false     ┆ [\"301687\" ┆ [\"7620\",  ┆ [\"Just    │\n",
      "│        ┆ 73b277dd0e ┆ nder       ┆           ┆   ┆           ┆ ,         ┆ \"18910\",  ┆ minted    │\n",
      "│        ┆ 6efa68f73b ┆            ┆           ┆   ┆           ┆ \"471907\", ┆ … \"1317\"] ┆ Day 185   │\n",
      "│        ┆ 51…        ┆            ┆           ┆   ┆           ┆ …         ┆           ┆ on        │\n",
      "│        ┆            ┆            ┆           ┆   ┆           ┆ \"473023\"] ┆           ┆ BasePai…  │\n",
      "│ 324712 ┆ 0x252c87d7 ┆ anabut     ┆ Anabut    ┆ … ┆ false     ┆ [\"406740\" ┆ [\"12309\", ┆ [\"หาเพื่อนฟ │\n",
      "│        ┆ e7c05042c2 ┆            ┆           ┆   ┆           ┆ ,         ┆ \"313902\", ┆ อล        │\n",
      "│        ┆ d85f472a59 ┆            ┆           ┆   ┆           ┆ \"361668\", ┆ …         ┆ ก่อนนอนครับ │\n",
      "│        ┆ 9f…        ┆            ┆           ┆   ┆           ┆ …         ┆ \"401976\"] ┆ ใครไม่…    │\n",
      "│        ┆            ┆            ┆           ┆   ┆           ┆ \"317466\"] ┆           ┆           │\n",
      "│ …      ┆ …          ┆ …          ┆ …         ┆ … ┆ …         ┆ …         ┆ …         ┆ …         │\n",
      "│ 353660 ┆ 0x5870767f ┆ jawdat     ┆ Jawdat.et ┆ … ┆ false     ┆ [\"268542\" ┆ [\"14695\", ┆ [\"Free    │\n",
      "│        ┆ 6ec4491caf ┆            ┆ h 🎩 ✪    ┆   ┆           ┆ ,         ┆ \"369170\", ┆ $AWOO\",   │\n",
      "│        ┆ 977cd2f561 ┆            ┆           ┆   ┆           ┆ \"367944\", ┆ …         ┆ \"Can You  │\n",
      "│        ┆ 8a…        ┆            ┆           ┆   ┆           ┆ …         ┆ \"500441\"] ┆ Comment … │\n",
      "│        ┆            ┆            ┆           ┆   ┆           ┆ \"378482\"] ┆           ┆           │\n",
      "│ 314878 ┆ 0xa6ac4374 ┆ adebayo00  ┆ Adebayo   ┆ … ┆ false     ┆ [\"265542\" ┆ [\"99\",    ┆ [\"$ZORB   │\n",
      "│        ┆ 8760b372ba ┆            ┆           ┆   ┆           ┆ ,         ┆ \"20910\",  ┆ LFG\",     │\n",
      "│        ┆ 99ef541adf ┆            ┆           ┆   ┆           ┆ \"360450\", ┆ … \"80\"]   ┆ \"I'M      │\n",
      "│        ┆ 81…        ┆            ┆           ┆   ┆           ┆ …         ┆           ┆ PUNK\", …  │\n",
      "│        ┆            ┆            ┆           ┆   ┆           ┆ \"441049\"] ┆           ┆ \"TES…     │\n",
      "│ 237284 ┆ 0xb909cc51 ┆ shi        ┆ Shi       ┆ … ┆ false     ┆ [\"287985\" ┆ [\"5650\",  ┆ [\"Got     │\n",
      "│        ┆ c07c383ce0 ┆            ┆           ┆   ┆           ┆ ,         ┆ \"307348\", ┆ mine!\",   │\n",
      "│        ┆ a4067485af ┆            ┆           ┆   ┆           ┆ \"404554\", ┆ …         ┆ \"Hey,     │\n",
      "│        ┆ 5c…        ┆            ┆           ┆   ┆           ┆ …         ┆ \"270969\"] ┆ would     │\n",
      "│        ┆            ┆            ┆           ┆   ┆           ┆ \"443083\"] ┆           ┆ love t…   │\n",
      "│ 247377 ┆ 0x3172aee5 ┆ !247377    ┆ Telcontar ┆ … ┆ false     ┆ [\"260526\" ┆ [\"1258\",  ┆ [\"test\",  │\n",
      "│        ┆ e0b47bb23e ┆            ┆           ┆   ┆           ┆ ,         ┆ \"5650\", … ┆ \"test\"]   │\n",
      "│        ┆ 87db93327f ┆            ┆           ┆   ┆           ┆ \"280491\", ┆ \"3\"]      ┆           │\n",
      "│        ┆ 58…        ┆            ┆           ┆   ┆           ┆ \"533\"]    ┆           ┆           │\n",
      "│ 214076 ┆ 0x12ee88bc ┆ ligerwoods ┆ Litewood  ┆ … ┆ false     ┆ [\"375934\" ┆ [\"373260\" ┆ [\"First   │\n",
      "│        ┆ 3bf8ffcf58 ┆            ┆           ┆   ┆           ┆ ,         ┆ , \"557\",  ┆ post,     │\n",
      "│        ┆ 113b7cfaab ┆            ┆           ┆   ┆           ┆ \"336679\", ┆ …         ┆ testing   │\n",
      "│        ┆ 1d…        ┆            ┆           ┆   ┆           ┆ …         ┆ \"329883\"] ┆ things    │\n",
      "│        ┆            ┆            ┆           ┆   ┆           ┆ \"412725\"] ┆           ┆ out…      │\n",
      "└────────┴────────────┴────────────┴───────────┴───┴───────────┴───────────┴───────────┴───────────┘\n"
     ]
    }
   ],
   "source": [
    "# Initialize an empty list to store the combined data\n",
    "combined_data_list = []\n",
    "\n",
    "# Iterate over each key in the JSON object\n",
    "for key, value in data.items():\n",
    "    # Convert the key to integer and assign it as fid\n",
    "    value[\"fid\"] = int(key)\n",
    "    \n",
    "    # Combine the nested objects\n",
    "    combined_data = value[\"file1\"]\n",
    "    combined_data.update(value[\"file2\"])\n",
    "    combined_data.update(value[\"file3\"])\n",
    "    \n",
    "    # Add the combined data to the list\n",
    "    combined_data_list.append(combined_data)\n",
    "\n",
    "# Convert the list of combined data to a Polars DataFrame\n",
    "df = pl.DataFrame(combined_data_list)\n",
    "\n",
    "# Display the DataFrame\n",
    "print(df)"
   ]
  },
  {
   "cell_type": "code",
   "execution_count": 18,
   "metadata": {},
   "outputs": [
    {
     "name": "stdout",
     "output_type": "stream",
     "text": [
      "Column names: ['fid', 'custodyAddress', 'username', 'displayName', 'pfp', 'profile', 'followerCount', 'followingCount', 'verifications', 'verifiedAddresses', 'activeStatus', 'powerBadge', 'followers', 'following', 'casts']\n",
      "Column data types: [Int64, String, String, String, Struct({'url': String}), Struct({'bio': Struct({'text': String, 'mentionedProfiles': List(Null)})}), Int64, Int64, List(String), Struct({'eth_addresses': List(String), 'sol_addresses': List(String)}), String, Boolean, List(String), List(String), List(String)]\n",
      "Summary statistics:\n",
      " shape: (9, 16)\n",
      "┌────────────┬────────────┬────────────┬──────────┬───┬───────────┬───────────┬───────────┬────────┐\n",
      "│ statistic  ┆ fid        ┆ custodyAdd ┆ username ┆ … ┆ powerBadg ┆ followers ┆ following ┆ casts  │\n",
      "│ ---        ┆ ---        ┆ ress       ┆ ---      ┆   ┆ e         ┆ ---       ┆ ---       ┆ ---    │\n",
      "│ str        ┆ f64        ┆ ---        ┆ str      ┆   ┆ ---       ┆ f64       ┆ f64       ┆ f64    │\n",
      "│            ┆            ┆ str        ┆          ┆   ┆ f64       ┆           ┆           ┆        │\n",
      "╞════════════╪════════════╪════════════╪══════════╪═══╪═══════════╪═══════════╪═══════════╪════════╡\n",
      "│ count      ┆ 1733.0     ┆ 1733       ┆ 1733     ┆ … ┆ 1733.0    ┆ 1701.0    ┆ 1718.0    ┆ 1733.0 │\n",
      "│ null_count ┆ 0.0        ┆ 0          ┆ 0        ┆ … ┆ 0.0       ┆ 32.0      ┆ 15.0      ┆ 0.0    │\n",
      "│ mean       ┆ 264158.899 ┆ null       ┆ null     ┆ … ┆ 0.038084  ┆ null      ┆ null      ┆ null   │\n",
      "│            ┆ 596        ┆            ┆          ┆   ┆           ┆           ┆           ┆        │\n",
      "│ std        ┆ 92624.7840 ┆ null       ┆ null     ┆ … ┆ null      ┆ null      ┆ null      ┆ null   │\n",
      "│            ┆ 74         ┆            ┆          ┆   ┆           ┆           ┆           ┆        │\n",
      "│ min        ┆ 280.0      ┆ 0x0003d9bd ┆ !194533  ┆ … ┆ 0.0       ┆ null      ┆ null      ┆ null   │\n",
      "│            ┆            ┆ 56f62c103e ┆          ┆   ┆           ┆           ┆           ┆        │\n",
      "│            ┆            ┆ e82a124dc8 ┆          ┆   ┆           ┆           ┆           ┆        │\n",
      "│            ┆            ┆ 4b…        ┆          ┆   ┆           ┆           ┆           ┆        │\n",
      "│ 25%        ┆ 246186.0   ┆ null       ┆ null     ┆ … ┆ null      ┆ null      ┆ null      ┆ null   │\n",
      "│ 50%        ┆ 283396.0   ┆ null       ┆ null     ┆ … ┆ null      ┆ null      ┆ null      ┆ null   │\n",
      "│ 75%        ┆ 322860.0   ┆ null       ┆ null     ┆ … ┆ null      ┆ null      ┆ null      ┆ null   │\n",
      "│ max        ┆ 376600.0   ┆ 0xffe0d91c ┆ zxz      ┆ … ┆ 1.0       ┆ null      ┆ null      ┆ null   │\n",
      "│            ┆            ┆ 2c2edff546 ┆          ┆   ┆           ┆           ┆           ┆        │\n",
      "│            ┆            ┆ d8848aa1ae ┆          ┆   ┆           ┆           ┆           ┆        │\n",
      "│            ┆            ┆ 96…        ┆          ┆   ┆           ┆           ┆           ┆        │\n",
      "└────────────┴────────────┴────────────┴──────────┴───┴───────────┴───────────┴───────────┴────────┘\n"
     ]
    }
   ],
   "source": [
    "# Get the column names\n",
    "print(\"Column names:\", df.columns)\n"
   ]
  },
  {
   "cell_type": "code",
   "execution_count": 37,
   "metadata": {},
   "outputs": [
    {
     "name": "stdout",
     "output_type": "stream",
     "text": [
      "Column data types: [Int64, String, String, String, Struct({'url': String}), Struct({'bio': Struct({'text': String, 'mentionedProfiles': List(Null)})}), Int64, Int64, List(String), Struct({'eth_addresses': List(String), 'sol_addresses': List(String)}), String, Boolean, List(String), List(String), List(String), Int32]\n"
     ]
    }
   ],
   "source": [
    "\n",
    "# Get the data types of each column\n",
    "print(\"Column data types:\", df.dtypes)\n"
   ]
  },
  {
   "cell_type": "code",
   "execution_count": 38,
   "metadata": {},
   "outputs": [
    {
     "name": "stdout",
     "output_type": "stream",
     "text": [
      "Summary statistics:\n",
      " shape: (9, 17)\n",
      "┌────────────┬─────────────┬────────────┬──────────┬───┬───────────┬───────────┬────────┬──────────┐\n",
      "│ statistic  ┆ fid         ┆ custodyAdd ┆ username ┆ … ┆ followers ┆ following ┆ casts  ┆ is_spam  │\n",
      "│ ---        ┆ ---         ┆ ress       ┆ ---      ┆   ┆ ---       ┆ ---       ┆ ---    ┆ ---      │\n",
      "│ str        ┆ f64         ┆ ---        ┆ str      ┆   ┆ f64       ┆ f64       ┆ f64    ┆ f64      │\n",
      "│            ┆             ┆ str        ┆          ┆   ┆           ┆           ┆        ┆          │\n",
      "╞════════════╪═════════════╪════════════╪══════════╪═══╪═══════════╪═══════════╪════════╪══════════╡\n",
      "│ count      ┆ 1733.0      ┆ 1733       ┆ 1733     ┆ … ┆ 1701.0    ┆ 1718.0    ┆ 1733.0 ┆ 1733.0   │\n",
      "│ null_count ┆ 0.0         ┆ 0          ┆ 0        ┆ … ┆ 32.0      ┆ 15.0      ┆ 0.0    ┆ 0.0      │\n",
      "│ mean       ┆ 264158.8995 ┆ null       ┆ null     ┆ … ┆ null      ┆ null      ┆ null   ┆ 0.00981  │\n",
      "│            ┆ 96          ┆            ┆          ┆   ┆           ┆           ┆        ┆          │\n",
      "│ std        ┆ 92624.78407 ┆ null       ┆ null     ┆ … ┆ null      ┆ null      ┆ null   ┆ 0.098585 │\n",
      "│            ┆ 4           ┆            ┆          ┆   ┆           ┆           ┆        ┆          │\n",
      "│ min        ┆ 280.0       ┆ 0x0003d9bd ┆ !194533  ┆ … ┆ null      ┆ null      ┆ null   ┆ 0.0      │\n",
      "│            ┆             ┆ 56f62c103e ┆          ┆   ┆           ┆           ┆        ┆          │\n",
      "│            ┆             ┆ e82a124dc8 ┆          ┆   ┆           ┆           ┆        ┆          │\n",
      "│            ┆             ┆ 4b…        ┆          ┆   ┆           ┆           ┆        ┆          │\n",
      "│ 25%        ┆ 246186.0    ┆ null       ┆ null     ┆ … ┆ null      ┆ null      ┆ null   ┆ 0.0      │\n",
      "│ 50%        ┆ 283396.0    ┆ null       ┆ null     ┆ … ┆ null      ┆ null      ┆ null   ┆ 0.0      │\n",
      "│ 75%        ┆ 322860.0    ┆ null       ┆ null     ┆ … ┆ null      ┆ null      ┆ null   ┆ 0.0      │\n",
      "│ max        ┆ 376600.0    ┆ 0xffe0d91c ┆ zxz      ┆ … ┆ null      ┆ null      ┆ null   ┆ 1.0      │\n",
      "│            ┆             ┆ 2c2edff546 ┆          ┆   ┆           ┆           ┆        ┆          │\n",
      "│            ┆             ┆ d8848aa1ae ┆          ┆   ┆           ┆           ┆        ┆          │\n",
      "│            ┆             ┆ 96…        ┆          ┆   ┆           ┆           ┆        ┆          │\n",
      "└────────────┴─────────────┴────────────┴──────────┴───┴───────────┴───────────┴────────┴──────────┘\n"
     ]
    }
   ],
   "source": [
    "\n",
    "# Describe the DataFrame (summary statistics)\n",
    "print(\"Summary statistics:\\n\", df.describe())"
   ]
  },
  {
   "cell_type": "code",
   "execution_count": 39,
   "metadata": {},
   "outputs": [],
   "source": [
    "spammy_accounts_df = pl.read_csv('spammy_accounts_xl.csv')"
   ]
  },
  {
   "cell_type": "code",
   "execution_count": 22,
   "metadata": {},
   "outputs": [
    {
     "name": "stdout",
     "output_type": "stream",
     "text": [
      "shape: (5, 5)\n",
      "┌────────┬────────────────────────────────┬────────────────────┬─────────────┬─────────────────────┐\n",
      "│ fid    ┆ username                       ┆ reactions_received ┆ total_casts ┆ reaction_cast_ratio │\n",
      "│ ---    ┆ ---                            ┆ ---                ┆ ---         ┆ ---                 │\n",
      "│ i64    ┆ str                            ┆ i64                ┆ i64         ┆ f64                 │\n",
      "╞════════╪════════════════════════════════╪════════════════════╪═════════════╪═════════════════════╡\n",
      "│ 405154 ┆ <a                             ┆ 1                  ┆ 7358        ┆ 0.000136            │\n",
      "│        ┆ href=\"https://warpcast.com/ba… ┆                    ┆             ┆                     │\n",
      "│ 479730 ┆ <a                             ┆ 4                  ┆ 1986        ┆ 0.002014            │\n",
      "│        ┆ href=\"https://warpcast.com/mo… ┆                    ┆             ┆                     │\n",
      "│ 512982 ┆ <a                             ┆ 1                  ┆ 399         ┆ 0.002506            │\n",
      "│        ┆ href=\"https://warpcast.com/ha… ┆                    ┆             ┆                     │\n",
      "│ 575414 ┆ <a                             ┆ 1                  ┆ 307         ┆ 0.003257            │\n",
      "│        ┆ href=\"https://warpcast.com/bi… ┆                    ┆             ┆                     │\n",
      "│ 575542 ┆ <a                             ┆ 1                  ┆ 301         ┆ 0.003322            │\n",
      "│        ┆ href=\"https://warpcast.com/bi… ┆                    ┆             ┆                     │\n",
      "└────────┴────────────────────────────────┴────────────────────┴─────────────┴─────────────────────┘\n"
     ]
    }
   ],
   "source": [
    "print(spammy_accounts_df.head())"
   ]
  },
  {
   "cell_type": "code",
   "execution_count": 74,
   "metadata": {},
   "outputs": [],
   "source": [
    "df = df.with_columns(\n",
    "    pl.col(\"fid\").is_in(spammy_accounts_df[\"fid\"]).cast(pl.Int32).alias(\"is_bot\")\n",
    ")"
   ]
  },
  {
   "cell_type": "code",
   "execution_count": 75,
   "metadata": {},
   "outputs": [
    {
     "name": "stdout",
     "output_type": "stream",
     "text": [
      "shape: (5, 17)\n",
      "┌────────┬─────────────┬─────────────┬────────────┬───┬────────────┬────────────┬─────────┬────────┐\n",
      "│ fid    ┆ custodyAddr ┆ username    ┆ displayNam ┆ … ┆ following  ┆ casts      ┆ is_spam ┆ is_bot │\n",
      "│ ---    ┆ ess         ┆ ---         ┆ e          ┆   ┆ ---        ┆ ---        ┆ ---     ┆ ---    │\n",
      "│ i64    ┆ ---         ┆ str         ┆ ---        ┆   ┆ list[str]  ┆ list[str]  ┆ i32     ┆ i32    │\n",
      "│        ┆ str         ┆             ┆ str        ┆   ┆            ┆            ┆         ┆        │\n",
      "╞════════╪═════════════╪═════════════╪════════════╪═══╪════════════╪════════════╪═════════╪════════╡\n",
      "│ 355637 ┆ 0x5834b8b20 ┆ faridazka83 ┆ Farid Azka ┆ … ┆ [\"351755\", ┆ [\"rake     ┆ 0       ┆ 0      │\n",
      "│        ┆ 46aed5aa4f1 ┆ 30          ┆            ┆   ┆ \"341634\"]  ┆ fund       ┆         ┆        │\n",
      "│        ┆ 5087b12064… ┆             ┆            ┆   ┆            ┆ quiet,     ┆         ┆        │\n",
      "│        ┆             ┆             ┆            ┆   ┆            ┆ gulch      ┆         ┆        │\n",
      "│        ┆             ┆             ┆            ┆   ┆            ┆ wooly o…   ┆         ┆        │\n",
      "│ 328517 ┆ 0x3d941f975 ┆ tropzhoenix ┆ Tropz      ┆ … ┆ [\"195457\", ┆ [\"Mint 50  ┆ 0       ┆ 0      │\n",
      "│        ┆ 5655601fcb3 ┆             ┆            ┆   ┆ \"22488\", … ┆ A          ┆         ┆        │\n",
      "│        ┆ a323d86ed2… ┆             ┆            ┆   ┆ \"48\"]      ┆ Collective ┆         ┆        │\n",
      "│        ┆             ┆             ┆            ┆   ┆            ┆ Signal wi… ┆         ┆        │\n",
      "│ 8941   ┆ 0x87262f2ed ┆ justinzhang ┆ Mad Man    ┆ … ┆ [\"4143\",   ┆ [\"Twitter: ┆ 0       ┆ 0      │\n",
      "│        ┆ f379f871778 ┆             ┆ Justin     ┆   ┆ \"50\", …    ┆ \"]         ┆         ┆        │\n",
      "│        ┆ 30446bf195… ┆             ┆            ┆   ┆ \"4434\"]    ┆            ┆         ┆        │\n",
      "│ 197040 ┆ 0xbaa566ac7 ┆ cfhgoregrin ┆ Spider     ┆ … ┆ [\"7620\",   ┆ [\"Just     ┆ 0       ┆ 0      │\n",
      "│        ┆ 3b277dd0e6e ┆ der         ┆            ┆   ┆ \"18910\", … ┆ minted Day ┆         ┆        │\n",
      "│        ┆ fa68f73b51… ┆             ┆            ┆   ┆ \"1317\"]    ┆ 185 on     ┆         ┆        │\n",
      "│        ┆             ┆             ┆            ┆   ┆            ┆ BasePai…   ┆         ┆        │\n",
      "│ 324712 ┆ 0x252c87d7e ┆ anabut      ┆ Anabut     ┆ … ┆ [\"12309\",  ┆ [\"หาเพื่อนฟอ ┆ 0       ┆ 0      │\n",
      "│        ┆ 7c05042c2d8 ┆             ┆            ┆   ┆ \"313902\",  ┆ ล          ┆         ┆        │\n",
      "│        ┆ 5f472a599f… ┆             ┆            ┆   ┆ …          ┆ ก่อนนอนครับ  ┆         ┆        │\n",
      "│        ┆             ┆             ┆            ┆   ┆ \"401976\"]  ┆ ใครไม่…     ┆         ┆        │\n",
      "└────────┴─────────────┴─────────────┴────────────┴───┴────────────┴────────────┴─────────┴────────┘\n"
     ]
    }
   ],
   "source": [
    "print(df.head())\n"
   ]
  },
  {
   "cell_type": "code",
   "execution_count": 76,
   "metadata": {},
   "outputs": [
    {
     "data": {
      "text/plain": [
       "22"
      ]
     },
     "execution_count": 76,
     "metadata": {},
     "output_type": "execute_result"
    }
   ],
   "source": [
    "spam_count = df.filter(pl.col(\"is_bot\") == 1).shape[0]\n",
    "spam_count"
   ]
  },
  {
   "cell_type": "code",
   "execution_count": 77,
   "metadata": {},
   "outputs": [
    {
     "data": {
      "text/plain": [
       "1711"
      ]
     },
     "execution_count": 77,
     "metadata": {},
     "output_type": "execute_result"
    }
   ],
   "source": [
    "not_spam_count = df.filter(pl.col(\"is_bot\") == 0).shape[0]\n",
    "not_spam_count"
   ]
  },
  {
   "cell_type": "code",
   "execution_count": 78,
   "metadata": {},
   "outputs": [
    {
     "data": {
      "text/html": [
       "<div><style>\n",
       ".dataframe > thead > tr,\n",
       ".dataframe > tbody > tr {\n",
       "  text-align: right;\n",
       "  white-space: pre-wrap;\n",
       "}\n",
       "</style>\n",
       "<small>shape: (22, 17)</small><table border=\"1\" class=\"dataframe\"><thead><tr><th>fid</th><th>custodyAddress</th><th>username</th><th>displayName</th><th>pfp</th><th>profile</th><th>followerCount</th><th>followingCount</th><th>verifications</th><th>verifiedAddresses</th><th>activeStatus</th><th>powerBadge</th><th>followers</th><th>following</th><th>casts</th><th>is_spam</th><th>is_bot</th></tr><tr><td>i64</td><td>str</td><td>str</td><td>str</td><td>struct[1]</td><td>struct[1]</td><td>i64</td><td>i64</td><td>list[str]</td><td>struct[2]</td><td>str</td><td>bool</td><td>list[str]</td><td>list[str]</td><td>list[str]</td><td>i32</td><td>i32</td></tr></thead><tbody><tr><td>297172</td><td>&quot;0x0b3529cac705…</td><td>&quot;chuks&quot;</td><td>&quot;chuks🎩&quot;</td><td>{&quot;https://i.imgur.com/z8EHxzd.jpg&quot;}</td><td>{{&quot;trade and crypto&quot;,[]}}</td><td>128</td><td>221</td><td>[&quot;0x2b70891209cc41aa3bb608c3f9c3d64c2d284269&quot;]</td><td>{[&quot;0x2b70891209cc41aa3bb608c3f9c3d64c2d284269&quot;],[]}</td><td>&quot;inactive&quot;</td><td>false</td><td>[&quot;322783&quot;, &quot;291390&quot;, … &quot;327704&quot;]</td><td>[&quot;2458&quot;, &quot;548&quot;, … &quot;373434&quot;]</td><td>[&quot;I&#x27;m exploring Farcaster with http://far.quest built on \n",
       "@wieldlabs\n",
       ", join me to earn FarPoints!&quot;, &quot;🖕Fuck you&quot;, … &quot;Mint Blue Dot&quot;]</td><td>1</td><td>1</td></tr><tr><td>266095</td><td>&quot;0xe240a2d0d4f1…</td><td>&quot;koiooopo&quot;</td><td>&quot;Viowir&quot;</td><td>{&quot;https://i.imgur.com/1N9gtNN.jpg&quot;}</td><td>{{&quot;Mi meee&quot;,[]}}</td><td>62</td><td>140</td><td>[&quot;0xc8ad1c37df6ede95033fa2866a8bd24dd236ac6b&quot;]</td><td>{[&quot;0xc8ad1c37df6ede95033fa2866a8bd24dd236ac6b&quot;],[]}</td><td>&quot;inactive&quot;</td><td>false</td><td>[&quot;261576&quot;, &quot;264686&quot;, … &quot;258057&quot;]</td><td>[&quot;264686&quot;, &quot;4036&quot;, … &quot;101&quot;]</td><td>[&quot;I&#x27;M A $CASTR&quot;, &quot;0xc8Ad1c37Df6edE95033fA2866A8Bd24Dd236ac6B&quot;, … &quot;Claim my Wulfz404&quot;]</td><td>1</td><td>1</td></tr><tr><td>241869</td><td>&quot;0x83c25f628f35…</td><td>&quot;0xankit&quot;</td><td>&quot;Era&quot;</td><td>{&quot;https://i.imgur.com/tu2o7Ba.jpg&quot;}</td><td>{{&quot;Hey Peps Let&#x27;s Rock&quot;,[]}}</td><td>914</td><td>1164</td><td>[&quot;0x89325ff59e88976a1205eebf29aacd206a7465ed&quot;, &quot;0x83c25f628f35919f5cea7e070e1406f5e8dae9bc&quot;]</td><td>{[&quot;0x89325ff59e88976a1205eebf29aacd206a7465ed&quot;, &quot;0x83c25f628f35919f5cea7e070e1406f5e8dae9bc&quot;],[&quot;8CMAeTUed8NAAXmLy2onSRz1g539T1b4B4mQXW1j48TG&quot;]}</td><td>&quot;inactive&quot;</td><td>false</td><td>[&quot;272291&quot;, &quot;228070&quot;, … &quot;264112&quot;]</td><td>[&quot;250128&quot;, &quot;255254&quot;, … &quot;263234&quot;]</td><td>[&quot;Ser please follow me back 🫡 I&#x27;m your subscriber&quot;, &quot;-&#x27;&#x27;Some details about Pixels Gameplay&quot;, … &quot;https://frames.neynar.com/f/090847b7/73c05002 LIMITED 🔥\n",
       "FOLLOW 🎉\n",
       "LIKE🎉\n",
       "RECAST🎉\n",
       " MINT🚀&quot;]</td><td>1</td><td>1</td></tr><tr><td>236340</td><td>&quot;0x35b8d34a727c…</td><td>&quot;menlu&quot;</td><td>&quot;Menlu🎩 🍖 🌈&quot;</td><td>{&quot;https://i.imgur.com/3fX5ZqB.gif&quot;}</td><td>{{&quot;if you want Follow Back\n",
       "and please #DYOR&quot;,[]}}</td><td>2123</td><td>2500</td><td>[&quot;0x35b8d34a727c83f0cd7ee815575c374e41bfacb5&quot;]</td><td>{[&quot;0x35b8d34a727c83f0cd7ee815575c374e41bfacb5&quot;],[&quot;ETfQczg52srreHbhixL6ehRVroJ7gsK4Lsk7QNPZopuu&quot;]}</td><td>&quot;inactive&quot;</td><td>false</td><td>[&quot;273415&quot;, &quot;277395&quot;, … &quot;236363&quot;]</td><td>[&quot;301328&quot;, &quot;255153&quot;, … &quot;3417&quot;]</td><td>[&quot;GM Everyone&quot;, &quot;A warm Farcaster welcome to !&quot;, … &quot;GM&quot;]</td><td>1</td><td>1</td></tr><tr><td>259024</td><td>&quot;0x48743fe1732c…</td><td>&quot;godgod&quot;</td><td>&quot;Kork Wy🎩🍖  &quot;</td><td>{&quot;https://i.imgur.com/wdm837L.jpg&quot;}</td><td>{{&quot;Good boy. My reputation is built on your trust.&quot;,[]}}</td><td>1161</td><td>2043</td><td>[&quot;0xf4a8839fd5ca3d8d0262566f9f51624b6f1fd591&quot;]</td><td>{[&quot;0xf4a8839fd5ca3d8d0262566f9f51624b6f1fd591&quot;],[]}</td><td>&quot;inactive&quot;</td><td>false</td><td>[&quot;291126&quot;, &quot;236171&quot;, … &quot;361439&quot;]</td><td>[&quot;194092&quot;, &quot;369950&quot;, … &quot;432795&quot;]</td><td>[&quot;https://farcaster.manifold.xyz/frame/37105904&quot;, &quot;tks&quot;, … &quot;Thanks bạn&quot;]</td><td>1</td><td>1</td></tr><tr><td>&hellip;</td><td>&hellip;</td><td>&hellip;</td><td>&hellip;</td><td>&hellip;</td><td>&hellip;</td><td>&hellip;</td><td>&hellip;</td><td>&hellip;</td><td>&hellip;</td><td>&hellip;</td><td>&hellip;</td><td>&hellip;</td><td>&hellip;</td><td>&hellip;</td><td>&hellip;</td><td>&hellip;</td></tr><tr><td>12478</td><td>&quot;0xd85651e69dd8…</td><td>&quot;joselcaminante…</td><td>&quot;Jose &quot;</td><td>{&quot;https://i.imgur.com/rpN9LjP.jpg&quot;}</td><td>{{&quot;Venezolano, Un tipo normal, tratando de aportar para hacer este mundo un poco mejor.&quot;,[]}}</td><td>171</td><td>190</td><td>[&quot;0x61fd8b52b33a31431ab2e38b749778468d973ce2&quot;]</td><td>{[&quot;0x61fd8b52b33a31431ab2e38b749778468d973ce2&quot;],[]}</td><td>&quot;inactive&quot;</td><td>false</td><td>[&quot;414644&quot;, &quot;445903&quot;, … &quot;316381&quot;]</td><td>[&quot;6631&quot;, &quot;196238&quot;, … &quot;762&quot;]</td><td>[&quot;👍&quot;, &quot;Seré breve $YUP @yup &quot;, … &quot;Que moneda es esa ilumíname el camino &quot;]</td><td>1</td><td>1</td></tr><tr><td>279612</td><td>&quot;0x05ec3c98fd0e…</td><td>&quot;lliwenivid&quot;</td><td>&quot;Lliwenivid&quot;</td><td>{&quot;https://i.imgur.com/RO3lijG.jpg&quot;}</td><td>{{&quot;I am just in love with me and cryptography \n",
       "I can be your artist and your muse too\n",
       "Take a pick!&quot;,[]}}</td><td>102</td><td>304</td><td>[&quot;0x2ae63fe0e82c30383198d2d28d94cd1cfb7ce174&quot;]</td><td>{[&quot;0x2ae63fe0e82c30383198d2d28d94cd1cfb7ce174&quot;],[&quot;CJpUCWULYCUifwQS56dGoJtUfaMGaYWkAdoFc6hJQ1wN&quot;]}</td><td>&quot;inactive&quot;</td><td>false</td><td>[&quot;230869&quot;, &quot;289538&quot;, … &quot;395542&quot;]</td><td>[&quot;7960&quot;, &quot;18570&quot;, … &quot;99&quot;]</td><td>[&quot;https://farcaster.manifold.xyz/frame/39145712&quot;, &quot;Gm&quot;, … &quot;888 $DEGEN&quot;]</td><td>1</td><td>1</td></tr><tr><td>286829</td><td>&quot;0xa765162f41ae…</td><td>&quot;mahin109&quot;</td><td>&quot;Mahin🎩🔵&quot;</td><td>{&quot;https://imagedelivery.net/BXluQx4ige9GuW0Ia56BHw/e2ee69da-40ed-417e-4a48-aa7de6516300/rectcrop3&quot;}</td><td>{{&quot;🤜🤛&quot;,[]}}</td><td>421</td><td>709</td><td>[&quot;0x8f540b092449d6a7e23645f011ec19a368d37392&quot;]</td><td>{[&quot;0x8f540b092449d6a7e23645f011ec19a368d37392&quot;],[]}</td><td>&quot;inactive&quot;</td><td>false</td><td>[&quot;298314&quot;, &quot;291007&quot;, … &quot;274470&quot;]</td><td>[&quot;6946&quot;, &quot;1230&quot;, … &quot;250970&quot;]</td><td>[&quot;https://farcaster.manifold.xyz/frame/39805168&quot;, &quot;https://farcaster.manifold.xyz/frame/39311600 \n",
       "Folloe \n",
       "Mint&quot;, … &quot;100 $DEGEN&quot;]</td><td>1</td><td>1</td></tr><tr><td>370181</td><td>&quot;0xdb805af8ac3f…</td><td>&quot;hatrang&quot;</td><td>&quot;HaTrang&quot;</td><td>{&quot;https://imagedelivery.net/BXluQx4ige9GuW0Ia56BHw/3de2ebd4-61f6-4ac4-7707-a70858662600/rectcrop3&quot;}</td><td>{{&quot;Baby Idol&quot;,[]}}</td><td>97</td><td>245</td><td>[&quot;0xd1b19d893162df266ab76df09e7f3e3e7eed7e56&quot;]</td><td>{[&quot;0xd1b19d893162df266ab76df09e7f3e3e7eed7e56&quot;],[]}</td><td>&quot;inactive&quot;</td><td>false</td><td>[&quot;280258&quot;, &quot;371577&quot;, … &quot;456576&quot;]</td><td>[&quot;2007&quot;, &quot;267915&quot;, … &quot;2&quot;]</td><td>[&quot;333 $DEGEN&quot;, &quot;10000 $Degen for you&quot;, … &quot;[Link] Yesterday deposit arround 3mil and now over 4.7mil\n",
       "Joint early access now and get your reward \n",
       "https://dflow.net/en/reward\n",
       "using Code to get more point XP:  UG4ICT   MVUR5P  1SX9WL  ECVT1M   O0MFFA  BNAP80  WJNVGG   DVUWUD&quot;]</td><td>1</td><td>1</td></tr><tr><td>353660</td><td>&quot;0x5870767f6ec4…</td><td>&quot;jawdat&quot;</td><td>&quot;Jawdat.eth 🎩 ✪…</td><td>{&quot;https://imagedelivery.net/BXluQx4ige9GuW0Ia56BHw/3f7d5882-1eae-4484-8f93-e744b9efb100/original&quot;}</td><td>{{&quot;|🇧🇩|   I LOVE WARPCAST, I LOVE DEGEN. |🇧🇩|&quot;,[]}}</td><td>1658</td><td>1150</td><td>[&quot;0x2618743743bc088072b6ecff8497eaf6a0bd7cca&quot;]</td><td>{[&quot;0x2618743743bc088072b6ecff8497eaf6a0bd7cca&quot;],[&quot;H8A2xfbq7cZNdY6T26TNtQ16pSWiUBeDnAg1Jnw45KCq&quot;]}</td><td>&quot;inactive&quot;</td><td>false</td><td>[&quot;268542&quot;, &quot;367944&quot;, … &quot;378482&quot;]</td><td>[&quot;14695&quot;, &quot;369170&quot;, … &quot;500441&quot;]</td><td>[&quot;Free $AWOO&quot;, &quot;Can You Comment just one time in my any post , Please .&quot;, … &quot;Claim Now \n",
       "https://frames.neynar.com/f/7cfe953b/39d348c1&quot;]</td><td>1</td><td>1</td></tr></tbody></table></div>"
      ],
      "text/plain": [
       "shape: (22, 17)\n",
       "┌────────┬─────────────┬─────────────┬────────────┬───┬────────────┬────────────┬─────────┬────────┐\n",
       "│ fid    ┆ custodyAddr ┆ username    ┆ displayNam ┆ … ┆ following  ┆ casts      ┆ is_spam ┆ is_bot │\n",
       "│ ---    ┆ ess         ┆ ---         ┆ e          ┆   ┆ ---        ┆ ---        ┆ ---     ┆ ---    │\n",
       "│ i64    ┆ ---         ┆ str         ┆ ---        ┆   ┆ list[str]  ┆ list[str]  ┆ i32     ┆ i32    │\n",
       "│        ┆ str         ┆             ┆ str        ┆   ┆            ┆            ┆         ┆        │\n",
       "╞════════╪═════════════╪═════════════╪════════════╪═══╪════════════╪════════════╪═════════╪════════╡\n",
       "│ 297172 ┆ 0x0b3529cac ┆ chuks       ┆ chuks🎩    ┆ … ┆ [\"2458\",   ┆ [\"I'm      ┆ 1       ┆ 1      │\n",
       "│        ┆ 70581547368 ┆             ┆            ┆   ┆ \"548\", …   ┆ exploring  ┆         ┆        │\n",
       "│        ┆ 2a39a88077… ┆             ┆            ┆   ┆ \"373434\"]  ┆ Farcaster  ┆         ┆        │\n",
       "│        ┆             ┆             ┆            ┆   ┆            ┆ with h…    ┆         ┆        │\n",
       "│ 266095 ┆ 0xe240a2d0d ┆ koiooopo    ┆ Viowir     ┆ … ┆ [\"264686\", ┆ [\"I'M A    ┆ 1       ┆ 1      │\n",
       "│        ┆ 4f1c2be4906 ┆             ┆            ┆   ┆ \"4036\", …  ┆ $CASTR\",   ┆         ┆        │\n",
       "│        ┆ 270f95eae7… ┆             ┆            ┆   ┆ \"101\"]     ┆ \"0xc8Ad1c3 ┆         ┆        │\n",
       "│        ┆             ┆             ┆            ┆   ┆            ┆ 7Df6e…     ┆         ┆        │\n",
       "│ 241869 ┆ 0x83c25f628 ┆ 0xankit     ┆ Era        ┆ … ┆ [\"250128\", ┆ [\"Ser      ┆ 1       ┆ 1      │\n",
       "│        ┆ f35919f5cea ┆             ┆            ┆   ┆ \"255254\",  ┆ please     ┆         ┆        │\n",
       "│        ┆ 7e070e1406… ┆             ┆            ┆   ┆ …          ┆ follow me  ┆         ┆        │\n",
       "│        ┆             ┆             ┆            ┆   ┆ \"263234\"]  ┆ back 🫡    ┆         ┆        │\n",
       "│        ┆             ┆             ┆            ┆   ┆            ┆ I'…        ┆         ┆        │\n",
       "│ 236340 ┆ 0x35b8d34a7 ┆ menlu       ┆ Menlu🎩 🍖 ┆ … ┆ [\"301328\", ┆ [\"GM       ┆ 1       ┆ 1      │\n",
       "│        ┆ 27c83f0cd7e ┆             ┆ 🌈         ┆   ┆ \"255153\",  ┆ Everyone\", ┆         ┆        │\n",
       "│        ┆ e815575c37… ┆             ┆            ┆   ┆ … \"3417\"]  ┆ \"A warm    ┆         ┆        │\n",
       "│        ┆             ┆             ┆            ┆   ┆            ┆ Farcaste…  ┆         ┆        │\n",
       "│ 259024 ┆ 0x48743fe17 ┆ godgod      ┆ Kork       ┆ … ┆ [\"194092\", ┆ [\"https:// ┆ 1       ┆ 1      │\n",
       "│        ┆ 32c0fc57a57 ┆             ┆ Wy🎩🍖     ┆   ┆ \"369950\",  ┆ farcaster. ┆         ┆        │\n",
       "│        ┆ df5bd241af… ┆             ┆            ┆   ┆ …          ┆ manifold.x ┆         ┆        │\n",
       "│        ┆             ┆             ┆            ┆   ┆ \"432795\"]  ┆ yz…        ┆         ┆        │\n",
       "│ …      ┆ …           ┆ …           ┆ …          ┆ … ┆ …          ┆ …          ┆ …       ┆ …      │\n",
       "│ 12478  ┆ 0xd85651e69 ┆ joselcamina ┆ Jose       ┆ … ┆ [\"6631\",   ┆ [\"👍\",     ┆ 1       ┆ 1      │\n",
       "│        ┆ dd848a942bd ┆ nte         ┆            ┆   ┆ \"196238\",  ┆ \"Seré      ┆         ┆        │\n",
       "│        ┆ 0efa7d7779… ┆             ┆            ┆   ┆ … \"762\"]   ┆ breve $YUP ┆         ┆        │\n",
       "│        ┆             ┆             ┆            ┆   ┆            ┆ @yup \", …… ┆         ┆        │\n",
       "│ 279612 ┆ 0x05ec3c98f ┆ lliwenivid  ┆ Lliwenivid ┆ … ┆ [\"7960\",   ┆ [\"https:// ┆ 1       ┆ 1      │\n",
       "│        ┆ d0e3aa9bc88 ┆             ┆            ┆   ┆ \"18570\", … ┆ farcaster. ┆         ┆        │\n",
       "│        ┆ 37ccd0dc05… ┆             ┆            ┆   ┆ \"99\"]      ┆ manifold.x ┆         ┆        │\n",
       "│        ┆             ┆             ┆            ┆   ┆            ┆ yz…        ┆         ┆        │\n",
       "│ 286829 ┆ 0xa765162f4 ┆ mahin109    ┆ Mahin🎩🔵  ┆ … ┆ [\"6946\",   ┆ [\"https:// ┆ 1       ┆ 1      │\n",
       "│        ┆ 1ae58283d6e ┆             ┆            ┆   ┆ \"1230\", …  ┆ farcaster. ┆         ┆        │\n",
       "│        ┆ 0b58e32fa0… ┆             ┆            ┆   ┆ \"250970\"]  ┆ manifold.x ┆         ┆        │\n",
       "│        ┆             ┆             ┆            ┆   ┆            ┆ yz…        ┆         ┆        │\n",
       "│ 370181 ┆ 0xdb805af8a ┆ hatrang     ┆ HaTrang    ┆ … ┆ [\"2007\",   ┆ [\"333      ┆ 1       ┆ 1      │\n",
       "│        ┆ c3f2f4f883d ┆             ┆            ┆   ┆ \"267915\",  ┆ $DEGEN\",   ┆         ┆        │\n",
       "│        ┆ 384c0ba621… ┆             ┆            ┆   ┆ … \"2\"]     ┆ \"10000     ┆         ┆        │\n",
       "│        ┆             ┆             ┆            ┆   ┆            ┆ $Degen     ┆         ┆        │\n",
       "│        ┆             ┆             ┆            ┆   ┆            ┆ for…       ┆         ┆        │\n",
       "│ 353660 ┆ 0x5870767f6 ┆ jawdat      ┆ Jawdat.eth ┆ … ┆ [\"14695\",  ┆ [\"Free     ┆ 1       ┆ 1      │\n",
       "│        ┆ ec4491caf97 ┆             ┆ 🎩 ✪       ┆   ┆ \"369170\",  ┆ $AWOO\",    ┆         ┆        │\n",
       "│        ┆ 7cd2f5618a… ┆             ┆            ┆   ┆ …          ┆ \"Can You   ┆         ┆        │\n",
       "│        ┆             ┆             ┆            ┆   ┆ \"500441\"]  ┆ Comment …  ┆         ┆        │\n",
       "└────────┴─────────────┴─────────────┴────────────┴───┴────────────┴────────────┴─────────┴────────┘"
      ]
     },
     "execution_count": 78,
     "metadata": {},
     "output_type": "execute_result"
    }
   ],
   "source": [
    "spam_rows = df.filter(pl.col(\"is_bot\") == 1)\n",
    "spam_rows"
   ]
  },
  {
   "cell_type": "code",
   "execution_count": 79,
   "metadata": {},
   "outputs": [
    {
     "data": {
      "text/plain": [
       "22"
      ]
     },
     "execution_count": 79,
     "metadata": {},
     "output_type": "execute_result"
    }
   ],
   "source": [
    "spam_count = df.filter(pl.col(\"is_spam\") == 1).shape[0]\n",
    "spam_count"
   ]
  },
  {
   "cell_type": "code",
   "execution_count": 101,
   "metadata": {},
   "outputs": [],
   "source": [
    "import re"
   ]
  },
  {
   "cell_type": "code",
   "execution_count": 106,
   "metadata": {},
   "outputs": [],
   "source": [
    "def contains_follow_back(casts):\n",
    "    if casts is None:\n",
    "        return False\n",
    "    pattern = re.compile(r'follow back', re.IGNORECASE)\n",
    "    return any(cast and pattern.search(cast) for cast in casts)"
   ]
  },
  {
   "cell_type": "code",
   "execution_count": 108,
   "metadata": {},
   "outputs": [
    {
     "name": "stderr",
     "output_type": "stream",
     "text": [
      "/var/folders/1f/_grxf3150cz3pw8bxtjqyprc0000gn/T/ipykernel_20365/2584542436.py:1: DeprecationWarning: `apply` is deprecated. It has been renamed to `map_elements`.\n",
      "  count_follow_back = df.filter(pl.col(\"casts\").apply(contains_follow_back)).height\n",
      "/var/folders/1f/_grxf3150cz3pw8bxtjqyprc0000gn/T/ipykernel_20365/2584542436.py:1: MapWithoutReturnDtypeWarning: Calling `map_elements` without specifying `return_dtype` can lead to unpredictable results. Specify `return_dtype` to silence this warning.\n",
      "  count_follow_back = df.filter(pl.col(\"casts\").apply(contains_follow_back)).height\n"
     ]
    },
    {
     "data": {
      "text/plain": [
       "65"
      ]
     },
     "execution_count": 108,
     "metadata": {},
     "output_type": "execute_result"
    }
   ],
   "source": [
    "count_follow_back = df.filter(pl.col(\"casts\").apply(contains_follow_back)).height\n",
    "count_follow_back"
   ]
  },
  {
   "cell_type": "code",
   "execution_count": 109,
   "metadata": {},
   "outputs": [
    {
     "name": "stderr",
     "output_type": "stream",
     "text": [
      "/var/folders/1f/_grxf3150cz3pw8bxtjqyprc0000gn/T/ipykernel_20365/2730927236.py:2: DeprecationWarning: `apply` is deprecated. It has been renamed to `map_elements`.\n",
      "  pl.col(\"casts\").apply(lambda casts: 1 if contains_follow_back(casts) else 0).alias(\"is_bot\")\n",
      "/var/folders/1f/_grxf3150cz3pw8bxtjqyprc0000gn/T/ipykernel_20365/2730927236.py:1: MapWithoutReturnDtypeWarning: Calling `map_elements` without specifying `return_dtype` can lead to unpredictable results. Specify `return_dtype` to silence this warning.\n",
      "  df = df.with_columns([\n"
     ]
    }
   ],
   "source": [
    "df = df.with_columns([\n",
    "    pl.col(\"casts\").apply(lambda casts: 1 if contains_follow_back(casts) else 0).alias(\"is_bot\")\n",
    "])"
   ]
  },
  {
   "cell_type": "code",
   "execution_count": 111,
   "metadata": {},
   "outputs": [
    {
     "data": {
      "text/plain": [
       "65"
      ]
     },
     "execution_count": 111,
     "metadata": {},
     "output_type": "execute_result"
    }
   ],
   "source": [
    "spam_count = df.filter(pl.col(\"is_bot\") == 1).shape[0]\n",
    "spam_count"
   ]
  },
  {
   "cell_type": "code",
   "execution_count": 112,
   "metadata": {},
   "outputs": [],
   "source": [
    "def contains_moon(casts):\n",
    "    if casts is None:\n",
    "        return False\n",
    "    pattern = re.compile(r'moon', re.IGNORECASE)\n",
    "    return any(cast and pattern.search(cast) for cast in casts)"
   ]
  },
  {
   "cell_type": "code",
   "execution_count": 114,
   "metadata": {},
   "outputs": [
    {
     "name": "stderr",
     "output_type": "stream",
     "text": [
      "/var/folders/1f/_grxf3150cz3pw8bxtjqyprc0000gn/T/ipykernel_20365/2069762324.py:1: DeprecationWarning: `apply` is deprecated. It has been renamed to `map_elements`.\n",
      "  count_moon = df.filter(pl.col(\"casts\").apply(contains_moon)).height\n",
      "/var/folders/1f/_grxf3150cz3pw8bxtjqyprc0000gn/T/ipykernel_20365/2069762324.py:1: MapWithoutReturnDtypeWarning: Calling `map_elements` without specifying `return_dtype` can lead to unpredictable results. Specify `return_dtype` to silence this warning.\n",
      "  count_moon = df.filter(pl.col(\"casts\").apply(contains_moon)).height\n"
     ]
    },
    {
     "data": {
      "text/plain": [
       "206"
      ]
     },
     "execution_count": 114,
     "metadata": {},
     "output_type": "execute_result"
    }
   ],
   "source": [
    "count_moon = df.filter(pl.col(\"casts\").apply(contains_moon)).height\n",
    "count_moon"
   ]
  },
  {
   "cell_type": "code",
   "execution_count": 115,
   "metadata": {},
   "outputs": [
    {
     "name": "stderr",
     "output_type": "stream",
     "text": [
      "/var/folders/1f/_grxf3150cz3pw8bxtjqyprc0000gn/T/ipykernel_20365/2957893485.py:2: DeprecationWarning: `apply` is deprecated. It has been renamed to `map_elements`.\n",
      "  pl.col(\"casts\").apply(lambda casts: 1 if contains_moon(casts) else 0).alias(\"is_bot\")\n",
      "/var/folders/1f/_grxf3150cz3pw8bxtjqyprc0000gn/T/ipykernel_20365/2957893485.py:1: MapWithoutReturnDtypeWarning: Calling `map_elements` without specifying `return_dtype` can lead to unpredictable results. Specify `return_dtype` to silence this warning.\n",
      "  df = df.with_columns([\n"
     ]
    }
   ],
   "source": [
    "df = df.with_columns([\n",
    "    pl.col(\"casts\").apply(lambda casts: 1 if contains_moon(casts) else 0).alias(\"is_bot\")\n",
    "])"
   ]
  },
  {
   "cell_type": "code",
   "execution_count": 117,
   "metadata": {},
   "outputs": [
    {
     "data": {
      "text/plain": [
       "206"
      ]
     },
     "execution_count": 117,
     "metadata": {},
     "output_type": "execute_result"
    }
   ],
   "source": [
    "spam_count = df.filter(pl.col(\"is_bot\") == 1).shape[0]\n",
    "spam_count"
   ]
  }
 ],
 "metadata": {
  "kernelspec": {
   "display_name": ".venv",
   "language": "python",
   "name": "python3"
  },
  "language_info": {
   "codemirror_mode": {
    "name": "ipython",
    "version": 3
   },
   "file_extension": ".py",
   "mimetype": "text/x-python",
   "name": "python",
   "nbconvert_exporter": "python",
   "pygments_lexer": "ipython3",
   "version": "3.11.8"
  }
 },
 "nbformat": 4,
 "nbformat_minor": 2
}
