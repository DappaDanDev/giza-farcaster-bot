{
 "cells": [
  {
   "cell_type": "code",
   "execution_count": 11,
   "metadata": {},
   "outputs": [],
   "source": [
    "from giza.datasets import DatasetsLoader\n",
    "from giza.zkcook import serialize_model"
   ]
  },
  {
   "cell_type": "code",
   "execution_count": 12,
   "metadata": {},
   "outputs": [],
   "source": [
    "import os\n",
    "import certifi\n",
    "import json\n",
    "import polars as pl\n",
    "\n",
    "os.environ['SSL_CERT_FILE'] = certifi.where()"
   ]
  },
  {
   "cell_type": "code",
   "execution_count": 13,
   "metadata": {},
   "outputs": [
    {
     "ename": "NameError",
     "evalue": "name 'DatasetsHub' is not defined",
     "output_type": "error",
     "traceback": [
      "\u001b[0;31m---------------------------------------------------------------------------\u001b[0m",
      "\u001b[0;31mNameError\u001b[0m                                 Traceback (most recent call last)",
      "Cell \u001b[0;32mIn[13], line 1\u001b[0m\n\u001b[0;32m----> 1\u001b[0m hub \u001b[38;5;241m=\u001b[39m \u001b[43mDatasetsHub\u001b[49m()\n",
      "\u001b[0;31mNameError\u001b[0m: name 'DatasetsHub' is not defined"
     ]
    }
   ],
   "source": [
    "hub = DatasetsHub()"
   ]
  },
  {
   "cell_type": "code",
   "execution_count": 14,
   "metadata": {},
   "outputs": [
    {
     "name": "stdout",
     "output_type": "stream",
     "text": [
      "Dataset farcaster-casts not found in cache. Downloading from GCS.\n",
      "Dataset read from cache.\n"
     ]
    }
   ],
   "source": [
    "loader = DatasetsLoader()\n",
    "df = loader.load('farcaster-casts')\n"
   ]
  },
  {
   "cell_type": "code",
   "execution_count": 15,
   "metadata": {},
   "outputs": [
    {
     "data": {
      "text/html": [
       "<div><style>\n",
       ".dataframe > thead > tr,\n",
       ".dataframe > tbody > tr {\n",
       "  text-align: right;\n",
       "  white-space: pre-wrap;\n",
       "}\n",
       "</style>\n",
       "<small>shape: (5, 13)</small><table border=\"1\" class=\"dataframe\"><thead><tr><th>created_at</th><th>id</th><th>fid</th><th>hash</th><th>text</th><th>embeds</th><th>mentions</th><th>parent_fid</th><th>parent_url</th><th>parent_hash</th><th>root_parent_url</th><th>root_parent_hash</th><th>mentions_positions</th></tr><tr><td>datetime[ns]</td><td>i64</td><td>i64</td><td>str</td><td>str</td><td>str</td><td>str</td><td>i64</td><td>str</td><td>str</td><td>str</td><td>str</td><td>str</td></tr></thead><tbody><tr><td>2024-01-27 05:53:58.000000906</td><td>108884669</td><td>234592</td><td>&quot;0x89dc1a122c5e…</td><td>&quot;Am late i gues…</td><td>&quot;[]&quot;</td><td>&quot;[]&quot;</td><td>2007</td><td>null</td><td>&quot;0x97f2c919a8f0…</td><td>&quot;https://warpca…</td><td>&quot;0x97f2c919a8f0…</td><td>&quot;[]&quot;</td></tr><tr><td>2024-01-27 06:04:17.000000105</td><td>108884763</td><td>234592</td><td>&quot;0x056cc3a8920e…</td><td>&quot;New to farcast…</td><td>&quot;[]&quot;</td><td>&quot;[]&quot;</td><td>null</td><td>null</td><td>null</td><td>null</td><td>&quot;0x056cc3a8920e…</td><td>&quot;[]&quot;</td></tr><tr><td>2024-01-05 13:46:37.000000043</td><td>108667070</td><td>12741</td><td>&quot;0x0a5b1c23d805…</td><td>&quot;Congrats , you…</td><td>&quot;[]&quot;</td><td>&quot;[189929]&quot;</td><td>12741</td><td>null</td><td>&quot;0xeb8c8c3695bd…</td><td>null</td><td>&quot;0xeb8c8c3695bd…</td><td>&quot;[9]&quot;</td></tr><tr><td>2024-01-23 13:34:00.000000288</td><td>108839455</td><td>12741</td><td>&quot;0x5be39f41f259…</td><td>&quot;Congrats , you…</td><td>&quot;[]&quot;</td><td>&quot;[21000]&quot;</td><td>12741</td><td>null</td><td>&quot;0xeb8c8c3695bd…</td><td>null</td><td>&quot;0xeb8c8c3695bd…</td><td>&quot;[9]&quot;</td></tr><tr><td>2024-01-23 13:39:51.000000814</td><td>108839493</td><td>12741</td><td>&quot;0xe67bb80c580e…</td><td>&quot;Congrats , you…</td><td>&quot;[]&quot;</td><td>&quot;[18944]&quot;</td><td>12741</td><td>null</td><td>&quot;0xeb8c8c3695bd…</td><td>null</td><td>&quot;0xeb8c8c3695bd…</td><td>&quot;[9]&quot;</td></tr></tbody></table></div>"
      ],
      "text/plain": [
       "shape: (5, 13)\n",
       "┌────────────┬───────────┬────────┬────────────┬───┬───────────┬───────────┬───────────┬───────────┐\n",
       "│ created_at ┆ id        ┆ fid    ┆ hash       ┆ … ┆ parent_ha ┆ root_pare ┆ root_pare ┆ mentions_ │\n",
       "│ ---        ┆ ---       ┆ ---    ┆ ---        ┆   ┆ sh        ┆ nt_url    ┆ nt_hash   ┆ positions │\n",
       "│ datetime[n ┆ i64       ┆ i64    ┆ str        ┆   ┆ ---       ┆ ---       ┆ ---       ┆ ---       │\n",
       "│ s]         ┆           ┆        ┆            ┆   ┆ str       ┆ str       ┆ str       ┆ str       │\n",
       "╞════════════╪═══════════╪════════╪════════════╪═══╪═══════════╪═══════════╪═══════════╪═══════════╡\n",
       "│ 2024-01-27 ┆ 108884669 ┆ 234592 ┆ 0x89dc1a12 ┆ … ┆ 0x97f2c91 ┆ https://w ┆ 0x97f2c91 ┆ []        │\n",
       "│ 05:53:58.0 ┆           ┆        ┆ 2c5e66e678 ┆   ┆ 9a8f06ecc ┆ arpcast.c ┆ 9a8f06ecc ┆           │\n",
       "│ 00000906   ┆           ┆        ┆ fe1f9ff410 ┆   ┆ 5673ad1d8 ┆ om/~/chan ┆ 5673ad1d8 ┆           │\n",
       "│            ┆           ┆        ┆ 47…        ┆   ┆ 8828a…    ┆ nel/c…    ┆ 8828a…    ┆           │\n",
       "│ 2024-01-27 ┆ 108884763 ┆ 234592 ┆ 0x056cc3a8 ┆ … ┆ null      ┆ null      ┆ 0x056cc3a ┆ []        │\n",
       "│ 06:04:17.0 ┆           ┆        ┆ 920edbaec2 ┆   ┆           ┆           ┆ 8920edbae ┆           │\n",
       "│ 00000105   ┆           ┆        ┆ 7114db013a ┆   ┆           ┆           ┆ c27114db0 ┆           │\n",
       "│            ┆           ┆        ┆ 01…        ┆   ┆           ┆           ┆ 13a01…    ┆           │\n",
       "│ 2024-01-05 ┆ 108667070 ┆ 12741  ┆ 0x0a5b1c23 ┆ … ┆ 0xeb8c8c3 ┆ null      ┆ 0xeb8c8c3 ┆ [9]       │\n",
       "│ 13:46:37.0 ┆           ┆        ┆ d8056318e2 ┆   ┆ 695bdb47d ┆           ┆ 695bdb47d ┆           │\n",
       "│ 00000043   ┆           ┆        ┆ d046d7026f ┆   ┆ 6ea16e247 ┆           ┆ 6ea16e247 ┆           │\n",
       "│            ┆           ┆        ┆ 75…        ┆   ┆ aa234…    ┆           ┆ aa234…    ┆           │\n",
       "│ 2024-01-23 ┆ 108839455 ┆ 12741  ┆ 0x5be39f41 ┆ … ┆ 0xeb8c8c3 ┆ null      ┆ 0xeb8c8c3 ┆ [9]       │\n",
       "│ 13:34:00.0 ┆           ┆        ┆ f259d312ed ┆   ┆ 695bdb47d ┆           ┆ 695bdb47d ┆           │\n",
       "│ 00000288   ┆           ┆        ┆ d3822f63a8 ┆   ┆ 6ea16e247 ┆           ┆ 6ea16e247 ┆           │\n",
       "│            ┆           ┆        ┆ a5…        ┆   ┆ aa234…    ┆           ┆ aa234…    ┆           │\n",
       "│ 2024-01-23 ┆ 108839493 ┆ 12741  ┆ 0xe67bb80c ┆ … ┆ 0xeb8c8c3 ┆ null      ┆ 0xeb8c8c3 ┆ [9]       │\n",
       "│ 13:39:51.0 ┆           ┆        ┆ 580e70a746 ┆   ┆ 695bdb47d ┆           ┆ 695bdb47d ┆           │\n",
       "│ 00000814   ┆           ┆        ┆ 3f1e5f534f ┆   ┆ 6ea16e247 ┆           ┆ 6ea16e247 ┆           │\n",
       "│            ┆           ┆        ┆ d1…        ┆   ┆ aa234…    ┆           ┆ aa234…    ┆           │\n",
       "└────────────┴───────────┴────────┴────────────┴───┴───────────┴───────────┴───────────┴───────────┘"
      ]
     },
     "execution_count": 15,
     "metadata": {},
     "output_type": "execute_result"
    }
   ],
   "source": [
    "df.head()"
   ]
  },
  {
   "cell_type": "code",
   "execution_count": 16,
   "metadata": {},
   "outputs": [],
   "source": [
    "df.write_csv('filename.csv')"
   ]
  },
  {
   "cell_type": "code",
   "execution_count": 17,
   "metadata": {},
   "outputs": [],
   "source": [
    "sampled_df = df.sample(n=5)"
   ]
  },
  {
   "cell_type": "code",
   "execution_count": 18,
   "metadata": {},
   "outputs": [
    {
     "data": {
      "text/html": [
       "<div><style>\n",
       ".dataframe > thead > tr,\n",
       ".dataframe > tbody > tr {\n",
       "  text-align: right;\n",
       "  white-space: pre-wrap;\n",
       "}\n",
       "</style>\n",
       "<small>shape: (5,)</small><table border=\"1\" class=\"dataframe\"><thead><tr><th>text</th></tr><tr><td>str</td></tr></thead><tbody><tr><td>&quot;Next Tuesday  …</td></tr><tr><td>&quot;Only 1 days le…</td></tr><tr><td>&quot;chéo nha&quot;</td></tr><tr><td>&quot;BITCOIN MAGAZI…</td></tr><tr><td>&quot;Bener wkwkwkw&quot;</td></tr></tbody></table></div>"
      ],
      "text/plain": [
       "shape: (5,)\n",
       "Series: 'text' [str]\n",
       "[\n",
       "\t\"Next Tuesday  …\n",
       "\t\"Only 1 days le…\n",
       "\t\"chéo nha\"\n",
       "\t\"BITCOIN MAGAZI…\n",
       "\t\"Bener wkwkwkw\"\n",
       "]"
      ]
     },
     "execution_count": 18,
     "metadata": {},
     "output_type": "execute_result"
    }
   ],
   "source": [
    "random_values = sampled_df[\"text\"]\n",
    "random_values"
   ]
  },
  {
   "cell_type": "code",
   "execution_count": 19,
   "metadata": {},
   "outputs": [
    {
     "data": {
      "text/plain": [
       "110660"
      ]
     },
     "execution_count": 19,
     "metadata": {},
     "output_type": "execute_result"
    }
   ],
   "source": [
    "unique_count = df['fid'].unique().len()\n",
    "unique_count"
   ]
  },
  {
   "cell_type": "code",
   "execution_count": 20,
   "metadata": {},
   "outputs": [],
   "source": [
    "\n",
    "df.select(\"fid\").unique().write_csv(\"unique_fids.csv\")\n"
   ]
  },
  {
   "cell_type": "code",
   "execution_count": 21,
   "metadata": {},
   "outputs": [
    {
     "name": "stdout",
     "output_type": "stream",
     "text": [
      "5896687\n"
     ]
    }
   ],
   "source": [
    "num_rows = df.height\n",
    "print(num_rows)\n"
   ]
  },
  {
   "cell_type": "code",
   "execution_count": 22,
   "metadata": {},
   "outputs": [
    {
     "data": {
      "text/plain": [
       "True"
      ]
     },
     "execution_count": 22,
     "metadata": {},
     "output_type": "execute_result"
    }
   ],
   "source": [
    "fid_to_check = 355637\n",
    "fid_exists = (df[\"fid\"] == fid_to_check).any()\n",
    "fid_exists"
   ]
  },
  {
   "cell_type": "code",
   "execution_count": 23,
   "metadata": {},
   "outputs": [
    {
     "data": {
      "text/html": [
       "<div><style>\n",
       ".dataframe > thead > tr,\n",
       ".dataframe > tbody > tr {\n",
       "  text-align: right;\n",
       "  white-space: pre-wrap;\n",
       "}\n",
       "</style>\n",
       "<small>shape: (20, 13)</small><table border=\"1\" class=\"dataframe\"><thead><tr><th>created_at</th><th>id</th><th>fid</th><th>hash</th><th>text</th><th>embeds</th><th>mentions</th><th>parent_fid</th><th>parent_url</th><th>parent_hash</th><th>root_parent_url</th><th>root_parent_hash</th><th>mentions_positions</th></tr><tr><td>datetime[ns]</td><td>i64</td><td>i64</td><td>str</td><td>str</td><td>str</td><td>str</td><td>i64</td><td>str</td><td>str</td><td>str</td><td>str</td><td>str</td></tr></thead><tbody><tr><td>2024-02-20 09:02:25.000000620</td><td>242895179</td><td>354330</td><td>&quot;0x00dad90d5be3…</td><td>&quot;Well, look wha…</td><td>&quot;[{&quot;url&quot;: &quot;http…</td><td>&quot;[]&quot;</td><td>null</td><td>&quot;chain://eip155…</td><td>null</td><td>&quot;chain://eip155…</td><td>&quot;0x00dad90d5be3…</td><td>&quot;[]&quot;</td></tr><tr><td>2024-02-20 09:04:06.000000327</td><td>242949032</td><td>354330</td><td>&quot;0x9b9503aa80b0…</td><td>&quot;100 $DEGEN LFG…</td><td>&quot;[]&quot;</td><td>&quot;[]&quot;</td><td>266471</td><td>null</td><td>&quot;0x8858553a53fc…</td><td>&quot;chain://eip155…</td><td>&quot;0x8858553a53fc…</td><td>&quot;[]&quot;</td></tr><tr><td>2024-02-20 09:08:34.000000883</td><td>243086994</td><td>354330</td><td>&quot;0x0382efae53e7…</td><td>&quot;How come I can…</td><td>&quot;[{&quot;url&quot;: &quot;http…</td><td>&quot;[]&quot;</td><td>null</td><td>&quot;chain://eip155…</td><td>null</td><td>&quot;chain://eip155…</td><td>&quot;0x0382efae53e7…</td><td>&quot;[]&quot;</td></tr><tr><td>2024-02-20 07:18:30.000000959</td><td>240382591</td><td>354330</td><td>&quot;0x492ed2f528c6…</td><td>&quot;10 $DEGEN&quot;</td><td>&quot;[]&quot;</td><td>&quot;[]&quot;</td><td>14636</td><td>null</td><td>&quot;0x59903827a4e4…</td><td>&quot;chain://eip155…</td><td>&quot;0x59903827a4e4…</td><td>&quot;[]&quot;</td></tr><tr><td>2024-02-20 07:24:03.000000589</td><td>240423011</td><td>354330</td><td>&quot;0xec321cd15d26…</td><td>&quot;AltLayer Raise…</td><td>&quot;[{&quot;url&quot;: &quot;http…</td><td>&quot;[]&quot;</td><td>null</td><td>&quot;chain://eip155…</td><td>null</td><td>&quot;chain://eip155…</td><td>&quot;0xec321cd15d26…</td><td>&quot;[]&quot;</td></tr><tr><td>2024-02-24 08:33:26.000000479</td><td>288838859</td><td>354330</td><td>&quot;0x08b6bfdfba0e…</td><td>&quot;Claim free $FR…</td><td>&quot;[{&quot;castId&quot;: {&quot;…</td><td>&quot;[]&quot;</td><td>null</td><td>null</td><td>null</td><td>null</td><td>&quot;0x08b6bfdfba0e…</td><td>&quot;[]&quot;</td></tr><tr><td>2024-02-20 07:55:34.000000046</td><td>240808733</td><td>354330</td><td>&quot;0x4854f7a2e6a9…</td><td>&quot;10 $DEGEN&quot;</td><td>&quot;[]&quot;</td><td>&quot;[]&quot;</td><td>253127</td><td>null</td><td>&quot;0x173d38fac7bd…</td><td>&quot;chain://eip155…</td><td>&quot;0x173d38fac7bd…</td><td>&quot;[]&quot;</td></tr><tr><td>2024-02-22 10:52:55.000000687</td><td>277215926</td><td>354330</td><td>&quot;0xca4c7178f79b…</td><td>&quot;Alright, let&#x27;s…</td><td>&quot;[]&quot;</td><td>&quot;[]&quot;</td><td>3362</td><td>null</td><td>&quot;0x714d2feff52a…</td><td>&quot;https://warpca…</td><td>&quot;0x714d2feff52a…</td><td>&quot;[]&quot;</td></tr><tr><td>2024-02-24 13:44:03.000000389</td><td>288878661</td><td>354330</td><td>&quot;0x82e82b7ca1c4…</td><td>&quot;I just minted …</td><td>&quot;[{&quot;url&quot;: &quot;http…</td><td>&quot;[17727]&quot;</td><td>null</td><td>&quot;https://onchai…</td><td>null</td><td>&quot;https://onchai…</td><td>&quot;0x82e82b7ca1c4…</td><td>&quot;[31]&quot;</td></tr><tr><td>2024-02-24 14:26:53.000000817</td><td>288883668</td><td>354330</td><td>&quot;0x53e6c190856b…</td><td>&quot;Mint Blue Dot&quot;</td><td>&quot;[{&quot;url&quot;: &quot;http…</td><td>&quot;[]&quot;</td><td>null</td><td>&quot;https://onchai…</td><td>null</td><td>&quot;https://onchai…</td><td>&quot;0x53e6c190856b…</td><td>&quot;[]&quot;</td></tr><tr><td>2024-02-24 14:44:25.000000807</td><td>288885789</td><td>354330</td><td>&quot;0x1b5957b1ac08…</td><td>&quot;Claim free $FR…</td><td>&quot;[{&quot;castId&quot;: {&quot;…</td><td>&quot;[]&quot;</td><td>null</td><td>null</td><td>null</td><td>null</td><td>&quot;0x1b5957b1ac08…</td><td>&quot;[]&quot;</td></tr><tr><td>2024-02-24 14:50:29.000000069</td><td>288886422</td><td>354330</td><td>&quot;0x9ee860693249…</td><td>&quot;Mint $FarCoin …</td><td>&quot;[{&quot;url&quot;: &quot;http…</td><td>&quot;[]&quot;</td><td>null</td><td>&quot;https://onchai…</td><td>null</td><td>&quot;https://onchai…</td><td>&quot;0x9ee860693249…</td><td>&quot;[]&quot;</td></tr><tr><td>2024-02-24 14:51:40.000000624</td><td>288886539</td><td>354330</td><td>&quot;0x231c6f70e8db…</td><td>&quot;Done ✅&quot;</td><td>&quot;[]&quot;</td><td>&quot;[]&quot;</td><td>345923</td><td>null</td><td>&quot;0x80b4d28d3332…</td><td>&quot;chain://eip155…</td><td>&quot;0x80b4d28d3332…</td><td>&quot;[]&quot;</td></tr><tr><td>2024-02-24 15:04:20.000000545</td><td>288887927</td><td>354330</td><td>&quot;0xf556d53f7daf…</td><td>&quot;LFG! 🔥🔥\n",
       "Bullis…</td><td>&quot;[{&quot;castId&quot;: {&quot;…</td><td>&quot;[]&quot;</td><td>null</td><td>null</td><td>null</td><td>null</td><td>&quot;0xf556d53f7daf…</td><td>&quot;[]&quot;</td></tr><tr><td>2024-02-24 15:12:32.000000334</td><td>288888791</td><td>354330</td><td>&quot;0x4dbc3384b971…</td><td>&quot;Solana Ecosyst…</td><td>&quot;[{&quot;castId&quot;: {&quot;…</td><td>&quot;[]&quot;</td><td>null</td><td>null</td><td>null</td><td>null</td><td>&quot;0x4dbc3384b971…</td><td>&quot;[]&quot;</td></tr><tr><td>2024-02-24 15:14:43.000000027</td><td>288889068</td><td>354330</td><td>&quot;0xc3459afcf5f9…</td><td>&quot;EXGz4HmvR5Ez64…</td><td>&quot;[]&quot;</td><td>&quot;[]&quot;</td><td>370078</td><td>null</td><td>&quot;0x5f8b7c01ed98…</td><td>&quot;https://solana…</td><td>&quot;0x5f8b7c01ed98…</td><td>&quot;[]&quot;</td></tr><tr><td>2024-02-22 20:55:38.000000569</td><td>282469129</td><td>354330</td><td>&quot;0xa54a161d5f6d…</td><td>&quot;Done ✅&quot;</td><td>&quot;[]&quot;</td><td>&quot;[]&quot;</td><td>9019</td><td>null</td><td>&quot;0x7dc70d75b24c…</td><td>null</td><td>&quot;0x7dc70d75b24c…</td><td>&quot;[]&quot;</td></tr><tr><td>2024-02-22 20:58:21.000000358</td><td>282500010</td><td>354330</td><td>&quot;0x15e04c708dfa…</td><td>&quot;200 $DEGEN&quot;</td><td>&quot;[]&quot;</td><td>&quot;[]&quot;</td><td>15983</td><td>null</td><td>&quot;0x722c4f1822e3…</td><td>&quot;chain://eip155…</td><td>&quot;0x722c4f1822e3…</td><td>&quot;[]&quot;</td></tr><tr><td>2024-02-22 21:02:06.000000934</td><td>282545657</td><td>354330</td><td>&quot;0x4a5d9d5e41ec…</td><td>&quot;gm gm&quot;</td><td>&quot;[]&quot;</td><td>&quot;[]&quot;</td><td>303</td><td>null</td><td>&quot;0xf256ca1db3ae…</td><td>&quot;https://basepa…</td><td>&quot;0xf256ca1db3ae…</td><td>&quot;[]&quot;</td></tr><tr><td>2024-02-22 21:36:08.000000108</td><td>282929192</td><td>354330</td><td>&quot;0xe46a52b25318…</td><td>&quot;If you have do…</td><td>&quot;[{&quot;url&quot;: &quot;http…</td><td>&quot;[]&quot;</td><td>null</td><td>&quot;chain://eip155…</td><td>null</td><td>&quot;chain://eip155…</td><td>&quot;0xe46a52b25318…</td><td>&quot;[]&quot;</td></tr></tbody></table></div>"
      ],
      "text/plain": [
       "shape: (20, 13)\n",
       "┌────────────┬───────────┬────────┬────────────┬───┬───────────┬───────────┬───────────┬───────────┐\n",
       "│ created_at ┆ id        ┆ fid    ┆ hash       ┆ … ┆ parent_ha ┆ root_pare ┆ root_pare ┆ mentions_ │\n",
       "│ ---        ┆ ---       ┆ ---    ┆ ---        ┆   ┆ sh        ┆ nt_url    ┆ nt_hash   ┆ positions │\n",
       "│ datetime[n ┆ i64       ┆ i64    ┆ str        ┆   ┆ ---       ┆ ---       ┆ ---       ┆ ---       │\n",
       "│ s]         ┆           ┆        ┆            ┆   ┆ str       ┆ str       ┆ str       ┆ str       │\n",
       "╞════════════╪═══════════╪════════╪════════════╪═══╪═══════════╪═══════════╪═══════════╪═══════════╡\n",
       "│ 2024-02-20 ┆ 242895179 ┆ 354330 ┆ 0x00dad90d ┆ … ┆ null      ┆ chain://e ┆ 0x00dad90 ┆ []        │\n",
       "│ 09:02:25.0 ┆           ┆        ┆ 5be38699e0 ┆   ┆           ┆ ip155:777 ┆ d5be38699 ┆           │\n",
       "│ 00000620   ┆           ┆        ┆ 0517c04ae7 ┆   ┆           ┆ 7777/erc7 ┆ e00517c04 ┆           │\n",
       "│            ┆           ┆        ┆ ae…        ┆   ┆           ┆ 21:0x…    ┆ ae7ae…    ┆           │\n",
       "│ 2024-02-20 ┆ 242949032 ┆ 354330 ┆ 0x9b9503aa ┆ … ┆ 0x8858553 ┆ chain://e ┆ 0x8858553 ┆ []        │\n",
       "│ 09:04:06.0 ┆           ┆        ┆ 80b037d250 ┆   ┆ a53fc8e0d ┆ ip155:777 ┆ a53fc8e0d ┆           │\n",
       "│ 00000327   ┆           ┆        ┆ ee61d87653 ┆   ┆ dd04c050a ┆ 7777/erc7 ┆ dd04c050a ┆           │\n",
       "│            ┆           ┆        ┆ 5c…        ┆   ┆ 87c48…    ┆ 21:0x…    ┆ 87c48…    ┆           │\n",
       "│ 2024-02-20 ┆ 243086994 ┆ 354330 ┆ 0x0382efae ┆ … ┆ null      ┆ chain://e ┆ 0x0382efa ┆ []        │\n",
       "│ 09:08:34.0 ┆           ┆        ┆ 53e737d635 ┆   ┆           ┆ ip155:777 ┆ e53e737d6 ┆           │\n",
       "│ 00000883   ┆           ┆        ┆ 9e6edce541 ┆   ┆           ┆ 7777/erc7 ┆ 359e6edce ┆           │\n",
       "│            ┆           ┆        ┆ d3…        ┆   ┆           ┆ 21:0x…    ┆ 541d3…    ┆           │\n",
       "│ 2024-02-20 ┆ 240382591 ┆ 354330 ┆ 0x492ed2f5 ┆ … ┆ 0x5990382 ┆ chain://e ┆ 0x5990382 ┆ []        │\n",
       "│ 07:18:30.0 ┆           ┆        ┆ 28c607ded6 ┆   ┆ 7a4e4aecd ┆ ip155:777 ┆ 7a4e4aecd ┆           │\n",
       "│ 00000959   ┆           ┆        ┆ c80ce1b6a9 ┆   ┆ cc7388dba ┆ 7777/erc7 ┆ cc7388dba ┆           │\n",
       "│            ┆           ┆        ┆ 52…        ┆   ┆ a8cf9…    ┆ 21:0x…    ┆ a8cf9…    ┆           │\n",
       "│ …          ┆ …         ┆ …      ┆ …          ┆ … ┆ …         ┆ …         ┆ …         ┆ …         │\n",
       "│ 2024-02-22 ┆ 282469129 ┆ 354330 ┆ 0xa54a161d ┆ … ┆ 0x7dc70d7 ┆ null      ┆ 0x7dc70d7 ┆ []        │\n",
       "│ 20:55:38.0 ┆           ┆        ┆ 5f6d9daa44 ┆   ┆ 5b24caf64 ┆           ┆ 5b24caf64 ┆           │\n",
       "│ 00000569   ┆           ┆        ┆ 8646ebd469 ┆   ┆ fc23d2e83 ┆           ┆ fc23d2e83 ┆           │\n",
       "│            ┆           ┆        ┆ 18…        ┆   ┆ 5439d…    ┆           ┆ 5439d…    ┆           │\n",
       "│ 2024-02-22 ┆ 282500010 ┆ 354330 ┆ 0x15e04c70 ┆ … ┆ 0x722c4f1 ┆ chain://e ┆ 0x722c4f1 ┆ []        │\n",
       "│ 20:58:21.0 ┆           ┆        ┆ 8dfa5936e8 ┆   ┆ 822e3dd56 ┆ ip155:777 ┆ 822e3dd56 ┆           │\n",
       "│ 00000358   ┆           ┆        ┆ be0abad917 ┆   ┆ 1c12ea1a1 ┆ 7777/erc7 ┆ 1c12ea1a1 ┆           │\n",
       "│            ┆           ┆        ┆ 97…        ┆   ┆ 4aa84…    ┆ 21:0x…    ┆ 4aa84…    ┆           │\n",
       "│ 2024-02-22 ┆ 282545657 ┆ 354330 ┆ 0x4a5d9d5e ┆ … ┆ 0xf256ca1 ┆ https://b ┆ 0xf256ca1 ┆ []        │\n",
       "│ 21:02:06.0 ┆           ┆        ┆ 41ec188302 ┆   ┆ db3aee71b ┆ asepaint. ┆ db3aee71b ┆           │\n",
       "│ 00000934   ┆           ┆        ┆ b800c1f3a3 ┆   ┆ 4fedc9031 ┆ xyz       ┆ 4fedc9031 ┆           │\n",
       "│            ┆           ┆        ┆ f3…        ┆   ┆ 8b843…    ┆           ┆ 8b843…    ┆           │\n",
       "│ 2024-02-22 ┆ 282929192 ┆ 354330 ┆ 0xe46a52b2 ┆ … ┆ null      ┆ chain://e ┆ 0xe46a52b ┆ []        │\n",
       "│ 21:36:08.0 ┆           ┆        ┆ 5318a033b7 ┆   ┆           ┆ ip155:777 ┆ 25318a033 ┆           │\n",
       "│ 00000108   ┆           ┆        ┆ fb5c3cfb86 ┆   ┆           ┆ 7777/erc7 ┆ b7fb5c3cf ┆           │\n",
       "│            ┆           ┆        ┆ c7…        ┆   ┆           ┆ 21:0x…    ┆ b86c7…    ┆           │\n",
       "└────────────┴───────────┴────────┴────────────┴───┴───────────┴───────────┴───────────┴───────────┘"
      ]
     },
     "execution_count": 23,
     "metadata": {},
     "output_type": "execute_result"
    }
   ],
   "source": [
    "value_to_match = \"354330\"\n",
    "\n",
    "\n",
    "filtered_df = df.filter(df[\"fid\"] == value_to_match)\n",
    "\n",
    "filtered_df.head(20)\n"
   ]
  },
  {
   "cell_type": "code",
   "execution_count": 24,
   "metadata": {},
   "outputs": [],
   "source": [
    "import json\n",
    "\n",
    "# Load the JSON file\n",
    "with open('neighbors.json') as f:\n",
    "    data = json.load(f)\n",
    "\n",
    "# Extract all the \"fid\" values from the JSON\n",
    "fids = [item['fid'] for item in data]\n",
    "\n",
    "# Create a dictionary to store the results\n",
    "result = {}\n",
    "\n",
    "# Loop over the fids and search in the DataFrame\n",
    "for fid in fids:\n",
    "    text = df.filter(pl.col('fid') == fid)['text'].to_list()\n",
    "    if text:\n",
    "        # Add 'fid': fid at the start of each unique fid\n",
    "        result[fid] = [{'fid': fid}, {'casts':text}]\n",
    "\n",
    "# Save the results to a JSON file\n",
    "with open('casts2.json', 'w') as f:\n",
    "    json.dump(result, f)\n"
   ]
  },
  {
   "cell_type": "code",
   "execution_count": 25,
   "metadata": {},
   "outputs": [],
   "source": [
    "import json\n",
    "\n",
    "# Load the JSON files into Python dictionaries\n",
    "with open('user-profiles.json') as f1, open('neighbors.json') as f2, open('casts2.json') as f3:\n",
    "    dict1 = json.load(f1)\n",
    "    dict2 = json.load(f2)\n",
    "    dict3 = json.load(f3)\n",
    "\n",
    "# Create a new dictionary to hold the combined data\n",
    "combined_dict = {}\n",
    "\n",
    "# Combine the dictionaries\n",
    "for key, value in dict1.items():\n",
    "    fid = value['result']['user']['fid']\n",
    "    if fid not in combined_dict:\n",
    "        combined_dict[fid] = {}\n",
    "    combined_dict[fid]['file1'] = value['result']['user']\n",
    "\n",
    "for item in dict2:\n",
    "    fid = item['fid']\n",
    "    if fid not in combined_dict:\n",
    "        combined_dict[fid] = {}\n",
    "    combined_dict[fid]['file2'] = item\n",
    "\n",
    "for key, value in dict3.items():\n",
    "    if isinstance(value, list) and len(value) > 1 and isinstance(value[0], dict) and 'fid' in value[0] and isinstance(value[1], dict):\n",
    "        fid = value[0]['fid']\n",
    "        if fid not in combined_dict:\n",
    "            combined_dict[fid] = {}\n",
    "        combined_dict[fid]['file3'] = value[1]\n",
    "\n",
    "# Save the combined dictionary to a new JSON file\n",
    "with open('farcaster-dataset.json', 'w') as f:\n",
    "    json.dump(combined_dict, f)"
   ]
  },
  {
   "cell_type": "code",
   "execution_count": 26,
   "metadata": {},
   "outputs": [],
   "source": [
    "data = json.load(open('farcaster-dataset.json'))"
   ]
  },
  {
   "cell_type": "code",
   "execution_count": 27,
   "metadata": {},
   "outputs": [
    {
     "name": "stdout",
     "output_type": "stream",
     "text": [
      "shape: (1_733, 15)\n",
      "┌────────┬────────────┬────────────┬───────────┬───┬───────────┬───────────┬───────────┬───────────┐\n",
      "│ fid    ┆ custodyAdd ┆ username   ┆ displayNa ┆ … ┆ powerBadg ┆ followers ┆ following ┆ casts     │\n",
      "│ ---    ┆ ress       ┆ ---        ┆ me        ┆   ┆ e         ┆ ---       ┆ ---       ┆ ---       │\n",
      "│ i64    ┆ ---        ┆ str        ┆ ---       ┆   ┆ ---       ┆ list[str] ┆ list[str] ┆ list[str] │\n",
      "│        ┆ str        ┆            ┆ str       ┆   ┆ bool      ┆           ┆           ┆           │\n",
      "╞════════╪════════════╪════════════╪═══════════╪═══╪═══════════╪═══════════╪═══════════╪═══════════╡\n",
      "│ 355637 ┆ 0x5834b8b2 ┆ faridazka8 ┆ Farid     ┆ … ┆ false     ┆ [\"441944\" ┆ [\"351755\" ┆ [\"rake    │\n",
      "│        ┆ 046aed5aa4 ┆ 330        ┆ Azka      ┆   ┆           ┆ ]         ┆ ,         ┆ fund      │\n",
      "│        ┆ f15087b120 ┆            ┆           ┆   ┆           ┆           ┆ \"341634\"] ┆ quiet,    │\n",
      "│        ┆ 64…        ┆            ┆           ┆   ┆           ┆           ┆           ┆ gulch     │\n",
      "│        ┆            ┆            ┆           ┆   ┆           ┆           ┆           ┆ wooly o…  │\n",
      "│ 328517 ┆ 0x3d941f97 ┆ tropzhoeni ┆ Tropz     ┆ … ┆ false     ┆ [\"396825\" ┆ [\"195457\" ┆ [\"Mint 50 │\n",
      "│        ┆ 55655601fc ┆ x          ┆           ┆   ┆           ┆ ,         ┆ ,         ┆ A Collect │\n",
      "│        ┆ b3a323d86e ┆            ┆           ┆   ┆           ┆ \"508457\", ┆ \"22488\",  ┆ ive       │\n",
      "│        ┆ d2…        ┆            ┆           ┆   ┆           ┆ …         ┆ … \"48\"]   ┆ Signal    │\n",
      "│        ┆            ┆            ┆           ┆   ┆           ┆ \"304685\"] ┆           ┆ wi…       │\n",
      "│ 8941   ┆ 0x87262f2e ┆ justinzhan ┆ Mad Man   ┆ … ┆ false     ┆ [\"402262\" ┆ [\"4143\",  ┆ [\"Twitter │\n",
      "│        ┆ df379f8717 ┆ g          ┆ Justin    ┆   ┆           ┆ ,         ┆ \"50\", …   ┆ : \"]      │\n",
      "│        ┆ 7830446bf1 ┆            ┆           ┆   ┆           ┆ \"400518\", ┆ \"4434\"]   ┆           │\n",
      "│        ┆ 95…        ┆            ┆           ┆   ┆           ┆ …         ┆           ┆           │\n",
      "│        ┆            ┆            ┆           ┆   ┆           ┆ \"219370\"] ┆           ┆           │\n",
      "│ 197040 ┆ 0xbaa566ac ┆ cfhgoregri ┆ Spider    ┆ … ┆ false     ┆ [\"301687\" ┆ [\"7620\",  ┆ [\"Just    │\n",
      "│        ┆ 73b277dd0e ┆ nder       ┆           ┆   ┆           ┆ ,         ┆ \"18910\",  ┆ minted    │\n",
      "│        ┆ 6efa68f73b ┆            ┆           ┆   ┆           ┆ \"471907\", ┆ … \"1317\"] ┆ Day 185   │\n",
      "│        ┆ 51…        ┆            ┆           ┆   ┆           ┆ …         ┆           ┆ on        │\n",
      "│        ┆            ┆            ┆           ┆   ┆           ┆ \"473023\"] ┆           ┆ BasePai…  │\n",
      "│ …      ┆ …          ┆ …          ┆ …         ┆ … ┆ …         ┆ …         ┆ …         ┆ …         │\n",
      "│ 314878 ┆ 0xa6ac4374 ┆ adebayo00  ┆ Adebayo   ┆ … ┆ false     ┆ [\"265542\" ┆ [\"99\",    ┆ [\"$ZORB   │\n",
      "│        ┆ 8760b372ba ┆            ┆           ┆   ┆           ┆ ,         ┆ \"20910\",  ┆ LFG\",     │\n",
      "│        ┆ 99ef541adf ┆            ┆           ┆   ┆           ┆ \"360450\", ┆ … \"80\"]   ┆ \"I'M      │\n",
      "│        ┆ 81…        ┆            ┆           ┆   ┆           ┆ …         ┆           ┆ PUNK\", …  │\n",
      "│        ┆            ┆            ┆           ┆   ┆           ┆ \"441049\"] ┆           ┆ \"TES…     │\n",
      "│ 237284 ┆ 0xb909cc51 ┆ shi        ┆ Shi       ┆ … ┆ false     ┆ [\"287985\" ┆ [\"5650\",  ┆ [\"Got     │\n",
      "│        ┆ c07c383ce0 ┆            ┆           ┆   ┆           ┆ ,         ┆ \"307348\", ┆ mine!\",   │\n",
      "│        ┆ a4067485af ┆            ┆           ┆   ┆           ┆ \"404554\", ┆ …         ┆ \"Hey,     │\n",
      "│        ┆ 5c…        ┆            ┆           ┆   ┆           ┆ …         ┆ \"270969\"] ┆ would     │\n",
      "│        ┆            ┆            ┆           ┆   ┆           ┆ \"443083\"] ┆           ┆ love t…   │\n",
      "│ 247377 ┆ 0x3172aee5 ┆ !247377    ┆ Telcontar ┆ … ┆ false     ┆ [\"260526\" ┆ [\"1258\",  ┆ [\"test\",  │\n",
      "│        ┆ e0b47bb23e ┆            ┆           ┆   ┆           ┆ ,         ┆ \"5650\", … ┆ \"test\"]   │\n",
      "│        ┆ 87db93327f ┆            ┆           ┆   ┆           ┆ \"280491\", ┆ \"3\"]      ┆           │\n",
      "│        ┆ 58…        ┆            ┆           ┆   ┆           ┆ \"533\"]    ┆           ┆           │\n",
      "│ 214076 ┆ 0x12ee88bc ┆ ligerwoods ┆ Litewood  ┆ … ┆ false     ┆ [\"375934\" ┆ [\"373260\" ┆ [\"First   │\n",
      "│        ┆ 3bf8ffcf58 ┆            ┆           ┆   ┆           ┆ ,         ┆ , \"557\",  ┆ post,     │\n",
      "│        ┆ 113b7cfaab ┆            ┆           ┆   ┆           ┆ \"336679\", ┆ …         ┆ testing   │\n",
      "│        ┆ 1d…        ┆            ┆           ┆   ┆           ┆ …         ┆ \"329883\"] ┆ things    │\n",
      "│        ┆            ┆            ┆           ┆   ┆           ┆ \"412725\"] ┆           ┆ out…      │\n",
      "└────────┴────────────┴────────────┴───────────┴───┴───────────┴───────────┴───────────┴───────────┘\n"
     ]
    }
   ],
   "source": [
    "# Initialize an empty list to store the combined data\n",
    "combined_data_list = []\n",
    "\n",
    "# Iterate over each key in the JSON object\n",
    "for key, value in data.items():\n",
    "    # Convert the key to integer and assign it as fid\n",
    "    value[\"fid\"] = int(key)\n",
    "    \n",
    "    # Combine the nested objects\n",
    "    combined_data = value[\"file1\"]\n",
    "    combined_data.update(value[\"file2\"])\n",
    "    combined_data.update(value[\"file3\"])\n",
    "    \n",
    "    # Add the combined data to the list\n",
    "    combined_data_list.append(combined_data)\n",
    "\n",
    "# Convert the list of combined data to a Polars DataFrame\n",
    "df = pl.DataFrame(combined_data_list)\n",
    "\n",
    "# Display the DataFrame\n",
    "print(df)"
   ]
  },
  {
   "cell_type": "code",
   "execution_count": 28,
   "metadata": {},
   "outputs": [
    {
     "name": "stdout",
     "output_type": "stream",
     "text": [
      "Column names: ['fid', 'custodyAddress', 'username', 'displayName', 'pfp', 'profile', 'followerCount', 'followingCount', 'verifications', 'verifiedAddresses', 'activeStatus', 'powerBadge', 'followers', 'following', 'casts']\n"
     ]
    }
   ],
   "source": [
    "# Get the column names\n",
    "print(\"Column names:\", df.columns)\n"
   ]
  },
  {
   "cell_type": "code",
   "execution_count": 29,
   "metadata": {},
   "outputs": [
    {
     "name": "stdout",
     "output_type": "stream",
     "text": [
      "Column data types: [Int64, Utf8, Utf8, Utf8, Struct([Field('url', Utf8)]), Struct([Field('bio', Struct([Field('text', Utf8), Field('mentionedProfiles', List(Null))]))]), Int64, Int64, List(Utf8), Struct([Field('eth_addresses', List(Utf8)), Field('sol_addresses', List(Utf8))]), Utf8, Boolean, List(Utf8), List(Utf8), List(Utf8)]\n"
     ]
    }
   ],
   "source": [
    "\n",
    "# Get the data types of each column\n",
    "print(\"Column data types:\", df.dtypes)\n"
   ]
  },
  {
   "cell_type": "code",
   "execution_count": 30,
   "metadata": {},
   "outputs": [
    {
     "name": "stdout",
     "output_type": "stream",
     "text": [
      "Summary statistics:\n",
      " shape: (9, 16)\n",
      "┌────────────┬────────────┬────────────┬──────────┬───┬────────────┬───────────┬───────────┬───────┐\n",
      "│ describe   ┆ fid        ┆ custodyAdd ┆ username ┆ … ┆ powerBadge ┆ followers ┆ following ┆ casts │\n",
      "│ ---        ┆ ---        ┆ ress       ┆ ---      ┆   ┆ ---        ┆ ---       ┆ ---       ┆ ---   │\n",
      "│ str        ┆ f64        ┆ ---        ┆ str      ┆   ┆ f64        ┆ str       ┆ str       ┆ str   │\n",
      "│            ┆            ┆ str        ┆          ┆   ┆            ┆           ┆           ┆       │\n",
      "╞════════════╪════════════╪════════════╪══════════╪═══╪════════════╪═══════════╪═══════════╪═══════╡\n",
      "│ count      ┆ 1733.0     ┆ 1733       ┆ 1733     ┆ … ┆ 1733.0     ┆ 1733      ┆ 1733      ┆ 1733  │\n",
      "│ null_count ┆ 0.0        ┆ 0          ┆ 0        ┆ … ┆ 0.0        ┆ 32        ┆ 15        ┆ 0     │\n",
      "│ mean       ┆ 264158.899 ┆ null       ┆ null     ┆ … ┆ 0.038084   ┆ null      ┆ null      ┆ null  │\n",
      "│            ┆ 596        ┆            ┆          ┆   ┆            ┆           ┆           ┆       │\n",
      "│ std        ┆ 92624.7840 ┆ null       ┆ null     ┆ … ┆ 0.191455   ┆ null      ┆ null      ┆ null  │\n",
      "│            ┆ 74         ┆            ┆          ┆   ┆            ┆           ┆           ┆       │\n",
      "│ min        ┆ 280.0      ┆ 0x0003d9bd ┆ !194533  ┆ … ┆ 0.0        ┆ null      ┆ null      ┆ null  │\n",
      "│            ┆            ┆ 56f62c103e ┆          ┆   ┆            ┆           ┆           ┆       │\n",
      "│            ┆            ┆ e82a124dc8 ┆          ┆   ┆            ┆           ┆           ┆       │\n",
      "│            ┆            ┆ 4b…        ┆          ┆   ┆            ┆           ┆           ┆       │\n",
      "│ 25%        ┆ 246186.0   ┆ null       ┆ null     ┆ … ┆ null       ┆ null      ┆ null      ┆ null  │\n",
      "│ 50%        ┆ 283396.0   ┆ null       ┆ null     ┆ … ┆ null       ┆ null      ┆ null      ┆ null  │\n",
      "│ 75%        ┆ 322860.0   ┆ null       ┆ null     ┆ … ┆ null       ┆ null      ┆ null      ┆ null  │\n",
      "│ max        ┆ 376600.0   ┆ 0xffe0d91c ┆ zxz      ┆ … ┆ 1.0        ┆ null      ┆ null      ┆ null  │\n",
      "│            ┆            ┆ 2c2edff546 ┆          ┆   ┆            ┆           ┆           ┆       │\n",
      "│            ┆            ┆ d8848aa1ae ┆          ┆   ┆            ┆           ┆           ┆       │\n",
      "│            ┆            ┆ 96…        ┆          ┆   ┆            ┆           ┆           ┆       │\n",
      "└────────────┴────────────┴────────────┴──────────┴───┴────────────┴───────────┴───────────┴───────┘\n"
     ]
    }
   ],
   "source": [
    "\n",
    "# Describe the DataFrame (summary statistics)\n",
    "print(\"Summary statistics:\\n\", df.describe())"
   ]
  },
  {
   "cell_type": "code",
   "execution_count": 31,
   "metadata": {},
   "outputs": [],
   "source": [
    "spammy_accounts_df = pl.read_csv('spammy_accounts_xl.csv')"
   ]
  },
  {
   "cell_type": "code",
   "execution_count": 32,
   "metadata": {},
   "outputs": [
    {
     "name": "stdout",
     "output_type": "stream",
     "text": [
      "shape: (5, 5)\n",
      "┌────────┬────────────────────────────────┬────────────────────┬─────────────┬─────────────────────┐\n",
      "│ fid    ┆ username                       ┆ reactions_received ┆ total_casts ┆ reaction_cast_ratio │\n",
      "│ ---    ┆ ---                            ┆ ---                ┆ ---         ┆ ---                 │\n",
      "│ i64    ┆ str                            ┆ i64                ┆ i64         ┆ f64                 │\n",
      "╞════════╪════════════════════════════════╪════════════════════╪═════════════╪═════════════════════╡\n",
      "│ 405154 ┆ <a                             ┆ 1                  ┆ 7086        ┆ 0.000141            │\n",
      "│        ┆ href=\"https://warpcast.com/ba… ┆                    ┆             ┆                     │\n",
      "│ 479730 ┆ <a                             ┆ 4                  ┆ 1986        ┆ 0.002014            │\n",
      "│        ┆ href=\"https://warpcast.com/mo… ┆                    ┆             ┆                     │\n",
      "│ 512982 ┆ <a                             ┆ 1                  ┆ 402         ┆ 0.002488            │\n",
      "│        ┆ href=\"https://warpcast.com/ha… ┆                    ┆             ┆                     │\n",
      "│ 575414 ┆ <a                             ┆ 1                  ┆ 400         ┆ 0.0025              │\n",
      "│        ┆ href=\"https://warpcast.com/bi… ┆                    ┆             ┆                     │\n",
      "│ 575542 ┆ <a                             ┆ 1                  ┆ 394         ┆ 0.002538            │\n",
      "│        ┆ href=\"https://warpcast.com/bi… ┆                    ┆             ┆                     │\n",
      "└────────┴────────────────────────────────┴────────────────────┴─────────────┴─────────────────────┘\n"
     ]
    }
   ],
   "source": [
    "print(spammy_accounts_df.head())"
   ]
  },
  {
   "cell_type": "code",
   "execution_count": 33,
   "metadata": {},
   "outputs": [],
   "source": [
    "df = df.with_columns(\n",
    "    pl.col(\"fid\").is_in(spammy_accounts_df[\"fid\"]).cast(pl.Int32).alias(\"is_bot\")\n",
    ")"
   ]
  },
  {
   "cell_type": "code",
   "execution_count": 34,
   "metadata": {},
   "outputs": [
    {
     "name": "stdout",
     "output_type": "stream",
     "text": [
      "shape: (5, 16)\n",
      "┌────────┬────────────┬────────────┬────────────┬───┬────────────┬────────────┬───────────┬────────┐\n",
      "│ fid    ┆ custodyAdd ┆ username   ┆ displayNam ┆ … ┆ followers  ┆ following  ┆ casts     ┆ is_bot │\n",
      "│ ---    ┆ ress       ┆ ---        ┆ e          ┆   ┆ ---        ┆ ---        ┆ ---       ┆ ---    │\n",
      "│ i64    ┆ ---        ┆ str        ┆ ---        ┆   ┆ list[str]  ┆ list[str]  ┆ list[str] ┆ i32    │\n",
      "│        ┆ str        ┆            ┆ str        ┆   ┆            ┆            ┆           ┆        │\n",
      "╞════════╪════════════╪════════════╪════════════╪═══╪════════════╪════════════╪═══════════╪════════╡\n",
      "│ 355637 ┆ 0x5834b8b2 ┆ faridazka8 ┆ Farid Azka ┆ … ┆ [\"441944\"] ┆ [\"351755\", ┆ [\"rake    ┆ 0      │\n",
      "│        ┆ 046aed5aa4 ┆ 330        ┆            ┆   ┆            ┆ \"341634\"]  ┆ fund      ┆        │\n",
      "│        ┆ f15087b120 ┆            ┆            ┆   ┆            ┆            ┆ quiet,    ┆        │\n",
      "│        ┆ 64…        ┆            ┆            ┆   ┆            ┆            ┆ gulch     ┆        │\n",
      "│        ┆            ┆            ┆            ┆   ┆            ┆            ┆ wooly o…  ┆        │\n",
      "│ 328517 ┆ 0x3d941f97 ┆ tropzhoeni ┆ Tropz      ┆ … ┆ [\"396825\", ┆ [\"195457\", ┆ [\"Mint 50 ┆ 0      │\n",
      "│        ┆ 55655601fc ┆ x          ┆            ┆   ┆ \"508457\",  ┆ \"22488\", … ┆ A Collect ┆        │\n",
      "│        ┆ b3a323d86e ┆            ┆            ┆   ┆ …          ┆ \"48\"]      ┆ ive       ┆        │\n",
      "│        ┆ d2…        ┆            ┆            ┆   ┆ \"304685\"]  ┆            ┆ Signal    ┆        │\n",
      "│        ┆            ┆            ┆            ┆   ┆            ┆            ┆ wi…       ┆        │\n",
      "│ 8941   ┆ 0x87262f2e ┆ justinzhan ┆ Mad Man    ┆ … ┆ [\"402262\", ┆ [\"4143\",   ┆ [\"Twitter ┆ 0      │\n",
      "│        ┆ df379f8717 ┆ g          ┆ Justin     ┆   ┆ \"400518\",  ┆ \"50\", …    ┆ : \"]      ┆        │\n",
      "│        ┆ 7830446bf1 ┆            ┆            ┆   ┆ …          ┆ \"4434\"]    ┆           ┆        │\n",
      "│        ┆ 95…        ┆            ┆            ┆   ┆ \"219370\"]  ┆            ┆           ┆        │\n",
      "│ 197040 ┆ 0xbaa566ac ┆ cfhgoregri ┆ Spider     ┆ … ┆ [\"301687\", ┆ [\"7620\",   ┆ [\"Just    ┆ 0      │\n",
      "│        ┆ 73b277dd0e ┆ nder       ┆            ┆   ┆ \"471907\",  ┆ \"18910\", … ┆ minted    ┆        │\n",
      "│        ┆ 6efa68f73b ┆            ┆            ┆   ┆ …          ┆ \"1317\"]    ┆ Day 185   ┆        │\n",
      "│        ┆ 51…        ┆            ┆            ┆   ┆ \"473023\"]  ┆            ┆ on        ┆        │\n",
      "│        ┆            ┆            ┆            ┆   ┆            ┆            ┆ BasePai…  ┆        │\n",
      "│ 324712 ┆ 0x252c87d7 ┆ anabut     ┆ Anabut     ┆ … ┆ [\"406740\", ┆ [\"12309\",  ┆ [\"หาเพื่อนฟ ┆ 0      │\n",
      "│        ┆ e7c05042c2 ┆            ┆            ┆   ┆ \"361668\",  ┆ \"313902\",  ┆ อล        ┆        │\n",
      "│        ┆ d85f472a59 ┆            ┆            ┆   ┆ …          ┆ …          ┆ ก่อนนอนครับ ┆        │\n",
      "│        ┆ 9f…        ┆            ┆            ┆   ┆ \"317466\"]  ┆ \"401976\"]  ┆ ใครไม่…    ┆        │\n",
      "└────────┴────────────┴────────────┴────────────┴───┴────────────┴────────────┴───────────┴────────┘\n"
     ]
    }
   ],
   "source": [
    "print(df.head())\n"
   ]
  },
  {
   "cell_type": "code",
   "execution_count": 35,
   "metadata": {},
   "outputs": [
    {
     "data": {
      "text/plain": [
       "22"
      ]
     },
     "execution_count": 35,
     "metadata": {},
     "output_type": "execute_result"
    }
   ],
   "source": [
    "spam_count = df.filter(pl.col(\"is_bot\") == 1).shape[0]\n",
    "spam_count"
   ]
  },
  {
   "cell_type": "code",
   "execution_count": 36,
   "metadata": {},
   "outputs": [
    {
     "data": {
      "text/plain": [
       "1711"
      ]
     },
     "execution_count": 36,
     "metadata": {},
     "output_type": "execute_result"
    }
   ],
   "source": [
    "not_spam_count = df.filter(pl.col(\"is_bot\") == 0).shape[0]\n",
    "not_spam_count"
   ]
  },
  {
   "cell_type": "code",
   "execution_count": 37,
   "metadata": {},
   "outputs": [
    {
     "data": {
      "text/html": [
       "<div><style>\n",
       ".dataframe > thead > tr,\n",
       ".dataframe > tbody > tr {\n",
       "  text-align: right;\n",
       "  white-space: pre-wrap;\n",
       "}\n",
       "</style>\n",
       "<small>shape: (22, 16)</small><table border=\"1\" class=\"dataframe\"><thead><tr><th>fid</th><th>custodyAddress</th><th>username</th><th>displayName</th><th>pfp</th><th>profile</th><th>followerCount</th><th>followingCount</th><th>verifications</th><th>verifiedAddresses</th><th>activeStatus</th><th>powerBadge</th><th>followers</th><th>following</th><th>casts</th><th>is_bot</th></tr><tr><td>i64</td><td>str</td><td>str</td><td>str</td><td>struct[1]</td><td>struct[1]</td><td>i64</td><td>i64</td><td>list[str]</td><td>struct[2]</td><td>str</td><td>bool</td><td>list[str]</td><td>list[str]</td><td>list[str]</td><td>i32</td></tr></thead><tbody><tr><td>297172</td><td>&quot;0x0b3529cac705…</td><td>&quot;chuks&quot;</td><td>&quot;chuks🎩&quot;</td><td>{&quot;https://i.imgur.com/z8EHxzd.jpg&quot;}</td><td>{{&quot;trade and crypto&quot;,[]}}</td><td>128</td><td>221</td><td>[&quot;0x2b70891209cc41aa3bb608c3f9c3d64c2d284269&quot;]</td><td>{[&quot;0x2b70891209cc41aa3bb608c3f9c3d64c2d284269&quot;],[]}</td><td>&quot;inactive&quot;</td><td>false</td><td>[&quot;322783&quot;, &quot;291390&quot;, … &quot;327704&quot;]</td><td>[&quot;2458&quot;, &quot;548&quot;, … &quot;373434&quot;]</td><td>[&quot;I&#x27;m exploring Farcaster with http://far.quest built on \n",
       "@wieldlabs\n",
       ", join me to earn FarPoints!&quot;, &quot;🖕Fuck you&quot;, … &quot;Mint Blue Dot&quot;]</td><td>1</td></tr><tr><td>266095</td><td>&quot;0xe240a2d0d4f1…</td><td>&quot;koiooopo&quot;</td><td>&quot;Viowir&quot;</td><td>{&quot;https://i.imgur.com/1N9gtNN.jpg&quot;}</td><td>{{&quot;Mi meee&quot;,[]}}</td><td>62</td><td>140</td><td>[&quot;0xc8ad1c37df6ede95033fa2866a8bd24dd236ac6b&quot;]</td><td>{[&quot;0xc8ad1c37df6ede95033fa2866a8bd24dd236ac6b&quot;],[]}</td><td>&quot;inactive&quot;</td><td>false</td><td>[&quot;261576&quot;, &quot;264686&quot;, … &quot;258057&quot;]</td><td>[&quot;264686&quot;, &quot;4036&quot;, … &quot;101&quot;]</td><td>[&quot;I&#x27;M A $CASTR&quot;, &quot;0xc8Ad1c37Df6edE95033fA2866A8Bd24Dd236ac6B&quot;, … &quot;Claim my Wulfz404&quot;]</td><td>1</td></tr><tr><td>241869</td><td>&quot;0x83c25f628f35…</td><td>&quot;0xankit&quot;</td><td>&quot;Era&quot;</td><td>{&quot;https://i.imgur.com/tu2o7Ba.jpg&quot;}</td><td>{{&quot;Hey Peps Let&#x27;s Rock&quot;,[]}}</td><td>914</td><td>1164</td><td>[&quot;0x89325ff59e88976a1205eebf29aacd206a7465ed&quot;, &quot;0x83c25f628f35919f5cea7e070e1406f5e8dae9bc&quot;]</td><td>{[&quot;0x89325ff59e88976a1205eebf29aacd206a7465ed&quot;, &quot;0x83c25f628f35919f5cea7e070e1406f5e8dae9bc&quot;],[&quot;8CMAeTUed8NAAXmLy2onSRz1g539T1b4B4mQXW1j48TG&quot;]}</td><td>&quot;inactive&quot;</td><td>false</td><td>[&quot;272291&quot;, &quot;228070&quot;, … &quot;264112&quot;]</td><td>[&quot;250128&quot;, &quot;255254&quot;, … &quot;263234&quot;]</td><td>[&quot;Ser please follow me back 🫡 I&#x27;m your subscriber&quot;, &quot;-&#x27;&#x27;Some details about Pixels Gameplay&quot;, … &quot;https://frames.neynar.com/f/090847b7/73c05002 LIMITED 🔥\n",
       "FOLLOW 🎉\n",
       "LIKE🎉\n",
       "RECAST🎉\n",
       " MINT🚀&quot;]</td><td>1</td></tr><tr><td>236340</td><td>&quot;0x35b8d34a727c…</td><td>&quot;menlu&quot;</td><td>&quot;Menlu🎩 🍖 🌈&quot;</td><td>{&quot;https://i.imgur.com/3fX5ZqB.gif&quot;}</td><td>{{&quot;if you want Follow Back\n",
       "and please #DYOR&quot;,[]}}</td><td>2123</td><td>2500</td><td>[&quot;0x35b8d34a727c83f0cd7ee815575c374e41bfacb5&quot;]</td><td>{[&quot;0x35b8d34a727c83f0cd7ee815575c374e41bfacb5&quot;],[&quot;ETfQczg52srreHbhixL6ehRVroJ7gsK4Lsk7QNPZopuu&quot;]}</td><td>&quot;inactive&quot;</td><td>false</td><td>[&quot;273415&quot;, &quot;277395&quot;, … &quot;236363&quot;]</td><td>[&quot;301328&quot;, &quot;255153&quot;, … &quot;3417&quot;]</td><td>[&quot;GM Everyone&quot;, &quot;A warm Farcaster welcome to !&quot;, … &quot;GM&quot;]</td><td>1</td></tr><tr><td>259024</td><td>&quot;0x48743fe1732c…</td><td>&quot;godgod&quot;</td><td>&quot;Kork Wy🎩🍖  &quot;</td><td>{&quot;https://i.imgur.com/wdm837L.jpg&quot;}</td><td>{{&quot;Good boy. My reputation is built on your trust.&quot;,[]}}</td><td>1161</td><td>2043</td><td>[&quot;0xf4a8839fd5ca3d8d0262566f9f51624b6f1fd591&quot;]</td><td>{[&quot;0xf4a8839fd5ca3d8d0262566f9f51624b6f1fd591&quot;],[]}</td><td>&quot;inactive&quot;</td><td>false</td><td>[&quot;291126&quot;, &quot;236171&quot;, … &quot;361439&quot;]</td><td>[&quot;194092&quot;, &quot;369950&quot;, … &quot;432795&quot;]</td><td>[&quot;https://farcaster.manifold.xyz/frame/37105904&quot;, &quot;tks&quot;, … &quot;Thanks bạn&quot;]</td><td>1</td></tr><tr><td>302147</td><td>&quot;0x3391f681df7b…</td><td>&quot;havegas&quot;</td><td>&quot;havegas&quot;</td><td>{&quot;https://i.imgur.com/rW5sezL.jpg&quot;}</td><td>{{&quot;Azuki man&quot;,[]}}</td><td>6</td><td>72</td><td>[]</td><td>{[],[]}</td><td>&quot;inactive&quot;</td><td>false</td><td>[&quot;287618&quot;, &quot;278478&quot;, … &quot;300740&quot;]</td><td>[&quot;282556&quot;, &quot;99&quot;, … &quot;9816&quot;]</td><td>[&quot;Hello world&quot;]</td><td>1</td></tr><tr><td>297452</td><td>&quot;0x3ff2af1da576…</td><td>&quot;vallo&quot;</td><td>&quot;Vallo&quot;</td><td>{&quot;https://i.imgur.com/rL14Uoi.jpg&quot;}</td><td>{{&quot;Crypto and MMA Chad&quot;,[]}}</td><td>14</td><td>88</td><td>[&quot;0x0488605275cc230a9527e7890676c4fb8bd5d5da&quot;]</td><td>{[&quot;0x0488605275cc230a9527e7890676c4fb8bd5d5da&quot;],[]}</td><td>&quot;inactive&quot;</td><td>false</td><td>[&quot;276308&quot;, &quot;237299&quot;, … &quot;302685&quot;]</td><td>[&quot;1355&quot;, &quot;10420&quot;, … &quot;194&quot;]</td><td>[&quot;How is this app working lmao&quot;, &quot;How I get Degen sir&quot;, … &quot;Now I know how to earn $DEGEN lmao \n",
       "\n",
       "Comment 420 $DEGEN below 👇&quot;]</td><td>1</td></tr><tr><td>305818</td><td>&quot;0x85f6747c6f35…</td><td>&quot;mrcrazy&quot;</td><td>&quot;MrCrazy🎩&quot;</td><td>{&quot;https://imagedelivery.net/BXluQx4ige9GuW0Ia56BHw/8684c80d-ffc9-4372-deb1-e50923d3ba00/rectcrop3&quot;}</td><td>{{&quot;Programming engineer\n",
       "AI developer \n",
       "Drift Lover \n",
       "&quot;,[]}}</td><td>1144</td><td>2500</td><td>[&quot;0x3bc3a96fdd57165c45a93b7218d840a00d945bdd&quot;]</td><td>{[&quot;0x3bc3a96fdd57165c45a93b7218d840a00d945bdd&quot;],[]}</td><td>&quot;inactive&quot;</td><td>false</td><td>[&quot;451860&quot;, &quot;308264&quot;, … &quot;410339&quot;]</td><td>[&quot;330027&quot;, &quot;289317&quot;, … &quot;309161&quot;]</td><td>[&quot;100 $DEGEN&quot;, &quot;100 $DEGEN&quot;, … &quot;100 $Degen&quot;]</td><td>1</td></tr><tr><td>188644</td><td>&quot;0xe71010bb6c8f…</td><td>&quot;lion1987&quot;</td><td>&quot;lion1987&quot;</td><td>{&quot;https://i.seadn.io/s/raw/files/eaf73c252988896a67d9e74e5233fcd7.png?w=500&amp;auto=format&quot;}</td><td>{{&quot;互关必回！！\n",
       "信誉第一！！&quot;,[]}}</td><td>1259</td><td>2445</td><td>[&quot;0x0bd3892d1195dbdc706f1b034c71a0f1600e0aec&quot;]</td><td>{[&quot;0x0bd3892d1195dbdc706f1b034c71a0f1600e0aec&quot;],[]}</td><td>&quot;inactive&quot;</td><td>false</td><td>[&quot;295364&quot;, &quot;300657&quot;, … &quot;293794&quot;]</td><td>[&quot;253127&quot;, &quot;267809&quot;, … &quot;273356&quot;]</td><td>[&quot;gm\n",
       "f4f&quot;, &quot;good luck&quot;, … &quot;nice&quot;]</td><td>1</td></tr><tr><td>276322</td><td>&quot;0x4558700d127c…</td><td>&quot;nftbroo&quot;</td><td>&quot;Josh&quot;</td><td>{&quot;https://i.imgur.com/NXhKV9O.gif&quot;}</td><td>{{&quot;Providing web3 news updates and content on Futureverse&quot;,[]}}</td><td>60</td><td>100</td><td>[&quot;0x5ae0103817f40fbe24778658e73aeb85055f8807&quot;]</td><td>{[&quot;0x5ae0103817f40fbe24778658e73aeb85055f8807&quot;],[]}</td><td>&quot;inactive&quot;</td><td>false</td><td>[&quot;426536&quot;, &quot;249639&quot;, … &quot;499852&quot;]</td><td>[&quot;230147&quot;, &quot;285999&quot;, … &quot;368&quot;]</td><td>[&quot;Just posted my web3 weekly wrap up over on X!  \n",
       "https://x.com/nftbroo/status/1754457241061843279&quot;, &quot;If you missed the 30 mins max yesterday in the Futureverse Discord check out my notes here https://www.coriander.news/notes/30-mins-max-20240209&quot;, &quot;Love it AB 🔥🐰✌🏼&quot;]</td><td>1</td></tr><tr><td>344368</td><td>&quot;0xad510a347e9a…</td><td>&quot;kojic.eth&quot;</td><td>&quot;Mobius🎩✴️&quot;</td><td>{&quot;https://i.imgur.com/Ws9fFOW.jpg&quot;}</td><td>{{&quot;For all time, Always&quot;,[]}}</td><td>1054</td><td>1786</td><td>[&quot;0xd54ecdbaaf57229a1b797bcc0ab1574c9787da28&quot;]</td><td>{[&quot;0xd54ecdbaaf57229a1b797bcc0ab1574c9787da28&quot;],[&quot;AH8hStchX3QWXZmit7zM6NYyaSK1bbrA9JzjANMvtkbQ&quot;]}</td><td>&quot;inactive&quot;</td><td>false</td><td>[&quot;280715&quot;, &quot;392473&quot;, … &quot;490758&quot;]</td><td>[&quot;335688&quot;, &quot;4877&quot;, … &quot;2433&quot;]</td><td>[&quot;0xd54EcdbAAF57229a1b797bcC0ab1574C9787da28&quot;, &quot;The toilet plunger seems plausible&quot;, … &quot;Hahaha but rest assured i got my points there racking up&quot;]</td><td>1</td></tr><tr><td>318525</td><td>&quot;0xe4991be6fc21…</td><td>&quot;chonacas&quot;</td><td>&quot;Katie Chonacas…</td><td>{&quot;https://i.imgur.com/FUNX0zY.jpg&quot;}</td><td>{{&quot;Greek Multidisciplinary Artist \n",
       "\n",
       "Music streaming under SAINT KYRIAKI\n",
       "\n",
       "Podcaster “Shes All Over the Place” \n",
       "\n",
       "On-screen actor and VO talent&quot;,[]}}</td><td>35</td><td>129</td><td>[&quot;0x2759583d1a8ed59f695ac74020a7170f6c672087&quot;]</td><td>{[&quot;0x2759583d1a8ed59f695ac74020a7170f6c672087&quot;],[]}</td><td>&quot;inactive&quot;</td><td>false</td><td>[&quot;350213&quot;, &quot;481461&quot;, … &quot;288425&quot;]</td><td>[&quot;9816&quot;, &quot;11188&quot;, … &quot;3455&quot;]</td><td>[&quot;Happy Lunar New Year!  Year of the Dragon 🐉 \n",
       "I believe exciting things will be coming, please have a prosperous year ahead.&quot;, &quot;yayy MINTED :) :)&quot;, … &quot;Happy V day. I released a spoken word album tune in. Lmk what you think 🤍\n",
       "\n",
       "https://open.spotify.com/album/6OvgszEjdEFzPgQv9Xseuo?si=Is2uPQDoTKCQf0RBDD8-9Q&quot;]</td><td>1</td></tr><tr><td>261787</td><td>&quot;0xcc7c75e327a5…</td><td>&quot;olustra&quot;</td><td>&quot;🐲🥷🏼Altur👁️🚪&quot;</td><td>{&quot;https://imagedelivery.net/BXluQx4ige9GuW0Ia56BHw/1e7416e5-9620-4839-2395-5c262b5d7200/original&quot;}</td><td>{{&quot;Music production, skate, /onchain pilled, disc golf, bidding blue cat, 🐲, 🥷🏼 in training etc. \n",
       "\n",
       "/warpbient\n",
       "\n",
       "||| The 👁️ is the 🚪 to the SOUL&quot;,[]}}</td><td>205</td><td>409</td><td>[&quot;0xb44b476a7f6a83b5e0559433b0d3ad374a0c1682&quot;]</td><td>{[&quot;0xb44b476a7f6a83b5e0559433b0d3ad374a0c1682&quot;],[]}</td><td>&quot;inactive&quot;</td><td>false</td><td>[&quot;260822&quot;, &quot;452951&quot;, … &quot;448116&quot;]</td><td>[&quot;263439&quot;, &quot;290663&quot;, … &quot;283553&quot;]</td><td>[&quot;Good list. I would add\n",
       "6. Meow all day, meow all night&quot;, &quot;Testing&quot;, … &quot;Got it. Looks awesome!&quot;]</td><td>1</td></tr><tr><td>263895</td><td>&quot;0xb4414d457959…</td><td>&quot;dpraz12&quot;</td><td>&quot;Grid_Caster&quot;</td><td>{&quot;https://ipfs.decentralized-content.com/ipfs/QmeEamxRscNqacFQQGtoSSYnPYUAwT6Eeot5eXdJM1W18w&quot;}</td><td>{{&quot;Go Learn and Earn\n",
       "\n",
       "Twitter :\n",
       "https://x.com/dpraz12?t=PDOvlhTFZ4enBfCmlQY55w&amp;s=08&quot;,[]}}</td><td>197</td><td>519</td><td>[&quot;0xe96511cdc3cf11fb0558add7fe12106d0b867e56&quot;]</td><td>{[&quot;0xe96511cdc3cf11fb0558add7fe12106d0b867e56&quot;],[&quot;DhyVApP18HczPB42cyVFD7jJqFAizhEZh3oxRxbs2RmD&quot;]}</td><td>&quot;inactive&quot;</td><td>false</td><td>[&quot;344603&quot;, &quot;243825&quot;, … &quot;426685&quot;]</td><td>[&quot;6546&quot;, &quot;402236&quot;, … &quot;302008&quot;]</td><td>[&quot;flbck bang&quot;, &quot;LFG&quot;, … &quot;🍖🍖🍖🍖&quot;]</td><td>1</td></tr><tr><td>263880</td><td>&quot;0xb80573c74a27…</td><td>&quot;flong&quot;</td><td>&quot;Flong&quot;</td><td>{&quot;https://i.imgur.com/7Un72JU.jpg&quot;}</td><td>{{&quot;Techie exploring this curious melting pot that we all call ‘World’&quot;,[]}}</td><td>75</td><td>153</td><td>[&quot;0x4f234ae48179a51e02b0566e885fcc8a1487db02&quot;]</td><td>{[&quot;0x4f234ae48179a51e02b0566e885fcc8a1487db02&quot;],[]}</td><td>&quot;inactive&quot;</td><td>false</td><td>[&quot;238482&quot;, &quot;281836&quot;, … &quot;271361&quot;]</td><td>[&quot;275442&quot;, &quot;359&quot;, … &quot;11188&quot;]</td><td>[&quot;Teach me because I still can tell what is spam and what isn’t&quot;]</td><td>1</td></tr><tr><td>414</td><td>&quot;0x0e3c1ed49b95…</td><td>&quot;jkob&quot;</td><td>&quot;jkob&quot;</td><td>{&quot;https://pbs.twimg.com/profile_images/1418990887502221312/unOsc2am_400x400.jpg&quot;}</td><td>{{&quot;Mostly just hangin out&quot;,[]}}</td><td>166</td><td>177</td><td>[&quot;0xe28204e6c80d8ccba86e93faa02bb9a0c348037f&quot;]</td><td>{[&quot;0xe28204e6c80d8ccba86e93faa02bb9a0c348037f&quot;],[]}</td><td>&quot;inactive&quot;</td><td>true</td><td>[&quot;4661&quot;, &quot;19249&quot;, … &quot;289133&quot;]</td><td>[&quot;2&quot;, &quot;37&quot;, … &quot;7348&quot;]</td><td>[&quot;Will be asleep when this game happens\n",
       "https://ikb.gg/share/slips/1356678e-92d4-441a-aecc-bb4821fbf3bd&quot;, &quot;Wow. Found this on twitter. (bc I wrote it)&quot;, … &quot;Can you spot the misspelling in this word:\n",
       "\n",
       " restauranteur&quot;]</td><td>1</td></tr><tr><td>359567</td><td>&quot;0xa40b1baf26b0…</td><td>&quot;dabi&quot;</td><td>&quot;Dabi Dani&quot;</td><td>{&quot;https://i.imgur.com/92umCbx.jpg&quot;}</td><td>{{&quot;&quot;,[]}}</td><td>38</td><td>151</td><td>[&quot;0xf64fdfa0126a565df52aee7cd28aae430ca03752&quot;]</td><td>{[&quot;0xf64fdfa0126a565df52aee7cd28aae430ca03752&quot;],[&quot;5osnp1FYKfo59QcERd8xnfk7EKpUcgzB2UU9G9RRs3K7&quot;]}</td><td>&quot;inactive&quot;</td><td>false</td><td>[&quot;306277&quot;, &quot;301734&quot;, … &quot;257612&quot;]</td><td>[&quot;328231&quot;, &quot;359662&quot;, … &quot;9856&quot;]</td><td>[&quot;0xf64FDfA0126a565Df52aee7cd28aaE430cA03752&quot;, &quot;Gonna be epic\n",
       "https://frames.defenestronics.com/cgi-bin/ownthedoge&quot;, … &quot;!attack north&quot;]</td><td>1</td></tr><tr><td>12478</td><td>&quot;0xd85651e69dd8…</td><td>&quot;joselcaminante…</td><td>&quot;Jose &quot;</td><td>{&quot;https://i.imgur.com/rpN9LjP.jpg&quot;}</td><td>{{&quot;Venezolano, Un tipo normal, tratando de aportar para hacer este mundo un poco mejor.&quot;,[]}}</td><td>171</td><td>190</td><td>[&quot;0x61fd8b52b33a31431ab2e38b749778468d973ce2&quot;]</td><td>{[&quot;0x61fd8b52b33a31431ab2e38b749778468d973ce2&quot;],[]}</td><td>&quot;inactive&quot;</td><td>false</td><td>[&quot;414644&quot;, &quot;445903&quot;, … &quot;316381&quot;]</td><td>[&quot;6631&quot;, &quot;196238&quot;, … &quot;762&quot;]</td><td>[&quot;👍&quot;, &quot;Seré breve $YUP @yup &quot;, … &quot;Que moneda es esa ilumíname el camino &quot;]</td><td>1</td></tr><tr><td>279612</td><td>&quot;0x05ec3c98fd0e…</td><td>&quot;lliwenivid&quot;</td><td>&quot;Lliwenivid&quot;</td><td>{&quot;https://i.imgur.com/RO3lijG.jpg&quot;}</td><td>{{&quot;I am just in love with me and cryptography \n",
       "I can be your artist and your muse too\n",
       "Take a pick!&quot;,[]}}</td><td>102</td><td>304</td><td>[&quot;0x2ae63fe0e82c30383198d2d28d94cd1cfb7ce174&quot;]</td><td>{[&quot;0x2ae63fe0e82c30383198d2d28d94cd1cfb7ce174&quot;],[&quot;CJpUCWULYCUifwQS56dGoJtUfaMGaYWkAdoFc6hJQ1wN&quot;]}</td><td>&quot;inactive&quot;</td><td>false</td><td>[&quot;230869&quot;, &quot;289538&quot;, … &quot;395542&quot;]</td><td>[&quot;7960&quot;, &quot;18570&quot;, … &quot;99&quot;]</td><td>[&quot;https://farcaster.manifold.xyz/frame/39145712&quot;, &quot;Gm&quot;, … &quot;888 $DEGEN&quot;]</td><td>1</td></tr><tr><td>286829</td><td>&quot;0xa765162f41ae…</td><td>&quot;mahin109&quot;</td><td>&quot;Mahin🎩🔵&quot;</td><td>{&quot;https://imagedelivery.net/BXluQx4ige9GuW0Ia56BHw/e2ee69da-40ed-417e-4a48-aa7de6516300/rectcrop3&quot;}</td><td>{{&quot;🤜🤛&quot;,[]}}</td><td>421</td><td>709</td><td>[&quot;0x8f540b092449d6a7e23645f011ec19a368d37392&quot;]</td><td>{[&quot;0x8f540b092449d6a7e23645f011ec19a368d37392&quot;],[]}</td><td>&quot;inactive&quot;</td><td>false</td><td>[&quot;298314&quot;, &quot;291007&quot;, … &quot;274470&quot;]</td><td>[&quot;6946&quot;, &quot;1230&quot;, … &quot;250970&quot;]</td><td>[&quot;https://farcaster.manifold.xyz/frame/39805168&quot;, &quot;https://farcaster.manifold.xyz/frame/39311600 \n",
       "Folloe \n",
       "Mint&quot;, … &quot;100 $DEGEN&quot;]</td><td>1</td></tr><tr><td>370181</td><td>&quot;0xdb805af8ac3f…</td><td>&quot;hatrang&quot;</td><td>&quot;HaTrang&quot;</td><td>{&quot;https://imagedelivery.net/BXluQx4ige9GuW0Ia56BHw/3de2ebd4-61f6-4ac4-7707-a70858662600/rectcrop3&quot;}</td><td>{{&quot;Baby Idol&quot;,[]}}</td><td>97</td><td>245</td><td>[&quot;0xd1b19d893162df266ab76df09e7f3e3e7eed7e56&quot;]</td><td>{[&quot;0xd1b19d893162df266ab76df09e7f3e3e7eed7e56&quot;],[]}</td><td>&quot;inactive&quot;</td><td>false</td><td>[&quot;280258&quot;, &quot;371577&quot;, … &quot;456576&quot;]</td><td>[&quot;2007&quot;, &quot;267915&quot;, … &quot;2&quot;]</td><td>[&quot;333 $DEGEN&quot;, &quot;10000 $Degen for you&quot;, … &quot;[Link] Yesterday deposit arround 3mil and now over 4.7mil\n",
       "Joint early access now and get your reward \n",
       "https://dflow.net/en/reward\n",
       "using Code to get more point XP:  UG4ICT   MVUR5P  1SX9WL  ECVT1M   O0MFFA  BNAP80  WJNVGG   DVUWUD&quot;]</td><td>1</td></tr><tr><td>353660</td><td>&quot;0x5870767f6ec4…</td><td>&quot;jawdat&quot;</td><td>&quot;Jawdat.eth 🎩 ✪…</td><td>{&quot;https://imagedelivery.net/BXluQx4ige9GuW0Ia56BHw/3f7d5882-1eae-4484-8f93-e744b9efb100/original&quot;}</td><td>{{&quot;|🇧🇩|   I LOVE WARPCAST, I LOVE DEGEN. |🇧🇩|&quot;,[]}}</td><td>1658</td><td>1150</td><td>[&quot;0x2618743743bc088072b6ecff8497eaf6a0bd7cca&quot;]</td><td>{[&quot;0x2618743743bc088072b6ecff8497eaf6a0bd7cca&quot;],[&quot;H8A2xfbq7cZNdY6T26TNtQ16pSWiUBeDnAg1Jnw45KCq&quot;]}</td><td>&quot;inactive&quot;</td><td>false</td><td>[&quot;268542&quot;, &quot;367944&quot;, … &quot;378482&quot;]</td><td>[&quot;14695&quot;, &quot;369170&quot;, … &quot;500441&quot;]</td><td>[&quot;Free $AWOO&quot;, &quot;Can You Comment just one time in my any post , Please .&quot;, … &quot;Claim Now \n",
       "https://frames.neynar.com/f/7cfe953b/39d348c1&quot;]</td><td>1</td></tr></tbody></table></div>"
      ],
      "text/plain": [
       "shape: (22, 16)\n",
       "┌────────┬────────────┬────────────┬────────────┬───┬────────────┬────────────┬───────────┬────────┐\n",
       "│ fid    ┆ custodyAdd ┆ username   ┆ displayNam ┆ … ┆ followers  ┆ following  ┆ casts     ┆ is_bot │\n",
       "│ ---    ┆ ress       ┆ ---        ┆ e          ┆   ┆ ---        ┆ ---        ┆ ---       ┆ ---    │\n",
       "│ i64    ┆ ---        ┆ str        ┆ ---        ┆   ┆ list[str]  ┆ list[str]  ┆ list[str] ┆ i32    │\n",
       "│        ┆ str        ┆            ┆ str        ┆   ┆            ┆            ┆           ┆        │\n",
       "╞════════╪════════════╪════════════╪════════════╪═══╪════════════╪════════════╪═══════════╪════════╡\n",
       "│ 297172 ┆ 0x0b3529ca ┆ chuks      ┆ chuks🎩    ┆ … ┆ [\"322783\", ┆ [\"2458\",   ┆ [\"I'm     ┆ 1      │\n",
       "│        ┆ c705815473 ┆            ┆            ┆   ┆ \"291390\",  ┆ \"548\", …   ┆ exploring ┆        │\n",
       "│        ┆ 682a39a880 ┆            ┆            ┆   ┆ …          ┆ \"373434\"]  ┆ Farcaster ┆        │\n",
       "│        ┆ 77…        ┆            ┆            ┆   ┆ \"327704\"]  ┆            ┆ with h…   ┆        │\n",
       "│ 266095 ┆ 0xe240a2d0 ┆ koiooopo   ┆ Viowir     ┆ … ┆ [\"261576\", ┆ [\"264686\", ┆ [\"I'M A   ┆ 1      │\n",
       "│        ┆ d4f1c2be49 ┆            ┆            ┆   ┆ \"264686\",  ┆ \"4036\", …  ┆ $CASTR\",  ┆        │\n",
       "│        ┆ 06270f95ea ┆            ┆            ┆   ┆ …          ┆ \"101\"]     ┆ \"0xc8Ad1c ┆        │\n",
       "│        ┆ e7…        ┆            ┆            ┆   ┆ \"258057\"]  ┆            ┆ 37Df6e…   ┆        │\n",
       "│ 241869 ┆ 0x83c25f62 ┆ 0xankit    ┆ Era        ┆ … ┆ [\"272291\", ┆ [\"250128\", ┆ [\"Ser     ┆ 1      │\n",
       "│        ┆ 8f35919f5c ┆            ┆            ┆   ┆ \"228070\",  ┆ \"255254\",  ┆ please    ┆        │\n",
       "│        ┆ ea7e070e14 ┆            ┆            ┆   ┆ …          ┆ …          ┆ follow me ┆        │\n",
       "│        ┆ 06…        ┆            ┆            ┆   ┆ \"264112\"]  ┆ \"263234\"]  ┆ back 🫡   ┆        │\n",
       "│        ┆            ┆            ┆            ┆   ┆            ┆            ┆ I'…       ┆        │\n",
       "│ 236340 ┆ 0x35b8d34a ┆ menlu      ┆ Menlu🎩 🍖 ┆ … ┆ [\"273415\", ┆ [\"301328\", ┆ [\"GM Ever ┆ 1      │\n",
       "│        ┆ 727c83f0cd ┆            ┆ 🌈         ┆   ┆ \"277395\",  ┆ \"255153\",  ┆ yone\", \"A ┆        │\n",
       "│        ┆ 7ee815575c ┆            ┆            ┆   ┆ …          ┆ … \"3417\"]  ┆ warm      ┆        │\n",
       "│        ┆ 37…        ┆            ┆            ┆   ┆ \"236363\"]  ┆            ┆ Farcaste… ┆        │\n",
       "│ …      ┆ …          ┆ …          ┆ …          ┆ … ┆ …          ┆ …          ┆ …         ┆ …      │\n",
       "│ 279612 ┆ 0x05ec3c98 ┆ lliwenivid ┆ Lliwenivid ┆ … ┆ [\"230869\", ┆ [\"7960\",   ┆ [\"https:/ ┆ 1      │\n",
       "│        ┆ fd0e3aa9bc ┆            ┆            ┆   ┆ \"289538\",  ┆ \"18570\", … ┆ /farcaste ┆        │\n",
       "│        ┆ 8837ccd0dc ┆            ┆            ┆   ┆ …          ┆ \"99\"]      ┆ r.manifol ┆        │\n",
       "│        ┆ 05…        ┆            ┆            ┆   ┆ \"395542\"]  ┆            ┆ d.xyz…    ┆        │\n",
       "│ 286829 ┆ 0xa765162f ┆ mahin109   ┆ Mahin🎩🔵  ┆ … ┆ [\"298314\", ┆ [\"6946\",   ┆ [\"https:/ ┆ 1      │\n",
       "│        ┆ 41ae58283d ┆            ┆            ┆   ┆ \"291007\",  ┆ \"1230\", …  ┆ /farcaste ┆        │\n",
       "│        ┆ 6e0b58e32f ┆            ┆            ┆   ┆ …          ┆ \"250970\"]  ┆ r.manifol ┆        │\n",
       "│        ┆ a0…        ┆            ┆            ┆   ┆ \"274470\"]  ┆            ┆ d.xyz…    ┆        │\n",
       "│ 370181 ┆ 0xdb805af8 ┆ hatrang    ┆ HaTrang    ┆ … ┆ [\"280258\", ┆ [\"2007\",   ┆ [\"333     ┆ 1      │\n",
       "│        ┆ ac3f2f4f88 ┆            ┆            ┆   ┆ \"371577\",  ┆ \"267915\",  ┆ $DEGEN\",  ┆        │\n",
       "│        ┆ 3d384c0ba6 ┆            ┆            ┆   ┆ …          ┆ … \"2\"]     ┆ \"10000    ┆        │\n",
       "│        ┆ 21…        ┆            ┆            ┆   ┆ \"456576\"]  ┆            ┆ $Degen    ┆        │\n",
       "│        ┆            ┆            ┆            ┆   ┆            ┆            ┆ for…      ┆        │\n",
       "│ 353660 ┆ 0x5870767f ┆ jawdat     ┆ Jawdat.eth ┆ … ┆ [\"268542\", ┆ [\"14695\",  ┆ [\"Free    ┆ 1      │\n",
       "│        ┆ 6ec4491caf ┆            ┆ 🎩 ✪       ┆   ┆ \"367944\",  ┆ \"369170\",  ┆ $AWOO\",   ┆        │\n",
       "│        ┆ 977cd2f561 ┆            ┆            ┆   ┆ …          ┆ …          ┆ \"Can You  ┆        │\n",
       "│        ┆ 8a…        ┆            ┆            ┆   ┆ \"378482\"]  ┆ \"500441\"]  ┆ Comment … ┆        │\n",
       "└────────┴────────────┴────────────┴────────────┴───┴────────────┴────────────┴───────────┴────────┘"
      ]
     },
     "execution_count": 37,
     "metadata": {},
     "output_type": "execute_result"
    }
   ],
   "source": [
    "spam_rows = df.filter(pl.col(\"is_bot\") == 1)\n",
    "spam_rows"
   ]
  },
  {
   "cell_type": "code",
   "execution_count": 38,
   "metadata": {},
   "outputs": [
    {
     "ename": "ColumnNotFoundError",
     "evalue": "unable to find column \"is_spam\"; valid columns: [\"fid\", \"custodyAddress\", \"username\", \"displayName\", \"pfp\", \"profile\", \"followerCount\", \"followingCount\", \"verifications\", \"verifiedAddresses\", \"activeStatus\", \"powerBadge\", \"followers\", \"following\", \"casts\", \"is_bot\"]\n\nError originated just after this operation:\nDF [\"fid\", \"custodyAddress\", \"username\", \"displayName\"]; PROJECT */16 COLUMNS; SELECTION: \"None\"",
     "output_type": "error",
     "traceback": [
      "\u001b[0;31m---------------------------------------------------------------------------\u001b[0m",
      "\u001b[0;31mColumnNotFoundError\u001b[0m                       Traceback (most recent call last)",
      "Cell \u001b[0;32mIn[38], line 1\u001b[0m\n\u001b[0;32m----> 1\u001b[0m spam_count \u001b[38;5;241m=\u001b[39m \u001b[43mdf\u001b[49m\u001b[38;5;241;43m.\u001b[39;49m\u001b[43mfilter\u001b[49m\u001b[43m(\u001b[49m\u001b[43mpl\u001b[49m\u001b[38;5;241;43m.\u001b[39;49m\u001b[43mcol\u001b[49m\u001b[43m(\u001b[49m\u001b[38;5;124;43m\"\u001b[39;49m\u001b[38;5;124;43mis_spam\u001b[39;49m\u001b[38;5;124;43m\"\u001b[39;49m\u001b[43m)\u001b[49m\u001b[43m \u001b[49m\u001b[38;5;241;43m==\u001b[39;49m\u001b[43m \u001b[49m\u001b[38;5;241;43m1\u001b[39;49m\u001b[43m)\u001b[49m\u001b[38;5;241m.\u001b[39mshape[\u001b[38;5;241m0\u001b[39m]\n\u001b[1;32m      2\u001b[0m spam_count\n",
      "File \u001b[0;32m~/Developer/giza-farcater-bot/.venv/lib/python3.11/site-packages/polars/dataframe/frame.py:4092\u001b[0m, in \u001b[0;36mDataFrame.filter\u001b[0;34m(self, *predicates, **constraints)\u001b[0m\n\u001b[1;32m   3995\u001b[0m \u001b[38;5;28;01mdef\u001b[39;00m \u001b[38;5;21mfilter\u001b[39m(\n\u001b[1;32m   3996\u001b[0m     \u001b[38;5;28mself\u001b[39m,\n\u001b[1;32m   3997\u001b[0m     \u001b[38;5;241m*\u001b[39mpredicates: (\n\u001b[0;32m   (...)\u001b[0m\n\u001b[1;32m   4004\u001b[0m     \u001b[38;5;241m*\u001b[39m\u001b[38;5;241m*\u001b[39mconstraints: Any,\n\u001b[1;32m   4005\u001b[0m ) \u001b[38;5;241m-\u001b[39m\u001b[38;5;241m>\u001b[39m DataFrame:\n\u001b[1;32m   4006\u001b[0m \u001b[38;5;250m    \u001b[39m\u001b[38;5;124;03m\"\"\"\u001b[39;00m\n\u001b[1;32m   4007\u001b[0m \u001b[38;5;124;03m    Filter the rows in the DataFrame based on a predicate expression.\u001b[39;00m\n\u001b[1;32m   4008\u001b[0m \n\u001b[0;32m   (...)\u001b[0m\n\u001b[1;32m   4090\u001b[0m \n\u001b[1;32m   4091\u001b[0m \u001b[38;5;124;03m    \"\"\"\u001b[39;00m\n\u001b[0;32m-> 4092\u001b[0m     \u001b[38;5;28;01mreturn\u001b[39;00m \u001b[38;5;28;43mself\u001b[39;49m\u001b[38;5;241;43m.\u001b[39;49m\u001b[43mlazy\u001b[49m\u001b[43m(\u001b[49m\u001b[43m)\u001b[49m\u001b[38;5;241;43m.\u001b[39;49m\u001b[43mfilter\u001b[49m\u001b[43m(\u001b[49m\u001b[38;5;241;43m*\u001b[39;49m\u001b[43mpredicates\u001b[49m\u001b[43m,\u001b[49m\u001b[43m \u001b[49m\u001b[38;5;241;43m*\u001b[39;49m\u001b[38;5;241;43m*\u001b[39;49m\u001b[43mconstraints\u001b[49m\u001b[43m)\u001b[49m\u001b[38;5;241;43m.\u001b[39;49m\u001b[43mcollect\u001b[49m\u001b[43m(\u001b[49m\u001b[43m_eager\u001b[49m\u001b[38;5;241;43m=\u001b[39;49m\u001b[38;5;28;43;01mTrue\u001b[39;49;00m\u001b[43m)\u001b[49m\n",
      "File \u001b[0;32m~/Developer/giza-farcater-bot/.venv/lib/python3.11/site-packages/polars/utils/deprecation.py:100\u001b[0m, in \u001b[0;36mdeprecate_renamed_parameter.<locals>.decorate.<locals>.wrapper\u001b[0;34m(*args, **kwargs)\u001b[0m\n\u001b[1;32m     95\u001b[0m \u001b[38;5;129m@wraps\u001b[39m(function)\n\u001b[1;32m     96\u001b[0m \u001b[38;5;28;01mdef\u001b[39;00m \u001b[38;5;21mwrapper\u001b[39m(\u001b[38;5;241m*\u001b[39margs: P\u001b[38;5;241m.\u001b[39margs, \u001b[38;5;241m*\u001b[39m\u001b[38;5;241m*\u001b[39mkwargs: P\u001b[38;5;241m.\u001b[39mkwargs) \u001b[38;5;241m-\u001b[39m\u001b[38;5;241m>\u001b[39m T:\n\u001b[1;32m     97\u001b[0m     _rename_keyword_argument(\n\u001b[1;32m     98\u001b[0m         old_name, new_name, kwargs, function\u001b[38;5;241m.\u001b[39m\u001b[38;5;18m__name__\u001b[39m, version\n\u001b[1;32m     99\u001b[0m     )\n\u001b[0;32m--> 100\u001b[0m     \u001b[38;5;28;01mreturn\u001b[39;00m \u001b[43mfunction\u001b[49m\u001b[43m(\u001b[49m\u001b[38;5;241;43m*\u001b[39;49m\u001b[43margs\u001b[49m\u001b[43m,\u001b[49m\u001b[43m \u001b[49m\u001b[38;5;241;43m*\u001b[39;49m\u001b[38;5;241;43m*\u001b[39;49m\u001b[43mkwargs\u001b[49m\u001b[43m)\u001b[49m\n",
      "File \u001b[0;32m~/Developer/giza-farcater-bot/.venv/lib/python3.11/site-packages/polars/lazyframe/frame.py:1788\u001b[0m, in \u001b[0;36mLazyFrame.collect\u001b[0;34m(self, type_coercion, predicate_pushdown, projection_pushdown, simplify_expression, slice_pushdown, comm_subplan_elim, comm_subexpr_elim, no_optimization, streaming, _eager)\u001b[0m\n\u001b[1;32m   1775\u001b[0m     comm_subplan_elim \u001b[38;5;241m=\u001b[39m \u001b[38;5;28;01mFalse\u001b[39;00m\n\u001b[1;32m   1777\u001b[0m ldf \u001b[38;5;241m=\u001b[39m \u001b[38;5;28mself\u001b[39m\u001b[38;5;241m.\u001b[39m_ldf\u001b[38;5;241m.\u001b[39moptimization_toggle(\n\u001b[1;32m   1778\u001b[0m     type_coercion,\n\u001b[1;32m   1779\u001b[0m     predicate_pushdown,\n\u001b[0;32m   (...)\u001b[0m\n\u001b[1;32m   1786\u001b[0m     _eager,\n\u001b[1;32m   1787\u001b[0m )\n\u001b[0;32m-> 1788\u001b[0m \u001b[38;5;28;01mreturn\u001b[39;00m wrap_df(ldf\u001b[38;5;241m.\u001b[39mcollect())\n",
      "\u001b[0;31mColumnNotFoundError\u001b[0m: unable to find column \"is_spam\"; valid columns: [\"fid\", \"custodyAddress\", \"username\", \"displayName\", \"pfp\", \"profile\", \"followerCount\", \"followingCount\", \"verifications\", \"verifiedAddresses\", \"activeStatus\", \"powerBadge\", \"followers\", \"following\", \"casts\", \"is_bot\"]\n\nError originated just after this operation:\nDF [\"fid\", \"custodyAddress\", \"username\", \"displayName\"]; PROJECT */16 COLUMNS; SELECTION: \"None\""
     ]
    }
   ],
   "source": [
    "spam_count = df.filter(pl.col(\"is_spam\") == 1).shape[0]\n",
    "spam_count"
   ]
  },
  {
   "cell_type": "code",
   "execution_count": 39,
   "metadata": {},
   "outputs": [],
   "source": [
    "import re"
   ]
  },
  {
   "cell_type": "code",
   "execution_count": 40,
   "metadata": {},
   "outputs": [],
   "source": [
    "def contains_follow_back(casts):\n",
    "    if casts is None:\n",
    "        return False\n",
    "    pattern = re.compile(r'follow back', re.IGNORECASE)\n",
    "    return any(cast and pattern.search(cast) for cast in casts)"
   ]
  },
  {
   "cell_type": "code",
   "execution_count": 41,
   "metadata": {},
   "outputs": [
    {
     "name": "stderr",
     "output_type": "stream",
     "text": [
      "/var/folders/1f/_grxf3150cz3pw8bxtjqyprc0000gn/T/ipykernel_5953/4263721191.py:1: DeprecationWarning: `apply` is deprecated. It has been renamed to `map_elements`.\n",
      "  count_follow_back_profile = df.filter(pl.col(\"profile\").apply(contains_follow_back)).height\n"
     ]
    },
    {
     "data": {
      "text/plain": [
       "0"
      ]
     },
     "execution_count": 41,
     "metadata": {},
     "output_type": "execute_result"
    }
   ],
   "source": [
    "count_follow_back_profile = df.filter(pl.col(\"profile\").apply(contains_follow_back)).height\n",
    "count_follow_back_profile"
   ]
  },
  {
   "cell_type": "code",
   "execution_count": 42,
   "metadata": {},
   "outputs": [
    {
     "name": "stderr",
     "output_type": "stream",
     "text": [
      "/var/folders/1f/_grxf3150cz3pw8bxtjqyprc0000gn/T/ipykernel_5953/2584542436.py:1: DeprecationWarning: `apply` is deprecated. It has been renamed to `map_elements`.\n",
      "  count_follow_back = df.filter(pl.col(\"casts\").apply(contains_follow_back)).height\n"
     ]
    },
    {
     "data": {
      "text/plain": [
       "65"
      ]
     },
     "execution_count": 42,
     "metadata": {},
     "output_type": "execute_result"
    }
   ],
   "source": [
    "count_follow_back = df.filter(pl.col(\"casts\").apply(contains_follow_back)).height\n",
    "count_follow_back"
   ]
  },
  {
   "cell_type": "code",
   "execution_count": 43,
   "metadata": {},
   "outputs": [
    {
     "name": "stderr",
     "output_type": "stream",
     "text": [
      "/var/folders/1f/_grxf3150cz3pw8bxtjqyprc0000gn/T/ipykernel_5953/2584542436.py:1: DeprecationWarning: `apply` is deprecated. It has been renamed to `map_elements`.\n",
      "  count_follow_back = df.filter(pl.col(\"casts\").apply(contains_follow_back)).height\n"
     ]
    },
    {
     "data": {
      "text/plain": [
       "65"
      ]
     },
     "execution_count": 43,
     "metadata": {},
     "output_type": "execute_result"
    }
   ],
   "source": [
    "count_follow_back = df.filter(pl.col(\"casts\").apply(contains_follow_back)).height\n",
    "count_follow_back"
   ]
  },
  {
   "cell_type": "code",
   "execution_count": 44,
   "metadata": {},
   "outputs": [
    {
     "name": "stderr",
     "output_type": "stream",
     "text": [
      "/var/folders/1f/_grxf3150cz3pw8bxtjqyprc0000gn/T/ipykernel_5953/2730927236.py:2: DeprecationWarning: `apply` is deprecated. It has been renamed to `map_elements`.\n",
      "  pl.col(\"casts\").apply(lambda casts: 1 if contains_follow_back(casts) else 0).alias(\"is_bot\")\n"
     ]
    }
   ],
   "source": [
    "df = df.with_columns([\n",
    "    pl.col(\"casts\").apply(lambda casts: 1 if contains_follow_back(casts) else 0).alias(\"is_bot\")\n",
    "])"
   ]
  },
  {
   "cell_type": "code",
   "execution_count": 45,
   "metadata": {},
   "outputs": [
    {
     "data": {
      "text/plain": [
       "65"
      ]
     },
     "execution_count": 45,
     "metadata": {},
     "output_type": "execute_result"
    }
   ],
   "source": [
    "spam_count = df.filter(pl.col(\"is_bot\") == 1).shape[0]\n",
    "spam_count"
   ]
  },
  {
   "cell_type": "code",
   "execution_count": 46,
   "metadata": {},
   "outputs": [],
   "source": [
    "def contains_moon(casts):\n",
    "    if casts is None:\n",
    "        return False\n",
    "    pattern = re.compile(r'moon', re.IGNORECASE)\n",
    "    return any(cast and pattern.search(cast) for cast in casts)"
   ]
  },
  {
   "cell_type": "code",
   "execution_count": 47,
   "metadata": {},
   "outputs": [
    {
     "name": "stderr",
     "output_type": "stream",
     "text": [
      "/var/folders/1f/_grxf3150cz3pw8bxtjqyprc0000gn/T/ipykernel_5953/2069762324.py:1: DeprecationWarning: `apply` is deprecated. It has been renamed to `map_elements`.\n",
      "  count_moon = df.filter(pl.col(\"casts\").apply(contains_moon)).height\n"
     ]
    },
    {
     "data": {
      "text/plain": [
       "206"
      ]
     },
     "execution_count": 47,
     "metadata": {},
     "output_type": "execute_result"
    }
   ],
   "source": [
    "count_moon = df.filter(pl.col(\"casts\").apply(contains_moon)).height\n",
    "count_moon"
   ]
  },
  {
   "cell_type": "code",
   "execution_count": 48,
   "metadata": {},
   "outputs": [
    {
     "name": "stderr",
     "output_type": "stream",
     "text": [
      "/var/folders/1f/_grxf3150cz3pw8bxtjqyprc0000gn/T/ipykernel_5953/2957893485.py:2: DeprecationWarning: `apply` is deprecated. It has been renamed to `map_elements`.\n",
      "  pl.col(\"casts\").apply(lambda casts: 1 if contains_moon(casts) else 0).alias(\"is_bot\")\n"
     ]
    }
   ],
   "source": [
    "df = df.with_columns([\n",
    "    pl.col(\"casts\").apply(lambda casts: 1 if contains_moon(casts) else 0).alias(\"is_bot\")\n",
    "])"
   ]
  },
  {
   "cell_type": "code",
   "execution_count": 49,
   "metadata": {},
   "outputs": [
    {
     "data": {
      "text/plain": [
       "206"
      ]
     },
     "execution_count": 49,
     "metadata": {},
     "output_type": "execute_result"
    }
   ],
   "source": [
    "spam_count = df.filter(pl.col(\"is_bot\") == 1).shape[0]\n",
    "spam_count"
   ]
  },
  {
   "cell_type": "code",
   "execution_count": 50,
   "metadata": {},
   "outputs": [
    {
     "data": {
      "text/plain": [
       "11.886901327178304"
      ]
     },
     "execution_count": 50,
     "metadata": {},
     "output_type": "execute_result"
    }
   ],
   "source": [
    "total_rows = df.shape[0]\n",
    "percentage_bots = (spam_count / total_rows) * 100\n",
    "percentage_bots\n"
   ]
  },
  {
   "cell_type": "code",
   "execution_count": 51,
   "metadata": {},
   "outputs": [],
   "source": [
    "import polars as pl\n",
    "import re\n",
    "\n",
    "def find_follow_back_f4f(df):\n",
    "    # Define the pattern to search for\n",
    "    pattern = re.compile(r'\\bfollow back\\b|\\bf4f\\b', re.IGNORECASE)\n",
    "\n",
    "    # Extract the string value from the 'profile' struct and search for the pattern\n",
    "    mask = df['profile'].apply(lambda profile: any(pattern.search(item[0]) for item in profile))\n",
    "\n",
    "    # Count the number of rows that match the pattern\n",
    "    count = mask.sum()\n",
    "    print(count)\n",
    "\n",
    "    # Print the count of rows\n",
    "    print(f\"Number of rows that match the pattern: {count}\")\n",
    "\n",
    "    # Change the value of 'is_bot' to 1 for the rows that match the pattern\n",
    "    df = df.with_columns(pl.when(mask).then(1).otherwise(pl.col('is_bot')).alias('is_bot'))\n",
    "\n",
    "    return df\n"
   ]
  },
  {
   "cell_type": "code",
   "execution_count": 53,
   "metadata": {},
   "outputs": [
    {
     "name": "stderr",
     "output_type": "stream",
     "text": [
      "/var/folders/1f/_grxf3150cz3pw8bxtjqyprc0000gn/T/ipykernel_5953/3000581540.py:1: DeprecationWarning: `apply` is deprecated. It has been renamed to `map_elements`.\n",
      "  find_follow_back_count = df.filter(pl.col(\"profile\").apply(find_follow_back_f4f)).height\n"
     ]
    },
    {
     "ename": "ComputeError",
     "evalue": "KeyError: 'profile'",
     "output_type": "error",
     "traceback": [
      "\u001b[0;31m---------------------------------------------------------------------------\u001b[0m",
      "\u001b[0;31mComputeError\u001b[0m                              Traceback (most recent call last)",
      "Cell \u001b[0;32mIn[53], line 1\u001b[0m\n\u001b[0;32m----> 1\u001b[0m find_follow_back_count \u001b[38;5;241m=\u001b[39m \u001b[43mdf\u001b[49m\u001b[38;5;241;43m.\u001b[39;49m\u001b[43mfilter\u001b[49m\u001b[43m(\u001b[49m\u001b[43mpl\u001b[49m\u001b[38;5;241;43m.\u001b[39;49m\u001b[43mcol\u001b[49m\u001b[43m(\u001b[49m\u001b[38;5;124;43m\"\u001b[39;49m\u001b[38;5;124;43mprofile\u001b[39;49m\u001b[38;5;124;43m\"\u001b[39;49m\u001b[43m)\u001b[49m\u001b[38;5;241;43m.\u001b[39;49m\u001b[43mapply\u001b[49m\u001b[43m(\u001b[49m\u001b[43mfind_follow_back_f4f\u001b[49m\u001b[43m)\u001b[49m\u001b[43m)\u001b[49m\u001b[38;5;241m.\u001b[39mheight\n\u001b[1;32m      2\u001b[0m find_follow_back_count\n",
      "File \u001b[0;32m~/Developer/giza-farcater-bot/.venv/lib/python3.11/site-packages/polars/dataframe/frame.py:4092\u001b[0m, in \u001b[0;36mDataFrame.filter\u001b[0;34m(self, *predicates, **constraints)\u001b[0m\n\u001b[1;32m   3995\u001b[0m \u001b[38;5;28;01mdef\u001b[39;00m \u001b[38;5;21mfilter\u001b[39m(\n\u001b[1;32m   3996\u001b[0m     \u001b[38;5;28mself\u001b[39m,\n\u001b[1;32m   3997\u001b[0m     \u001b[38;5;241m*\u001b[39mpredicates: (\n\u001b[0;32m   (...)\u001b[0m\n\u001b[1;32m   4004\u001b[0m     \u001b[38;5;241m*\u001b[39m\u001b[38;5;241m*\u001b[39mconstraints: Any,\n\u001b[1;32m   4005\u001b[0m ) \u001b[38;5;241m-\u001b[39m\u001b[38;5;241m>\u001b[39m DataFrame:\n\u001b[1;32m   4006\u001b[0m \u001b[38;5;250m    \u001b[39m\u001b[38;5;124;03m\"\"\"\u001b[39;00m\n\u001b[1;32m   4007\u001b[0m \u001b[38;5;124;03m    Filter the rows in the DataFrame based on a predicate expression.\u001b[39;00m\n\u001b[1;32m   4008\u001b[0m \n\u001b[0;32m   (...)\u001b[0m\n\u001b[1;32m   4090\u001b[0m \n\u001b[1;32m   4091\u001b[0m \u001b[38;5;124;03m    \"\"\"\u001b[39;00m\n\u001b[0;32m-> 4092\u001b[0m     \u001b[38;5;28;01mreturn\u001b[39;00m \u001b[38;5;28;43mself\u001b[39;49m\u001b[38;5;241;43m.\u001b[39;49m\u001b[43mlazy\u001b[49m\u001b[43m(\u001b[49m\u001b[43m)\u001b[49m\u001b[38;5;241;43m.\u001b[39;49m\u001b[43mfilter\u001b[49m\u001b[43m(\u001b[49m\u001b[38;5;241;43m*\u001b[39;49m\u001b[43mpredicates\u001b[49m\u001b[43m,\u001b[49m\u001b[43m \u001b[49m\u001b[38;5;241;43m*\u001b[39;49m\u001b[38;5;241;43m*\u001b[39;49m\u001b[43mconstraints\u001b[49m\u001b[43m)\u001b[49m\u001b[38;5;241;43m.\u001b[39;49m\u001b[43mcollect\u001b[49m\u001b[43m(\u001b[49m\u001b[43m_eager\u001b[49m\u001b[38;5;241;43m=\u001b[39;49m\u001b[38;5;28;43;01mTrue\u001b[39;49;00m\u001b[43m)\u001b[49m\n",
      "File \u001b[0;32m~/Developer/giza-farcater-bot/.venv/lib/python3.11/site-packages/polars/utils/deprecation.py:100\u001b[0m, in \u001b[0;36mdeprecate_renamed_parameter.<locals>.decorate.<locals>.wrapper\u001b[0;34m(*args, **kwargs)\u001b[0m\n\u001b[1;32m     95\u001b[0m \u001b[38;5;129m@wraps\u001b[39m(function)\n\u001b[1;32m     96\u001b[0m \u001b[38;5;28;01mdef\u001b[39;00m \u001b[38;5;21mwrapper\u001b[39m(\u001b[38;5;241m*\u001b[39margs: P\u001b[38;5;241m.\u001b[39margs, \u001b[38;5;241m*\u001b[39m\u001b[38;5;241m*\u001b[39mkwargs: P\u001b[38;5;241m.\u001b[39mkwargs) \u001b[38;5;241m-\u001b[39m\u001b[38;5;241m>\u001b[39m T:\n\u001b[1;32m     97\u001b[0m     _rename_keyword_argument(\n\u001b[1;32m     98\u001b[0m         old_name, new_name, kwargs, function\u001b[38;5;241m.\u001b[39m\u001b[38;5;18m__name__\u001b[39m, version\n\u001b[1;32m     99\u001b[0m     )\n\u001b[0;32m--> 100\u001b[0m     \u001b[38;5;28;01mreturn\u001b[39;00m \u001b[43mfunction\u001b[49m\u001b[43m(\u001b[49m\u001b[38;5;241;43m*\u001b[39;49m\u001b[43margs\u001b[49m\u001b[43m,\u001b[49m\u001b[43m \u001b[49m\u001b[38;5;241;43m*\u001b[39;49m\u001b[38;5;241;43m*\u001b[39;49m\u001b[43mkwargs\u001b[49m\u001b[43m)\u001b[49m\n",
      "File \u001b[0;32m~/Developer/giza-farcater-bot/.venv/lib/python3.11/site-packages/polars/lazyframe/frame.py:1788\u001b[0m, in \u001b[0;36mLazyFrame.collect\u001b[0;34m(self, type_coercion, predicate_pushdown, projection_pushdown, simplify_expression, slice_pushdown, comm_subplan_elim, comm_subexpr_elim, no_optimization, streaming, _eager)\u001b[0m\n\u001b[1;32m   1775\u001b[0m     comm_subplan_elim \u001b[38;5;241m=\u001b[39m \u001b[38;5;28;01mFalse\u001b[39;00m\n\u001b[1;32m   1777\u001b[0m ldf \u001b[38;5;241m=\u001b[39m \u001b[38;5;28mself\u001b[39m\u001b[38;5;241m.\u001b[39m_ldf\u001b[38;5;241m.\u001b[39moptimization_toggle(\n\u001b[1;32m   1778\u001b[0m     type_coercion,\n\u001b[1;32m   1779\u001b[0m     predicate_pushdown,\n\u001b[0;32m   (...)\u001b[0m\n\u001b[1;32m   1786\u001b[0m     _eager,\n\u001b[1;32m   1787\u001b[0m )\n\u001b[0;32m-> 1788\u001b[0m \u001b[38;5;28;01mreturn\u001b[39;00m wrap_df(ldf\u001b[38;5;241m.\u001b[39mcollect())\n",
      "\u001b[0;31mComputeError\u001b[0m: KeyError: 'profile'"
     ]
    }
   ],
   "source": [
    "find_follow_back_count = df.filter(pl.col(\"profile\").apply(find_follow_back_f4f)).height\n",
    "find_follow_back_count"
   ]
  },
  {
   "cell_type": "code",
   "execution_count": 54,
   "metadata": {},
   "outputs": [
    {
     "data": {
      "text/plain": [
       "11.886901327178304"
      ]
     },
     "execution_count": 54,
     "metadata": {},
     "output_type": "execute_result"
    }
   ],
   "source": [
    "total_rows = df.shape[0]\n",
    "percentage_bots = (spam_count / total_rows) * 100\n",
    "percentage_bots"
   ]
  },
  {
   "cell_type": "code",
   "execution_count": 55,
   "metadata": {},
   "outputs": [
    {
     "name": "stdout",
     "output_type": "stream",
     "text": [
      "Number of rows containing 'follow back', 'f4f', 'follow me', 'follow for follow', 'airdrops', or 'follow you': 56\n"
     ]
    }
   ],
   "source": [
    "\n",
    "# Assuming df is your DataFrame\n",
    "filtered_df = df.filter(\n",
    "    (pl.col(\"profile\").struct.field(\"bio\").struct.field(\"text\").str.to_lowercase().str.contains(\"follow back\")) |\n",
    "    (pl.col(\"profile\").struct.field(\"bio\").struct.field(\"text\").str.to_lowercase().str.contains(\"f4f\")) |\n",
    "    (pl.col(\"profile\").struct.field(\"bio\").struct.field(\"text\").str.to_lowercase().str.contains(\"follow me\")) |\n",
    "    (pl.col(\"profile\").struct.field(\"bio\").struct.field(\"text\").str.to_lowercase().str.contains(\"follow for follow\")) |\n",
    "    (pl.col(\"profile\").struct.field(\"bio\").struct.field(\"text\").str.to_lowercase().str.contains(\"airdrops\")) |\n",
    "    (pl.col(\"profile\").struct.field(\"bio\").struct.field(\"text\").str.to_lowercase().str.contains(\"follow you\"))\n",
    ")\n",
    "\n",
    "num_rows = filtered_df.shape[0]\n",
    "print(f\"Number of rows containing 'follow back', 'f4f', 'follow me', 'follow for follow', 'airdrops', or 'follow you': {num_rows}\")\n",
    "\n"
   ]
  },
  {
   "cell_type": "code",
   "execution_count": 56,
   "metadata": {},
   "outputs": [
    {
     "name": "stdout",
     "output_type": "stream",
     "text": [
      "Number of rows updated: 56\n"
     ]
    }
   ],
   "source": [
    "updated_df = filtered_df.with_columns(\n",
    "    pl.lit(1).alias(\"is_bot\")\n",
    ").drop(\"is_bot\")\n",
    "\n",
    "num_rows = updated_df.shape[0]\n",
    "print(f\"Number of rows updated: {num_rows}\")"
   ]
  },
  {
   "cell_type": "code",
   "execution_count": 57,
   "metadata": {},
   "outputs": [
    {
     "name": "stdout",
     "output_type": "stream",
     "text": [
      "Data type of 'bio' field: Struct([Field('text', Utf8), Field('mentionedProfiles', List(Null))])\n"
     ]
    }
   ],
   "source": [
    "\n",
    "bio_dtype = df[\"profile\"].struct.field(\"bio\").dtype\n",
    "print(f\"Data type of 'bio' field: {bio_dtype}\")\n"
   ]
  },
  {
   "cell_type": "code",
   "execution_count": 58,
   "metadata": {},
   "outputs": [
    {
     "data": {
      "text/plain": [
       "206"
      ]
     },
     "execution_count": 58,
     "metadata": {},
     "output_type": "execute_result"
    }
   ],
   "source": [
    "spam_count = df.filter(pl.col(\"is_bot\") == 1).shape[0]\n",
    "spam_count"
   ]
  },
  {
   "cell_type": "code",
   "execution_count": 59,
   "metadata": {},
   "outputs": [
    {
     "data": {
      "text/plain": [
       "1527"
      ]
     },
     "execution_count": 59,
     "metadata": {},
     "output_type": "execute_result"
    }
   ],
   "source": [
    "real_count = df.filter(pl.col(\"is_bot\") == 0).shape[0]\n",
    "real_count"
   ]
  },
  {
   "cell_type": "markdown",
   "metadata": {},
   "source": [
    "## Taking out 497 of the non-bot accounts "
   ]
  },
  {
   "cell_type": "code",
   "execution_count": 60,
   "metadata": {},
   "outputs": [],
   "source": [
    "# Filter the dataset to only include rows where \"is_bot\" = 0\n",
    "filtered_df = df.filter(pl.col(\"is_bot\") == 0)\n",
    "\n",
    "# Randomly select 497 rows from the filtered dataset\n",
    "selected_rows = filtered_df.sample(n=497)\n",
    "\n",
    "# Remove the selected rows from the original dataset\n",
    "df = df.filter(~pl.col(\"fid\").is_in(selected_rows.get_column(\"fid\")))\n"
   ]
  },
  {
   "cell_type": "code",
   "execution_count": 61,
   "metadata": {},
   "outputs": [
    {
     "data": {
      "text/plain": [
       "1030"
      ]
     },
     "execution_count": 61,
     "metadata": {},
     "output_type": "execute_result"
    }
   ],
   "source": [
    "real_count = df.filter(pl.col(\"is_bot\") == 0).shape[0]\n",
    "real_count"
   ]
  },
  {
   "cell_type": "code",
   "execution_count": 62,
   "metadata": {},
   "outputs": [
    {
     "data": {
      "text/plain": [
       "16.666666666666664"
      ]
     },
     "execution_count": 62,
     "metadata": {},
     "output_type": "execute_result"
    }
   ],
   "source": [
    "total_rows = df.shape[0]\n",
    "percentage_bots = (spam_count / total_rows) * 100\n",
    "percentage_bots"
   ]
  },
  {
   "cell_type": "markdown",
   "metadata": {},
   "source": [
    "## Training of the Model"
   ]
  },
  {
   "cell_type": "code",
   "execution_count": 63,
   "metadata": {},
   "outputs": [],
   "source": [
    "import xgboost as xgb\n",
    "from sklearn.model_selection import train_test_split"
   ]
  },
  {
   "cell_type": "code",
   "execution_count": 64,
   "metadata": {},
   "outputs": [],
   "source": [
    "def convert_active_status(df):\n",
    "    df = df.with_columns(\n",
    "        pl.when(pl.col('activeStatus') == 'active').then(1)\n",
    "        .when(pl.col('activeStatus') == 'inactive').then(0)\n",
    "        .otherwise(pl.col('activeStatus'))\n",
    "        .cast(pl.Int8)\n",
    "        .alias('activeStatus')\n",
    "    )\n",
    "    return df\n"
   ]
  },
  {
   "cell_type": "code",
   "execution_count": 65,
   "metadata": {},
   "outputs": [],
   "source": [
    "def convert_power_badge(df):\n",
    "    df = df.with_columns(\n",
    "        pl.col('powerBadge').cast(pl.Int8).alias('powerBadge')\n",
    "    )\n",
    "    return df\n"
   ]
  },
  {
   "cell_type": "code",
   "execution_count": 66,
   "metadata": {},
   "outputs": [],
   "source": [
    "df = convert_active_status(df)\n",
    "df = convert_power_badge(df)"
   ]
  },
  {
   "cell_type": "code",
   "execution_count": 67,
   "metadata": {},
   "outputs": [
    {
     "data": {
      "text/html": [
       "<div><style>\n",
       ".dataframe > thead > tr,\n",
       ".dataframe > tbody > tr {\n",
       "  text-align: right;\n",
       "  white-space: pre-wrap;\n",
       "}\n",
       "</style>\n",
       "<small>shape: (5, 16)</small><table border=\"1\" class=\"dataframe\"><thead><tr><th>fid</th><th>custodyAddress</th><th>username</th><th>displayName</th><th>pfp</th><th>profile</th><th>followerCount</th><th>followingCount</th><th>verifications</th><th>verifiedAddresses</th><th>activeStatus</th><th>powerBadge</th><th>followers</th><th>following</th><th>casts</th><th>is_bot</th></tr><tr><td>i64</td><td>str</td><td>str</td><td>str</td><td>struct[1]</td><td>struct[1]</td><td>i64</td><td>i64</td><td>list[str]</td><td>struct[2]</td><td>i8</td><td>i8</td><td>list[str]</td><td>list[str]</td><td>list[str]</td><td>i64</td></tr></thead><tbody><tr><td>355637</td><td>&quot;0x5834b8b2046a…</td><td>&quot;faridazka8330&quot;</td><td>&quot;Farid Azka&quot;</td><td>{&quot;https://i.imgur.com/6rf1s.jpg&quot;}</td><td>{{&quot;&quot;,[]}}</td><td>1</td><td>2</td><td>[]</td><td>{[],[]}</td><td>0</td><td>0</td><td>[&quot;441944&quot;]</td><td>[&quot;351755&quot;, &quot;341634&quot;]</td><td>[&quot;rake fund quiet, gulch wooly open&quot;]</td><td>0</td></tr><tr><td>328517</td><td>&quot;0x3d941f975565…</td><td>&quot;tropzhoenix&quot;</td><td>&quot;Tropz &quot;</td><td>{&quot;https://imagedelivery.net/BXluQx4ige9GuW0Ia56BHw/5b98c4f5-6d59-433d-752b-77d22e32c500/original&quot;}</td><td>{{&quot;&quot; There are many tutorials for success, but unfortunately luck cannot be imitated &quot;&quot;,[]}}</td><td>1279</td><td>1979</td><td>[&quot;0x3d941f9755655601fcb3a323d86ed20c9b8d1e3c&quot;]</td><td>{[&quot;0x3d941f9755655601fcb3a323d86ed20c9b8d1e3c&quot;],[]}</td><td>0</td><td>0</td><td>[&quot;396825&quot;, &quot;508457&quot;, … &quot;304685&quot;]</td><td>[&quot;195457&quot;, &quot;22488&quot;, … &quot;48&quot;]</td><td>[&quot;Mint 50 A Collective Signal with UFO — Alex Guy, aiio, LGHT&quot;, null, … &quot;FREE MINT\n",
       "https://frames.neynar.com/f/cac7fdac/126aca05&quot;]</td><td>1</td></tr><tr><td>197040</td><td>&quot;0xbaa566ac73b2…</td><td>&quot;cfhgoregrinder…</td><td>&quot;Spider&quot;</td><td>{&quot;https://i.imgur.com/QUZlb6U.jpg&quot;}</td><td>{{&quot;Yo it&#x27;s spider hit that goddamn hard rock n roll! - death metal, crypto, partying, death to the nwo, chix feets=)!&quot;,[]}}</td><td>14</td><td>74</td><td>[&quot;0x4210fd4fd4402a1fc4fa4f2cbd5a362653fa9ab3&quot;]</td><td>{[&quot;0x4210fd4fd4402a1fc4fa4f2cbd5a362653fa9ab3&quot;],[]}</td><td>0</td><td>0</td><td>[&quot;301687&quot;, &quot;471907&quot;, … &quot;473023&quot;]</td><td>[&quot;7620&quot;, &quot;18910&quot;, … &quot;1317&quot;]</td><td>[&quot;Just minted Day 185 on BasePaint! Hundreds of pixel artists made this together on the blockchain. Minting is open only for 24h&quot;, &quot;cool, is this something new that I did? Which rewards exactly? Thanks&quot;, … &quot;100-1000 $AMBER&quot;]</td><td>0</td></tr><tr><td>324712</td><td>&quot;0x252c87d7e7c0…</td><td>&quot;anabut&quot;</td><td>&quot;Anabut&quot;</td><td>{&quot;https://i.imgur.com/O9jgPKI.jpg&quot;}</td><td>{{&quot;#COYG #Bitcoin #ETH #L2 🍺 🌕\n",
       "\n",
       "✅Follow me, Follow back krub 🙏&quot;,[]}}</td><td>450</td><td>650</td><td>[&quot;0x62efaf62387873ce4f72a00622f89c5335115cb1&quot;]</td><td>{[&quot;0x62efaf62387873ce4f72a00622f89c5335115cb1&quot;],[]}</td><td>0</td><td>0</td><td>[&quot;406740&quot;, &quot;361668&quot;, … &quot;317466&quot;]</td><td>[&quot;12309&quot;, &quot;313902&quot;, … &quot;401976&quot;]</td><td>[&quot;หาเพื่อนฟอล ก่อนนอนครับ ใครไม่ครบ ช่วยกันครับๆ&quot;, &quot;ARB 300 $DEGEN&quot;, … &quot;ขอแลกฟอลหน่อยค้าบบบ จะครบ 400 แล้ว  ฉลอง BTC เตรียม ATH กัน&quot;]</td><td>1</td></tr><tr><td>200160</td><td>&quot;0xdb2d5525a99c…</td><td>&quot;mattdavies&quot;</td><td>&quot;threesixtycryp…</td><td>{&quot;https://i.imgur.com/G7sUYGL.jpg&quot;}</td><td>{{&quot;Graphic Designer / Crypto Trader&quot;,[]}}</td><td>6</td><td>64</td><td>[&quot;0xc7719fec0a61f17cc790fc33b5c1c6a78c00f1ea&quot;, &quot;0x223db50ca738a11c7a2de052b546fae7b655412f&quot;]</td><td>{[&quot;0xc7719fec0a61f17cc790fc33b5c1c6a78c00f1ea&quot;, &quot;0x223db50ca738a11c7a2de052b546fae7b655412f&quot;],[&quot;AUkcpXHwBcZ9xNmPQLNbynstParm6APM5iB3oxVuFX9P&quot;]}</td><td>0</td><td>0</td><td>[&quot;344265&quot;, &quot;258279&quot;, … &quot;310696&quot;]</td><td>[&quot;1237&quot;, &quot;10677&quot;, … &quot;24005&quot;]</td><td>[&quot;0xc7719FEc0a61F17cc790fc33B5c1c6a78C00F1eA&quot;, &quot;0xc7719FEc0a61F17cc790fc33B5c1c6a78C00F1eA&quot;, &quot;based&quot;]</td><td>0</td></tr></tbody></table></div>"
      ],
      "text/plain": [
       "shape: (5, 16)\n",
       "┌────────┬────────────┬────────────┬────────────┬───┬────────────┬────────────┬───────────┬────────┐\n",
       "│ fid    ┆ custodyAdd ┆ username   ┆ displayNam ┆ … ┆ followers  ┆ following  ┆ casts     ┆ is_bot │\n",
       "│ ---    ┆ ress       ┆ ---        ┆ e          ┆   ┆ ---        ┆ ---        ┆ ---       ┆ ---    │\n",
       "│ i64    ┆ ---        ┆ str        ┆ ---        ┆   ┆ list[str]  ┆ list[str]  ┆ list[str] ┆ i64    │\n",
       "│        ┆ str        ┆            ┆ str        ┆   ┆            ┆            ┆           ┆        │\n",
       "╞════════╪════════════╪════════════╪════════════╪═══╪════════════╪════════════╪═══════════╪════════╡\n",
       "│ 355637 ┆ 0x5834b8b2 ┆ faridazka8 ┆ Farid Azka ┆ … ┆ [\"441944\"] ┆ [\"351755\", ┆ [\"rake    ┆ 0      │\n",
       "│        ┆ 046aed5aa4 ┆ 330        ┆            ┆   ┆            ┆ \"341634\"]  ┆ fund      ┆        │\n",
       "│        ┆ f15087b120 ┆            ┆            ┆   ┆            ┆            ┆ quiet,    ┆        │\n",
       "│        ┆ 64…        ┆            ┆            ┆   ┆            ┆            ┆ gulch     ┆        │\n",
       "│        ┆            ┆            ┆            ┆   ┆            ┆            ┆ wooly o…  ┆        │\n",
       "│ 328517 ┆ 0x3d941f97 ┆ tropzhoeni ┆ Tropz      ┆ … ┆ [\"396825\", ┆ [\"195457\", ┆ [\"Mint 50 ┆ 1      │\n",
       "│        ┆ 55655601fc ┆ x          ┆            ┆   ┆ \"508457\",  ┆ \"22488\", … ┆ A Collect ┆        │\n",
       "│        ┆ b3a323d86e ┆            ┆            ┆   ┆ …          ┆ \"48\"]      ┆ ive       ┆        │\n",
       "│        ┆ d2…        ┆            ┆            ┆   ┆ \"304685\"]  ┆            ┆ Signal    ┆        │\n",
       "│        ┆            ┆            ┆            ┆   ┆            ┆            ┆ wi…       ┆        │\n",
       "│ 197040 ┆ 0xbaa566ac ┆ cfhgoregri ┆ Spider     ┆ … ┆ [\"301687\", ┆ [\"7620\",   ┆ [\"Just    ┆ 0      │\n",
       "│        ┆ 73b277dd0e ┆ nder       ┆            ┆   ┆ \"471907\",  ┆ \"18910\", … ┆ minted    ┆        │\n",
       "│        ┆ 6efa68f73b ┆            ┆            ┆   ┆ …          ┆ \"1317\"]    ┆ Day 185   ┆        │\n",
       "│        ┆ 51…        ┆            ┆            ┆   ┆ \"473023\"]  ┆            ┆ on        ┆        │\n",
       "│        ┆            ┆            ┆            ┆   ┆            ┆            ┆ BasePai…  ┆        │\n",
       "│ 324712 ┆ 0x252c87d7 ┆ anabut     ┆ Anabut     ┆ … ┆ [\"406740\", ┆ [\"12309\",  ┆ [\"หาเพื่อนฟ ┆ 1      │\n",
       "│        ┆ e7c05042c2 ┆            ┆            ┆   ┆ \"361668\",  ┆ \"313902\",  ┆ อล        ┆        │\n",
       "│        ┆ d85f472a59 ┆            ┆            ┆   ┆ …          ┆ …          ┆ ก่อนนอนครับ ┆        │\n",
       "│        ┆ 9f…        ┆            ┆            ┆   ┆ \"317466\"]  ┆ \"401976\"]  ┆ ใครไม่…    ┆        │\n",
       "│ 200160 ┆ 0xdb2d5525 ┆ mattdavies ┆ threesixty ┆ … ┆ [\"344265\", ┆ [\"1237\",   ┆ [\"0xc7719 ┆ 0      │\n",
       "│        ┆ a99cb3b10f ┆            ┆ crypto     ┆   ┆ \"258279\",  ┆ \"10677\", … ┆ FEc0a61F1 ┆        │\n",
       "│        ┆ 397952b4c6 ┆            ┆            ┆   ┆ …          ┆ \"24005\"]   ┆ 7cc790fc3 ┆        │\n",
       "│        ┆ 97…        ┆            ┆            ┆   ┆ \"310696\"]  ┆            ┆ 3B5c1…    ┆        │\n",
       "└────────┴────────────┴────────────┴────────────┴───┴────────────┴────────────┴───────────┴────────┘"
      ]
     },
     "execution_count": 67,
     "metadata": {},
     "output_type": "execute_result"
    }
   ],
   "source": [
    "df.head()"
   ]
  },
  {
   "cell_type": "code",
   "execution_count": null,
   "metadata": {},
   "outputs": [],
   "source": [
    "print(df.columns)"
   ]
  },
  {
   "cell_type": "code",
   "execution_count": 68,
   "metadata": {},
   "outputs": [],
   "source": [
    "new_df = df.select(['fid', 'followerCount', 'followingCount', \"activeStatus\", \"powerBadge\"])\n"
   ]
  },
  {
   "cell_type": "code",
   "execution_count": 69,
   "metadata": {},
   "outputs": [
    {
     "data": {
      "text/html": [
       "<div><style>\n",
       ".dataframe > thead > tr,\n",
       ".dataframe > tbody > tr {\n",
       "  text-align: right;\n",
       "  white-space: pre-wrap;\n",
       "}\n",
       "</style>\n",
       "<small>shape: (5, 5)</small><table border=\"1\" class=\"dataframe\"><thead><tr><th>fid</th><th>followerCount</th><th>followingCount</th><th>activeStatus</th><th>powerBadge</th></tr><tr><td>i64</td><td>i64</td><td>i64</td><td>i8</td><td>i8</td></tr></thead><tbody><tr><td>355637</td><td>1</td><td>2</td><td>0</td><td>0</td></tr><tr><td>328517</td><td>1279</td><td>1979</td><td>0</td><td>0</td></tr><tr><td>197040</td><td>14</td><td>74</td><td>0</td><td>0</td></tr><tr><td>324712</td><td>450</td><td>650</td><td>0</td><td>0</td></tr><tr><td>200160</td><td>6</td><td>64</td><td>0</td><td>0</td></tr></tbody></table></div>"
      ],
      "text/plain": [
       "shape: (5, 5)\n",
       "┌────────┬───────────────┬────────────────┬──────────────┬────────────┐\n",
       "│ fid    ┆ followerCount ┆ followingCount ┆ activeStatus ┆ powerBadge │\n",
       "│ ---    ┆ ---           ┆ ---            ┆ ---          ┆ ---        │\n",
       "│ i64    ┆ i64           ┆ i64            ┆ i8           ┆ i8         │\n",
       "╞════════╪═══════════════╪════════════════╪══════════════╪════════════╡\n",
       "│ 355637 ┆ 1             ┆ 2              ┆ 0            ┆ 0          │\n",
       "│ 328517 ┆ 1279          ┆ 1979           ┆ 0            ┆ 0          │\n",
       "│ 197040 ┆ 14            ┆ 74             ┆ 0            ┆ 0          │\n",
       "│ 324712 ┆ 450           ┆ 650            ┆ 0            ┆ 0          │\n",
       "│ 200160 ┆ 6             ┆ 64             ┆ 0            ┆ 0          │\n",
       "└────────┴───────────────┴────────────────┴──────────────┴────────────┘"
      ]
     },
     "execution_count": 69,
     "metadata": {},
     "output_type": "execute_result"
    }
   ],
   "source": [
    "new_df.head()"
   ]
  },
  {
   "cell_type": "code",
   "execution_count": 70,
   "metadata": {},
   "outputs": [],
   "source": [
    "X = new_df\n",
    "y = df[\"is_bot\"]"
   ]
  },
  {
   "cell_type": "code",
   "execution_count": 71,
   "metadata": {},
   "outputs": [],
   "source": [
    "X = X.to_numpy()\n",
    "y = y.to_numpy()"
   ]
  },
  {
   "cell_type": "code",
   "execution_count": 72,
   "metadata": {},
   "outputs": [],
   "source": [
    "X_train, X_test, y_train, y_test = train_test_split(X, y, test_size=0.2, random_state=42)"
   ]
  },
  {
   "cell_type": "code",
   "execution_count": 73,
   "metadata": {},
   "outputs": [],
   "source": [
    "model = xgb.XGBClassifier(use_label_encoder=False, eval_metric=\"logloss\")"
   ]
  },
  {
   "cell_type": "code",
   "execution_count": 74,
   "metadata": {},
   "outputs": [
    {
     "data": {
      "text/html": [
       "<style>#sk-container-id-1 {\n",
       "  /* Definition of color scheme common for light and dark mode */\n",
       "  --sklearn-color-text: black;\n",
       "  --sklearn-color-line: gray;\n",
       "  /* Definition of color scheme for unfitted estimators */\n",
       "  --sklearn-color-unfitted-level-0: #fff5e6;\n",
       "  --sklearn-color-unfitted-level-1: #f6e4d2;\n",
       "  --sklearn-color-unfitted-level-2: #ffe0b3;\n",
       "  --sklearn-color-unfitted-level-3: chocolate;\n",
       "  /* Definition of color scheme for fitted estimators */\n",
       "  --sklearn-color-fitted-level-0: #f0f8ff;\n",
       "  --sklearn-color-fitted-level-1: #d4ebff;\n",
       "  --sklearn-color-fitted-level-2: #b3dbfd;\n",
       "  --sklearn-color-fitted-level-3: cornflowerblue;\n",
       "\n",
       "  /* Specific color for light theme */\n",
       "  --sklearn-color-text-on-default-background: var(--sg-text-color, var(--theme-code-foreground, var(--jp-content-font-color1, black)));\n",
       "  --sklearn-color-background: var(--sg-background-color, var(--theme-background, var(--jp-layout-color0, white)));\n",
       "  --sklearn-color-border-box: var(--sg-text-color, var(--theme-code-foreground, var(--jp-content-font-color1, black)));\n",
       "  --sklearn-color-icon: #696969;\n",
       "\n",
       "  @media (prefers-color-scheme: dark) {\n",
       "    /* Redefinition of color scheme for dark theme */\n",
       "    --sklearn-color-text-on-default-background: var(--sg-text-color, var(--theme-code-foreground, var(--jp-content-font-color1, white)));\n",
       "    --sklearn-color-background: var(--sg-background-color, var(--theme-background, var(--jp-layout-color0, #111)));\n",
       "    --sklearn-color-border-box: var(--sg-text-color, var(--theme-code-foreground, var(--jp-content-font-color1, white)));\n",
       "    --sklearn-color-icon: #878787;\n",
       "  }\n",
       "}\n",
       "\n",
       "#sk-container-id-1 {\n",
       "  color: var(--sklearn-color-text);\n",
       "}\n",
       "\n",
       "#sk-container-id-1 pre {\n",
       "  padding: 0;\n",
       "}\n",
       "\n",
       "#sk-container-id-1 input.sk-hidden--visually {\n",
       "  border: 0;\n",
       "  clip: rect(1px 1px 1px 1px);\n",
       "  clip: rect(1px, 1px, 1px, 1px);\n",
       "  height: 1px;\n",
       "  margin: -1px;\n",
       "  overflow: hidden;\n",
       "  padding: 0;\n",
       "  position: absolute;\n",
       "  width: 1px;\n",
       "}\n",
       "\n",
       "#sk-container-id-1 div.sk-dashed-wrapped {\n",
       "  border: 1px dashed var(--sklearn-color-line);\n",
       "  margin: 0 0.4em 0.5em 0.4em;\n",
       "  box-sizing: border-box;\n",
       "  padding-bottom: 0.4em;\n",
       "  background-color: var(--sklearn-color-background);\n",
       "}\n",
       "\n",
       "#sk-container-id-1 div.sk-container {\n",
       "  /* jupyter's `normalize.less` sets `[hidden] { display: none; }`\n",
       "     but bootstrap.min.css set `[hidden] { display: none !important; }`\n",
       "     so we also need the `!important` here to be able to override the\n",
       "     default hidden behavior on the sphinx rendered scikit-learn.org.\n",
       "     See: https://github.com/scikit-learn/scikit-learn/issues/21755 */\n",
       "  display: inline-block !important;\n",
       "  position: relative;\n",
       "}\n",
       "\n",
       "#sk-container-id-1 div.sk-text-repr-fallback {\n",
       "  display: none;\n",
       "}\n",
       "\n",
       "div.sk-parallel-item,\n",
       "div.sk-serial,\n",
       "div.sk-item {\n",
       "  /* draw centered vertical line to link estimators */\n",
       "  background-image: linear-gradient(var(--sklearn-color-text-on-default-background), var(--sklearn-color-text-on-default-background));\n",
       "  background-size: 2px 100%;\n",
       "  background-repeat: no-repeat;\n",
       "  background-position: center center;\n",
       "}\n",
       "\n",
       "/* Parallel-specific style estimator block */\n",
       "\n",
       "#sk-container-id-1 div.sk-parallel-item::after {\n",
       "  content: \"\";\n",
       "  width: 100%;\n",
       "  border-bottom: 2px solid var(--sklearn-color-text-on-default-background);\n",
       "  flex-grow: 1;\n",
       "}\n",
       "\n",
       "#sk-container-id-1 div.sk-parallel {\n",
       "  display: flex;\n",
       "  align-items: stretch;\n",
       "  justify-content: center;\n",
       "  background-color: var(--sklearn-color-background);\n",
       "  position: relative;\n",
       "}\n",
       "\n",
       "#sk-container-id-1 div.sk-parallel-item {\n",
       "  display: flex;\n",
       "  flex-direction: column;\n",
       "}\n",
       "\n",
       "#sk-container-id-1 div.sk-parallel-item:first-child::after {\n",
       "  align-self: flex-end;\n",
       "  width: 50%;\n",
       "}\n",
       "\n",
       "#sk-container-id-1 div.sk-parallel-item:last-child::after {\n",
       "  align-self: flex-start;\n",
       "  width: 50%;\n",
       "}\n",
       "\n",
       "#sk-container-id-1 div.sk-parallel-item:only-child::after {\n",
       "  width: 0;\n",
       "}\n",
       "\n",
       "/* Serial-specific style estimator block */\n",
       "\n",
       "#sk-container-id-1 div.sk-serial {\n",
       "  display: flex;\n",
       "  flex-direction: column;\n",
       "  align-items: center;\n",
       "  background-color: var(--sklearn-color-background);\n",
       "  padding-right: 1em;\n",
       "  padding-left: 1em;\n",
       "}\n",
       "\n",
       "\n",
       "/* Toggleable style: style used for estimator/Pipeline/ColumnTransformer box that is\n",
       "clickable and can be expanded/collapsed.\n",
       "- Pipeline and ColumnTransformer use this feature and define the default style\n",
       "- Estimators will overwrite some part of the style using the `sk-estimator` class\n",
       "*/\n",
       "\n",
       "/* Pipeline and ColumnTransformer style (default) */\n",
       "\n",
       "#sk-container-id-1 div.sk-toggleable {\n",
       "  /* Default theme specific background. It is overwritten whether we have a\n",
       "  specific estimator or a Pipeline/ColumnTransformer */\n",
       "  background-color: var(--sklearn-color-background);\n",
       "}\n",
       "\n",
       "/* Toggleable label */\n",
       "#sk-container-id-1 label.sk-toggleable__label {\n",
       "  cursor: pointer;\n",
       "  display: block;\n",
       "  width: 100%;\n",
       "  margin-bottom: 0;\n",
       "  padding: 0.5em;\n",
       "  box-sizing: border-box;\n",
       "  text-align: center;\n",
       "}\n",
       "\n",
       "#sk-container-id-1 label.sk-toggleable__label-arrow:before {\n",
       "  /* Arrow on the left of the label */\n",
       "  content: \"▸\";\n",
       "  float: left;\n",
       "  margin-right: 0.25em;\n",
       "  color: var(--sklearn-color-icon);\n",
       "}\n",
       "\n",
       "#sk-container-id-1 label.sk-toggleable__label-arrow:hover:before {\n",
       "  color: var(--sklearn-color-text);\n",
       "}\n",
       "\n",
       "/* Toggleable content - dropdown */\n",
       "\n",
       "#sk-container-id-1 div.sk-toggleable__content {\n",
       "  max-height: 0;\n",
       "  max-width: 0;\n",
       "  overflow: hidden;\n",
       "  text-align: left;\n",
       "  /* unfitted */\n",
       "  background-color: var(--sklearn-color-unfitted-level-0);\n",
       "}\n",
       "\n",
       "#sk-container-id-1 div.sk-toggleable__content.fitted {\n",
       "  /* fitted */\n",
       "  background-color: var(--sklearn-color-fitted-level-0);\n",
       "}\n",
       "\n",
       "#sk-container-id-1 div.sk-toggleable__content pre {\n",
       "  margin: 0.2em;\n",
       "  border-radius: 0.25em;\n",
       "  color: var(--sklearn-color-text);\n",
       "  /* unfitted */\n",
       "  background-color: var(--sklearn-color-unfitted-level-0);\n",
       "}\n",
       "\n",
       "#sk-container-id-1 div.sk-toggleable__content.fitted pre {\n",
       "  /* unfitted */\n",
       "  background-color: var(--sklearn-color-fitted-level-0);\n",
       "}\n",
       "\n",
       "#sk-container-id-1 input.sk-toggleable__control:checked~div.sk-toggleable__content {\n",
       "  /* Expand drop-down */\n",
       "  max-height: 200px;\n",
       "  max-width: 100%;\n",
       "  overflow: auto;\n",
       "}\n",
       "\n",
       "#sk-container-id-1 input.sk-toggleable__control:checked~label.sk-toggleable__label-arrow:before {\n",
       "  content: \"▾\";\n",
       "}\n",
       "\n",
       "/* Pipeline/ColumnTransformer-specific style */\n",
       "\n",
       "#sk-container-id-1 div.sk-label input.sk-toggleable__control:checked~label.sk-toggleable__label {\n",
       "  color: var(--sklearn-color-text);\n",
       "  background-color: var(--sklearn-color-unfitted-level-2);\n",
       "}\n",
       "\n",
       "#sk-container-id-1 div.sk-label.fitted input.sk-toggleable__control:checked~label.sk-toggleable__label {\n",
       "  background-color: var(--sklearn-color-fitted-level-2);\n",
       "}\n",
       "\n",
       "/* Estimator-specific style */\n",
       "\n",
       "/* Colorize estimator box */\n",
       "#sk-container-id-1 div.sk-estimator input.sk-toggleable__control:checked~label.sk-toggleable__label {\n",
       "  /* unfitted */\n",
       "  background-color: var(--sklearn-color-unfitted-level-2);\n",
       "}\n",
       "\n",
       "#sk-container-id-1 div.sk-estimator.fitted input.sk-toggleable__control:checked~label.sk-toggleable__label {\n",
       "  /* fitted */\n",
       "  background-color: var(--sklearn-color-fitted-level-2);\n",
       "}\n",
       "\n",
       "#sk-container-id-1 div.sk-label label.sk-toggleable__label,\n",
       "#sk-container-id-1 div.sk-label label {\n",
       "  /* The background is the default theme color */\n",
       "  color: var(--sklearn-color-text-on-default-background);\n",
       "}\n",
       "\n",
       "/* On hover, darken the color of the background */\n",
       "#sk-container-id-1 div.sk-label:hover label.sk-toggleable__label {\n",
       "  color: var(--sklearn-color-text);\n",
       "  background-color: var(--sklearn-color-unfitted-level-2);\n",
       "}\n",
       "\n",
       "/* Label box, darken color on hover, fitted */\n",
       "#sk-container-id-1 div.sk-label.fitted:hover label.sk-toggleable__label.fitted {\n",
       "  color: var(--sklearn-color-text);\n",
       "  background-color: var(--sklearn-color-fitted-level-2);\n",
       "}\n",
       "\n",
       "/* Estimator label */\n",
       "\n",
       "#sk-container-id-1 div.sk-label label {\n",
       "  font-family: monospace;\n",
       "  font-weight: bold;\n",
       "  display: inline-block;\n",
       "  line-height: 1.2em;\n",
       "}\n",
       "\n",
       "#sk-container-id-1 div.sk-label-container {\n",
       "  text-align: center;\n",
       "}\n",
       "\n",
       "/* Estimator-specific */\n",
       "#sk-container-id-1 div.sk-estimator {\n",
       "  font-family: monospace;\n",
       "  border: 1px dotted var(--sklearn-color-border-box);\n",
       "  border-radius: 0.25em;\n",
       "  box-sizing: border-box;\n",
       "  margin-bottom: 0.5em;\n",
       "  /* unfitted */\n",
       "  background-color: var(--sklearn-color-unfitted-level-0);\n",
       "}\n",
       "\n",
       "#sk-container-id-1 div.sk-estimator.fitted {\n",
       "  /* fitted */\n",
       "  background-color: var(--sklearn-color-fitted-level-0);\n",
       "}\n",
       "\n",
       "/* on hover */\n",
       "#sk-container-id-1 div.sk-estimator:hover {\n",
       "  /* unfitted */\n",
       "  background-color: var(--sklearn-color-unfitted-level-2);\n",
       "}\n",
       "\n",
       "#sk-container-id-1 div.sk-estimator.fitted:hover {\n",
       "  /* fitted */\n",
       "  background-color: var(--sklearn-color-fitted-level-2);\n",
       "}\n",
       "\n",
       "/* Specification for estimator info (e.g. \"i\" and \"?\") */\n",
       "\n",
       "/* Common style for \"i\" and \"?\" */\n",
       "\n",
       ".sk-estimator-doc-link,\n",
       "a:link.sk-estimator-doc-link,\n",
       "a:visited.sk-estimator-doc-link {\n",
       "  float: right;\n",
       "  font-size: smaller;\n",
       "  line-height: 1em;\n",
       "  font-family: monospace;\n",
       "  background-color: var(--sklearn-color-background);\n",
       "  border-radius: 1em;\n",
       "  height: 1em;\n",
       "  width: 1em;\n",
       "  text-decoration: none !important;\n",
       "  margin-left: 1ex;\n",
       "  /* unfitted */\n",
       "  border: var(--sklearn-color-unfitted-level-1) 1pt solid;\n",
       "  color: var(--sklearn-color-unfitted-level-1);\n",
       "}\n",
       "\n",
       ".sk-estimator-doc-link.fitted,\n",
       "a:link.sk-estimator-doc-link.fitted,\n",
       "a:visited.sk-estimator-doc-link.fitted {\n",
       "  /* fitted */\n",
       "  border: var(--sklearn-color-fitted-level-1) 1pt solid;\n",
       "  color: var(--sklearn-color-fitted-level-1);\n",
       "}\n",
       "\n",
       "/* On hover */\n",
       "div.sk-estimator:hover .sk-estimator-doc-link:hover,\n",
       ".sk-estimator-doc-link:hover,\n",
       "div.sk-label-container:hover .sk-estimator-doc-link:hover,\n",
       ".sk-estimator-doc-link:hover {\n",
       "  /* unfitted */\n",
       "  background-color: var(--sklearn-color-unfitted-level-3);\n",
       "  color: var(--sklearn-color-background);\n",
       "  text-decoration: none;\n",
       "}\n",
       "\n",
       "div.sk-estimator.fitted:hover .sk-estimator-doc-link.fitted:hover,\n",
       ".sk-estimator-doc-link.fitted:hover,\n",
       "div.sk-label-container:hover .sk-estimator-doc-link.fitted:hover,\n",
       ".sk-estimator-doc-link.fitted:hover {\n",
       "  /* fitted */\n",
       "  background-color: var(--sklearn-color-fitted-level-3);\n",
       "  color: var(--sklearn-color-background);\n",
       "  text-decoration: none;\n",
       "}\n",
       "\n",
       "/* Span, style for the box shown on hovering the info icon */\n",
       ".sk-estimator-doc-link span {\n",
       "  display: none;\n",
       "  z-index: 9999;\n",
       "  position: relative;\n",
       "  font-weight: normal;\n",
       "  right: .2ex;\n",
       "  padding: .5ex;\n",
       "  margin: .5ex;\n",
       "  width: min-content;\n",
       "  min-width: 20ex;\n",
       "  max-width: 50ex;\n",
       "  color: var(--sklearn-color-text);\n",
       "  box-shadow: 2pt 2pt 4pt #999;\n",
       "  /* unfitted */\n",
       "  background: var(--sklearn-color-unfitted-level-0);\n",
       "  border: .5pt solid var(--sklearn-color-unfitted-level-3);\n",
       "}\n",
       "\n",
       ".sk-estimator-doc-link.fitted span {\n",
       "  /* fitted */\n",
       "  background: var(--sklearn-color-fitted-level-0);\n",
       "  border: var(--sklearn-color-fitted-level-3);\n",
       "}\n",
       "\n",
       ".sk-estimator-doc-link:hover span {\n",
       "  display: block;\n",
       "}\n",
       "\n",
       "/* \"?\"-specific style due to the `<a>` HTML tag */\n",
       "\n",
       "#sk-container-id-1 a.estimator_doc_link {\n",
       "  float: right;\n",
       "  font-size: 1rem;\n",
       "  line-height: 1em;\n",
       "  font-family: monospace;\n",
       "  background-color: var(--sklearn-color-background);\n",
       "  border-radius: 1rem;\n",
       "  height: 1rem;\n",
       "  width: 1rem;\n",
       "  text-decoration: none;\n",
       "  /* unfitted */\n",
       "  color: var(--sklearn-color-unfitted-level-1);\n",
       "  border: var(--sklearn-color-unfitted-level-1) 1pt solid;\n",
       "}\n",
       "\n",
       "#sk-container-id-1 a.estimator_doc_link.fitted {\n",
       "  /* fitted */\n",
       "  border: var(--sklearn-color-fitted-level-1) 1pt solid;\n",
       "  color: var(--sklearn-color-fitted-level-1);\n",
       "}\n",
       "\n",
       "/* On hover */\n",
       "#sk-container-id-1 a.estimator_doc_link:hover {\n",
       "  /* unfitted */\n",
       "  background-color: var(--sklearn-color-unfitted-level-3);\n",
       "  color: var(--sklearn-color-background);\n",
       "  text-decoration: none;\n",
       "}\n",
       "\n",
       "#sk-container-id-1 a.estimator_doc_link.fitted:hover {\n",
       "  /* fitted */\n",
       "  background-color: var(--sklearn-color-fitted-level-3);\n",
       "}\n",
       "</style><div id=\"sk-container-id-1\" class=\"sk-top-container\"><div class=\"sk-text-repr-fallback\"><pre>XGBClassifier(base_score=None, booster=None, callbacks=None,\n",
       "              colsample_bylevel=None, colsample_bynode=None,\n",
       "              colsample_bytree=None, device=None, early_stopping_rounds=None,\n",
       "              enable_categorical=False, eval_metric=&#x27;logloss&#x27;,\n",
       "              feature_types=None, gamma=None, grow_policy=None,\n",
       "              importance_type=None, interaction_constraints=None,\n",
       "              learning_rate=None, max_bin=None, max_cat_threshold=None,\n",
       "              max_cat_to_onehot=None, max_delta_step=None, max_depth=None,\n",
       "              max_leaves=None, min_child_weight=None, missing=nan,\n",
       "              monotone_constraints=None, multi_strategy=None, n_estimators=None,\n",
       "              n_jobs=None, num_parallel_tree=None, random_state=None, ...)</pre><b>In a Jupyter environment, please rerun this cell to show the HTML representation or trust the notebook. <br />On GitHub, the HTML representation is unable to render, please try loading this page with nbviewer.org.</b></div><div class=\"sk-container\" hidden><div class=\"sk-item\"><div class=\"sk-estimator fitted sk-toggleable\"><input class=\"sk-toggleable__control sk-hidden--visually\" id=\"sk-estimator-id-1\" type=\"checkbox\" checked><label for=\"sk-estimator-id-1\" class=\"sk-toggleable__label fitted sk-toggleable__label-arrow fitted\">&nbsp;XGBClassifier<span class=\"sk-estimator-doc-link fitted\">i<span>Fitted</span></span></label><div class=\"sk-toggleable__content fitted\"><pre>XGBClassifier(base_score=None, booster=None, callbacks=None,\n",
       "              colsample_bylevel=None, colsample_bynode=None,\n",
       "              colsample_bytree=None, device=None, early_stopping_rounds=None,\n",
       "              enable_categorical=False, eval_metric=&#x27;logloss&#x27;,\n",
       "              feature_types=None, gamma=None, grow_policy=None,\n",
       "              importance_type=None, interaction_constraints=None,\n",
       "              learning_rate=None, max_bin=None, max_cat_threshold=None,\n",
       "              max_cat_to_onehot=None, max_delta_step=None, max_depth=None,\n",
       "              max_leaves=None, min_child_weight=None, missing=nan,\n",
       "              monotone_constraints=None, multi_strategy=None, n_estimators=None,\n",
       "              n_jobs=None, num_parallel_tree=None, random_state=None, ...)</pre></div> </div></div></div></div>"
      ],
      "text/plain": [
       "XGBClassifier(base_score=None, booster=None, callbacks=None,\n",
       "              colsample_bylevel=None, colsample_bynode=None,\n",
       "              colsample_bytree=None, device=None, early_stopping_rounds=None,\n",
       "              enable_categorical=False, eval_metric='logloss',\n",
       "              feature_types=None, gamma=None, grow_policy=None,\n",
       "              importance_type=None, interaction_constraints=None,\n",
       "              learning_rate=None, max_bin=None, max_cat_threshold=None,\n",
       "              max_cat_to_onehot=None, max_delta_step=None, max_depth=None,\n",
       "              max_leaves=None, min_child_weight=None, missing=nan,\n",
       "              monotone_constraints=None, multi_strategy=None, n_estimators=None,\n",
       "              n_jobs=None, num_parallel_tree=None, random_state=None, ...)"
      ]
     },
     "execution_count": 74,
     "metadata": {},
     "output_type": "execute_result"
    }
   ],
   "source": [
    "model.fit(X_train, y_train)"
   ]
  },
  {
   "cell_type": "code",
   "execution_count": 75,
   "metadata": {},
   "outputs": [],
   "source": [
    "y_pred = model.predict(X_test)"
   ]
  },
  {
   "cell_type": "code",
   "execution_count": 76,
   "metadata": {},
   "outputs": [
    {
     "name": "stdout",
     "output_type": "stream",
     "text": [
      "Accuracy: 0.81\n"
     ]
    }
   ],
   "source": [
    "accuracy = (y_pred == y_test).mean()\n",
    "print(f\"Accuracy: {accuracy:.2f}\")"
   ]
  },
  {
   "cell_type": "code",
   "execution_count": 94,
   "metadata": {},
   "outputs": [],
   "source": [
    "serialize_model(model, \"farcaster_bot.json\")\n"
   ]
  },
  {
   "cell_type": "code",
   "execution_count": 93,
   "metadata": {},
   "outputs": [
    {
     "name": "stderr",
     "output_type": "stream",
     "text": [
      "An error occurred in predict: 503 Server Error: Service Unavailable for url: https://endpoint-dappadandev-687-3-1387ec18-7i3yxzspbq-ew.a.run.app/cairo_run\n",
      "Deployment predict error: Service Unavailable\n",
      "An error occurred in predict: 503 Server Error: Service Unavailable for url: https://endpoint-dappadandev-687-3-1387ec18-7i3yxzspbq-ew.a.run.app/cairo_run\n"
     ]
    },
    {
     "ename": "HTTPError",
     "evalue": "503 Server Error: Service Unavailable for url: https://endpoint-dappadandev-687-3-1387ec18-7i3yxzspbq-ew.a.run.app/cairo_run",
     "output_type": "error",
     "traceback": [
      "\u001b[0;31m---------------------------------------------------------------------------\u001b[0m",
      "\u001b[0;31mHTTPError\u001b[0m                                 Traceback (most recent call last)",
      "Cell \u001b[0;32mIn[93], line 35\u001b[0m\n\u001b[1;32m     32\u001b[0m y \u001b[38;5;241m=\u001b[39m y\u001b[38;5;241m.\u001b[39mto_numpy()\n\u001b[1;32m     33\u001b[0m X_train, X_test, y_train, y_test \u001b[38;5;241m=\u001b[39m train_test_split(X, y, test_size\u001b[38;5;241m=\u001b[39m\u001b[38;5;241m0.2\u001b[39m, random_state\u001b[38;5;241m=\u001b[39m\u001b[38;5;241m42\u001b[39m)\n\u001b[0;32m---> 35\u001b[0m _, proof_id \u001b[38;5;241m=\u001b[39m \u001b[43mexecution\u001b[49m\u001b[43m(\u001b[49m\u001b[43m)\u001b[49m\n\u001b[1;32m     36\u001b[0m \u001b[38;5;28mprint\u001b[39m(\u001b[38;5;124mf\u001b[39m\u001b[38;5;124m\"\u001b[39m\u001b[38;5;124mProof ID: \u001b[39m\u001b[38;5;132;01m{\u001b[39;00mproof_id\u001b[38;5;132;01m}\u001b[39;00m\u001b[38;5;124m\"\u001b[39m)\n",
      "Cell \u001b[0;32mIn[93], line 21\u001b[0m, in \u001b[0;36mexecution\u001b[0;34m()\u001b[0m\n\u001b[1;32m     17\u001b[0m \u001b[38;5;28;01mdef\u001b[39;00m \u001b[38;5;21mexecution\u001b[39m():\n\u001b[1;32m     18\u001b[0m     \u001b[38;5;66;03m# The input data type should match the model's expected input\u001b[39;00m\n\u001b[1;32m     19\u001b[0m     \u001b[38;5;28minput\u001b[39m \u001b[38;5;241m=\u001b[39m X_test[\u001b[38;5;241m355637\u001b[39m:\u001b[38;5;241m355638\u001b[39m]\n\u001b[0;32m---> 21\u001b[0m     (result, proof_id) \u001b[38;5;241m=\u001b[39m \u001b[43mprediction\u001b[49m\u001b[43m(\u001b[49m\u001b[38;5;28;43minput\u001b[39;49m\u001b[43m,\u001b[49m\u001b[43m \u001b[49m\u001b[43mMODEL_ID\u001b[49m\u001b[43m,\u001b[49m\u001b[43m \u001b[49m\u001b[43mVERSION_ID\u001b[49m\u001b[43m)\u001b[49m\n\u001b[1;32m     23\u001b[0m     \u001b[38;5;28mprint\u001b[39m(\u001b[38;5;124mf\u001b[39m\u001b[38;5;124m\"\u001b[39m\u001b[38;5;124mPredicted value for input \u001b[39m\u001b[38;5;132;01m{\u001b[39;00m\u001b[38;5;28minput\u001b[39m\u001b[38;5;241m.\u001b[39mflatten()[\u001b[38;5;241m0\u001b[39m]\u001b[38;5;132;01m}\u001b[39;00m\u001b[38;5;124m is \u001b[39m\u001b[38;5;132;01m{\u001b[39;00mresult\u001b[38;5;132;01m}\u001b[39;00m\u001b[38;5;124m\"\u001b[39m)\n\u001b[1;32m     25\u001b[0m     \u001b[38;5;28;01mreturn\u001b[39;00m result, proof_id\n",
      "Cell \u001b[0;32mIn[93], line 10\u001b[0m, in \u001b[0;36mprediction\u001b[0;34m(input, model_id, version_id)\u001b[0m\n\u001b[1;32m      7\u001b[0m \u001b[38;5;28;01mdef\u001b[39;00m \u001b[38;5;21mprediction\u001b[39m(\u001b[38;5;28minput\u001b[39m, model_id, version_id):\n\u001b[1;32m      8\u001b[0m     model \u001b[38;5;241m=\u001b[39m GizaModel(\u001b[38;5;28mid\u001b[39m\u001b[38;5;241m=\u001b[39mmodel_id, version\u001b[38;5;241m=\u001b[39mversion_id)\n\u001b[0;32m---> 10\u001b[0m     (result, proof_id) \u001b[38;5;241m=\u001b[39m \u001b[43mmodel\u001b[49m\u001b[38;5;241;43m.\u001b[39;49m\u001b[43mpredict\u001b[49m\u001b[43m(\u001b[49m\n\u001b[1;32m     11\u001b[0m \u001b[43m        \u001b[49m\u001b[43minput_feed\u001b[49m\u001b[38;5;241;43m=\u001b[39;49m\u001b[43m{\u001b[49m\u001b[38;5;124;43m\"\u001b[39;49m\u001b[38;5;124;43minput\u001b[39;49m\u001b[38;5;124;43m\"\u001b[39;49m\u001b[43m:\u001b[49m\u001b[43m \u001b[49m\u001b[38;5;28;43minput\u001b[39;49m\u001b[43m}\u001b[49m\u001b[43m,\u001b[49m\u001b[43m \u001b[49m\u001b[43mverifiable\u001b[49m\u001b[38;5;241;43m=\u001b[39;49m\u001b[38;5;28;43;01mTrue\u001b[39;49;00m\u001b[43m,\u001b[49m\u001b[43m \u001b[49m\u001b[43mmodel_category\u001b[49m\u001b[38;5;241;43m=\u001b[39;49m\u001b[38;5;124;43m\"\u001b[39;49m\u001b[38;5;124;43mXGB\u001b[39;49m\u001b[38;5;124;43m\"\u001b[39;49m\n\u001b[1;32m     12\u001b[0m \u001b[43m    \u001b[49m\u001b[43m)\u001b[49m\n\u001b[1;32m     14\u001b[0m     \u001b[38;5;28;01mreturn\u001b[39;00m result, proof_id\n",
      "File \u001b[0;32m~/Developer/giza-farcater-bot/.venv/lib/python3.11/site-packages/giza/agents/model.py:333\u001b[0m, in \u001b[0;36mGizaModel.predict\u001b[0;34m(self, input_file, input_feed, verifiable, fp_impl, custom_output_dtype, model_category, job_size, dry_run)\u001b[0m\n\u001b[1;32m    331\u001b[0m \u001b[38;5;28;01mexcept\u001b[39;00m \u001b[38;5;167;01mException\u001b[39;00m \u001b[38;5;28;01mas\u001b[39;00m e:\n\u001b[1;32m    332\u001b[0m     logger\u001b[38;5;241m.\u001b[39merror(\u001b[38;5;124mf\u001b[39m\u001b[38;5;124m\"\u001b[39m\u001b[38;5;124mAn error occurred in predict: \u001b[39m\u001b[38;5;132;01m{\u001b[39;00me\u001b[38;5;132;01m}\u001b[39;00m\u001b[38;5;124m\"\u001b[39m)\n\u001b[0;32m--> 333\u001b[0m     \u001b[38;5;28;01mraise\u001b[39;00m e\n",
      "File \u001b[0;32m~/Developer/giza-farcater-bot/.venv/lib/python3.11/site-packages/giza/agents/model.py:297\u001b[0m, in \u001b[0;36mGizaModel.predict\u001b[0;34m(self, input_file, input_feed, verifiable, fp_impl, custom_output_dtype, model_category, job_size, dry_run)\u001b[0m\n\u001b[1;32m    295\u001b[0m     error_message \u001b[38;5;241m=\u001b[39m \u001b[38;5;124mf\u001b[39m\u001b[38;5;124m\"\u001b[39m\u001b[38;5;124mDeployment predict error: \u001b[39m\u001b[38;5;132;01m{\u001b[39;00mresponse\u001b[38;5;241m.\u001b[39mtext\u001b[38;5;132;01m}\u001b[39;00m\u001b[38;5;124m\"\u001b[39m\n\u001b[1;32m    296\u001b[0m     logger\u001b[38;5;241m.\u001b[39merror(error_message)\n\u001b[0;32m--> 297\u001b[0m     \u001b[38;5;28;01mraise\u001b[39;00m e\n\u001b[1;32m    299\u001b[0m body \u001b[38;5;241m=\u001b[39m response\u001b[38;5;241m.\u001b[39mjson()\n\u001b[1;32m    300\u001b[0m serialized_output \u001b[38;5;241m=\u001b[39m body[\u001b[38;5;124m\"\u001b[39m\u001b[38;5;124mresult\u001b[39m\u001b[38;5;124m\"\u001b[39m]\n",
      "File \u001b[0;32m~/Developer/giza-farcater-bot/.venv/lib/python3.11/site-packages/giza/agents/model.py:292\u001b[0m, in \u001b[0;36mGizaModel.predict\u001b[0;34m(self, input_file, input_feed, verifiable, fp_impl, custom_output_dtype, model_category, job_size, dry_run)\u001b[0m\n\u001b[1;32m    289\u001b[0m response \u001b[38;5;241m=\u001b[39m requests\u001b[38;5;241m.\u001b[39mpost(\u001b[38;5;28mself\u001b[39m\u001b[38;5;241m.\u001b[39muri, json\u001b[38;5;241m=\u001b[39mpayload)\n\u001b[1;32m    291\u001b[0m \u001b[38;5;28;01mtry\u001b[39;00m:\n\u001b[0;32m--> 292\u001b[0m     \u001b[43mresponse\u001b[49m\u001b[38;5;241;43m.\u001b[39;49m\u001b[43mraise_for_status\u001b[49m\u001b[43m(\u001b[49m\u001b[43m)\u001b[49m\n\u001b[1;32m    293\u001b[0m \u001b[38;5;28;01mexcept\u001b[39;00m requests\u001b[38;5;241m.\u001b[39mexceptions\u001b[38;5;241m.\u001b[39mHTTPError \u001b[38;5;28;01mas\u001b[39;00m e:\n\u001b[1;32m    294\u001b[0m     logger\u001b[38;5;241m.\u001b[39merror(\u001b[38;5;124mf\u001b[39m\u001b[38;5;124m\"\u001b[39m\u001b[38;5;124mAn error occurred in predict: \u001b[39m\u001b[38;5;132;01m{\u001b[39;00me\u001b[38;5;132;01m}\u001b[39;00m\u001b[38;5;124m\"\u001b[39m)\n",
      "File \u001b[0;32m~/Developer/giza-farcater-bot/.venv/lib/python3.11/site-packages/requests/models.py:1021\u001b[0m, in \u001b[0;36mResponse.raise_for_status\u001b[0;34m(self)\u001b[0m\n\u001b[1;32m   1016\u001b[0m     http_error_msg \u001b[38;5;241m=\u001b[39m (\n\u001b[1;32m   1017\u001b[0m         \u001b[38;5;124mf\u001b[39m\u001b[38;5;124m\"\u001b[39m\u001b[38;5;132;01m{\u001b[39;00m\u001b[38;5;28mself\u001b[39m\u001b[38;5;241m.\u001b[39mstatus_code\u001b[38;5;132;01m}\u001b[39;00m\u001b[38;5;124m Server Error: \u001b[39m\u001b[38;5;132;01m{\u001b[39;00mreason\u001b[38;5;132;01m}\u001b[39;00m\u001b[38;5;124m for url: \u001b[39m\u001b[38;5;132;01m{\u001b[39;00m\u001b[38;5;28mself\u001b[39m\u001b[38;5;241m.\u001b[39murl\u001b[38;5;132;01m}\u001b[39;00m\u001b[38;5;124m\"\u001b[39m\n\u001b[1;32m   1018\u001b[0m     )\n\u001b[1;32m   1020\u001b[0m \u001b[38;5;28;01mif\u001b[39;00m http_error_msg:\n\u001b[0;32m-> 1021\u001b[0m     \u001b[38;5;28;01mraise\u001b[39;00m HTTPError(http_error_msg, response\u001b[38;5;241m=\u001b[39m\u001b[38;5;28mself\u001b[39m)\n",
      "\u001b[0;31mHTTPError\u001b[0m: 503 Server Error: Service Unavailable for url: https://endpoint-dappadandev-687-3-1387ec18-7i3yxzspbq-ew.a.run.app/cairo_run"
     ]
    }
   ],
   "source": [
    "from giza.agents.model import GizaModel\n",
    "\n",
    "\n",
    "MODEL_ID = 687  # Update with your model ID\n",
    "VERSION_ID = 3  # Update with your version ID\n",
    "\n",
    "def prediction(input, model_id, version_id):\n",
    "    model = GizaModel(id=model_id, version=version_id)\n",
    "\n",
    "    (result, proof_id) = model.predict(\n",
    "        input_feed={\"input\": input}, verifiable=True, model_category=\"XGB\"\n",
    "    )\n",
    "\n",
    "    return result, proof_id\n",
    "\n",
    "\n",
    "def execution():\n",
    "    # The input data type should match the model's expected input\n",
    "    input = X_test[355637:355638]\n",
    "\n",
    "    (result, proof_id) = prediction(input, MODEL_ID, VERSION_ID)\n",
    "\n",
    "    print(f\"Predicted value for input {input.flatten()[0]} is {result}\")\n",
    "\n",
    "    return result, proof_id\n",
    "\n",
    "\n",
    "if __name__ == \"__main__\":\n",
    "    X = new_df\n",
    "    y = df[\"is_bot\"]\n",
    "    X = X.to_numpy()\n",
    "    y = y.to_numpy()\n",
    "    X_train, X_test, y_train, y_test = train_test_split(X, y, test_size=0.2, random_state=42)\n",
    " \n",
    "    _, proof_id = execution()\n",
    "    print(f\"Proof ID: {proof_id}\")"
   ]
  }
 ],
 "metadata": {
  "kernelspec": {
   "display_name": ".venv",
   "language": "python",
   "name": "python3"
  },
  "language_info": {
   "codemirror_mode": {
    "name": "ipython",
    "version": 3
   },
   "file_extension": ".py",
   "mimetype": "text/x-python",
   "name": "python",
   "nbconvert_exporter": "python",
   "pygments_lexer": "ipython3",
   "version": "3.11.8"
  }
 },
 "nbformat": 4,
 "nbformat_minor": 2
}
