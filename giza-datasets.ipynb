{
 "cells": [
  {
   "cell_type": "code",
   "execution_count": 1,
   "metadata": {},
   "outputs": [],
   "source": [
    "from giza.datasets import DatasetsLoader\n",
    "from giza.zkcook import serialize_model"
   ]
  },
  {
   "cell_type": "code",
   "execution_count": 2,
   "metadata": {},
   "outputs": [],
   "source": [
    "import os\n",
    "import certifi\n",
    "import json\n",
    "import polars as pl\n",
    "\n",
    "os.environ['SSL_CERT_FILE'] = certifi.where()"
   ]
  },
  {
   "cell_type": "code",
   "execution_count": 3,
   "metadata": {},
   "outputs": [
    {
     "name": "stdout",
     "output_type": "stream",
     "text": [
      "Dataset read from cache.\n",
      "Loading dataset farcaster-casts from cache.\n"
     ]
    }
   ],
   "source": [
    "loader = DatasetsLoader()\n",
    "df = loader.load('farcaster-casts')\n"
   ]
  },
  {
   "cell_type": "code",
   "execution_count": 4,
   "metadata": {},
   "outputs": [
    {
     "data": {
      "text/html": [
       "<div><style>\n",
       ".dataframe > thead > tr,\n",
       ".dataframe > tbody > tr {\n",
       "  text-align: right;\n",
       "  white-space: pre-wrap;\n",
       "}\n",
       "</style>\n",
       "<small>shape: (5, 13)</small><table border=\"1\" class=\"dataframe\"><thead><tr><th>created_at</th><th>id</th><th>fid</th><th>hash</th><th>text</th><th>embeds</th><th>mentions</th><th>parent_fid</th><th>parent_url</th><th>parent_hash</th><th>root_parent_url</th><th>root_parent_hash</th><th>mentions_positions</th></tr><tr><td>datetime[ns]</td><td>i64</td><td>i64</td><td>str</td><td>str</td><td>str</td><td>str</td><td>i64</td><td>str</td><td>str</td><td>str</td><td>str</td><td>str</td></tr></thead><tbody><tr><td>2024-01-27 05:53:58.000000906</td><td>108884669</td><td>234592</td><td>&quot;0x89dc1a122c5e…</td><td>&quot;Am late i gues…</td><td>&quot;[]&quot;</td><td>&quot;[]&quot;</td><td>2007</td><td>null</td><td>&quot;0x97f2c919a8f0…</td><td>&quot;https://warpca…</td><td>&quot;0x97f2c919a8f0…</td><td>&quot;[]&quot;</td></tr><tr><td>2024-01-27 06:04:17.000000105</td><td>108884763</td><td>234592</td><td>&quot;0x056cc3a8920e…</td><td>&quot;New to farcast…</td><td>&quot;[]&quot;</td><td>&quot;[]&quot;</td><td>null</td><td>null</td><td>null</td><td>null</td><td>&quot;0x056cc3a8920e…</td><td>&quot;[]&quot;</td></tr><tr><td>2024-01-05 13:46:37.000000043</td><td>108667070</td><td>12741</td><td>&quot;0x0a5b1c23d805…</td><td>&quot;Congrats , you…</td><td>&quot;[]&quot;</td><td>&quot;[189929]&quot;</td><td>12741</td><td>null</td><td>&quot;0xeb8c8c3695bd…</td><td>null</td><td>&quot;0xeb8c8c3695bd…</td><td>&quot;[9]&quot;</td></tr><tr><td>2024-01-23 13:34:00.000000288</td><td>108839455</td><td>12741</td><td>&quot;0x5be39f41f259…</td><td>&quot;Congrats , you…</td><td>&quot;[]&quot;</td><td>&quot;[21000]&quot;</td><td>12741</td><td>null</td><td>&quot;0xeb8c8c3695bd…</td><td>null</td><td>&quot;0xeb8c8c3695bd…</td><td>&quot;[9]&quot;</td></tr><tr><td>2024-01-23 13:39:51.000000814</td><td>108839493</td><td>12741</td><td>&quot;0xe67bb80c580e…</td><td>&quot;Congrats , you…</td><td>&quot;[]&quot;</td><td>&quot;[18944]&quot;</td><td>12741</td><td>null</td><td>&quot;0xeb8c8c3695bd…</td><td>null</td><td>&quot;0xeb8c8c3695bd…</td><td>&quot;[9]&quot;</td></tr></tbody></table></div>"
      ],
      "text/plain": [
       "shape: (5, 13)\n",
       "┌────────────┬───────────┬────────┬────────────┬───┬───────────┬───────────┬───────────┬───────────┐\n",
       "│ created_at ┆ id        ┆ fid    ┆ hash       ┆ … ┆ parent_ha ┆ root_pare ┆ root_pare ┆ mentions_ │\n",
       "│ ---        ┆ ---       ┆ ---    ┆ ---        ┆   ┆ sh        ┆ nt_url    ┆ nt_hash   ┆ positions │\n",
       "│ datetime[n ┆ i64       ┆ i64    ┆ str        ┆   ┆ ---       ┆ ---       ┆ ---       ┆ ---       │\n",
       "│ s]         ┆           ┆        ┆            ┆   ┆ str       ┆ str       ┆ str       ┆ str       │\n",
       "╞════════════╪═══════════╪════════╪════════════╪═══╪═══════════╪═══════════╪═══════════╪═══════════╡\n",
       "│ 2024-01-27 ┆ 108884669 ┆ 234592 ┆ 0x89dc1a12 ┆ … ┆ 0x97f2c91 ┆ https://w ┆ 0x97f2c91 ┆ []        │\n",
       "│ 05:53:58.0 ┆           ┆        ┆ 2c5e66e678 ┆   ┆ 9a8f06ecc ┆ arpcast.c ┆ 9a8f06ecc ┆           │\n",
       "│ 00000906   ┆           ┆        ┆ fe1f9ff410 ┆   ┆ 5673ad1d8 ┆ om/~/chan ┆ 5673ad1d8 ┆           │\n",
       "│            ┆           ┆        ┆ 47…        ┆   ┆ 8828a…    ┆ nel/c…    ┆ 8828a…    ┆           │\n",
       "│ 2024-01-27 ┆ 108884763 ┆ 234592 ┆ 0x056cc3a8 ┆ … ┆ null      ┆ null      ┆ 0x056cc3a ┆ []        │\n",
       "│ 06:04:17.0 ┆           ┆        ┆ 920edbaec2 ┆   ┆           ┆           ┆ 8920edbae ┆           │\n",
       "│ 00000105   ┆           ┆        ┆ 7114db013a ┆   ┆           ┆           ┆ c27114db0 ┆           │\n",
       "│            ┆           ┆        ┆ 01…        ┆   ┆           ┆           ┆ 13a01…    ┆           │\n",
       "│ 2024-01-05 ┆ 108667070 ┆ 12741  ┆ 0x0a5b1c23 ┆ … ┆ 0xeb8c8c3 ┆ null      ┆ 0xeb8c8c3 ┆ [9]       │\n",
       "│ 13:46:37.0 ┆           ┆        ┆ d8056318e2 ┆   ┆ 695bdb47d ┆           ┆ 695bdb47d ┆           │\n",
       "│ 00000043   ┆           ┆        ┆ d046d7026f ┆   ┆ 6ea16e247 ┆           ┆ 6ea16e247 ┆           │\n",
       "│            ┆           ┆        ┆ 75…        ┆   ┆ aa234…    ┆           ┆ aa234…    ┆           │\n",
       "│ 2024-01-23 ┆ 108839455 ┆ 12741  ┆ 0x5be39f41 ┆ … ┆ 0xeb8c8c3 ┆ null      ┆ 0xeb8c8c3 ┆ [9]       │\n",
       "│ 13:34:00.0 ┆           ┆        ┆ f259d312ed ┆   ┆ 695bdb47d ┆           ┆ 695bdb47d ┆           │\n",
       "│ 00000288   ┆           ┆        ┆ d3822f63a8 ┆   ┆ 6ea16e247 ┆           ┆ 6ea16e247 ┆           │\n",
       "│            ┆           ┆        ┆ a5…        ┆   ┆ aa234…    ┆           ┆ aa234…    ┆           │\n",
       "│ 2024-01-23 ┆ 108839493 ┆ 12741  ┆ 0xe67bb80c ┆ … ┆ 0xeb8c8c3 ┆ null      ┆ 0xeb8c8c3 ┆ [9]       │\n",
       "│ 13:39:51.0 ┆           ┆        ┆ 580e70a746 ┆   ┆ 695bdb47d ┆           ┆ 695bdb47d ┆           │\n",
       "│ 00000814   ┆           ┆        ┆ 3f1e5f534f ┆   ┆ 6ea16e247 ┆           ┆ 6ea16e247 ┆           │\n",
       "│            ┆           ┆        ┆ d1…        ┆   ┆ aa234…    ┆           ┆ aa234…    ┆           │\n",
       "└────────────┴───────────┴────────┴────────────┴───┴───────────┴───────────┴───────────┴───────────┘"
      ]
     },
     "execution_count": 4,
     "metadata": {},
     "output_type": "execute_result"
    }
   ],
   "source": [
    "df.head()"
   ]
  },
  {
   "cell_type": "code",
   "execution_count": 5,
   "metadata": {},
   "outputs": [],
   "source": [
    "df.write_csv('filename.csv')"
   ]
  },
  {
   "cell_type": "code",
   "execution_count": null,
   "metadata": {},
   "outputs": [],
   "source": [
    "sampled_df = df.sample(n=5)"
   ]
  },
  {
   "cell_type": "code",
   "execution_count": null,
   "metadata": {},
   "outputs": [],
   "source": [
    "random_values = sampled_df[\"text\"]\n",
    "random_values"
   ]
  },
  {
   "cell_type": "code",
   "execution_count": null,
   "metadata": {},
   "outputs": [],
   "source": [
    "unique_count = df['fid'].unique().len()\n",
    "unique_count"
   ]
  },
  {
   "cell_type": "code",
   "execution_count": null,
   "metadata": {},
   "outputs": [],
   "source": [
    "\n",
    "df.select(\"fid\").unique().write_csv(\"unique_fids.csv\")\n"
   ]
  },
  {
   "cell_type": "code",
   "execution_count": null,
   "metadata": {},
   "outputs": [],
   "source": [
    "num_rows = df.height\n",
    "print(num_rows)\n"
   ]
  },
  {
   "cell_type": "code",
   "execution_count": null,
   "metadata": {},
   "outputs": [],
   "source": [
    "fid_to_check = 355637\n",
    "fid_exists = (df[\"fid\"] == fid_to_check).any()\n",
    "fid_exists"
   ]
  },
  {
   "cell_type": "code",
   "execution_count": null,
   "metadata": {},
   "outputs": [],
   "source": [
    "value_to_match = \"354330\"\n",
    "\n",
    "\n",
    "filtered_df = df.filter(df[\"fid\"] == value_to_match)\n",
    "\n",
    "filtered_df.head(20)\n"
   ]
  },
  {
   "cell_type": "code",
   "execution_count": 6,
   "metadata": {},
   "outputs": [],
   "source": [
    "import json\n",
    "\n",
    "# Load the JSON file\n",
    "with open('neighbors.json') as f:\n",
    "    data = json.load(f)\n",
    "\n",
    "# Extract all the \"fid\" values from the JSON\n",
    "fids = [item['fid'] for item in data]\n",
    "\n",
    "# Create a dictionary to store the results\n",
    "result = {}\n",
    "\n",
    "# Loop over the fids and search in the DataFrame\n",
    "for fid in fids:\n",
    "    text = df.filter(pl.col('fid') == fid)['text'].to_list()\n",
    "    if text:\n",
    "        # Add 'fid': fid at the start of each unique fid\n",
    "        result[fid] = [{'fid': fid}, {'casts':text}]\n",
    "\n",
    "# Save the results to a JSON file\n",
    "with open('casts2.json', 'w') as f:\n",
    "    json.dump(result, f)\n"
   ]
  },
  {
   "cell_type": "code",
   "execution_count": 7,
   "metadata": {},
   "outputs": [],
   "source": [
    "import json\n",
    "\n",
    "# Load the JSON files into Python dictionaries\n",
    "with open('user-profiles.json') as f1, open('neighbors.json') as f2, open('casts2.json') as f3:\n",
    "    dict1 = json.load(f1)\n",
    "    dict2 = json.load(f2)\n",
    "    dict3 = json.load(f3)\n",
    "\n",
    "# Create a new dictionary to hold the combined data\n",
    "combined_dict = {}\n",
    "\n",
    "# Combine the dictionaries\n",
    "for key, value in dict1.items():\n",
    "    fid = value['result']['user']['fid']\n",
    "    if fid not in combined_dict:\n",
    "        combined_dict[fid] = {}\n",
    "    combined_dict[fid]['file1'] = value['result']['user']\n",
    "\n",
    "for item in dict2:\n",
    "    fid = item['fid']\n",
    "    if fid not in combined_dict:\n",
    "        combined_dict[fid] = {}\n",
    "    combined_dict[fid]['file2'] = item\n",
    "\n",
    "for key, value in dict3.items():\n",
    "    if isinstance(value, list) and len(value) > 1 and isinstance(value[0], dict) and 'fid' in value[0] and isinstance(value[1], dict):\n",
    "        fid = value[0]['fid']\n",
    "        if fid not in combined_dict:\n",
    "            combined_dict[fid] = {}\n",
    "        combined_dict[fid]['file3'] = value[1]\n",
    "\n",
    "# Save the combined dictionary to a new JSON file\n",
    "with open('farcaster-dataset.json', 'w') as f:\n",
    "    json.dump(combined_dict, f)"
   ]
  },
  {
   "cell_type": "code",
   "execution_count": 8,
   "metadata": {},
   "outputs": [],
   "source": [
    "data = json.load(open('farcaster-dataset.json'))"
   ]
  },
  {
   "cell_type": "code",
   "execution_count": 9,
   "metadata": {},
   "outputs": [
    {
     "name": "stdout",
     "output_type": "stream",
     "text": [
      "shape: (1_733, 15)\n",
      "┌────────┬────────────┬────────────┬───────────┬───┬───────────┬───────────┬───────────┬───────────┐\n",
      "│ fid    ┆ custodyAdd ┆ username   ┆ displayNa ┆ … ┆ powerBadg ┆ followers ┆ following ┆ casts     │\n",
      "│ ---    ┆ ress       ┆ ---        ┆ me        ┆   ┆ e         ┆ ---       ┆ ---       ┆ ---       │\n",
      "│ i64    ┆ ---        ┆ str        ┆ ---       ┆   ┆ ---       ┆ list[str] ┆ list[str] ┆ list[str] │\n",
      "│        ┆ str        ┆            ┆ str       ┆   ┆ bool      ┆           ┆           ┆           │\n",
      "╞════════╪════════════╪════════════╪═══════════╪═══╪═══════════╪═══════════╪═══════════╪═══════════╡\n",
      "│ 355637 ┆ 0x5834b8b2 ┆ faridazka8 ┆ Farid     ┆ … ┆ false     ┆ [\"441944\" ┆ [\"351755\" ┆ [\"rake    │\n",
      "│        ┆ 046aed5aa4 ┆ 330        ┆ Azka      ┆   ┆           ┆ ]         ┆ ,         ┆ fund      │\n",
      "│        ┆ f15087b120 ┆            ┆           ┆   ┆           ┆           ┆ \"341634\"] ┆ quiet,    │\n",
      "│        ┆ 64…        ┆            ┆           ┆   ┆           ┆           ┆           ┆ gulch     │\n",
      "│        ┆            ┆            ┆           ┆   ┆           ┆           ┆           ┆ wooly o…  │\n",
      "│ 328517 ┆ 0x3d941f97 ┆ tropzhoeni ┆ Tropz     ┆ … ┆ false     ┆ [\"396825\" ┆ [\"195457\" ┆ [\"Mint 50 │\n",
      "│        ┆ 55655601fc ┆ x          ┆           ┆   ┆           ┆ ,         ┆ ,         ┆ A Collect │\n",
      "│        ┆ b3a323d86e ┆            ┆           ┆   ┆           ┆ \"508457\", ┆ \"22488\",  ┆ ive       │\n",
      "│        ┆ d2…        ┆            ┆           ┆   ┆           ┆ …         ┆ … \"48\"]   ┆ Signal    │\n",
      "│        ┆            ┆            ┆           ┆   ┆           ┆ \"304685\"] ┆           ┆ wi…       │\n",
      "│ 8941   ┆ 0x87262f2e ┆ justinzhan ┆ Mad Man   ┆ … ┆ false     ┆ [\"402262\" ┆ [\"4143\",  ┆ [\"Twitter │\n",
      "│        ┆ df379f8717 ┆ g          ┆ Justin    ┆   ┆           ┆ ,         ┆ \"50\", …   ┆ : \"]      │\n",
      "│        ┆ 7830446bf1 ┆            ┆           ┆   ┆           ┆ \"400518\", ┆ \"4434\"]   ┆           │\n",
      "│        ┆ 95…        ┆            ┆           ┆   ┆           ┆ …         ┆           ┆           │\n",
      "│        ┆            ┆            ┆           ┆   ┆           ┆ \"219370\"] ┆           ┆           │\n",
      "│ 197040 ┆ 0xbaa566ac ┆ cfhgoregri ┆ Spider    ┆ … ┆ false     ┆ [\"301687\" ┆ [\"7620\",  ┆ [\"Just    │\n",
      "│        ┆ 73b277dd0e ┆ nder       ┆           ┆   ┆           ┆ ,         ┆ \"18910\",  ┆ minted    │\n",
      "│        ┆ 6efa68f73b ┆            ┆           ┆   ┆           ┆ \"471907\", ┆ … \"1317\"] ┆ Day 185   │\n",
      "│        ┆ 51…        ┆            ┆           ┆   ┆           ┆ …         ┆           ┆ on        │\n",
      "│        ┆            ┆            ┆           ┆   ┆           ┆ \"473023\"] ┆           ┆ BasePai…  │\n",
      "│ …      ┆ …          ┆ …          ┆ …         ┆ … ┆ …         ┆ …         ┆ …         ┆ …         │\n",
      "│ 314878 ┆ 0xa6ac4374 ┆ adebayo00  ┆ Adebayo   ┆ … ┆ false     ┆ [\"265542\" ┆ [\"99\",    ┆ [\"$ZORB   │\n",
      "│        ┆ 8760b372ba ┆            ┆           ┆   ┆           ┆ ,         ┆ \"20910\",  ┆ LFG\",     │\n",
      "│        ┆ 99ef541adf ┆            ┆           ┆   ┆           ┆ \"360450\", ┆ … \"80\"]   ┆ \"I'M      │\n",
      "│        ┆ 81…        ┆            ┆           ┆   ┆           ┆ …         ┆           ┆ PUNK\", …  │\n",
      "│        ┆            ┆            ┆           ┆   ┆           ┆ \"441049\"] ┆           ┆ \"TES…     │\n",
      "│ 237284 ┆ 0xb909cc51 ┆ shi        ┆ Shi       ┆ … ┆ false     ┆ [\"287985\" ┆ [\"5650\",  ┆ [\"Got     │\n",
      "│        ┆ c07c383ce0 ┆            ┆           ┆   ┆           ┆ ,         ┆ \"307348\", ┆ mine!\",   │\n",
      "│        ┆ a4067485af ┆            ┆           ┆   ┆           ┆ \"404554\", ┆ …         ┆ \"Hey,     │\n",
      "│        ┆ 5c…        ┆            ┆           ┆   ┆           ┆ …         ┆ \"270969\"] ┆ would     │\n",
      "│        ┆            ┆            ┆           ┆   ┆           ┆ \"443083\"] ┆           ┆ love t…   │\n",
      "│ 247377 ┆ 0x3172aee5 ┆ !247377    ┆ Telcontar ┆ … ┆ false     ┆ [\"260526\" ┆ [\"1258\",  ┆ [\"test\",  │\n",
      "│        ┆ e0b47bb23e ┆            ┆           ┆   ┆           ┆ ,         ┆ \"5650\", … ┆ \"test\"]   │\n",
      "│        ┆ 87db93327f ┆            ┆           ┆   ┆           ┆ \"280491\", ┆ \"3\"]      ┆           │\n",
      "│        ┆ 58…        ┆            ┆           ┆   ┆           ┆ \"533\"]    ┆           ┆           │\n",
      "│ 214076 ┆ 0x12ee88bc ┆ ligerwoods ┆ Litewood  ┆ … ┆ false     ┆ [\"375934\" ┆ [\"373260\" ┆ [\"First   │\n",
      "│        ┆ 3bf8ffcf58 ┆            ┆           ┆   ┆           ┆ ,         ┆ , \"557\",  ┆ post,     │\n",
      "│        ┆ 113b7cfaab ┆            ┆           ┆   ┆           ┆ \"336679\", ┆ …         ┆ testing   │\n",
      "│        ┆ 1d…        ┆            ┆           ┆   ┆           ┆ …         ┆ \"329883\"] ┆ things    │\n",
      "│        ┆            ┆            ┆           ┆   ┆           ┆ \"412725\"] ┆           ┆ out…      │\n",
      "└────────┴────────────┴────────────┴───────────┴───┴───────────┴───────────┴───────────┴───────────┘\n"
     ]
    }
   ],
   "source": [
    "# Initialize an empty list to store the combined data\n",
    "combined_data_list = []\n",
    "\n",
    "# Iterate over each key in the JSON object\n",
    "for key, value in data.items():\n",
    "    # Convert the key to integer and assign it as fid\n",
    "    value[\"fid\"] = int(key)\n",
    "    \n",
    "    # Combine the nested objects\n",
    "    combined_data = value[\"file1\"]\n",
    "    combined_data.update(value[\"file2\"])\n",
    "    combined_data.update(value[\"file3\"])\n",
    "    \n",
    "    # Add the combined data to the list\n",
    "    combined_data_list.append(combined_data)\n",
    "\n",
    "# Convert the list of combined data to a Polars DataFrame\n",
    "df = pl.DataFrame(combined_data_list)\n",
    "\n",
    "# Display the DataFrame\n",
    "print(df)"
   ]
  },
  {
   "cell_type": "code",
   "execution_count": 10,
   "metadata": {},
   "outputs": [
    {
     "name": "stdout",
     "output_type": "stream",
     "text": [
      "Column names: ['fid', 'custodyAddress', 'username', 'displayName', 'pfp', 'profile', 'followerCount', 'followingCount', 'verifications', 'verifiedAddresses', 'activeStatus', 'powerBadge', 'followers', 'following', 'casts']\n"
     ]
    }
   ],
   "source": [
    "# Get the column names\n",
    "print(\"Column names:\", df.columns)\n"
   ]
  },
  {
   "cell_type": "code",
   "execution_count": 11,
   "metadata": {},
   "outputs": [
    {
     "name": "stdout",
     "output_type": "stream",
     "text": [
      "Column data types: [Int64, Utf8, Utf8, Utf8, Struct([Field('url', Utf8)]), Struct([Field('bio', Struct([Field('text', Utf8), Field('mentionedProfiles', List(Null))]))]), Int64, Int64, List(Utf8), Struct([Field('eth_addresses', List(Utf8)), Field('sol_addresses', List(Utf8))]), Utf8, Boolean, List(Utf8), List(Utf8), List(Utf8)]\n"
     ]
    }
   ],
   "source": [
    "\n",
    "# Get the data types of each column\n",
    "print(\"Column data types:\", df.dtypes)\n"
   ]
  },
  {
   "cell_type": "code",
   "execution_count": 12,
   "metadata": {},
   "outputs": [
    {
     "name": "stdout",
     "output_type": "stream",
     "text": [
      "Summary statistics:\n",
      " shape: (9, 16)\n",
      "┌────────────┬────────────┬────────────┬──────────┬───┬────────────┬───────────┬───────────┬───────┐\n",
      "│ describe   ┆ fid        ┆ custodyAdd ┆ username ┆ … ┆ powerBadge ┆ followers ┆ following ┆ casts │\n",
      "│ ---        ┆ ---        ┆ ress       ┆ ---      ┆   ┆ ---        ┆ ---       ┆ ---       ┆ ---   │\n",
      "│ str        ┆ f64        ┆ ---        ┆ str      ┆   ┆ f64        ┆ str       ┆ str       ┆ str   │\n",
      "│            ┆            ┆ str        ┆          ┆   ┆            ┆           ┆           ┆       │\n",
      "╞════════════╪════════════╪════════════╪══════════╪═══╪════════════╪═══════════╪═══════════╪═══════╡\n",
      "│ count      ┆ 1733.0     ┆ 1733       ┆ 1733     ┆ … ┆ 1733.0     ┆ 1733      ┆ 1733      ┆ 1733  │\n",
      "│ null_count ┆ 0.0        ┆ 0          ┆ 0        ┆ … ┆ 0.0        ┆ 32        ┆ 15        ┆ 0     │\n",
      "│ mean       ┆ 264158.899 ┆ null       ┆ null     ┆ … ┆ 0.038084   ┆ null      ┆ null      ┆ null  │\n",
      "│            ┆ 596        ┆            ┆          ┆   ┆            ┆           ┆           ┆       │\n",
      "│ std        ┆ 92624.7840 ┆ null       ┆ null     ┆ … ┆ 0.191455   ┆ null      ┆ null      ┆ null  │\n",
      "│            ┆ 74         ┆            ┆          ┆   ┆            ┆           ┆           ┆       │\n",
      "│ min        ┆ 280.0      ┆ 0x0003d9bd ┆ !194533  ┆ … ┆ 0.0        ┆ null      ┆ null      ┆ null  │\n",
      "│            ┆            ┆ 56f62c103e ┆          ┆   ┆            ┆           ┆           ┆       │\n",
      "│            ┆            ┆ e82a124dc8 ┆          ┆   ┆            ┆           ┆           ┆       │\n",
      "│            ┆            ┆ 4b…        ┆          ┆   ┆            ┆           ┆           ┆       │\n",
      "│ 25%        ┆ 246186.0   ┆ null       ┆ null     ┆ … ┆ null       ┆ null      ┆ null      ┆ null  │\n",
      "│ 50%        ┆ 283396.0   ┆ null       ┆ null     ┆ … ┆ null       ┆ null      ┆ null      ┆ null  │\n",
      "│ 75%        ┆ 322860.0   ┆ null       ┆ null     ┆ … ┆ null       ┆ null      ┆ null      ┆ null  │\n",
      "│ max        ┆ 376600.0   ┆ 0xffe0d91c ┆ zxz      ┆ … ┆ 1.0        ┆ null      ┆ null      ┆ null  │\n",
      "│            ┆            ┆ 2c2edff546 ┆          ┆   ┆            ┆           ┆           ┆       │\n",
      "│            ┆            ┆ d8848aa1ae ┆          ┆   ┆            ┆           ┆           ┆       │\n",
      "│            ┆            ┆ 96…        ┆          ┆   ┆            ┆           ┆           ┆       │\n",
      "└────────────┴────────────┴────────────┴──────────┴───┴────────────┴───────────┴───────────┴───────┘\n"
     ]
    }
   ],
   "source": [
    "\n",
    "# Describe the DataFrame (summary statistics)\n",
    "print(\"Summary statistics:\\n\", df.describe())"
   ]
  },
  {
   "cell_type": "code",
   "execution_count": 13,
   "metadata": {},
   "outputs": [],
   "source": [
    "spammy_accounts_df = pl.read_csv('spammy_accounts_xl.csv')"
   ]
  },
  {
   "cell_type": "code",
   "execution_count": 14,
   "metadata": {},
   "outputs": [
    {
     "name": "stdout",
     "output_type": "stream",
     "text": [
      "shape: (5, 5)\n",
      "┌────────┬────────────────────────────────┬────────────────────┬─────────────┬─────────────────────┐\n",
      "│ fid    ┆ username                       ┆ reactions_received ┆ total_casts ┆ reaction_cast_ratio │\n",
      "│ ---    ┆ ---                            ┆ ---                ┆ ---         ┆ ---                 │\n",
      "│ i64    ┆ str                            ┆ i64                ┆ i64         ┆ f64                 │\n",
      "╞════════╪════════════════════════════════╪════════════════════╪═════════════╪═════════════════════╡\n",
      "│ 405154 ┆ <a                             ┆ 1                  ┆ 7086        ┆ 0.000141            │\n",
      "│        ┆ href=\"https://warpcast.com/ba… ┆                    ┆             ┆                     │\n",
      "│ 479730 ┆ <a                             ┆ 4                  ┆ 1986        ┆ 0.002014            │\n",
      "│        ┆ href=\"https://warpcast.com/mo… ┆                    ┆             ┆                     │\n",
      "│ 512982 ┆ <a                             ┆ 1                  ┆ 402         ┆ 0.002488            │\n",
      "│        ┆ href=\"https://warpcast.com/ha… ┆                    ┆             ┆                     │\n",
      "│ 575414 ┆ <a                             ┆ 1                  ┆ 400         ┆ 0.0025              │\n",
      "│        ┆ href=\"https://warpcast.com/bi… ┆                    ┆             ┆                     │\n",
      "│ 575542 ┆ <a                             ┆ 1                  ┆ 394         ┆ 0.002538            │\n",
      "│        ┆ href=\"https://warpcast.com/bi… ┆                    ┆             ┆                     │\n",
      "└────────┴────────────────────────────────┴────────────────────┴─────────────┴─────────────────────┘\n"
     ]
    }
   ],
   "source": [
    "print(spammy_accounts_df.head())"
   ]
  },
  {
   "cell_type": "code",
   "execution_count": 15,
   "metadata": {},
   "outputs": [],
   "source": [
    "df = df.with_columns(\n",
    "    pl.col(\"fid\").is_in(spammy_accounts_df[\"fid\"]).cast(pl.Int32).alias(\"is_bot\")\n",
    ")"
   ]
  },
  {
   "cell_type": "code",
   "execution_count": null,
   "metadata": {},
   "outputs": [],
   "source": [
    "print(df.head())\n"
   ]
  },
  {
   "cell_type": "code",
   "execution_count": 16,
   "metadata": {},
   "outputs": [
    {
     "data": {
      "text/plain": [
       "22"
      ]
     },
     "execution_count": 16,
     "metadata": {},
     "output_type": "execute_result"
    }
   ],
   "source": [
    "spam_count = df.filter(pl.col(\"is_bot\") == 1).shape[0]\n",
    "spam_count"
   ]
  },
  {
   "cell_type": "code",
   "execution_count": 17,
   "metadata": {},
   "outputs": [
    {
     "data": {
      "text/plain": [
       "1711"
      ]
     },
     "execution_count": 17,
     "metadata": {},
     "output_type": "execute_result"
    }
   ],
   "source": [
    "not_spam_count = df.filter(pl.col(\"is_bot\") == 0).shape[0]\n",
    "not_spam_count"
   ]
  },
  {
   "cell_type": "code",
   "execution_count": null,
   "metadata": {},
   "outputs": [],
   "source": [
    "spam_rows = df.filter(pl.col(\"is_bot\") == 1)\n",
    "spam_rows"
   ]
  },
  {
   "cell_type": "code",
   "execution_count": 19,
   "metadata": {},
   "outputs": [],
   "source": [
    "import re"
   ]
  },
  {
   "cell_type": "code",
   "execution_count": 20,
   "metadata": {},
   "outputs": [],
   "source": [
    "def contains_follow_back(casts):\n",
    "    if casts is None:\n",
    "        return False\n",
    "    pattern = re.compile(r'follow back', re.IGNORECASE)\n",
    "    return any(cast and pattern.search(cast) for cast in casts)"
   ]
  },
  {
   "cell_type": "code",
   "execution_count": 21,
   "metadata": {},
   "outputs": [
    {
     "name": "stderr",
     "output_type": "stream",
     "text": [
      "/var/folders/1f/_grxf3150cz3pw8bxtjqyprc0000gn/T/ipykernel_52402/4263721191.py:1: DeprecationWarning: `apply` is deprecated. It has been renamed to `map_elements`.\n",
      "  count_follow_back_profile = df.filter(pl.col(\"profile\").apply(contains_follow_back)).height\n"
     ]
    },
    {
     "data": {
      "text/plain": [
       "0"
      ]
     },
     "execution_count": 21,
     "metadata": {},
     "output_type": "execute_result"
    }
   ],
   "source": [
    "count_follow_back_profile = df.filter(pl.col(\"profile\").apply(contains_follow_back)).height\n",
    "count_follow_back_profile"
   ]
  },
  {
   "cell_type": "code",
   "execution_count": 22,
   "metadata": {},
   "outputs": [
    {
     "name": "stderr",
     "output_type": "stream",
     "text": [
      "/var/folders/1f/_grxf3150cz3pw8bxtjqyprc0000gn/T/ipykernel_52402/2584542436.py:1: DeprecationWarning: `apply` is deprecated. It has been renamed to `map_elements`.\n",
      "  count_follow_back = df.filter(pl.col(\"casts\").apply(contains_follow_back)).height\n"
     ]
    },
    {
     "data": {
      "text/plain": [
       "65"
      ]
     },
     "execution_count": 22,
     "metadata": {},
     "output_type": "execute_result"
    }
   ],
   "source": [
    "count_follow_back = df.filter(pl.col(\"casts\").apply(contains_follow_back)).height\n",
    "count_follow_back"
   ]
  },
  {
   "cell_type": "code",
   "execution_count": 23,
   "metadata": {},
   "outputs": [
    {
     "name": "stderr",
     "output_type": "stream",
     "text": [
      "/var/folders/1f/_grxf3150cz3pw8bxtjqyprc0000gn/T/ipykernel_52402/2584542436.py:1: DeprecationWarning: `apply` is deprecated. It has been renamed to `map_elements`.\n",
      "  count_follow_back = df.filter(pl.col(\"casts\").apply(contains_follow_back)).height\n"
     ]
    },
    {
     "data": {
      "text/plain": [
       "65"
      ]
     },
     "execution_count": 23,
     "metadata": {},
     "output_type": "execute_result"
    }
   ],
   "source": [
    "count_follow_back = df.filter(pl.col(\"casts\").apply(contains_follow_back)).height\n",
    "count_follow_back"
   ]
  },
  {
   "cell_type": "code",
   "execution_count": 24,
   "metadata": {},
   "outputs": [
    {
     "name": "stderr",
     "output_type": "stream",
     "text": [
      "/var/folders/1f/_grxf3150cz3pw8bxtjqyprc0000gn/T/ipykernel_52402/2730927236.py:2: DeprecationWarning: `apply` is deprecated. It has been renamed to `map_elements`.\n",
      "  pl.col(\"casts\").apply(lambda casts: 1 if contains_follow_back(casts) else 0).alias(\"is_bot\")\n"
     ]
    }
   ],
   "source": [
    "df = df.with_columns([\n",
    "    pl.col(\"casts\").apply(lambda casts: 1 if contains_follow_back(casts) else 0).alias(\"is_bot\")\n",
    "])"
   ]
  },
  {
   "cell_type": "code",
   "execution_count": 25,
   "metadata": {},
   "outputs": [
    {
     "data": {
      "text/plain": [
       "65"
      ]
     },
     "execution_count": 25,
     "metadata": {},
     "output_type": "execute_result"
    }
   ],
   "source": [
    "spam_count = df.filter(pl.col(\"is_bot\") == 1).shape[0]\n",
    "spam_count"
   ]
  },
  {
   "cell_type": "code",
   "execution_count": 26,
   "metadata": {},
   "outputs": [],
   "source": [
    "def contains_moon(casts):\n",
    "    if casts is None:\n",
    "        return False\n",
    "    pattern = re.compile(r'moon', re.IGNORECASE)\n",
    "    return any(cast and pattern.search(cast) for cast in casts)"
   ]
  },
  {
   "cell_type": "code",
   "execution_count": 27,
   "metadata": {},
   "outputs": [
    {
     "name": "stderr",
     "output_type": "stream",
     "text": [
      "/var/folders/1f/_grxf3150cz3pw8bxtjqyprc0000gn/T/ipykernel_52402/2069762324.py:1: DeprecationWarning: `apply` is deprecated. It has been renamed to `map_elements`.\n",
      "  count_moon = df.filter(pl.col(\"casts\").apply(contains_moon)).height\n"
     ]
    },
    {
     "data": {
      "text/plain": [
       "206"
      ]
     },
     "execution_count": 27,
     "metadata": {},
     "output_type": "execute_result"
    }
   ],
   "source": [
    "count_moon = df.filter(pl.col(\"casts\").apply(contains_moon)).height\n",
    "count_moon"
   ]
  },
  {
   "cell_type": "code",
   "execution_count": 28,
   "metadata": {},
   "outputs": [
    {
     "name": "stderr",
     "output_type": "stream",
     "text": [
      "/var/folders/1f/_grxf3150cz3pw8bxtjqyprc0000gn/T/ipykernel_52402/2957893485.py:2: DeprecationWarning: `apply` is deprecated. It has been renamed to `map_elements`.\n",
      "  pl.col(\"casts\").apply(lambda casts: 1 if contains_moon(casts) else 0).alias(\"is_bot\")\n"
     ]
    }
   ],
   "source": [
    "df = df.with_columns([\n",
    "    pl.col(\"casts\").apply(lambda casts: 1 if contains_moon(casts) else 0).alias(\"is_bot\")\n",
    "])"
   ]
  },
  {
   "cell_type": "code",
   "execution_count": 29,
   "metadata": {},
   "outputs": [
    {
     "data": {
      "text/plain": [
       "206"
      ]
     },
     "execution_count": 29,
     "metadata": {},
     "output_type": "execute_result"
    }
   ],
   "source": [
    "spam_count = df.filter(pl.col(\"is_bot\") == 1).shape[0]\n",
    "spam_count"
   ]
  },
  {
   "cell_type": "code",
   "execution_count": 30,
   "metadata": {},
   "outputs": [
    {
     "data": {
      "text/plain": [
       "11.886901327178304"
      ]
     },
     "execution_count": 30,
     "metadata": {},
     "output_type": "execute_result"
    }
   ],
   "source": [
    "total_rows = df.shape[0]\n",
    "percentage_bots = (spam_count / total_rows) * 100\n",
    "percentage_bots\n"
   ]
  },
  {
   "cell_type": "code",
   "execution_count": 31,
   "metadata": {},
   "outputs": [],
   "source": [
    "import polars as pl\n",
    "import re\n",
    "\n",
    "def find_follow_back_f4f(df):\n",
    "    # Define the pattern to search for\n",
    "    pattern = re.compile(r'\\bfollow back\\b|\\bf4f\\b', re.IGNORECASE)\n",
    "\n",
    "    # Extract the string value from the 'profile' struct and search for the pattern\n",
    "    mask = df['profile'].apply(lambda profile: any(pattern.search(item[0]) for item in profile))\n",
    "\n",
    "    # Count the number of rows that match the pattern\n",
    "    count = mask.sum()\n",
    "    print(count)\n",
    "\n",
    "    # Print the count of rows\n",
    "    print(f\"Number of rows that match the pattern: {count}\")\n",
    "\n",
    "    # Change the value of 'is_bot' to 1 for the rows that match the pattern\n",
    "    df = df.with_columns(pl.when(mask).then(1).otherwise(pl.col('is_bot')).alias('is_bot'))\n",
    "\n",
    "    return df\n"
   ]
  },
  {
   "cell_type": "code",
   "execution_count": 32,
   "metadata": {},
   "outputs": [
    {
     "name": "stderr",
     "output_type": "stream",
     "text": [
      "/var/folders/1f/_grxf3150cz3pw8bxtjqyprc0000gn/T/ipykernel_52402/3000581540.py:1: DeprecationWarning: `apply` is deprecated. It has been renamed to `map_elements`.\n",
      "  find_follow_back_count = df.filter(pl.col(\"profile\").apply(find_follow_back_f4f)).height\n"
     ]
    },
    {
     "ename": "ComputeError",
     "evalue": "KeyError: 'profile'",
     "output_type": "error",
     "traceback": [
      "\u001b[0;31m---------------------------------------------------------------------------\u001b[0m",
      "\u001b[0;31mComputeError\u001b[0m                              Traceback (most recent call last)",
      "Cell \u001b[0;32mIn[32], line 1\u001b[0m\n\u001b[0;32m----> 1\u001b[0m find_follow_back_count \u001b[38;5;241m=\u001b[39m \u001b[43mdf\u001b[49m\u001b[38;5;241;43m.\u001b[39;49m\u001b[43mfilter\u001b[49m\u001b[43m(\u001b[49m\u001b[43mpl\u001b[49m\u001b[38;5;241;43m.\u001b[39;49m\u001b[43mcol\u001b[49m\u001b[43m(\u001b[49m\u001b[38;5;124;43m\"\u001b[39;49m\u001b[38;5;124;43mprofile\u001b[39;49m\u001b[38;5;124;43m\"\u001b[39;49m\u001b[43m)\u001b[49m\u001b[38;5;241;43m.\u001b[39;49m\u001b[43mapply\u001b[49m\u001b[43m(\u001b[49m\u001b[43mfind_follow_back_f4f\u001b[49m\u001b[43m)\u001b[49m\u001b[43m)\u001b[49m\u001b[38;5;241m.\u001b[39mheight\n\u001b[1;32m      2\u001b[0m find_follow_back_count\n",
      "File \u001b[0;32m~/Developer/giza-farcater-bot/.venv/lib/python3.11/site-packages/polars/dataframe/frame.py:4092\u001b[0m, in \u001b[0;36mDataFrame.filter\u001b[0;34m(self, *predicates, **constraints)\u001b[0m\n\u001b[1;32m   3995\u001b[0m \u001b[38;5;28;01mdef\u001b[39;00m \u001b[38;5;21mfilter\u001b[39m(\n\u001b[1;32m   3996\u001b[0m     \u001b[38;5;28mself\u001b[39m,\n\u001b[1;32m   3997\u001b[0m     \u001b[38;5;241m*\u001b[39mpredicates: (\n\u001b[0;32m   (...)\u001b[0m\n\u001b[1;32m   4004\u001b[0m     \u001b[38;5;241m*\u001b[39m\u001b[38;5;241m*\u001b[39mconstraints: Any,\n\u001b[1;32m   4005\u001b[0m ) \u001b[38;5;241m-\u001b[39m\u001b[38;5;241m>\u001b[39m DataFrame:\n\u001b[1;32m   4006\u001b[0m \u001b[38;5;250m    \u001b[39m\u001b[38;5;124;03m\"\"\"\u001b[39;00m\n\u001b[1;32m   4007\u001b[0m \u001b[38;5;124;03m    Filter the rows in the DataFrame based on a predicate expression.\u001b[39;00m\n\u001b[1;32m   4008\u001b[0m \n\u001b[0;32m   (...)\u001b[0m\n\u001b[1;32m   4090\u001b[0m \n\u001b[1;32m   4091\u001b[0m \u001b[38;5;124;03m    \"\"\"\u001b[39;00m\n\u001b[0;32m-> 4092\u001b[0m     \u001b[38;5;28;01mreturn\u001b[39;00m \u001b[38;5;28;43mself\u001b[39;49m\u001b[38;5;241;43m.\u001b[39;49m\u001b[43mlazy\u001b[49m\u001b[43m(\u001b[49m\u001b[43m)\u001b[49m\u001b[38;5;241;43m.\u001b[39;49m\u001b[43mfilter\u001b[49m\u001b[43m(\u001b[49m\u001b[38;5;241;43m*\u001b[39;49m\u001b[43mpredicates\u001b[49m\u001b[43m,\u001b[49m\u001b[43m \u001b[49m\u001b[38;5;241;43m*\u001b[39;49m\u001b[38;5;241;43m*\u001b[39;49m\u001b[43mconstraints\u001b[49m\u001b[43m)\u001b[49m\u001b[38;5;241;43m.\u001b[39;49m\u001b[43mcollect\u001b[49m\u001b[43m(\u001b[49m\u001b[43m_eager\u001b[49m\u001b[38;5;241;43m=\u001b[39;49m\u001b[38;5;28;43;01mTrue\u001b[39;49;00m\u001b[43m)\u001b[49m\n",
      "File \u001b[0;32m~/Developer/giza-farcater-bot/.venv/lib/python3.11/site-packages/polars/utils/deprecation.py:100\u001b[0m, in \u001b[0;36mdeprecate_renamed_parameter.<locals>.decorate.<locals>.wrapper\u001b[0;34m(*args, **kwargs)\u001b[0m\n\u001b[1;32m     95\u001b[0m \u001b[38;5;129m@wraps\u001b[39m(function)\n\u001b[1;32m     96\u001b[0m \u001b[38;5;28;01mdef\u001b[39;00m \u001b[38;5;21mwrapper\u001b[39m(\u001b[38;5;241m*\u001b[39margs: P\u001b[38;5;241m.\u001b[39margs, \u001b[38;5;241m*\u001b[39m\u001b[38;5;241m*\u001b[39mkwargs: P\u001b[38;5;241m.\u001b[39mkwargs) \u001b[38;5;241m-\u001b[39m\u001b[38;5;241m>\u001b[39m T:\n\u001b[1;32m     97\u001b[0m     _rename_keyword_argument(\n\u001b[1;32m     98\u001b[0m         old_name, new_name, kwargs, function\u001b[38;5;241m.\u001b[39m\u001b[38;5;18m__name__\u001b[39m, version\n\u001b[1;32m     99\u001b[0m     )\n\u001b[0;32m--> 100\u001b[0m     \u001b[38;5;28;01mreturn\u001b[39;00m \u001b[43mfunction\u001b[49m\u001b[43m(\u001b[49m\u001b[38;5;241;43m*\u001b[39;49m\u001b[43margs\u001b[49m\u001b[43m,\u001b[49m\u001b[43m \u001b[49m\u001b[38;5;241;43m*\u001b[39;49m\u001b[38;5;241;43m*\u001b[39;49m\u001b[43mkwargs\u001b[49m\u001b[43m)\u001b[49m\n",
      "File \u001b[0;32m~/Developer/giza-farcater-bot/.venv/lib/python3.11/site-packages/polars/lazyframe/frame.py:1788\u001b[0m, in \u001b[0;36mLazyFrame.collect\u001b[0;34m(self, type_coercion, predicate_pushdown, projection_pushdown, simplify_expression, slice_pushdown, comm_subplan_elim, comm_subexpr_elim, no_optimization, streaming, _eager)\u001b[0m\n\u001b[1;32m   1775\u001b[0m     comm_subplan_elim \u001b[38;5;241m=\u001b[39m \u001b[38;5;28;01mFalse\u001b[39;00m\n\u001b[1;32m   1777\u001b[0m ldf \u001b[38;5;241m=\u001b[39m \u001b[38;5;28mself\u001b[39m\u001b[38;5;241m.\u001b[39m_ldf\u001b[38;5;241m.\u001b[39moptimization_toggle(\n\u001b[1;32m   1778\u001b[0m     type_coercion,\n\u001b[1;32m   1779\u001b[0m     predicate_pushdown,\n\u001b[0;32m   (...)\u001b[0m\n\u001b[1;32m   1786\u001b[0m     _eager,\n\u001b[1;32m   1787\u001b[0m )\n\u001b[0;32m-> 1788\u001b[0m \u001b[38;5;28;01mreturn\u001b[39;00m wrap_df(ldf\u001b[38;5;241m.\u001b[39mcollect())\n",
      "\u001b[0;31mComputeError\u001b[0m: KeyError: 'profile'"
     ]
    }
   ],
   "source": [
    "find_follow_back_count = df.filter(pl.col(\"profile\").apply(find_follow_back_f4f)).height\n",
    "find_follow_back_count"
   ]
  },
  {
   "cell_type": "code",
   "execution_count": 33,
   "metadata": {},
   "outputs": [
    {
     "data": {
      "text/plain": [
       "11.886901327178304"
      ]
     },
     "execution_count": 33,
     "metadata": {},
     "output_type": "execute_result"
    }
   ],
   "source": [
    "total_rows = df.shape[0]\n",
    "percentage_bots = (spam_count / total_rows) * 100\n",
    "percentage_bots"
   ]
  },
  {
   "cell_type": "code",
   "execution_count": 34,
   "metadata": {},
   "outputs": [
    {
     "name": "stdout",
     "output_type": "stream",
     "text": [
      "Number of rows containing 'follow back', 'f4f', 'follow me', 'follow for follow', 'airdrops', or 'follow you': 56\n"
     ]
    }
   ],
   "source": [
    "\n",
    "# Assuming df is your DataFrame\n",
    "filtered_df = df.filter(\n",
    "    (pl.col(\"profile\").struct.field(\"bio\").struct.field(\"text\").str.to_lowercase().str.contains(\"follow back\")) |\n",
    "    (pl.col(\"profile\").struct.field(\"bio\").struct.field(\"text\").str.to_lowercase().str.contains(\"f4f\")) |\n",
    "    (pl.col(\"profile\").struct.field(\"bio\").struct.field(\"text\").str.to_lowercase().str.contains(\"follow me\")) |\n",
    "    (pl.col(\"profile\").struct.field(\"bio\").struct.field(\"text\").str.to_lowercase().str.contains(\"follow for follow\")) |\n",
    "    (pl.col(\"profile\").struct.field(\"bio\").struct.field(\"text\").str.to_lowercase().str.contains(\"airdrops\")) |\n",
    "    (pl.col(\"profile\").struct.field(\"bio\").struct.field(\"text\").str.to_lowercase().str.contains(\"follow you\"))\n",
    ")\n",
    "\n",
    "num_rows = filtered_df.shape[0]\n",
    "print(f\"Number of rows containing 'follow back', 'f4f', 'follow me', 'follow for follow', 'airdrops', or 'follow you': {num_rows}\")\n",
    "\n"
   ]
  },
  {
   "cell_type": "code",
   "execution_count": 35,
   "metadata": {},
   "outputs": [
    {
     "name": "stdout",
     "output_type": "stream",
     "text": [
      "Number of rows updated: 56\n"
     ]
    }
   ],
   "source": [
    "updated_df = filtered_df.with_columns(\n",
    "    pl.lit(1).alias(\"is_bot\")\n",
    ").drop(\"is_bot\")\n",
    "\n",
    "num_rows = updated_df.shape[0]\n",
    "print(f\"Number of rows updated: {num_rows}\")"
   ]
  },
  {
   "cell_type": "code",
   "execution_count": 36,
   "metadata": {},
   "outputs": [
    {
     "name": "stdout",
     "output_type": "stream",
     "text": [
      "Data type of 'bio' field: Struct([Field('text', Utf8), Field('mentionedProfiles', List(Null))])\n"
     ]
    }
   ],
   "source": [
    "\n",
    "bio_dtype = df[\"profile\"].struct.field(\"bio\").dtype\n",
    "print(f\"Data type of 'bio' field: {bio_dtype}\")\n"
   ]
  },
  {
   "cell_type": "code",
   "execution_count": 37,
   "metadata": {},
   "outputs": [
    {
     "data": {
      "text/plain": [
       "206"
      ]
     },
     "execution_count": 37,
     "metadata": {},
     "output_type": "execute_result"
    }
   ],
   "source": [
    "spam_count = df.filter(pl.col(\"is_bot\") == 1).shape[0]\n",
    "spam_count"
   ]
  },
  {
   "cell_type": "code",
   "execution_count": 38,
   "metadata": {},
   "outputs": [
    {
     "data": {
      "text/plain": [
       "1527"
      ]
     },
     "execution_count": 38,
     "metadata": {},
     "output_type": "execute_result"
    }
   ],
   "source": [
    "real_count = df.filter(pl.col(\"is_bot\") == 0).shape[0]\n",
    "real_count"
   ]
  },
  {
   "cell_type": "markdown",
   "metadata": {},
   "source": [
    "## Taking out 497 of the non-bot accounts "
   ]
  },
  {
   "cell_type": "code",
   "execution_count": 39,
   "metadata": {},
   "outputs": [],
   "source": [
    "# Filter the dataset to only include rows where \"is_bot\" = 0\n",
    "filtered_df = df.filter(pl.col(\"is_bot\") == 0)\n",
    "\n",
    "# Randomly select 497 rows from the filtered dataset\n",
    "selected_rows = filtered_df.sample(n=497)\n",
    "\n",
    "# Remove the selected rows from the original dataset\n",
    "df = df.filter(~pl.col(\"fid\").is_in(selected_rows.get_column(\"fid\")))\n"
   ]
  },
  {
   "cell_type": "code",
   "execution_count": 40,
   "metadata": {},
   "outputs": [
    {
     "data": {
      "text/plain": [
       "1030"
      ]
     },
     "execution_count": 40,
     "metadata": {},
     "output_type": "execute_result"
    }
   ],
   "source": [
    "real_count = df.filter(pl.col(\"is_bot\") == 0).shape[0]\n",
    "real_count"
   ]
  },
  {
   "cell_type": "code",
   "execution_count": 41,
   "metadata": {},
   "outputs": [
    {
     "data": {
      "text/plain": [
       "16.666666666666664"
      ]
     },
     "execution_count": 41,
     "metadata": {},
     "output_type": "execute_result"
    }
   ],
   "source": [
    "total_rows = df.shape[0]\n",
    "percentage_bots = (spam_count / total_rows) * 100\n",
    "percentage_bots"
   ]
  },
  {
   "cell_type": "markdown",
   "metadata": {},
   "source": [
    "## Training of the Model"
   ]
  },
  {
   "cell_type": "code",
   "execution_count": 42,
   "metadata": {},
   "outputs": [],
   "source": [
    "import xgboost as xgb\n",
    "from sklearn.model_selection import train_test_split"
   ]
  },
  {
   "cell_type": "code",
   "execution_count": 43,
   "metadata": {},
   "outputs": [],
   "source": [
    "def convert_active_status(df):\n",
    "    df = df.with_columns(\n",
    "        pl.when(pl.col('activeStatus') == 'active').then(1)\n",
    "        .when(pl.col('activeStatus') == 'inactive').then(0)\n",
    "        .otherwise(pl.col('activeStatus'))\n",
    "        .cast(pl.Int8)\n",
    "        .alias('activeStatus')\n",
    "    )\n",
    "    return df\n"
   ]
  },
  {
   "cell_type": "code",
   "execution_count": 44,
   "metadata": {},
   "outputs": [],
   "source": [
    "def convert_power_badge(df):\n",
    "    df = df.with_columns(\n",
    "        pl.col('powerBadge').cast(pl.Int8).alias('powerBadge')\n",
    "    )\n",
    "    return df\n"
   ]
  },
  {
   "cell_type": "code",
   "execution_count": 45,
   "metadata": {},
   "outputs": [],
   "source": [
    "df = convert_active_status(df)\n",
    "df = convert_power_badge(df)"
   ]
  },
  {
   "cell_type": "code",
   "execution_count": 46,
   "metadata": {},
   "outputs": [
    {
     "data": {
      "text/html": [
       "<div><style>\n",
       ".dataframe > thead > tr,\n",
       ".dataframe > tbody > tr {\n",
       "  text-align: right;\n",
       "  white-space: pre-wrap;\n",
       "}\n",
       "</style>\n",
       "<small>shape: (5, 16)</small><table border=\"1\" class=\"dataframe\"><thead><tr><th>fid</th><th>custodyAddress</th><th>username</th><th>displayName</th><th>pfp</th><th>profile</th><th>followerCount</th><th>followingCount</th><th>verifications</th><th>verifiedAddresses</th><th>activeStatus</th><th>powerBadge</th><th>followers</th><th>following</th><th>casts</th><th>is_bot</th></tr><tr><td>i64</td><td>str</td><td>str</td><td>str</td><td>struct[1]</td><td>struct[1]</td><td>i64</td><td>i64</td><td>list[str]</td><td>struct[2]</td><td>i8</td><td>i8</td><td>list[str]</td><td>list[str]</td><td>list[str]</td><td>i64</td></tr></thead><tbody><tr><td>328517</td><td>&quot;0x3d941f975565…</td><td>&quot;tropzhoenix&quot;</td><td>&quot;Tropz &quot;</td><td>{&quot;https://imagedelivery.net/BXluQx4ige9GuW0Ia56BHw/5b98c4f5-6d59-433d-752b-77d22e32c500/original&quot;}</td><td>{{&quot;&quot; There are many tutorials for success, but unfortunately luck cannot be imitated &quot;&quot;,[]}}</td><td>1279</td><td>1979</td><td>[&quot;0x3d941f9755655601fcb3a323d86ed20c9b8d1e3c&quot;]</td><td>{[&quot;0x3d941f9755655601fcb3a323d86ed20c9b8d1e3c&quot;],[]}</td><td>0</td><td>0</td><td>[&quot;396825&quot;, &quot;508457&quot;, … &quot;304685&quot;]</td><td>[&quot;195457&quot;, &quot;22488&quot;, … &quot;48&quot;]</td><td>[&quot;Mint 50 A Collective Signal with UFO — Alex Guy, aiio, LGHT&quot;, null, … &quot;FREE MINT\n",
       "https://frames.neynar.com/f/cac7fdac/126aca05&quot;]</td><td>1</td></tr><tr><td>197040</td><td>&quot;0xbaa566ac73b2…</td><td>&quot;cfhgoregrinder…</td><td>&quot;Spider&quot;</td><td>{&quot;https://i.imgur.com/QUZlb6U.jpg&quot;}</td><td>{{&quot;Yo it&#x27;s spider hit that goddamn hard rock n roll! - death metal, crypto, partying, death to the nwo, chix feets=)!&quot;,[]}}</td><td>14</td><td>74</td><td>[&quot;0x4210fd4fd4402a1fc4fa4f2cbd5a362653fa9ab3&quot;]</td><td>{[&quot;0x4210fd4fd4402a1fc4fa4f2cbd5a362653fa9ab3&quot;],[]}</td><td>0</td><td>0</td><td>[&quot;301687&quot;, &quot;471907&quot;, … &quot;473023&quot;]</td><td>[&quot;7620&quot;, &quot;18910&quot;, … &quot;1317&quot;]</td><td>[&quot;Just minted Day 185 on BasePaint! Hundreds of pixel artists made this together on the blockchain. Minting is open only for 24h&quot;, &quot;cool, is this something new that I did? Which rewards exactly? Thanks&quot;, … &quot;100-1000 $AMBER&quot;]</td><td>0</td></tr><tr><td>324712</td><td>&quot;0x252c87d7e7c0…</td><td>&quot;anabut&quot;</td><td>&quot;Anabut&quot;</td><td>{&quot;https://i.imgur.com/O9jgPKI.jpg&quot;}</td><td>{{&quot;#COYG #Bitcoin #ETH #L2 🍺 🌕\n",
       "\n",
       "✅Follow me, Follow back krub 🙏&quot;,[]}}</td><td>450</td><td>650</td><td>[&quot;0x62efaf62387873ce4f72a00622f89c5335115cb1&quot;]</td><td>{[&quot;0x62efaf62387873ce4f72a00622f89c5335115cb1&quot;],[]}</td><td>0</td><td>0</td><td>[&quot;406740&quot;, &quot;361668&quot;, … &quot;317466&quot;]</td><td>[&quot;12309&quot;, &quot;313902&quot;, … &quot;401976&quot;]</td><td>[&quot;หาเพื่อนฟอล ก่อนนอนครับ ใครไม่ครบ ช่วยกันครับๆ&quot;, &quot;ARB 300 $DEGEN&quot;, … &quot;ขอแลกฟอลหน่อยค้าบบบ จะครบ 400 แล้ว  ฉลอง BTC เตรียม ATH กัน&quot;]</td><td>1</td></tr><tr><td>310689</td><td>&quot;0x6ffdeb70cfc9…</td><td>&quot;alfrees&quot;</td><td>&quot;AlFrees&quot;</td><td>{&quot;https://i.imgur.com/Whm5QDZ.jpg&quot;}</td><td>{{&quot;Projects&quot;,[]}}</td><td>23</td><td>79</td><td>[&quot;0x6ffdeb70cfc9006daef027f772208e804a8f511a&quot;]</td><td>{[&quot;0x6ffdeb70cfc9006daef027f772208e804a8f511a&quot;],[]}</td><td>0</td><td>0</td><td>[&quot;437588&quot;, &quot;261513&quot;, … &quot;239645&quot;]</td><td>[&quot;18069&quot;, &quot;8587&quot;, … &quot;160&quot;]</td><td>[&quot;Gm&quot;, &quot;I&#x27;m green&quot;]</td><td>0</td></tr><tr><td>332039</td><td>&quot;0xca227c5ab572…</td><td>&quot;iro442&quot;</td><td>&quot;Ibrahim A Aham…</td><td>{&quot;https://i.imgur.com/pgylV29.jpg&quot;}</td><td>{{&quot;I&#x27;m nice person I love joking&quot;,[]}}</td><td>28</td><td>130</td><td>[&quot;0xb712cd463f29aae45699ce236efd4b47decca8c0&quot;]</td><td>{[&quot;0xb712cd463f29aae45699ce236efd4b47decca8c0&quot;],[&quot;8CcPvgc93i8k2ZLpbz1pLEB743bsgx1r9dSH4zkNYqsg&quot;]}</td><td>0</td><td>0</td><td>[&quot;390752&quot;, &quot;334255&quot;, … &quot;361746&quot;]</td><td>[&quot;2433&quot;, &quot;390857&quot;, … &quot;363197&quot;]</td><td>[&quot;Roarr&quot;, &quot;Roar&quot;, … &quot;I just joined the @ConcreteXYZ waitlist! \n",
       "\n",
       "Use my ref link for Points and Priority Access. \n",
       "\n",
       "https://concrete.deform.cc/waitlist?referral=HCxBgHRsH1HU&quot;]</td><td>0</td></tr></tbody></table></div>"
      ],
      "text/plain": [
       "shape: (5, 16)\n",
       "┌────────┬────────────┬────────────┬────────────┬───┬────────────┬────────────┬───────────┬────────┐\n",
       "│ fid    ┆ custodyAdd ┆ username   ┆ displayNam ┆ … ┆ followers  ┆ following  ┆ casts     ┆ is_bot │\n",
       "│ ---    ┆ ress       ┆ ---        ┆ e          ┆   ┆ ---        ┆ ---        ┆ ---       ┆ ---    │\n",
       "│ i64    ┆ ---        ┆ str        ┆ ---        ┆   ┆ list[str]  ┆ list[str]  ┆ list[str] ┆ i64    │\n",
       "│        ┆ str        ┆            ┆ str        ┆   ┆            ┆            ┆           ┆        │\n",
       "╞════════╪════════════╪════════════╪════════════╪═══╪════════════╪════════════╪═══════════╪════════╡\n",
       "│ 328517 ┆ 0x3d941f97 ┆ tropzhoeni ┆ Tropz      ┆ … ┆ [\"396825\", ┆ [\"195457\", ┆ [\"Mint 50 ┆ 1      │\n",
       "│        ┆ 55655601fc ┆ x          ┆            ┆   ┆ \"508457\",  ┆ \"22488\", … ┆ A Collect ┆        │\n",
       "│        ┆ b3a323d86e ┆            ┆            ┆   ┆ …          ┆ \"48\"]      ┆ ive       ┆        │\n",
       "│        ┆ d2…        ┆            ┆            ┆   ┆ \"304685\"]  ┆            ┆ Signal    ┆        │\n",
       "│        ┆            ┆            ┆            ┆   ┆            ┆            ┆ wi…       ┆        │\n",
       "│ 197040 ┆ 0xbaa566ac ┆ cfhgoregri ┆ Spider     ┆ … ┆ [\"301687\", ┆ [\"7620\",   ┆ [\"Just    ┆ 0      │\n",
       "│        ┆ 73b277dd0e ┆ nder       ┆            ┆   ┆ \"471907\",  ┆ \"18910\", … ┆ minted    ┆        │\n",
       "│        ┆ 6efa68f73b ┆            ┆            ┆   ┆ …          ┆ \"1317\"]    ┆ Day 185   ┆        │\n",
       "│        ┆ 51…        ┆            ┆            ┆   ┆ \"473023\"]  ┆            ┆ on        ┆        │\n",
       "│        ┆            ┆            ┆            ┆   ┆            ┆            ┆ BasePai…  ┆        │\n",
       "│ 324712 ┆ 0x252c87d7 ┆ anabut     ┆ Anabut     ┆ … ┆ [\"406740\", ┆ [\"12309\",  ┆ [\"หาเพื่อนฟ ┆ 1      │\n",
       "│        ┆ e7c05042c2 ┆            ┆            ┆   ┆ \"361668\",  ┆ \"313902\",  ┆ อล        ┆        │\n",
       "│        ┆ d85f472a59 ┆            ┆            ┆   ┆ …          ┆ …          ┆ ก่อนนอนครับ ┆        │\n",
       "│        ┆ 9f…        ┆            ┆            ┆   ┆ \"317466\"]  ┆ \"401976\"]  ┆ ใครไม่…    ┆        │\n",
       "│ 310689 ┆ 0x6ffdeb70 ┆ alfrees    ┆ AlFrees    ┆ … ┆ [\"437588\", ┆ [\"18069\",  ┆ [\"Gm\",    ┆ 0      │\n",
       "│        ┆ cfc9006dae ┆            ┆            ┆   ┆ \"261513\",  ┆ \"8587\", …  ┆ \"I'm      ┆        │\n",
       "│        ┆ f027f77220 ┆            ┆            ┆   ┆ …          ┆ \"160\"]     ┆ green\"]   ┆        │\n",
       "│        ┆ 8e…        ┆            ┆            ┆   ┆ \"239645\"]  ┆            ┆           ┆        │\n",
       "│ 332039 ┆ 0xca227c5a ┆ iro442     ┆ Ibrahim A  ┆ … ┆ [\"390752\", ┆ [\"2433\",   ┆ [\"Roarr\", ┆ 0      │\n",
       "│        ┆ b5724b96ee ┆            ┆ Ahamad     ┆   ┆ \"334255\",  ┆ \"390857\",  ┆ \"Roar\", … ┆        │\n",
       "│        ┆ ec6bb3936f ┆            ┆            ┆   ┆ …          ┆ …          ┆ \"I just   ┆        │\n",
       "│        ┆ 5f…        ┆            ┆            ┆   ┆ \"361746\"]  ┆ \"363197\"]  ┆ join…     ┆        │\n",
       "└────────┴────────────┴────────────┴────────────┴───┴────────────┴────────────┴───────────┴────────┘"
      ]
     },
     "execution_count": 46,
     "metadata": {},
     "output_type": "execute_result"
    }
   ],
   "source": [
    "df.head()"
   ]
  },
  {
   "cell_type": "code",
   "execution_count": null,
   "metadata": {},
   "outputs": [],
   "source": [
    "print(df.columns)"
   ]
  },
  {
   "cell_type": "code",
   "execution_count": 71,
   "metadata": {},
   "outputs": [],
   "source": [
    "new_df = df.select(['fid', 'followerCount', 'followingCount', \"activeStatus\", \"powerBadge\"])\n"
   ]
  },
  {
   "cell_type": "code",
   "execution_count": 72,
   "metadata": {},
   "outputs": [
    {
     "data": {
      "text/html": [
       "<div><style>\n",
       ".dataframe > thead > tr,\n",
       ".dataframe > tbody > tr {\n",
       "  text-align: right;\n",
       "  white-space: pre-wrap;\n",
       "}\n",
       "</style>\n",
       "<small>shape: (5, 5)</small><table border=\"1\" class=\"dataframe\"><thead><tr><th>fid</th><th>followerCount</th><th>followingCount</th><th>activeStatus</th><th>powerBadge</th></tr><tr><td>i64</td><td>i64</td><td>i64</td><td>i8</td><td>i8</td></tr></thead><tbody><tr><td>328517</td><td>1279</td><td>1979</td><td>0</td><td>0</td></tr><tr><td>197040</td><td>14</td><td>74</td><td>0</td><td>0</td></tr><tr><td>324712</td><td>450</td><td>650</td><td>0</td><td>0</td></tr><tr><td>310689</td><td>23</td><td>79</td><td>0</td><td>0</td></tr><tr><td>332039</td><td>28</td><td>130</td><td>0</td><td>0</td></tr></tbody></table></div>"
      ],
      "text/plain": [
       "shape: (5, 5)\n",
       "┌────────┬───────────────┬────────────────┬──────────────┬────────────┐\n",
       "│ fid    ┆ followerCount ┆ followingCount ┆ activeStatus ┆ powerBadge │\n",
       "│ ---    ┆ ---           ┆ ---            ┆ ---          ┆ ---        │\n",
       "│ i64    ┆ i64           ┆ i64            ┆ i8           ┆ i8         │\n",
       "╞════════╪═══════════════╪════════════════╪══════════════╪════════════╡\n",
       "│ 328517 ┆ 1279          ┆ 1979           ┆ 0            ┆ 0          │\n",
       "│ 197040 ┆ 14            ┆ 74             ┆ 0            ┆ 0          │\n",
       "│ 324712 ┆ 450           ┆ 650            ┆ 0            ┆ 0          │\n",
       "│ 310689 ┆ 23            ┆ 79             ┆ 0            ┆ 0          │\n",
       "│ 332039 ┆ 28            ┆ 130            ┆ 0            ┆ 0          │\n",
       "└────────┴───────────────┴────────────────┴──────────────┴────────────┘"
      ]
     },
     "execution_count": 72,
     "metadata": {},
     "output_type": "execute_result"
    }
   ],
   "source": [
    "new_df.head()"
   ]
  },
  {
   "cell_type": "code",
   "execution_count": 73,
   "metadata": {},
   "outputs": [],
   "source": [
    "X = new_df\n",
    "y = df[\"is_bot\"]"
   ]
  },
  {
   "cell_type": "code",
   "execution_count": 85,
   "metadata": {},
   "outputs": [
    {
     "ename": "AttributeError",
     "evalue": "'numpy.ndarray' object has no attribute 'to_numpy'",
     "output_type": "error",
     "traceback": [
      "\u001b[0;31m---------------------------------------------------------------------------\u001b[0m",
      "\u001b[0;31mAttributeError\u001b[0m                            Traceback (most recent call last)",
      "Cell \u001b[0;32mIn[85], line 4\u001b[0m\n\u001b[1;32m      1\u001b[0m \u001b[38;5;28;01mfrom\u001b[39;00m \u001b[38;5;21;01msklearn\u001b[39;00m\u001b[38;5;21;01m.\u001b[39;00m\u001b[38;5;21;01mpreprocessing\u001b[39;00m \u001b[38;5;28;01mimport\u001b[39;00m StandardScaler\n\u001b[0;32m----> 4\u001b[0m X \u001b[38;5;241m=\u001b[39m \u001b[43mX\u001b[49m\u001b[38;5;241;43m.\u001b[39;49m\u001b[43mto_numpy\u001b[49m()\n\u001b[1;32m      5\u001b[0m y \u001b[38;5;241m=\u001b[39m y\u001b[38;5;241m.\u001b[39mto_numpy()\n",
      "\u001b[0;31mAttributeError\u001b[0m: 'numpy.ndarray' object has no attribute 'to_numpy'"
     ]
    }
   ],
   "source": [
    "\n",
    "\n",
    "X = X.to_numpy()\n",
    "y = y.to_numpy()"
   ]
  },
  {
   "cell_type": "code",
   "execution_count": 86,
   "metadata": {},
   "outputs": [],
   "source": [
    "X_train, X_test, y_train, y_test = train_test_split(X, y, test_size=0.2, random_state=42)"
   ]
  },
  {
   "cell_type": "code",
   "execution_count": 107,
   "metadata": {},
   "outputs": [],
   "source": [
    "from sklearn.preprocessing import StandardScaler\n",
    "\n",
    "\n",
    "scaler = StandardScaler()\n",
    "scaler.fit(X_train)\n",
    "X_train = scaler.transform(X_train)\n",
    "X_test = scaler.transform(X_test)"
   ]
  },
  {
   "cell_type": "code",
   "execution_count": 109,
   "metadata": {},
   "outputs": [
    {
     "data": {
      "text/plain": [
       "array([ 0.13812939, -0.03711698,  0.08585357,  0.        , -0.20272121])"
      ]
     },
     "execution_count": 109,
     "metadata": {},
     "output_type": "execute_result"
    }
   ],
   "source": [
    "X_test[1]"
   ]
  },
  {
   "cell_type": "code",
   "execution_count": 100,
   "metadata": {},
   "outputs": [],
   "source": [
    "model = xgb.XGBClassifier(use_label_encoder=False, eval_metric=\"logloss\")"
   ]
  },
  {
   "cell_type": "code",
   "execution_count": 101,
   "metadata": {},
   "outputs": [
    {
     "data": {
      "text/html": [
       "<style>#sk-container-id-6 {\n",
       "  /* Definition of color scheme common for light and dark mode */\n",
       "  --sklearn-color-text: black;\n",
       "  --sklearn-color-line: gray;\n",
       "  /* Definition of color scheme for unfitted estimators */\n",
       "  --sklearn-color-unfitted-level-0: #fff5e6;\n",
       "  --sklearn-color-unfitted-level-1: #f6e4d2;\n",
       "  --sklearn-color-unfitted-level-2: #ffe0b3;\n",
       "  --sklearn-color-unfitted-level-3: chocolate;\n",
       "  /* Definition of color scheme for fitted estimators */\n",
       "  --sklearn-color-fitted-level-0: #f0f8ff;\n",
       "  --sklearn-color-fitted-level-1: #d4ebff;\n",
       "  --sklearn-color-fitted-level-2: #b3dbfd;\n",
       "  --sklearn-color-fitted-level-3: cornflowerblue;\n",
       "\n",
       "  /* Specific color for light theme */\n",
       "  --sklearn-color-text-on-default-background: var(--sg-text-color, var(--theme-code-foreground, var(--jp-content-font-color1, black)));\n",
       "  --sklearn-color-background: var(--sg-background-color, var(--theme-background, var(--jp-layout-color0, white)));\n",
       "  --sklearn-color-border-box: var(--sg-text-color, var(--theme-code-foreground, var(--jp-content-font-color1, black)));\n",
       "  --sklearn-color-icon: #696969;\n",
       "\n",
       "  @media (prefers-color-scheme: dark) {\n",
       "    /* Redefinition of color scheme for dark theme */\n",
       "    --sklearn-color-text-on-default-background: var(--sg-text-color, var(--theme-code-foreground, var(--jp-content-font-color1, white)));\n",
       "    --sklearn-color-background: var(--sg-background-color, var(--theme-background, var(--jp-layout-color0, #111)));\n",
       "    --sklearn-color-border-box: var(--sg-text-color, var(--theme-code-foreground, var(--jp-content-font-color1, white)));\n",
       "    --sklearn-color-icon: #878787;\n",
       "  }\n",
       "}\n",
       "\n",
       "#sk-container-id-6 {\n",
       "  color: var(--sklearn-color-text);\n",
       "}\n",
       "\n",
       "#sk-container-id-6 pre {\n",
       "  padding: 0;\n",
       "}\n",
       "\n",
       "#sk-container-id-6 input.sk-hidden--visually {\n",
       "  border: 0;\n",
       "  clip: rect(1px 1px 1px 1px);\n",
       "  clip: rect(1px, 1px, 1px, 1px);\n",
       "  height: 1px;\n",
       "  margin: -1px;\n",
       "  overflow: hidden;\n",
       "  padding: 0;\n",
       "  position: absolute;\n",
       "  width: 1px;\n",
       "}\n",
       "\n",
       "#sk-container-id-6 div.sk-dashed-wrapped {\n",
       "  border: 1px dashed var(--sklearn-color-line);\n",
       "  margin: 0 0.4em 0.5em 0.4em;\n",
       "  box-sizing: border-box;\n",
       "  padding-bottom: 0.4em;\n",
       "  background-color: var(--sklearn-color-background);\n",
       "}\n",
       "\n",
       "#sk-container-id-6 div.sk-container {\n",
       "  /* jupyter's `normalize.less` sets `[hidden] { display: none; }`\n",
       "     but bootstrap.min.css set `[hidden] { display: none !important; }`\n",
       "     so we also need the `!important` here to be able to override the\n",
       "     default hidden behavior on the sphinx rendered scikit-learn.org.\n",
       "     See: https://github.com/scikit-learn/scikit-learn/issues/21755 */\n",
       "  display: inline-block !important;\n",
       "  position: relative;\n",
       "}\n",
       "\n",
       "#sk-container-id-6 div.sk-text-repr-fallback {\n",
       "  display: none;\n",
       "}\n",
       "\n",
       "div.sk-parallel-item,\n",
       "div.sk-serial,\n",
       "div.sk-item {\n",
       "  /* draw centered vertical line to link estimators */\n",
       "  background-image: linear-gradient(var(--sklearn-color-text-on-default-background), var(--sklearn-color-text-on-default-background));\n",
       "  background-size: 2px 100%;\n",
       "  background-repeat: no-repeat;\n",
       "  background-position: center center;\n",
       "}\n",
       "\n",
       "/* Parallel-specific style estimator block */\n",
       "\n",
       "#sk-container-id-6 div.sk-parallel-item::after {\n",
       "  content: \"\";\n",
       "  width: 100%;\n",
       "  border-bottom: 2px solid var(--sklearn-color-text-on-default-background);\n",
       "  flex-grow: 1;\n",
       "}\n",
       "\n",
       "#sk-container-id-6 div.sk-parallel {\n",
       "  display: flex;\n",
       "  align-items: stretch;\n",
       "  justify-content: center;\n",
       "  background-color: var(--sklearn-color-background);\n",
       "  position: relative;\n",
       "}\n",
       "\n",
       "#sk-container-id-6 div.sk-parallel-item {\n",
       "  display: flex;\n",
       "  flex-direction: column;\n",
       "}\n",
       "\n",
       "#sk-container-id-6 div.sk-parallel-item:first-child::after {\n",
       "  align-self: flex-end;\n",
       "  width: 50%;\n",
       "}\n",
       "\n",
       "#sk-container-id-6 div.sk-parallel-item:last-child::after {\n",
       "  align-self: flex-start;\n",
       "  width: 50%;\n",
       "}\n",
       "\n",
       "#sk-container-id-6 div.sk-parallel-item:only-child::after {\n",
       "  width: 0;\n",
       "}\n",
       "\n",
       "/* Serial-specific style estimator block */\n",
       "\n",
       "#sk-container-id-6 div.sk-serial {\n",
       "  display: flex;\n",
       "  flex-direction: column;\n",
       "  align-items: center;\n",
       "  background-color: var(--sklearn-color-background);\n",
       "  padding-right: 1em;\n",
       "  padding-left: 1em;\n",
       "}\n",
       "\n",
       "\n",
       "/* Toggleable style: style used for estimator/Pipeline/ColumnTransformer box that is\n",
       "clickable and can be expanded/collapsed.\n",
       "- Pipeline and ColumnTransformer use this feature and define the default style\n",
       "- Estimators will overwrite some part of the style using the `sk-estimator` class\n",
       "*/\n",
       "\n",
       "/* Pipeline and ColumnTransformer style (default) */\n",
       "\n",
       "#sk-container-id-6 div.sk-toggleable {\n",
       "  /* Default theme specific background. It is overwritten whether we have a\n",
       "  specific estimator or a Pipeline/ColumnTransformer */\n",
       "  background-color: var(--sklearn-color-background);\n",
       "}\n",
       "\n",
       "/* Toggleable label */\n",
       "#sk-container-id-6 label.sk-toggleable__label {\n",
       "  cursor: pointer;\n",
       "  display: block;\n",
       "  width: 100%;\n",
       "  margin-bottom: 0;\n",
       "  padding: 0.5em;\n",
       "  box-sizing: border-box;\n",
       "  text-align: center;\n",
       "}\n",
       "\n",
       "#sk-container-id-6 label.sk-toggleable__label-arrow:before {\n",
       "  /* Arrow on the left of the label */\n",
       "  content: \"▸\";\n",
       "  float: left;\n",
       "  margin-right: 0.25em;\n",
       "  color: var(--sklearn-color-icon);\n",
       "}\n",
       "\n",
       "#sk-container-id-6 label.sk-toggleable__label-arrow:hover:before {\n",
       "  color: var(--sklearn-color-text);\n",
       "}\n",
       "\n",
       "/* Toggleable content - dropdown */\n",
       "\n",
       "#sk-container-id-6 div.sk-toggleable__content {\n",
       "  max-height: 0;\n",
       "  max-width: 0;\n",
       "  overflow: hidden;\n",
       "  text-align: left;\n",
       "  /* unfitted */\n",
       "  background-color: var(--sklearn-color-unfitted-level-0);\n",
       "}\n",
       "\n",
       "#sk-container-id-6 div.sk-toggleable__content.fitted {\n",
       "  /* fitted */\n",
       "  background-color: var(--sklearn-color-fitted-level-0);\n",
       "}\n",
       "\n",
       "#sk-container-id-6 div.sk-toggleable__content pre {\n",
       "  margin: 0.2em;\n",
       "  border-radius: 0.25em;\n",
       "  color: var(--sklearn-color-text);\n",
       "  /* unfitted */\n",
       "  background-color: var(--sklearn-color-unfitted-level-0);\n",
       "}\n",
       "\n",
       "#sk-container-id-6 div.sk-toggleable__content.fitted pre {\n",
       "  /* unfitted */\n",
       "  background-color: var(--sklearn-color-fitted-level-0);\n",
       "}\n",
       "\n",
       "#sk-container-id-6 input.sk-toggleable__control:checked~div.sk-toggleable__content {\n",
       "  /* Expand drop-down */\n",
       "  max-height: 200px;\n",
       "  max-width: 100%;\n",
       "  overflow: auto;\n",
       "}\n",
       "\n",
       "#sk-container-id-6 input.sk-toggleable__control:checked~label.sk-toggleable__label-arrow:before {\n",
       "  content: \"▾\";\n",
       "}\n",
       "\n",
       "/* Pipeline/ColumnTransformer-specific style */\n",
       "\n",
       "#sk-container-id-6 div.sk-label input.sk-toggleable__control:checked~label.sk-toggleable__label {\n",
       "  color: var(--sklearn-color-text);\n",
       "  background-color: var(--sklearn-color-unfitted-level-2);\n",
       "}\n",
       "\n",
       "#sk-container-id-6 div.sk-label.fitted input.sk-toggleable__control:checked~label.sk-toggleable__label {\n",
       "  background-color: var(--sklearn-color-fitted-level-2);\n",
       "}\n",
       "\n",
       "/* Estimator-specific style */\n",
       "\n",
       "/* Colorize estimator box */\n",
       "#sk-container-id-6 div.sk-estimator input.sk-toggleable__control:checked~label.sk-toggleable__label {\n",
       "  /* unfitted */\n",
       "  background-color: var(--sklearn-color-unfitted-level-2);\n",
       "}\n",
       "\n",
       "#sk-container-id-6 div.sk-estimator.fitted input.sk-toggleable__control:checked~label.sk-toggleable__label {\n",
       "  /* fitted */\n",
       "  background-color: var(--sklearn-color-fitted-level-2);\n",
       "}\n",
       "\n",
       "#sk-container-id-6 div.sk-label label.sk-toggleable__label,\n",
       "#sk-container-id-6 div.sk-label label {\n",
       "  /* The background is the default theme color */\n",
       "  color: var(--sklearn-color-text-on-default-background);\n",
       "}\n",
       "\n",
       "/* On hover, darken the color of the background */\n",
       "#sk-container-id-6 div.sk-label:hover label.sk-toggleable__label {\n",
       "  color: var(--sklearn-color-text);\n",
       "  background-color: var(--sklearn-color-unfitted-level-2);\n",
       "}\n",
       "\n",
       "/* Label box, darken color on hover, fitted */\n",
       "#sk-container-id-6 div.sk-label.fitted:hover label.sk-toggleable__label.fitted {\n",
       "  color: var(--sklearn-color-text);\n",
       "  background-color: var(--sklearn-color-fitted-level-2);\n",
       "}\n",
       "\n",
       "/* Estimator label */\n",
       "\n",
       "#sk-container-id-6 div.sk-label label {\n",
       "  font-family: monospace;\n",
       "  font-weight: bold;\n",
       "  display: inline-block;\n",
       "  line-height: 1.2em;\n",
       "}\n",
       "\n",
       "#sk-container-id-6 div.sk-label-container {\n",
       "  text-align: center;\n",
       "}\n",
       "\n",
       "/* Estimator-specific */\n",
       "#sk-container-id-6 div.sk-estimator {\n",
       "  font-family: monospace;\n",
       "  border: 1px dotted var(--sklearn-color-border-box);\n",
       "  border-radius: 0.25em;\n",
       "  box-sizing: border-box;\n",
       "  margin-bottom: 0.5em;\n",
       "  /* unfitted */\n",
       "  background-color: var(--sklearn-color-unfitted-level-0);\n",
       "}\n",
       "\n",
       "#sk-container-id-6 div.sk-estimator.fitted {\n",
       "  /* fitted */\n",
       "  background-color: var(--sklearn-color-fitted-level-0);\n",
       "}\n",
       "\n",
       "/* on hover */\n",
       "#sk-container-id-6 div.sk-estimator:hover {\n",
       "  /* unfitted */\n",
       "  background-color: var(--sklearn-color-unfitted-level-2);\n",
       "}\n",
       "\n",
       "#sk-container-id-6 div.sk-estimator.fitted:hover {\n",
       "  /* fitted */\n",
       "  background-color: var(--sklearn-color-fitted-level-2);\n",
       "}\n",
       "\n",
       "/* Specification for estimator info (e.g. \"i\" and \"?\") */\n",
       "\n",
       "/* Common style for \"i\" and \"?\" */\n",
       "\n",
       ".sk-estimator-doc-link,\n",
       "a:link.sk-estimator-doc-link,\n",
       "a:visited.sk-estimator-doc-link {\n",
       "  float: right;\n",
       "  font-size: smaller;\n",
       "  line-height: 1em;\n",
       "  font-family: monospace;\n",
       "  background-color: var(--sklearn-color-background);\n",
       "  border-radius: 1em;\n",
       "  height: 1em;\n",
       "  width: 1em;\n",
       "  text-decoration: none !important;\n",
       "  margin-left: 1ex;\n",
       "  /* unfitted */\n",
       "  border: var(--sklearn-color-unfitted-level-1) 1pt solid;\n",
       "  color: var(--sklearn-color-unfitted-level-1);\n",
       "}\n",
       "\n",
       ".sk-estimator-doc-link.fitted,\n",
       "a:link.sk-estimator-doc-link.fitted,\n",
       "a:visited.sk-estimator-doc-link.fitted {\n",
       "  /* fitted */\n",
       "  border: var(--sklearn-color-fitted-level-1) 1pt solid;\n",
       "  color: var(--sklearn-color-fitted-level-1);\n",
       "}\n",
       "\n",
       "/* On hover */\n",
       "div.sk-estimator:hover .sk-estimator-doc-link:hover,\n",
       ".sk-estimator-doc-link:hover,\n",
       "div.sk-label-container:hover .sk-estimator-doc-link:hover,\n",
       ".sk-estimator-doc-link:hover {\n",
       "  /* unfitted */\n",
       "  background-color: var(--sklearn-color-unfitted-level-3);\n",
       "  color: var(--sklearn-color-background);\n",
       "  text-decoration: none;\n",
       "}\n",
       "\n",
       "div.sk-estimator.fitted:hover .sk-estimator-doc-link.fitted:hover,\n",
       ".sk-estimator-doc-link.fitted:hover,\n",
       "div.sk-label-container:hover .sk-estimator-doc-link.fitted:hover,\n",
       ".sk-estimator-doc-link.fitted:hover {\n",
       "  /* fitted */\n",
       "  background-color: var(--sklearn-color-fitted-level-3);\n",
       "  color: var(--sklearn-color-background);\n",
       "  text-decoration: none;\n",
       "}\n",
       "\n",
       "/* Span, style for the box shown on hovering the info icon */\n",
       ".sk-estimator-doc-link span {\n",
       "  display: none;\n",
       "  z-index: 9999;\n",
       "  position: relative;\n",
       "  font-weight: normal;\n",
       "  right: .2ex;\n",
       "  padding: .5ex;\n",
       "  margin: .5ex;\n",
       "  width: min-content;\n",
       "  min-width: 20ex;\n",
       "  max-width: 50ex;\n",
       "  color: var(--sklearn-color-text);\n",
       "  box-shadow: 2pt 2pt 4pt #999;\n",
       "  /* unfitted */\n",
       "  background: var(--sklearn-color-unfitted-level-0);\n",
       "  border: .5pt solid var(--sklearn-color-unfitted-level-3);\n",
       "}\n",
       "\n",
       ".sk-estimator-doc-link.fitted span {\n",
       "  /* fitted */\n",
       "  background: var(--sklearn-color-fitted-level-0);\n",
       "  border: var(--sklearn-color-fitted-level-3);\n",
       "}\n",
       "\n",
       ".sk-estimator-doc-link:hover span {\n",
       "  display: block;\n",
       "}\n",
       "\n",
       "/* \"?\"-specific style due to the `<a>` HTML tag */\n",
       "\n",
       "#sk-container-id-6 a.estimator_doc_link {\n",
       "  float: right;\n",
       "  font-size: 1rem;\n",
       "  line-height: 1em;\n",
       "  font-family: monospace;\n",
       "  background-color: var(--sklearn-color-background);\n",
       "  border-radius: 1rem;\n",
       "  height: 1rem;\n",
       "  width: 1rem;\n",
       "  text-decoration: none;\n",
       "  /* unfitted */\n",
       "  color: var(--sklearn-color-unfitted-level-1);\n",
       "  border: var(--sklearn-color-unfitted-level-1) 1pt solid;\n",
       "}\n",
       "\n",
       "#sk-container-id-6 a.estimator_doc_link.fitted {\n",
       "  /* fitted */\n",
       "  border: var(--sklearn-color-fitted-level-1) 1pt solid;\n",
       "  color: var(--sklearn-color-fitted-level-1);\n",
       "}\n",
       "\n",
       "/* On hover */\n",
       "#sk-container-id-6 a.estimator_doc_link:hover {\n",
       "  /* unfitted */\n",
       "  background-color: var(--sklearn-color-unfitted-level-3);\n",
       "  color: var(--sklearn-color-background);\n",
       "  text-decoration: none;\n",
       "}\n",
       "\n",
       "#sk-container-id-6 a.estimator_doc_link.fitted:hover {\n",
       "  /* fitted */\n",
       "  background-color: var(--sklearn-color-fitted-level-3);\n",
       "}\n",
       "</style><div id=\"sk-container-id-6\" class=\"sk-top-container\"><div class=\"sk-text-repr-fallback\"><pre>XGBClassifier(base_score=None, booster=None, callbacks=None,\n",
       "              colsample_bylevel=None, colsample_bynode=None,\n",
       "              colsample_bytree=None, device=None, early_stopping_rounds=None,\n",
       "              enable_categorical=False, eval_metric=&#x27;logloss&#x27;,\n",
       "              feature_types=None, gamma=None, grow_policy=None,\n",
       "              importance_type=None, interaction_constraints=None,\n",
       "              learning_rate=None, max_bin=None, max_cat_threshold=None,\n",
       "              max_cat_to_onehot=None, max_delta_step=None, max_depth=None,\n",
       "              max_leaves=None, min_child_weight=None, missing=nan,\n",
       "              monotone_constraints=None, multi_strategy=None, n_estimators=None,\n",
       "              n_jobs=None, num_parallel_tree=None, random_state=None, ...)</pre><b>In a Jupyter environment, please rerun this cell to show the HTML representation or trust the notebook. <br />On GitHub, the HTML representation is unable to render, please try loading this page with nbviewer.org.</b></div><div class=\"sk-container\" hidden><div class=\"sk-item\"><div class=\"sk-estimator fitted sk-toggleable\"><input class=\"sk-toggleable__control sk-hidden--visually\" id=\"sk-estimator-id-6\" type=\"checkbox\" checked><label for=\"sk-estimator-id-6\" class=\"sk-toggleable__label fitted sk-toggleable__label-arrow fitted\">&nbsp;XGBClassifier<span class=\"sk-estimator-doc-link fitted\">i<span>Fitted</span></span></label><div class=\"sk-toggleable__content fitted\"><pre>XGBClassifier(base_score=None, booster=None, callbacks=None,\n",
       "              colsample_bylevel=None, colsample_bynode=None,\n",
       "              colsample_bytree=None, device=None, early_stopping_rounds=None,\n",
       "              enable_categorical=False, eval_metric=&#x27;logloss&#x27;,\n",
       "              feature_types=None, gamma=None, grow_policy=None,\n",
       "              importance_type=None, interaction_constraints=None,\n",
       "              learning_rate=None, max_bin=None, max_cat_threshold=None,\n",
       "              max_cat_to_onehot=None, max_delta_step=None, max_depth=None,\n",
       "              max_leaves=None, min_child_weight=None, missing=nan,\n",
       "              monotone_constraints=None, multi_strategy=None, n_estimators=None,\n",
       "              n_jobs=None, num_parallel_tree=None, random_state=None, ...)</pre></div> </div></div></div></div>"
      ],
      "text/plain": [
       "XGBClassifier(base_score=None, booster=None, callbacks=None,\n",
       "              colsample_bylevel=None, colsample_bynode=None,\n",
       "              colsample_bytree=None, device=None, early_stopping_rounds=None,\n",
       "              enable_categorical=False, eval_metric='logloss',\n",
       "              feature_types=None, gamma=None, grow_policy=None,\n",
       "              importance_type=None, interaction_constraints=None,\n",
       "              learning_rate=None, max_bin=None, max_cat_threshold=None,\n",
       "              max_cat_to_onehot=None, max_delta_step=None, max_depth=None,\n",
       "              max_leaves=None, min_child_weight=None, missing=nan,\n",
       "              monotone_constraints=None, multi_strategy=None, n_estimators=None,\n",
       "              n_jobs=None, num_parallel_tree=None, random_state=None, ...)"
      ]
     },
     "execution_count": 101,
     "metadata": {},
     "output_type": "execute_result"
    }
   ],
   "source": [
    "model.fit(X_train, y_train)"
   ]
  },
  {
   "cell_type": "code",
   "execution_count": 102,
   "metadata": {},
   "outputs": [],
   "source": [
    "y_pred = model.predict(X_test)"
   ]
  },
  {
   "cell_type": "code",
   "execution_count": 103,
   "metadata": {},
   "outputs": [
    {
     "name": "stdout",
     "output_type": "stream",
     "text": [
      "Accuracy: 0.81\n"
     ]
    }
   ],
   "source": [
    "accuracy = (y_pred == y_test).mean()\n",
    "print(f\"Accuracy: {accuracy:.2f}\")"
   ]
  },
  {
   "cell_type": "code",
   "execution_count": 104,
   "metadata": {},
   "outputs": [],
   "source": [
    "serialize_model(model, \"farcaster_bot.json\")\n"
   ]
  },
  {
   "cell_type": "code",
   "execution_count": 108,
   "metadata": {},
   "outputs": [
    {
     "name": "stdout",
     "output_type": "stream",
     "text": [
      "Input data: 248\n",
      "send: b'GET /api/v1/models/687 HTTP/1.1\\r\\nHost: api.gizatech.xyz\\r\\nUser-Agent: python-requests/2.31.0\\r\\nAccept-Encoding: gzip, deflate\\r\\nAccept: */*\\r\\nConnection: keep-alive\\r\\nX-API-Key: XCh5ywGydGvsyClaokT0Jw\\r\\n\\r\\n'\n",
      "reply: 'HTTP/1.1 200 OK\\r\\n'\n",
      "header: Connection: keep-alive\n",
      "header: Content-Length: 139\n",
      "header: Cache-Control: private\n",
      "header: Content-Type: application/json\n",
      "header: Server: Google Frontend\n",
      "header: Strict-Transport-Security: max-age=31556926\n",
      "header: X-Cloud-Trace-Context: aa9aca5508c8b4d69eaa538c1c09572a;o=1\n",
      "header: X-Country-Code: SE\n",
      "header: X-Request-Id: bd458ad26d684f8eb50403a16360cfe9\n",
      "header: Accept-Ranges: bytes\n",
      "header: Date: Wed, 12 Jun 2024 09:29:24 GMT\n",
      "header: X-Served-By: cache-bma1644-BMA\n",
      "header: X-Cache: MISS\n",
      "header: X-Cache-Hits: 0\n",
      "header: X-Timer: S1718184565.569137,VS0,VE83\n",
      "header: Vary: cookie,need-authorization, x-fh-requested-host, accept-encoding\n",
      "header: alt-svc: h3=\":443\";ma=86400,h3-29=\":443\";ma=86400,h3-27=\":443\";ma=86400\n",
      "send: b'GET /api/v1/models/687/versions/7 HTTP/1.1\\r\\nHost: api.gizatech.xyz\\r\\nUser-Agent: python-requests/2.31.0\\r\\nAccept-Encoding: gzip, deflate\\r\\nAccept: */*\\r\\nConnection: keep-alive\\r\\nX-API-Key: XCh5ywGydGvsyClaokT0Jw\\r\\n\\r\\n'\n",
      "reply: 'HTTP/1.1 200 OK\\r\\n'\n",
      "header: Connection: keep-alive\n",
      "header: Content-Length: 249\n",
      "header: Cache-Control: private\n",
      "header: Content-Type: application/json\n",
      "header: Server: Google Frontend\n",
      "header: Strict-Transport-Security: max-age=31556926\n",
      "header: X-Cloud-Trace-Context: 3ddbb243148c9a127c281a541fb56c1c\n",
      "header: X-Country-Code: SE\n",
      "header: X-Request-Id: d1b93710d83a4a96a923629f6d8dd682\n",
      "header: Accept-Ranges: bytes\n",
      "header: Date: Wed, 12 Jun 2024 09:29:24 GMT\n",
      "header: X-Served-By: cache-bma1653-BMA\n",
      "header: X-Cache: MISS\n",
      "header: X-Cache-Hits: 0\n",
      "header: X-Timer: S1718184565.703424,VS0,VE69\n",
      "header: Vary: cookie,need-authorization, x-fh-requested-host, accept-encoding\n",
      "header: alt-svc: h3=\":443\";ma=86400,h3-29=\":443\";ma=86400,h3-27=\":443\";ma=86400\n",
      "send: b'GET /api/v1/endpoints?model_id=687&version_id=7&is_active=True HTTP/1.1\\r\\nHost: api.gizatech.xyz\\r\\nUser-Agent: python-requests/2.31.0\\r\\nAccept-Encoding: gzip, deflate\\r\\nAccept: */*\\r\\nConnection: keep-alive\\r\\nX-API-Key: XCh5ywGydGvsyClaokT0Jw\\r\\n\\r\\n'\n",
      "reply: 'HTTP/1.1 200 OK\\r\\n'\n",
      "header: Connection: keep-alive\n",
      "header: Content-Length: 307\n",
      "header: Cache-Control: private\n",
      "header: Content-Type: application/json\n",
      "header: Server: Google Frontend\n",
      "header: Strict-Transport-Security: max-age=31556926\n",
      "header: X-Cloud-Trace-Context: 8c34457026836a32ff72dbb5c6bf084a\n",
      "header: X-Country-Code: SE\n",
      "header: X-Request-Id: ef341840699d4d1f8ca8342a7164e988\n",
      "header: Accept-Ranges: bytes\n",
      "header: Date: Wed, 12 Jun 2024 09:29:24 GMT\n",
      "header: X-Served-By: cache-bma1653-BMA\n",
      "header: X-Cache: MISS\n",
      "header: X-Cache-Hits: 0\n",
      "header: X-Timer: S1718184565.826852,VS0,VE67\n",
      "header: Vary: cookie,need-authorization, x-fh-requested-host, accept-encoding\n",
      "header: alt-svc: h3=\":443\";ma=86400,h3-29=\":443\";ma=86400,h3-27=\":443\";ma=86400\n",
      "send: b'GET /api/v1/endpoints?model_id=687&version_id=7&is_active=True HTTP/1.1\\r\\nHost: api.gizatech.xyz\\r\\nUser-Agent: python-requests/2.31.0\\r\\nAccept-Encoding: gzip, deflate\\r\\nAccept: */*\\r\\nConnection: keep-alive\\r\\nX-API-Key: XCh5ywGydGvsyClaokT0Jw\\r\\n\\r\\n'\n",
      "reply: 'HTTP/1.1 200 OK\\r\\n'\n",
      "header: Connection: keep-alive\n",
      "header: Content-Length: 307\n",
      "header: Cache-Control: private\n",
      "header: Content-Type: application/json\n",
      "header: Server: Google Frontend\n",
      "header: Strict-Transport-Security: max-age=31556926\n",
      "header: X-Cloud-Trace-Context: c6d0b30e292483f3c21b72f225cfa3e5\n",
      "header: X-Country-Code: SE\n",
      "header: X-Request-Id: 0c9390a8fbc149ef8801d51105545223\n",
      "header: Accept-Ranges: bytes\n",
      "header: Date: Wed, 12 Jun 2024 09:29:25 GMT\n",
      "header: X-Served-By: cache-bma1656-BMA\n",
      "header: X-Cache: MISS\n",
      "header: X-Cache-Hits: 0\n",
      "header: X-Timer: S1718184565.948565,VS0,VE68\n",
      "header: Vary: cookie,need-authorization, x-fh-requested-host, accept-encoding\n",
      "header: alt-svc: h3=\":443\";ma=86400,h3-29=\":443\";ma=86400,h3-27=\":443\";ma=86400\n",
      "send: b'POST /cairo_run HTTP/1.1\\r\\nHost: endpoint-dappadandev-687-7-23a16517-7i3yxzspbq-ew.a.run.app\\r\\nUser-Agent: python-requests/2.31.0\\r\\nAccept-Encoding: gzip, deflate\\r\\nAccept: */*\\r\\nConnection: keep-alive\\r\\nContent-Length: 197\\r\\nContent-Type: application/json\\r\\n\\r\\n'\n",
      "send: b'{\"job_size\": \"M\", \"args\": \"[13812 3618502788666131213697322783095070105623107215331596699973092056135872016770 8585 0 3618502788666131213697322783095070105623107215331596699973092056135872000209]\"}'\n",
      "reply: 'HTTP/1.1 200 OK\\r\\n'\n",
      "header: X-Cloud-Trace-Context: 2f7d6de87641072aee5e5c1218179219;o=1\n",
      "header: Date: Wed, 12 Jun 2024 09:29:55 GMT\n",
      "header: Content-Type: text/html\n",
      "header: Server: Google Frontend\n",
      "header: Content-Length: 67\n",
      "header: Alt-Svc: h3=\":443\"; ma=2592000,h3-29=\":443\"; ma=2592000\n",
      "🚀 Starting deserialization process...\n",
      "✅ Deserialization completed! 🎉\n",
      "Predicted value for input 0.1381293860741715 is 3.10638\n",
      "Proof ID: c7c262acce6346b3a40b53f5a6dccf1a\n"
     ]
    }
   ],
   "source": [
    "from giza.agents.model import GizaModel\n",
    "\n",
    "\n",
    "MODEL_ID = 687  # Update with your model ID\n",
    "VERSION_ID = 7  # Update with your version ID\n",
    "from http import client\n",
    "\n",
    "client.HTTPConnection.debuglevel = 1\n",
    "\n",
    "def prediction(input, model_id, version_id):\n",
    "    model = GizaModel(id=model_id, version=version_id)\n",
    "\n",
    "    (result, proof_id) = model.predict(\n",
    "        input_feed={\"input\": input}, verifiable=True, model_category=\"XGB\"\n",
    "    )\n",
    "\n",
    "    return result, proof_id\n",
    "\n",
    "\n",
    "def execution():\n",
    "    # The input data type should match the model's expected input\n",
    "    input = X_test[1].flatten()\n",
    "\n",
    "    print(f\"Input data: {len(X_test)}\")\n",
    "\n",
    "    (result, proof_id) = prediction(input, MODEL_ID, VERSION_ID)\n",
    "\n",
    "    print(f\"Predicted value for input {input.flatten()[0]} is {result}\")\n",
    "\n",
    "    return result, proof_id\n",
    "\n",
    "\n",
    "if __name__ == \"__main__\":\n",
    "    # X = new_df\n",
    "    # y = df[\"is_bot\"]\n",
    "    # X = X.to_numpy()\n",
    "    # y = y.to_numpy()\n",
    "    # X_train, X_test, y_train, y_test = train_test_split(X, y, test_size=0.2, random_state=42)\n",
    " \n",
    "    _, proof_id = execution()\n",
    "    print(f\"Proof ID: {proof_id}\")"
   ]
  },
  {
   "cell_type": "code",
   "execution_count": 110,
   "metadata": {},
   "outputs": [],
   "source": [
    "import json\n",
    "import math\n",
    "\n",
    "def logit(x):\n",
    "    return math.log(x / (1 - x))\n",
    "\n",
    "def post_process_binary_pred(model_json_path, result):\n",
    "    \"\"\"\n",
    "    Returns the probability of the positive class given a result from GizaModel.predict()\n",
    "    \n",
    "    Parameters:\n",
    "    model_json_path (str): Path to the trained model in JSON format.\n",
    "    result (float): Result from GizaModel.predict().\n",
    "    \n",
    "    Returns:\n",
    "    float: Probability of the positive class.\n",
    "    \"\"\"\n",
    "    with open(model_json_path, 'r') as f:\n",
    "        xg_json = json.load(f)\n",
    "    \n",
    "    base_score = float(xg_json['learner']['learner_model_param']['base_score'])\n",
    "    \n",
    "    if base_score != 0:\n",
    "        result = result + logit(base_score)\n",
    "    final_score = 1 / (1 + math.exp(-result))\n",
    "    \n",
    "    return final_score\n",
    "\n",
    "# Usage example\n",
    "model_path = 'farcaster_bot.json'  # Path to your model JSON file\n",
    "predict_result = 3.10638  # Example result from GizaModel.predict()\n",
    "probability = post_process_binary_pred(model_path, predict_result)\n"
   ]
  },
  {
   "cell_type": "code",
   "execution_count": 111,
   "metadata": {},
   "outputs": [
    {
     "data": {
      "text/plain": [
       "0.8560044689348263"
      ]
     },
     "execution_count": 111,
     "metadata": {},
     "output_type": "execute_result"
    }
   ],
   "source": [
    "probability"
   ]
  }
 ],
 "metadata": {
  "kernelspec": {
   "display_name": ".venv",
   "language": "python",
   "name": "python3"
  },
  "language_info": {
   "codemirror_mode": {
    "name": "ipython",
    "version": 3
   },
   "file_extension": ".py",
   "mimetype": "text/x-python",
   "name": "python",
   "nbconvert_exporter": "python",
   "pygments_lexer": "ipython3",
   "version": "3.11.8"
  }
 },
 "nbformat": 4,
 "nbformat_minor": 2
}
