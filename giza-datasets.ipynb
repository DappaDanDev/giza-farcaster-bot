{
 "cells": [
  {
   "cell_type": "code",
   "execution_count": 1,
   "metadata": {},
   "outputs": [],
   "source": [
    "from giza_datasets import DatasetsHub, DatasetsLoader"
   ]
  },
  {
   "cell_type": "code",
   "execution_count": 11,
   "metadata": {},
   "outputs": [],
   "source": [
    "import os\n",
    "import certifi\n",
    "import json\n",
    "import polars as pl\n",
    "\n",
    "os.environ['SSL_CERT_FILE'] = certifi.where()"
   ]
  },
  {
   "cell_type": "code",
   "execution_count": 3,
   "metadata": {},
   "outputs": [],
   "source": [
    "hub = DatasetsHub()"
   ]
  },
  {
   "cell_type": "code",
   "execution_count": 4,
   "metadata": {},
   "outputs": [
    {
     "name": "stdout",
     "output_type": "stream",
     "text": [
      "Dataset read from cache.\n",
      "Loading dataset farcaster-casts from cache.\n"
     ]
    }
   ],
   "source": [
    "loader = DatasetsLoader()\n",
    "df = loader.load('farcaster-casts')\n"
   ]
  },
  {
   "cell_type": "code",
   "execution_count": 5,
   "metadata": {},
   "outputs": [
    {
     "data": {
      "text/html": [
       "<div><style>\n",
       ".dataframe > thead > tr,\n",
       ".dataframe > tbody > tr {\n",
       "  text-align: right;\n",
       "  white-space: pre-wrap;\n",
       "}\n",
       "</style>\n",
       "<small>shape: (5, 13)</small><table border=\"1\" class=\"dataframe\"><thead><tr><th>created_at</th><th>id</th><th>fid</th><th>hash</th><th>text</th><th>embeds</th><th>mentions</th><th>parent_fid</th><th>parent_url</th><th>parent_hash</th><th>root_parent_url</th><th>root_parent_hash</th><th>mentions_positions</th></tr><tr><td>datetime[ns]</td><td>i64</td><td>i64</td><td>str</td><td>str</td><td>str</td><td>str</td><td>i64</td><td>str</td><td>str</td><td>str</td><td>str</td><td>str</td></tr></thead><tbody><tr><td>2024-01-27 05:53:58.000000906</td><td>108884669</td><td>234592</td><td>&quot;0x89dc1a122c5e…</td><td>&quot;Am late i gues…</td><td>&quot;[]&quot;</td><td>&quot;[]&quot;</td><td>2007</td><td>null</td><td>&quot;0x97f2c919a8f0…</td><td>&quot;https://warpca…</td><td>&quot;0x97f2c919a8f0…</td><td>&quot;[]&quot;</td></tr><tr><td>2024-01-27 06:04:17.000000105</td><td>108884763</td><td>234592</td><td>&quot;0x056cc3a8920e…</td><td>&quot;New to farcast…</td><td>&quot;[]&quot;</td><td>&quot;[]&quot;</td><td>null</td><td>null</td><td>null</td><td>null</td><td>&quot;0x056cc3a8920e…</td><td>&quot;[]&quot;</td></tr><tr><td>2024-01-05 13:46:37.000000043</td><td>108667070</td><td>12741</td><td>&quot;0x0a5b1c23d805…</td><td>&quot;Congrats , you…</td><td>&quot;[]&quot;</td><td>&quot;[189929]&quot;</td><td>12741</td><td>null</td><td>&quot;0xeb8c8c3695bd…</td><td>null</td><td>&quot;0xeb8c8c3695bd…</td><td>&quot;[9]&quot;</td></tr><tr><td>2024-01-23 13:34:00.000000288</td><td>108839455</td><td>12741</td><td>&quot;0x5be39f41f259…</td><td>&quot;Congrats , you…</td><td>&quot;[]&quot;</td><td>&quot;[21000]&quot;</td><td>12741</td><td>null</td><td>&quot;0xeb8c8c3695bd…</td><td>null</td><td>&quot;0xeb8c8c3695bd…</td><td>&quot;[9]&quot;</td></tr><tr><td>2024-01-23 13:39:51.000000814</td><td>108839493</td><td>12741</td><td>&quot;0xe67bb80c580e…</td><td>&quot;Congrats , you…</td><td>&quot;[]&quot;</td><td>&quot;[18944]&quot;</td><td>12741</td><td>null</td><td>&quot;0xeb8c8c3695bd…</td><td>null</td><td>&quot;0xeb8c8c3695bd…</td><td>&quot;[9]&quot;</td></tr></tbody></table></div>"
      ],
      "text/plain": [
       "shape: (5, 13)\n",
       "┌────────────┬───────────┬────────┬────────────┬───┬───────────┬───────────┬───────────┬───────────┐\n",
       "│ created_at ┆ id        ┆ fid    ┆ hash       ┆ … ┆ parent_ha ┆ root_pare ┆ root_pare ┆ mentions_ │\n",
       "│ ---        ┆ ---       ┆ ---    ┆ ---        ┆   ┆ sh        ┆ nt_url    ┆ nt_hash   ┆ positions │\n",
       "│ datetime[n ┆ i64       ┆ i64    ┆ str        ┆   ┆ ---       ┆ ---       ┆ ---       ┆ ---       │\n",
       "│ s]         ┆           ┆        ┆            ┆   ┆ str       ┆ str       ┆ str       ┆ str       │\n",
       "╞════════════╪═══════════╪════════╪════════════╪═══╪═══════════╪═══════════╪═══════════╪═══════════╡\n",
       "│ 2024-01-27 ┆ 108884669 ┆ 234592 ┆ 0x89dc1a12 ┆ … ┆ 0x97f2c91 ┆ https://w ┆ 0x97f2c91 ┆ []        │\n",
       "│ 05:53:58.0 ┆           ┆        ┆ 2c5e66e678 ┆   ┆ 9a8f06ecc ┆ arpcast.c ┆ 9a8f06ecc ┆           │\n",
       "│ 00000906   ┆           ┆        ┆ fe1f9ff410 ┆   ┆ 5673ad1d8 ┆ om/~/chan ┆ 5673ad1d8 ┆           │\n",
       "│            ┆           ┆        ┆ 47…        ┆   ┆ 8828a…    ┆ nel/c…    ┆ 8828a…    ┆           │\n",
       "│ 2024-01-27 ┆ 108884763 ┆ 234592 ┆ 0x056cc3a8 ┆ … ┆ null      ┆ null      ┆ 0x056cc3a ┆ []        │\n",
       "│ 06:04:17.0 ┆           ┆        ┆ 920edbaec2 ┆   ┆           ┆           ┆ 8920edbae ┆           │\n",
       "│ 00000105   ┆           ┆        ┆ 7114db013a ┆   ┆           ┆           ┆ c27114db0 ┆           │\n",
       "│            ┆           ┆        ┆ 01…        ┆   ┆           ┆           ┆ 13a01…    ┆           │\n",
       "│ 2024-01-05 ┆ 108667070 ┆ 12741  ┆ 0x0a5b1c23 ┆ … ┆ 0xeb8c8c3 ┆ null      ┆ 0xeb8c8c3 ┆ [9]       │\n",
       "│ 13:46:37.0 ┆           ┆        ┆ d8056318e2 ┆   ┆ 695bdb47d ┆           ┆ 695bdb47d ┆           │\n",
       "│ 00000043   ┆           ┆        ┆ d046d7026f ┆   ┆ 6ea16e247 ┆           ┆ 6ea16e247 ┆           │\n",
       "│            ┆           ┆        ┆ 75…        ┆   ┆ aa234…    ┆           ┆ aa234…    ┆           │\n",
       "│ 2024-01-23 ┆ 108839455 ┆ 12741  ┆ 0x5be39f41 ┆ … ┆ 0xeb8c8c3 ┆ null      ┆ 0xeb8c8c3 ┆ [9]       │\n",
       "│ 13:34:00.0 ┆           ┆        ┆ f259d312ed ┆   ┆ 695bdb47d ┆           ┆ 695bdb47d ┆           │\n",
       "│ 00000288   ┆           ┆        ┆ d3822f63a8 ┆   ┆ 6ea16e247 ┆           ┆ 6ea16e247 ┆           │\n",
       "│            ┆           ┆        ┆ a5…        ┆   ┆ aa234…    ┆           ┆ aa234…    ┆           │\n",
       "│ 2024-01-23 ┆ 108839493 ┆ 12741  ┆ 0xe67bb80c ┆ … ┆ 0xeb8c8c3 ┆ null      ┆ 0xeb8c8c3 ┆ [9]       │\n",
       "│ 13:39:51.0 ┆           ┆        ┆ 580e70a746 ┆   ┆ 695bdb47d ┆           ┆ 695bdb47d ┆           │\n",
       "│ 00000814   ┆           ┆        ┆ 3f1e5f534f ┆   ┆ 6ea16e247 ┆           ┆ 6ea16e247 ┆           │\n",
       "│            ┆           ┆        ┆ d1…        ┆   ┆ aa234…    ┆           ┆ aa234…    ┆           │\n",
       "└────────────┴───────────┴────────┴────────────┴───┴───────────┴───────────┴───────────┴───────────┘"
      ]
     },
     "execution_count": 5,
     "metadata": {},
     "output_type": "execute_result"
    }
   ],
   "source": [
    "df.head()"
   ]
  },
  {
   "cell_type": "code",
   "execution_count": 12,
   "metadata": {},
   "outputs": [],
   "source": [
    "df.write_csv('filename.csv')"
   ]
  },
  {
   "cell_type": "code",
   "execution_count": 21,
   "metadata": {},
   "outputs": [],
   "source": [
    "sampled_df = df.sample(n=5)"
   ]
  },
  {
   "cell_type": "code",
   "execution_count": 23,
   "metadata": {},
   "outputs": [
    {
     "data": {
      "text/html": [
       "<div><style>\n",
       ".dataframe > thead > tr,\n",
       ".dataframe > tbody > tr {\n",
       "  text-align: right;\n",
       "  white-space: pre-wrap;\n",
       "}\n",
       "</style>\n",
       "<small>shape: (5,)</small><table border=\"1\" class=\"dataframe\"><thead><tr><th>text</th></tr><tr><td>str</td></tr></thead><tbody><tr><td>&quot;อีกหนึ่ง Liqui…</td></tr><tr><td>&quot;paging  who ha…</td></tr><tr><td>&quot;4 $DEGEN&quot;</td></tr><tr><td>&quot;Mint dog\n",
       "Recas…</td></tr><tr><td>&quot;765 $DEGEN&quot;</td></tr></tbody></table></div>"
      ],
      "text/plain": [
       "shape: (5,)\n",
       "Series: 'text' [str]\n",
       "[\n",
       "\t\"อีกหนึ่ง Liqui…\n",
       "\t\"paging  who ha…\n",
       "\t\"4 $DEGEN\"\n",
       "\t\"Mint dog\n",
       "Recas…\n",
       "\t\"765 $DEGEN\"\n",
       "]"
      ]
     },
     "execution_count": 23,
     "metadata": {},
     "output_type": "execute_result"
    }
   ],
   "source": [
    "random_values = sampled_df[\"text\"]\n",
    "random_values"
   ]
  },
  {
   "cell_type": "code",
   "execution_count": 16,
   "metadata": {},
   "outputs": [
    {
     "data": {
      "text/plain": [
       "110660"
      ]
     },
     "execution_count": 16,
     "metadata": {},
     "output_type": "execute_result"
    }
   ],
   "source": [
    "unique_count = df['fid'].unique().len()\n",
    "unique_count"
   ]
  },
  {
   "cell_type": "code",
   "execution_count": 6,
   "metadata": {},
   "outputs": [],
   "source": [
    "\n",
    "df.select(\"fid\").unique().write_csv(\"unique_fids.csv\")\n"
   ]
  },
  {
   "cell_type": "code",
   "execution_count": 16,
   "metadata": {},
   "outputs": [
    {
     "name": "stdout",
     "output_type": "stream",
     "text": [
      "5896687\n"
     ]
    }
   ],
   "source": [
    "num_rows = df.height\n",
    "print(num_rows)\n"
   ]
  },
  {
   "cell_type": "code",
   "execution_count": 17,
   "metadata": {},
   "outputs": [
    {
     "data": {
      "text/plain": [
       "True"
      ]
     },
     "execution_count": 17,
     "metadata": {},
     "output_type": "execute_result"
    }
   ],
   "source": [
    "fid_to_check = 355637\n",
    "fid_exists = (df[\"fid\"] == fid_to_check).any()\n",
    "fid_exists"
   ]
  },
  {
   "cell_type": "code",
   "execution_count": 18,
   "metadata": {},
   "outputs": [
    {
     "data": {
      "text/html": [
       "<div><style>\n",
       ".dataframe > thead > tr,\n",
       ".dataframe > tbody > tr {\n",
       "  text-align: right;\n",
       "  white-space: pre-wrap;\n",
       "}\n",
       "</style>\n",
       "<small>shape: (20, 13)</small><table border=\"1\" class=\"dataframe\"><thead><tr><th>created_at</th><th>id</th><th>fid</th><th>hash</th><th>text</th><th>embeds</th><th>mentions</th><th>parent_fid</th><th>parent_url</th><th>parent_hash</th><th>root_parent_url</th><th>root_parent_hash</th><th>mentions_positions</th></tr><tr><td>datetime[ns]</td><td>i64</td><td>i64</td><td>str</td><td>str</td><td>str</td><td>str</td><td>i64</td><td>str</td><td>str</td><td>str</td><td>str</td><td>str</td></tr></thead><tbody><tr><td>2024-02-20 09:02:25.000000620</td><td>242895179</td><td>354330</td><td>&quot;0x00dad90d5be3…</td><td>&quot;Well, look wha…</td><td>&quot;[{&quot;url&quot;: &quot;http…</td><td>&quot;[]&quot;</td><td>null</td><td>&quot;chain://eip155…</td><td>null</td><td>&quot;chain://eip155…</td><td>&quot;0x00dad90d5be3…</td><td>&quot;[]&quot;</td></tr><tr><td>2024-02-20 09:04:06.000000327</td><td>242949032</td><td>354330</td><td>&quot;0x9b9503aa80b0…</td><td>&quot;100 $DEGEN LFG…</td><td>&quot;[]&quot;</td><td>&quot;[]&quot;</td><td>266471</td><td>null</td><td>&quot;0x8858553a53fc…</td><td>&quot;chain://eip155…</td><td>&quot;0x8858553a53fc…</td><td>&quot;[]&quot;</td></tr><tr><td>2024-02-20 09:08:34.000000883</td><td>243086994</td><td>354330</td><td>&quot;0x0382efae53e7…</td><td>&quot;How come I can…</td><td>&quot;[{&quot;url&quot;: &quot;http…</td><td>&quot;[]&quot;</td><td>null</td><td>&quot;chain://eip155…</td><td>null</td><td>&quot;chain://eip155…</td><td>&quot;0x0382efae53e7…</td><td>&quot;[]&quot;</td></tr><tr><td>2024-02-20 07:18:30.000000959</td><td>240382591</td><td>354330</td><td>&quot;0x492ed2f528c6…</td><td>&quot;10 $DEGEN&quot;</td><td>&quot;[]&quot;</td><td>&quot;[]&quot;</td><td>14636</td><td>null</td><td>&quot;0x59903827a4e4…</td><td>&quot;chain://eip155…</td><td>&quot;0x59903827a4e4…</td><td>&quot;[]&quot;</td></tr><tr><td>2024-02-20 07:24:03.000000589</td><td>240423011</td><td>354330</td><td>&quot;0xec321cd15d26…</td><td>&quot;AltLayer Raise…</td><td>&quot;[{&quot;url&quot;: &quot;http…</td><td>&quot;[]&quot;</td><td>null</td><td>&quot;chain://eip155…</td><td>null</td><td>&quot;chain://eip155…</td><td>&quot;0xec321cd15d26…</td><td>&quot;[]&quot;</td></tr><tr><td>&hellip;</td><td>&hellip;</td><td>&hellip;</td><td>&hellip;</td><td>&hellip;</td><td>&hellip;</td><td>&hellip;</td><td>&hellip;</td><td>&hellip;</td><td>&hellip;</td><td>&hellip;</td><td>&hellip;</td><td>&hellip;</td></tr><tr><td>2024-02-24 15:14:43.000000027</td><td>288889068</td><td>354330</td><td>&quot;0xc3459afcf5f9…</td><td>&quot;EXGz4HmvR5Ez64…</td><td>&quot;[]&quot;</td><td>&quot;[]&quot;</td><td>370078</td><td>null</td><td>&quot;0x5f8b7c01ed98…</td><td>&quot;https://solana…</td><td>&quot;0x5f8b7c01ed98…</td><td>&quot;[]&quot;</td></tr><tr><td>2024-02-22 20:55:38.000000569</td><td>282469129</td><td>354330</td><td>&quot;0xa54a161d5f6d…</td><td>&quot;Done ✅&quot;</td><td>&quot;[]&quot;</td><td>&quot;[]&quot;</td><td>9019</td><td>null</td><td>&quot;0x7dc70d75b24c…</td><td>null</td><td>&quot;0x7dc70d75b24c…</td><td>&quot;[]&quot;</td></tr><tr><td>2024-02-22 20:58:21.000000358</td><td>282500010</td><td>354330</td><td>&quot;0x15e04c708dfa…</td><td>&quot;200 $DEGEN&quot;</td><td>&quot;[]&quot;</td><td>&quot;[]&quot;</td><td>15983</td><td>null</td><td>&quot;0x722c4f1822e3…</td><td>&quot;chain://eip155…</td><td>&quot;0x722c4f1822e3…</td><td>&quot;[]&quot;</td></tr><tr><td>2024-02-22 21:02:06.000000934</td><td>282545657</td><td>354330</td><td>&quot;0x4a5d9d5e41ec…</td><td>&quot;gm gm&quot;</td><td>&quot;[]&quot;</td><td>&quot;[]&quot;</td><td>303</td><td>null</td><td>&quot;0xf256ca1db3ae…</td><td>&quot;https://basepa…</td><td>&quot;0xf256ca1db3ae…</td><td>&quot;[]&quot;</td></tr><tr><td>2024-02-22 21:36:08.000000108</td><td>282929192</td><td>354330</td><td>&quot;0xe46a52b25318…</td><td>&quot;If you have do…</td><td>&quot;[{&quot;url&quot;: &quot;http…</td><td>&quot;[]&quot;</td><td>null</td><td>&quot;chain://eip155…</td><td>null</td><td>&quot;chain://eip155…</td><td>&quot;0xe46a52b25318…</td><td>&quot;[]&quot;</td></tr></tbody></table></div>"
      ],
      "text/plain": [
       "shape: (20, 13)\n",
       "┌────────────┬───────────┬────────┬────────────┬───┬───────────┬───────────┬───────────┬───────────┐\n",
       "│ created_at ┆ id        ┆ fid    ┆ hash       ┆ … ┆ parent_ha ┆ root_pare ┆ root_pare ┆ mentions_ │\n",
       "│ ---        ┆ ---       ┆ ---    ┆ ---        ┆   ┆ sh        ┆ nt_url    ┆ nt_hash   ┆ positions │\n",
       "│ datetime[n ┆ i64       ┆ i64    ┆ str        ┆   ┆ ---       ┆ ---       ┆ ---       ┆ ---       │\n",
       "│ s]         ┆           ┆        ┆            ┆   ┆ str       ┆ str       ┆ str       ┆ str       │\n",
       "╞════════════╪═══════════╪════════╪════════════╪═══╪═══════════╪═══════════╪═══════════╪═══════════╡\n",
       "│ 2024-02-20 ┆ 242895179 ┆ 354330 ┆ 0x00dad90d ┆ … ┆ null      ┆ chain://e ┆ 0x00dad90 ┆ []        │\n",
       "│ 09:02:25.0 ┆           ┆        ┆ 5be38699e0 ┆   ┆           ┆ ip155:777 ┆ d5be38699 ┆           │\n",
       "│ 00000620   ┆           ┆        ┆ 0517c04ae7 ┆   ┆           ┆ 7777/erc7 ┆ e00517c04 ┆           │\n",
       "│            ┆           ┆        ┆ ae…        ┆   ┆           ┆ 21:0x…    ┆ ae7ae…    ┆           │\n",
       "│ 2024-02-20 ┆ 242949032 ┆ 354330 ┆ 0x9b9503aa ┆ … ┆ 0x8858553 ┆ chain://e ┆ 0x8858553 ┆ []        │\n",
       "│ 09:04:06.0 ┆           ┆        ┆ 80b037d250 ┆   ┆ a53fc8e0d ┆ ip155:777 ┆ a53fc8e0d ┆           │\n",
       "│ 00000327   ┆           ┆        ┆ ee61d87653 ┆   ┆ dd04c050a ┆ 7777/erc7 ┆ dd04c050a ┆           │\n",
       "│            ┆           ┆        ┆ 5c…        ┆   ┆ 87c48…    ┆ 21:0x…    ┆ 87c48…    ┆           │\n",
       "│ 2024-02-20 ┆ 243086994 ┆ 354330 ┆ 0x0382efae ┆ … ┆ null      ┆ chain://e ┆ 0x0382efa ┆ []        │\n",
       "│ 09:08:34.0 ┆           ┆        ┆ 53e737d635 ┆   ┆           ┆ ip155:777 ┆ e53e737d6 ┆           │\n",
       "│ 00000883   ┆           ┆        ┆ 9e6edce541 ┆   ┆           ┆ 7777/erc7 ┆ 359e6edce ┆           │\n",
       "│            ┆           ┆        ┆ d3…        ┆   ┆           ┆ 21:0x…    ┆ 541d3…    ┆           │\n",
       "│ 2024-02-20 ┆ 240382591 ┆ 354330 ┆ 0x492ed2f5 ┆ … ┆ 0x5990382 ┆ chain://e ┆ 0x5990382 ┆ []        │\n",
       "│ 07:18:30.0 ┆           ┆        ┆ 28c607ded6 ┆   ┆ 7a4e4aecd ┆ ip155:777 ┆ 7a4e4aecd ┆           │\n",
       "│ 00000959   ┆           ┆        ┆ c80ce1b6a9 ┆   ┆ cc7388dba ┆ 7777/erc7 ┆ cc7388dba ┆           │\n",
       "│            ┆           ┆        ┆ 52…        ┆   ┆ a8cf9…    ┆ 21:0x…    ┆ a8cf9…    ┆           │\n",
       "│ 2024-02-20 ┆ 240423011 ┆ 354330 ┆ 0xec321cd1 ┆ … ┆ null      ┆ chain://e ┆ 0xec321cd ┆ []        │\n",
       "│ 07:24:03.0 ┆           ┆        ┆ 5d2689d07c ┆   ┆           ┆ ip155:777 ┆ 15d2689d0 ┆           │\n",
       "│ 00000589   ┆           ┆        ┆ 23cb16464c ┆   ┆           ┆ 7777/erc7 ┆ 7c23cb164 ┆           │\n",
       "│            ┆           ┆        ┆ 98…        ┆   ┆           ┆ 21:0x…    ┆ 64c98…    ┆           │\n",
       "│ …          ┆ …         ┆ …      ┆ …          ┆ … ┆ …         ┆ …         ┆ …         ┆ …         │\n",
       "│ 2024-02-24 ┆ 288889068 ┆ 354330 ┆ 0xc3459afc ┆ … ┆ 0x5f8b7c0 ┆ https://s ┆ 0x5f8b7c0 ┆ []        │\n",
       "│ 15:14:43.0 ┆           ┆        ┆ f5f9cd3c5f ┆   ┆ 1ed98fadb ┆ olana.com ┆ 1ed98fadb ┆           │\n",
       "│ 00000027   ┆           ┆        ┆ 235785c151 ┆   ┆ ad7ee0cd2 ┆           ┆ ad7ee0cd2 ┆           │\n",
       "│            ┆           ┆        ┆ b4…        ┆   ┆ 49c48…    ┆           ┆ 49c48…    ┆           │\n",
       "│ 2024-02-22 ┆ 282469129 ┆ 354330 ┆ 0xa54a161d ┆ … ┆ 0x7dc70d7 ┆ null      ┆ 0x7dc70d7 ┆ []        │\n",
       "│ 20:55:38.0 ┆           ┆        ┆ 5f6d9daa44 ┆   ┆ 5b24caf64 ┆           ┆ 5b24caf64 ┆           │\n",
       "│ 00000569   ┆           ┆        ┆ 8646ebd469 ┆   ┆ fc23d2e83 ┆           ┆ fc23d2e83 ┆           │\n",
       "│            ┆           ┆        ┆ 18…        ┆   ┆ 5439d…    ┆           ┆ 5439d…    ┆           │\n",
       "│ 2024-02-22 ┆ 282500010 ┆ 354330 ┆ 0x15e04c70 ┆ … ┆ 0x722c4f1 ┆ chain://e ┆ 0x722c4f1 ┆ []        │\n",
       "│ 20:58:21.0 ┆           ┆        ┆ 8dfa5936e8 ┆   ┆ 822e3dd56 ┆ ip155:777 ┆ 822e3dd56 ┆           │\n",
       "│ 00000358   ┆           ┆        ┆ be0abad917 ┆   ┆ 1c12ea1a1 ┆ 7777/erc7 ┆ 1c12ea1a1 ┆           │\n",
       "│            ┆           ┆        ┆ 97…        ┆   ┆ 4aa84…    ┆ 21:0x…    ┆ 4aa84…    ┆           │\n",
       "│ 2024-02-22 ┆ 282545657 ┆ 354330 ┆ 0x4a5d9d5e ┆ … ┆ 0xf256ca1 ┆ https://b ┆ 0xf256ca1 ┆ []        │\n",
       "│ 21:02:06.0 ┆           ┆        ┆ 41ec188302 ┆   ┆ db3aee71b ┆ asepaint. ┆ db3aee71b ┆           │\n",
       "│ 00000934   ┆           ┆        ┆ b800c1f3a3 ┆   ┆ 4fedc9031 ┆ xyz       ┆ 4fedc9031 ┆           │\n",
       "│            ┆           ┆        ┆ f3…        ┆   ┆ 8b843…    ┆           ┆ 8b843…    ┆           │\n",
       "│ 2024-02-22 ┆ 282929192 ┆ 354330 ┆ 0xe46a52b2 ┆ … ┆ null      ┆ chain://e ┆ 0xe46a52b ┆ []        │\n",
       "│ 21:36:08.0 ┆           ┆        ┆ 5318a033b7 ┆   ┆           ┆ ip155:777 ┆ 25318a033 ┆           │\n",
       "│ 00000108   ┆           ┆        ┆ fb5c3cfb86 ┆   ┆           ┆ 7777/erc7 ┆ b7fb5c3cf ┆           │\n",
       "│            ┆           ┆        ┆ c7…        ┆   ┆           ┆ 21:0x…    ┆ b86c7…    ┆           │\n",
       "└────────────┴───────────┴────────┴────────────┴───┴───────────┴───────────┴───────────┴───────────┘"
      ]
     },
     "execution_count": 18,
     "metadata": {},
     "output_type": "execute_result"
    }
   ],
   "source": [
    "value_to_match = \"354330\"\n",
    "\n",
    "\n",
    "filtered_df = df.filter(df[\"fid\"] == value_to_match)\n",
    "\n",
    "filtered_df.head(20)\n"
   ]
  },
  {
   "cell_type": "code",
   "execution_count": 22,
   "metadata": {},
   "outputs": [],
   "source": [
    "import json\n",
    "\n",
    "# Load the JSON file\n",
    "with open('neighbors.json') as f:\n",
    "    data = json.load(f)\n",
    "\n",
    "# Extract all the \"fid\" values from the JSON\n",
    "fids = [item['fid'] for item in data]\n",
    "\n",
    "# Create a dictionary to store the results\n",
    "result = {}\n",
    "\n",
    "# Loop over the fids and search in the DataFrame\n",
    "for fid in fids:\n",
    "    text = df.filter(pl.col('fid') == fid)['text'].to_list()\n",
    "    if text:\n",
    "        # Add 'fid': fid at the start of each unique fid\n",
    "        result[fid] = [{'fid': fid}, {'casts':text}]\n",
    "\n",
    "# Save the results to a JSON file\n",
    "with open('casts2.json', 'w') as f:\n",
    "    json.dump(result, f)\n"
   ]
  },
  {
   "cell_type": "code",
   "execution_count": 35,
   "metadata": {},
   "outputs": [],
   "source": [
    "import json\n",
    "\n",
    "# Load the JSON files into Python dictionaries\n",
    "with open('user-profiles.json') as f1, open('neighbors.json') as f2, open('casts2.json') as f3:\n",
    "    dict1 = json.load(f1)\n",
    "    dict2 = json.load(f2)\n",
    "    dict3 = json.load(f3)\n",
    "\n",
    "# Create a new dictionary to hold the combined data\n",
    "combined_dict = {}\n",
    "\n",
    "# Combine the dictionaries\n",
    "for key, value in dict1.items():\n",
    "    fid = value['result']['user']['fid']\n",
    "    if fid not in combined_dict:\n",
    "        combined_dict[fid] = {}\n",
    "    combined_dict[fid]['file1'] = value['result']['user']\n",
    "\n",
    "for item in dict2:\n",
    "    fid = item['fid']\n",
    "    if fid not in combined_dict:\n",
    "        combined_dict[fid] = {}\n",
    "    combined_dict[fid]['file2'] = item\n",
    "\n",
    "for key, value in dict3.items():\n",
    "    if isinstance(value, list) and len(value) > 1 and isinstance(value[0], dict) and 'fid' in value[0] and isinstance(value[1], dict):\n",
    "        fid = value[0]['fid']\n",
    "        if fid not in combined_dict:\n",
    "            combined_dict[fid] = {}\n",
    "        combined_dict[fid]['file3'] = value[1]\n",
    "\n",
    "# Save the combined dictionary to a new JSON file\n",
    "with open('farcaster-dataset.json', 'w') as f:\n",
    "    json.dump(combined_dict, f)"
   ]
  }
 ],
 "metadata": {
  "kernelspec": {
   "display_name": ".venv",
   "language": "python",
   "name": "python3"
  },
  "language_info": {
   "codemirror_mode": {
    "name": "ipython",
    "version": 3
   },
   "file_extension": ".py",
   "mimetype": "text/x-python",
   "name": "python",
   "nbconvert_exporter": "python",
   "pygments_lexer": "ipython3",
   "version": "3.11.8"
  }
 },
 "nbformat": 4,
 "nbformat_minor": 2
}
