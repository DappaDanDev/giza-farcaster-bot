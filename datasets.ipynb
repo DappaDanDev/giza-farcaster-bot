{
 "cells": [
  {
   "cell_type": "code",
   "execution_count": 1,
   "metadata": {},
   "outputs": [],
   "source": [
    "from giza_datasets import DatasetsHub, DatasetsLoader"
   ]
  },
  {
   "cell_type": "code",
   "execution_count": 2,
   "metadata": {},
   "outputs": [],
   "source": [
    "import os\n",
    "import certifi\n",
    "\n",
    "os.environ['SSL_CERT_FILE'] = certifi.where()"
   ]
  },
  {
   "cell_type": "code",
   "execution_count": 3,
   "metadata": {},
   "outputs": [],
   "source": [
    "hub = DatasetsHub()"
   ]
  },
  {
   "cell_type": "code",
   "execution_count": 4,
   "metadata": {},
   "outputs": [
    {
     "name": "stdout",
     "output_type": "stream",
     "text": [
      "Dataset farcaster-casts not found in cache. Downloading from GCS.\n",
      "Dataset read from cache.\n"
     ]
    }
   ],
   "source": [
    "loader = DatasetsLoader()\n",
    "df = loader.load('farcaster-casts')\n"
   ]
  },
  {
   "cell_type": "code",
   "execution_count": 7,
   "metadata": {},
   "outputs": [
    {
     "data": {
      "text/html": [
       "<div><style>\n",
       ".dataframe > thead > tr,\n",
       ".dataframe > tbody > tr {\n",
       "  text-align: right;\n",
       "  white-space: pre-wrap;\n",
       "}\n",
       "</style>\n",
       "<small>shape: (5, 13)</small><table border=\"1\" class=\"dataframe\"><thead><tr><th>created_at</th><th>id</th><th>fid</th><th>hash</th><th>text</th><th>embeds</th><th>mentions</th><th>parent_fid</th><th>parent_url</th><th>parent_hash</th><th>root_parent_url</th><th>root_parent_hash</th><th>mentions_positions</th></tr><tr><td>datetime[ns]</td><td>i64</td><td>i64</td><td>str</td><td>str</td><td>str</td><td>str</td><td>i64</td><td>str</td><td>str</td><td>str</td><td>str</td><td>str</td></tr></thead><tbody><tr><td>2024-01-27 05:53:58.000000906</td><td>108884669</td><td>234592</td><td>&quot;0x89dc1a122c5e…</td><td>&quot;Am late i gues…</td><td>&quot;[]&quot;</td><td>&quot;[]&quot;</td><td>2007</td><td>null</td><td>&quot;0x97f2c919a8f0…</td><td>&quot;https://warpca…</td><td>&quot;0x97f2c919a8f0…</td><td>&quot;[]&quot;</td></tr><tr><td>2024-01-27 06:04:17.000000105</td><td>108884763</td><td>234592</td><td>&quot;0x056cc3a8920e…</td><td>&quot;New to farcast…</td><td>&quot;[]&quot;</td><td>&quot;[]&quot;</td><td>null</td><td>null</td><td>null</td><td>null</td><td>&quot;0x056cc3a8920e…</td><td>&quot;[]&quot;</td></tr><tr><td>2024-01-05 13:46:37.000000043</td><td>108667070</td><td>12741</td><td>&quot;0x0a5b1c23d805…</td><td>&quot;Congrats , you…</td><td>&quot;[]&quot;</td><td>&quot;[189929]&quot;</td><td>12741</td><td>null</td><td>&quot;0xeb8c8c3695bd…</td><td>null</td><td>&quot;0xeb8c8c3695bd…</td><td>&quot;[9]&quot;</td></tr><tr><td>2024-01-23 13:34:00.000000288</td><td>108839455</td><td>12741</td><td>&quot;0x5be39f41f259…</td><td>&quot;Congrats , you…</td><td>&quot;[]&quot;</td><td>&quot;[21000]&quot;</td><td>12741</td><td>null</td><td>&quot;0xeb8c8c3695bd…</td><td>null</td><td>&quot;0xeb8c8c3695bd…</td><td>&quot;[9]&quot;</td></tr><tr><td>2024-01-23 13:39:51.000000814</td><td>108839493</td><td>12741</td><td>&quot;0xe67bb80c580e…</td><td>&quot;Congrats , you…</td><td>&quot;[]&quot;</td><td>&quot;[18944]&quot;</td><td>12741</td><td>null</td><td>&quot;0xeb8c8c3695bd…</td><td>null</td><td>&quot;0xeb8c8c3695bd…</td><td>&quot;[9]&quot;</td></tr></tbody></table></div>"
      ],
      "text/plain": [
       "shape: (5, 13)\n",
       "┌────────────┬───────────┬────────┬────────────┬───┬───────────┬───────────┬───────────┬───────────┐\n",
       "│ created_at ┆ id        ┆ fid    ┆ hash       ┆ … ┆ parent_ha ┆ root_pare ┆ root_pare ┆ mentions_ │\n",
       "│ ---        ┆ ---       ┆ ---    ┆ ---        ┆   ┆ sh        ┆ nt_url    ┆ nt_hash   ┆ positions │\n",
       "│ datetime[n ┆ i64       ┆ i64    ┆ str        ┆   ┆ ---       ┆ ---       ┆ ---       ┆ ---       │\n",
       "│ s]         ┆           ┆        ┆            ┆   ┆ str       ┆ str       ┆ str       ┆ str       │\n",
       "╞════════════╪═══════════╪════════╪════════════╪═══╪═══════════╪═══════════╪═══════════╪═══════════╡\n",
       "│ 2024-01-27 ┆ 108884669 ┆ 234592 ┆ 0x89dc1a12 ┆ … ┆ 0x97f2c91 ┆ https://w ┆ 0x97f2c91 ┆ []        │\n",
       "│ 05:53:58.0 ┆           ┆        ┆ 2c5e66e678 ┆   ┆ 9a8f06ecc ┆ arpcast.c ┆ 9a8f06ecc ┆           │\n",
       "│ 00000906   ┆           ┆        ┆ fe1f9ff410 ┆   ┆ 5673ad1d8 ┆ om/~/chan ┆ 5673ad1d8 ┆           │\n",
       "│            ┆           ┆        ┆ 47…        ┆   ┆ 8828a…    ┆ nel/c…    ┆ 8828a…    ┆           │\n",
       "│ 2024-01-27 ┆ 108884763 ┆ 234592 ┆ 0x056cc3a8 ┆ … ┆ null      ┆ null      ┆ 0x056cc3a ┆ []        │\n",
       "│ 06:04:17.0 ┆           ┆        ┆ 920edbaec2 ┆   ┆           ┆           ┆ 8920edbae ┆           │\n",
       "│ 00000105   ┆           ┆        ┆ 7114db013a ┆   ┆           ┆           ┆ c27114db0 ┆           │\n",
       "│            ┆           ┆        ┆ 01…        ┆   ┆           ┆           ┆ 13a01…    ┆           │\n",
       "│ 2024-01-05 ┆ 108667070 ┆ 12741  ┆ 0x0a5b1c23 ┆ … ┆ 0xeb8c8c3 ┆ null      ┆ 0xeb8c8c3 ┆ [9]       │\n",
       "│ 13:46:37.0 ┆           ┆        ┆ d8056318e2 ┆   ┆ 695bdb47d ┆           ┆ 695bdb47d ┆           │\n",
       "│ 00000043   ┆           ┆        ┆ d046d7026f ┆   ┆ 6ea16e247 ┆           ┆ 6ea16e247 ┆           │\n",
       "│            ┆           ┆        ┆ 75…        ┆   ┆ aa234…    ┆           ┆ aa234…    ┆           │\n",
       "│ 2024-01-23 ┆ 108839455 ┆ 12741  ┆ 0x5be39f41 ┆ … ┆ 0xeb8c8c3 ┆ null      ┆ 0xeb8c8c3 ┆ [9]       │\n",
       "│ 13:34:00.0 ┆           ┆        ┆ f259d312ed ┆   ┆ 695bdb47d ┆           ┆ 695bdb47d ┆           │\n",
       "│ 00000288   ┆           ┆        ┆ d3822f63a8 ┆   ┆ 6ea16e247 ┆           ┆ 6ea16e247 ┆           │\n",
       "│            ┆           ┆        ┆ a5…        ┆   ┆ aa234…    ┆           ┆ aa234…    ┆           │\n",
       "│ 2024-01-23 ┆ 108839493 ┆ 12741  ┆ 0xe67bb80c ┆ … ┆ 0xeb8c8c3 ┆ null      ┆ 0xeb8c8c3 ┆ [9]       │\n",
       "│ 13:39:51.0 ┆           ┆        ┆ 580e70a746 ┆   ┆ 695bdb47d ┆           ┆ 695bdb47d ┆           │\n",
       "│ 00000814   ┆           ┆        ┆ 3f1e5f534f ┆   ┆ 6ea16e247 ┆           ┆ 6ea16e247 ┆           │\n",
       "│            ┆           ┆        ┆ d1…        ┆   ┆ aa234…    ┆           ┆ aa234…    ┆           │\n",
       "└────────────┴───────────┴────────┴────────────┴───┴───────────┴───────────┴───────────┴───────────┘"
      ]
     },
     "execution_count": 7,
     "metadata": {},
     "output_type": "execute_result"
    }
   ],
   "source": [
    "df.head()"
   ]
  },
  {
   "cell_type": "code",
   "execution_count": 12,
   "metadata": {},
   "outputs": [],
   "source": [
    "df.write_csv('filename.csv')"
   ]
  },
  {
   "cell_type": "code",
   "execution_count": 21,
   "metadata": {},
   "outputs": [],
   "source": [
    "sampled_df = df.sample(n=5)"
   ]
  },
  {
   "cell_type": "code",
   "execution_count": 23,
   "metadata": {},
   "outputs": [
    {
     "data": {
      "text/html": [
       "<div><style>\n",
       ".dataframe > thead > tr,\n",
       ".dataframe > tbody > tr {\n",
       "  text-align: right;\n",
       "  white-space: pre-wrap;\n",
       "}\n",
       "</style>\n",
       "<small>shape: (5,)</small><table border=\"1\" class=\"dataframe\"><thead><tr><th>text</th></tr><tr><td>str</td></tr></thead><tbody><tr><td>&quot;อีกหนึ่ง Liqui…</td></tr><tr><td>&quot;paging  who ha…</td></tr><tr><td>&quot;4 $DEGEN&quot;</td></tr><tr><td>&quot;Mint dog\n",
       "Recas…</td></tr><tr><td>&quot;765 $DEGEN&quot;</td></tr></tbody></table></div>"
      ],
      "text/plain": [
       "shape: (5,)\n",
       "Series: 'text' [str]\n",
       "[\n",
       "\t\"อีกหนึ่ง Liqui…\n",
       "\t\"paging  who ha…\n",
       "\t\"4 $DEGEN\"\n",
       "\t\"Mint dog\n",
       "Recas…\n",
       "\t\"765 $DEGEN\"\n",
       "]"
      ]
     },
     "execution_count": 23,
     "metadata": {},
     "output_type": "execute_result"
    }
   ],
   "source": [
    "random_values = sampled_df[\"text\"]\n",
    "random_values"
   ]
  },
  {
   "cell_type": "code",
   "execution_count": 16,
   "metadata": {},
   "outputs": [
    {
     "data": {
      "text/plain": [
       "110660"
      ]
     },
     "execution_count": 16,
     "metadata": {},
     "output_type": "execute_result"
    }
   ],
   "source": [
    "unique_count = df['fid'].unique().len()\n",
    "unique_count"
   ]
  },
  {
   "cell_type": "code",
   "execution_count": 17,
   "metadata": {},
   "outputs": [
    {
     "name": "stdout",
     "output_type": "stream",
     "text": [
      "5896687\n"
     ]
    }
   ],
   "source": [
    "num_rows = df.height\n",
    "print(num_rows)\n"
   ]
  },
  {
   "cell_type": "code",
   "execution_count": 18,
   "metadata": {},
   "outputs": [
    {
     "data": {
      "text/plain": [
       "True"
      ]
     },
     "execution_count": 18,
     "metadata": {},
     "output_type": "execute_result"
    }
   ],
   "source": [
    "fid_to_check = 360806\n",
    "fid_exists = (df[\"fid\"] == fid_to_check).any()\n",
    "fid_exists"
   ]
  },
  {
   "cell_type": "code",
   "execution_count": 20,
   "metadata": {},
   "outputs": [
    {
     "name": "stdout",
     "output_type": "stream",
     "text": [
      "{\"result\":{\"users\":[{\"fid\":429807,\"custodyAddress\":\"0x3f894fbb8883bb1091ef7fb90b6c15cd7debd107\",\"username\":\"amir09\",\"displayName\":\"Amir09\",\"pfp\":{\"url\":\"https://i.imgur.com/GN6oCdu.jpg\"},\"profile\":{\"bio\":{\"text\":\"\",\"mentionedProfiles\":[]}},\"followerCount\":295,\"followingCount\":496,\"verifications\":[\"0x0c842a8f611a40f78531b801000637d900d5d840\"],\"verifiedAddresses\":{\"eth_addresses\":[\"0x0c842a8f611a40f78531b801000637d900d5d840\"],\"sol_addresses\":[]},\"activeStatus\":\"inactive\",\"powerBadge\":false,\"timestamp\":\"2024-04-04T12:59:31.000Z\"},{\"fid\":396880,\"custodyAddress\":\"0x21880935078df6555514d57bb7f98143a4140cc1\",\"username\":\"friendlyghost\",\"displayName\":\"Friendlyghost \",\"pfp\":{\"url\":\"https://i.imgur.com/LKYyYii.jpg\"},\"profile\":{\"bio\":{\"text\":\"Crypto enthusiast , TA , market analyst\",\"mentionedProfiles\":[]}},\"followerCount\":609,\"followingCount\":1096,\"verifications\":[\"0x9f456dfe4bb4d1a8450e16ad3d8738c117892e8e\"],\"verifiedAddresses\":{\"eth_addresses\":[\"0x9f456dfe4bb4d1a8450e16ad3d8738c117892e8e\"],\"sol_addresses\":[\"GgiPyLsNEos2jBjr7jvTAJUcDYhZhG4HyMZDpUpzNssp\"]},\"activeStatus\":\"active\",\"powerBadge\":false,\"timestamp\":\"2024-04-04T02:36:57.000Z\"},{\"fid\":420359,\"custodyAddress\":\"0x2c2871c12f9406941ec4f8dd8a44a964c01ec435\",\"username\":\"aneanejpn\",\"displayName\":\"aneanejpn 🎩🍖\",\"pfp\":{\"url\":\"https://i.imgur.com/SGUgXpL.jpg\"},\"profile\":{\"bio\":{\"text\":\"I started warpcast.\\nDesigner by profession.\\nワープキャストを始めました。\\n職業はデザイナーです。\",\"mentionedProfiles\":[]}},\"followerCount\":741,\"followingCount\":1407,\"verifications\":[\"0xc3d65cf365c6398be4e9812bcd6f67fe5df4b718\"],\"verifiedAddresses\":{\"eth_addresses\":[\"0xc3d65cf365c6398be4e9812bcd6f67fe5df4b718\"],\"sol_addresses\":[]},\"activeStatus\":\"inactive\",\"powerBadge\":false,\"timestamp\":\"2024-03-31T12:27:26.000Z\"},{\"fid\":407206,\"custodyAddress\":\"0x818c5b60d68112762687200a4c4d2b1dd7b446c4\",\"username\":\"ermia-eth\",\"displayName\":\"Ermia-eth🎩🔵\",\"pfp\":{\"url\":\"https://i.imgur.com/JXmwdXd.jpg\"},\"profile\":{\"bio\":{\"text\":\"crypto Armageddon\\n\\nI’m nothing.\\n \\\"The Future is Decentralized.\\\"\",\"mentionedProfiles\":[]}},\"followerCount\":639,\"followingCount\":1004,\"verifications\":[\"0x878f20bcc36fb963523794e63fe004060b4a23b5\"],\"verifiedAddresses\":{\"eth_addresses\":[\"0x878f20bcc36fb963523794e63fe004060b4a23b5\"],\"sol_addresses\":[]},\"activeStatus\":\"active\",\"powerBadge\":false,\"timestamp\":\"2024-03-27T00:39:39.000Z\"},{\"fid\":362758,\"custodyAddress\":\"0x3296ced9676d23b2cd9cae29d05179bc1e815c8a\",\"username\":\"0xreaper\",\"displayName\":\"Frame Game Guy\",\"pfp\":{\"url\":\"https://i.imgur.com/N0VMJOX.jpg\"},\"profile\":{\"bio\":{\"text\":\"building frame games 🎮 🎲 BlackJack is live now!\",\"mentionedProfiles\":[]}},\"followerCount\":537,\"followingCount\":1019,\"verifications\":[\"0x937cddecf00cd7f1f667f385dedfae275a0f2ea7\"],\"verifiedAddresses\":{\"eth_addresses\":[\"0x937cddecf00cd7f1f667f385dedfae275a0f2ea7\"],\"sol_addresses\":[]},\"activeStatus\":\"active\",\"powerBadge\":false,\"timestamp\":\"2024-03-16T01:11:15.000Z\"},{\"fid\":383796,\"custodyAddress\":\"0x3582f88ec9d761b1a51386a748fee21125e7563d\",\"username\":\"d8133\",\"displayName\":\"Stephen\",\"pfp\":{\"url\":\"https://i.imgur.com/anqyB9G.jpg\"},\"profile\":{\"bio\":{\"text\":\"stephen from the Microsoft company\",\"mentionedProfiles\":[]}},\"followerCount\":640,\"followingCount\":919,\"verifications\":[\"0x652a56ea697ee23eb26c54402ef184ce0137b312\"],\"verifiedAddresses\":{\"eth_addresses\":[\"0x652a56ea697ee23eb26c54402ef184ce0137b312\"],\"sol_addresses\":[]},\"activeStatus\":\"active\",\"powerBadge\":false,\"timestamp\":\"2024-03-14T03:45:36.000Z\"},{\"fid\":383704,\"custodyAddress\":\"0x8bd8c0b3752359947c315d29c7af7d0700c3c1c2\",\"username\":\"bonfxfx\",\"displayName\":\"SATOSHI🎩\",\"pfp\":{\"url\":\"https://i.imgur.com/aCjDqhU.jpg\"},\"profile\":{\"bio\":{\"text\":\"\",\"mentionedProfiles\":[]}},\"followerCount\":19,\"followingCount\":133,\"verifications\":[],\"verifiedAddresses\":{\"eth_addresses\":[],\"sol_addresses\":[]},\"activeStatus\":\"inactive\",\"powerBadge\":false,\"timestamp\":\"2024-03-09T10:33:00.000Z\"},{\"fid\":257864,\"custodyAddress\":\"0xef847c39abf77a36a1c1dde121142e147a47f0ab\",\"username\":\"lengocquetram.eth\",\"displayName\":\"phlinh2507\",\"pfp\":{\"url\":\"https://i.imgur.com/luypIYE.jpg\"},\"profile\":{\"bio\":{\"text\":\"Never give up\",\"mentionedProfiles\":[]}},\"followerCount\":436,\"followingCount\":690,\"verifications\":[\"0x6f16c2bb24b4e844bd9fb9141cc6e812ee50f833\"],\"verifiedAddresses\":{\"eth_addresses\":[\"0x6f16c2bb24b4e844bd9fb9141cc6e812ee50f833\"],\"sol_addresses\":[]},\"activeStatus\":\"inactive\",\"powerBadge\":false,\"timestamp\":\"2024-03-06T14:23:30.000Z\"},{\"fid\":294929,\"custodyAddress\":\"0x63d292440502487103f8fcd66d1a1471a0a52e08\",\"username\":\"r3yx\",\"displayName\":\"Suripto Mangkusumo Hidayat\",\"pfp\":{\"url\":\"https://i.imgur.com/uNB9gmJ.jpg\"},\"profile\":{\"bio\":{\"text\":\"Pembalap Jalur Cepat \\n#DragOnly 🏍️\\n#100Meter 🏁\",\"mentionedProfiles\":[]}},\"followerCount\":2764,\"followingCount\":4528,\"verifications\":[\"0x4455a28c0fef7ac968e12db518074d275f30f824\"],\"verifiedAddresses\":{\"eth_addresses\":[\"0x4455a28c0fef7ac968e12db518074d275f30f824\"],\"sol_addresses\":[\"FJp1F7hxzfEZn3zdcaHG56b8NkyoviCPRY9nxrBn16fw\"]},\"activeStatus\":\"inactive\",\"powerBadge\":false,\"timestamp\":\"2024-03-05T16:04:38.000Z\"},{\"fid\":367751,\"custodyAddress\":\"0x7c6707888cc4adef94e7e2b6adc6bfebf040bb7a\",\"username\":\"akmifat\",\"displayName\":\"Akm Mohiuddin Ifat\",\"pfp\":{\"url\":\"https://i.imgur.com/00TXFKx.jpg\"},\"profile\":{\"bio\":{\"text\":\"🄸’🄼 🄰 🄲🅁🅈🄿🅃🄾 🄻🄾🅅🄴🅁 \",\"mentionedProfiles\":[]}},\"followerCount\":613,\"followingCount\":1351,\"verifications\":[\"0x561fe9438f14cb60335c5355a862d33ee10442c8\"],\"verifiedAddresses\":{\"eth_addresses\":[\"0x561fe9438f14cb60335c5355a862d33ee10442c8\"],\"sol_addresses\":[]},\"activeStatus\":\"inactive\",\"powerBadge\":false,\"timestamp\":\"2024-03-04T19:36:38.000Z\"}],\"next\":{\"cursor\":\"eyJ0aW1lc3RhbXAiOiIyMDI0LTAzLTA0IDE5OjM2OjM4LjAwMDAwMDAifQ==\"}}}\n"
     ]
    }
   ],
   "source": [
    "import requests\n",
    "\n",
    "\n",
    "\n",
    "url = \"https://api.neynar.com/v1/farcaster/followers?fid=360806&limit=10\"\n",
    "\n",
    "headers = {\n",
    "    \"accept\": \"application/json\",\n",
    "    \"api_key\": \"NEYNAR_API_DOCS\"\n",
    "}\n",
    "\n",
    "response = requests.get(url, headers=headers)\n",
    "\n",
    "print(response.text)"
   ]
  },
  {
   "cell_type": "code",
   "execution_count": 28,
   "metadata": {},
   "outputs": [
    {
     "data": {
      "text/html": [
       "<div><style>\n",
       ".dataframe > thead > tr,\n",
       ".dataframe > tbody > tr {\n",
       "  text-align: right;\n",
       "  white-space: pre-wrap;\n",
       "}\n",
       "</style>\n",
       "<small>shape: (20, 13)</small><table border=\"1\" class=\"dataframe\"><thead><tr><th>created_at</th><th>id</th><th>fid</th><th>hash</th><th>text</th><th>embeds</th><th>mentions</th><th>parent_fid</th><th>parent_url</th><th>parent_hash</th><th>root_parent_url</th><th>root_parent_hash</th><th>mentions_positions</th></tr><tr><td>datetime[ns]</td><td>i64</td><td>i64</td><td>str</td><td>str</td><td>str</td><td>str</td><td>i64</td><td>str</td><td>str</td><td>str</td><td>str</td><td>str</td></tr></thead><tbody><tr><td>2024-02-21 23:19:28.000000631</td><td>270640730</td><td>360806</td><td>&quot;0x8d1c4bf4d118…</td><td>&quot;$spam 04d1f5gs…</td><td>&quot;[]&quot;</td><td>&quot;[]&quot;</td><td>360806</td><td>null</td><td>&quot;0x79495558ca2e…</td><td>null</td><td>&quot;0x79495558ca2e…</td><td>&quot;[]&quot;</td></tr><tr><td>2024-02-21 23:19:29.000000346</td><td>270640919</td><td>360806</td><td>&quot;0xf8f3b51b7b19…</td><td>&quot;$spam $spam$sp…</td><td>&quot;[{&quot;url&quot;: &quot;http…</td><td>&quot;[]&quot;</td><td>360806</td><td>null</td><td>&quot;0xf90bd6df08d6…</td><td>null</td><td>&quot;0xf90bd6df08d6…</td><td>&quot;[]&quot;</td></tr><tr><td>2024-02-21 23:19:28.000000614</td><td>270640723</td><td>360806</td><td>&quot;0xd5c8eaf018ee…</td><td>&quot;$spam d0f5gsd4…</td><td>&quot;[]&quot;</td><td>&quot;[]&quot;</td><td>360806</td><td>null</td><td>&quot;0x79495558ca2e…</td><td>null</td><td>&quot;0x79495558ca2e…</td><td>&quot;[]&quot;</td></tr><tr><td>2024-02-21 23:19:28.000000627</td><td>270640728</td><td>360806</td><td>&quot;0x4da890ca66ed…</td><td>&quot;$spam 0dsf4gsd…</td><td>&quot;[]&quot;</td><td>&quot;[]&quot;</td><td>360806</td><td>null</td><td>&quot;0x79495558ca2e…</td><td>null</td><td>&quot;0x79495558ca2e…</td><td>&quot;[]&quot;</td></tr><tr><td>2024-02-21 23:19:28.000000664</td><td>270640739</td><td>360806</td><td>&quot;0x0de652e2790f…</td><td>&quot;$spam f0d1ghbs…</td><td>&quot;[]&quot;</td><td>&quot;[]&quot;</td><td>360806</td><td>null</td><td>&quot;0x79495558ca2e…</td><td>null</td><td>&quot;0x79495558ca2e…</td><td>&quot;[]&quot;</td></tr><tr><td>&hellip;</td><td>&hellip;</td><td>&hellip;</td><td>&hellip;</td><td>&hellip;</td><td>&hellip;</td><td>&hellip;</td><td>&hellip;</td><td>&hellip;</td><td>&hellip;</td><td>&hellip;</td><td>&hellip;</td><td>&hellip;</td></tr><tr><td>2024-02-21 23:19:29.000000508</td><td>270640960</td><td>360806</td><td>&quot;0xd79fd361bfa4…</td><td>&quot;$spam&quot;</td><td>&quot;[{&quot;url&quot;: &quot;http…</td><td>&quot;[]&quot;</td><td>null</td><td>&quot;https://warpca…</td><td>null</td><td>&quot;https://warpca…</td><td>&quot;0xd79fd361bfa4…</td><td>&quot;[]&quot;</td></tr><tr><td>2024-02-21 23:19:29.000000521</td><td>270640961</td><td>360806</td><td>&quot;0xf90bd6df08d6…</td><td>&quot;$spam $spam $s…</td><td>&quot;[{&quot;url&quot;: &quot;http…</td><td>&quot;[]&quot;</td><td>360806</td><td>null</td><td>&quot;0x884f85bd235d…</td><td>null</td><td>&quot;0xff70c856f231…</td><td>&quot;[]&quot;</td></tr><tr><td>2024-02-21 23:19:29.000000807</td><td>270640970</td><td>360806</td><td>&quot;0xc788d83d3b9f…</td><td>&quot;$spam $spam$sp…</td><td>&quot;[{&quot;url&quot;: &quot;http…</td><td>&quot;[]&quot;</td><td>360806</td><td>null</td><td>&quot;0x474be585e70b…</td><td>&quot;https://warpca…</td><td>&quot;0xd79fd361bfa4…</td><td>&quot;[]&quot;</td></tr><tr><td>2024-02-21 23:19:28.000000512</td><td>270640706</td><td>360806</td><td>&quot;0x79495558ca2e…</td><td>&quot;$spam asdfasdf…</td><td>&quot;[]&quot;</td><td>&quot;[]&quot;</td><td>null</td><td>null</td><td>null</td><td>null</td><td>&quot;0x79495558ca2e…</td><td>&quot;[]&quot;</td></tr><tr><td>2024-02-21 23:19:28.000000527</td><td>270640717</td><td>360806</td><td>&quot;0xab84f6c3bf49…</td><td>&quot;$spam 10gs5dfg…</td><td>&quot;[]&quot;</td><td>&quot;[]&quot;</td><td>360806</td><td>null</td><td>&quot;0x79495558ca2e…</td><td>null</td><td>&quot;0x79495558ca2e…</td><td>&quot;[]&quot;</td></tr></tbody></table></div>"
      ],
      "text/plain": [
       "shape: (20, 13)\n",
       "┌────────────┬───────────┬────────┬────────────┬───┬───────────┬───────────┬───────────┬───────────┐\n",
       "│ created_at ┆ id        ┆ fid    ┆ hash       ┆ … ┆ parent_ha ┆ root_pare ┆ root_pare ┆ mentions_ │\n",
       "│ ---        ┆ ---       ┆ ---    ┆ ---        ┆   ┆ sh        ┆ nt_url    ┆ nt_hash   ┆ positions │\n",
       "│ datetime[n ┆ i64       ┆ i64    ┆ str        ┆   ┆ ---       ┆ ---       ┆ ---       ┆ ---       │\n",
       "│ s]         ┆           ┆        ┆            ┆   ┆ str       ┆ str       ┆ str       ┆ str       │\n",
       "╞════════════╪═══════════╪════════╪════════════╪═══╪═══════════╪═══════════╪═══════════╪═══════════╡\n",
       "│ 2024-02-21 ┆ 270640730 ┆ 360806 ┆ 0x8d1c4bf4 ┆ … ┆ 0x7949555 ┆ null      ┆ 0x7949555 ┆ []        │\n",
       "│ 23:19:28.0 ┆           ┆        ┆ d11801d21e ┆   ┆ 8ca2e300b ┆           ┆ 8ca2e300b ┆           │\n",
       "│ 00000631   ┆           ┆        ┆ 49b98e825e ┆   ┆ 0f52c5b8b ┆           ┆ 0f52c5b8b ┆           │\n",
       "│            ┆           ┆        ┆ 1a…        ┆   ┆ 0d3ea…    ┆           ┆ 0d3ea…    ┆           │\n",
       "│ 2024-02-21 ┆ 270640919 ┆ 360806 ┆ 0xf8f3b51b ┆ … ┆ 0xf90bd6d ┆ null      ┆ 0xf90bd6d ┆ []        │\n",
       "│ 23:19:29.0 ┆           ┆        ┆ 7b19453988 ┆   ┆ f08d6c7fa ┆           ┆ f08d6c7fa ┆           │\n",
       "│ 00000346   ┆           ┆        ┆ 7b6a237877 ┆   ┆ b60032c8d ┆           ┆ b60032c8d ┆           │\n",
       "│            ┆           ┆        ┆ 55…        ┆   ┆ d517a…    ┆           ┆ d517a…    ┆           │\n",
       "│ 2024-02-21 ┆ 270640723 ┆ 360806 ┆ 0xd5c8eaf0 ┆ … ┆ 0x7949555 ┆ null      ┆ 0x7949555 ┆ []        │\n",
       "│ 23:19:28.0 ┆           ┆        ┆ 18ee1e22ca ┆   ┆ 8ca2e300b ┆           ┆ 8ca2e300b ┆           │\n",
       "│ 00000614   ┆           ┆        ┆ 750ea2d1cc ┆   ┆ 0f52c5b8b ┆           ┆ 0f52c5b8b ┆           │\n",
       "│            ┆           ┆        ┆ 17…        ┆   ┆ 0d3ea…    ┆           ┆ 0d3ea…    ┆           │\n",
       "│ 2024-02-21 ┆ 270640728 ┆ 360806 ┆ 0x4da890ca ┆ … ┆ 0x7949555 ┆ null      ┆ 0x7949555 ┆ []        │\n",
       "│ 23:19:28.0 ┆           ┆        ┆ 66ed35cc2e ┆   ┆ 8ca2e300b ┆           ┆ 8ca2e300b ┆           │\n",
       "│ 00000627   ┆           ┆        ┆ a5e233a234 ┆   ┆ 0f52c5b8b ┆           ┆ 0f52c5b8b ┆           │\n",
       "│            ┆           ┆        ┆ 5e…        ┆   ┆ 0d3ea…    ┆           ┆ 0d3ea…    ┆           │\n",
       "│ 2024-02-21 ┆ 270640739 ┆ 360806 ┆ 0x0de652e2 ┆ … ┆ 0x7949555 ┆ null      ┆ 0x7949555 ┆ []        │\n",
       "│ 23:19:28.0 ┆           ┆        ┆ 790fbb7a33 ┆   ┆ 8ca2e300b ┆           ┆ 8ca2e300b ┆           │\n",
       "│ 00000664   ┆           ┆        ┆ 9bb6cef541 ┆   ┆ 0f52c5b8b ┆           ┆ 0f52c5b8b ┆           │\n",
       "│            ┆           ┆        ┆ 29…        ┆   ┆ 0d3ea…    ┆           ┆ 0d3ea…    ┆           │\n",
       "│ …          ┆ …         ┆ …      ┆ …          ┆ … ┆ …         ┆ …         ┆ …         ┆ …         │\n",
       "│ 2024-02-21 ┆ 270640960 ┆ 360806 ┆ 0xd79fd361 ┆ … ┆ null      ┆ https://w ┆ 0xd79fd36 ┆ []        │\n",
       "│ 23:19:29.0 ┆           ┆        ┆ bfa4b1c6cb ┆   ┆           ┆ arpcast.c ┆ 1bfa4b1c6 ┆           │\n",
       "│ 00000508   ┆           ┆        ┆ c0cd294013 ┆   ┆           ┆ om/~/chan ┆ cbc0cd294 ┆           │\n",
       "│            ┆           ┆        ┆ 0b…        ┆   ┆           ┆ nel/a…    ┆ 0130b…    ┆           │\n",
       "│ 2024-02-21 ┆ 270640961 ┆ 360806 ┆ 0xf90bd6df ┆ … ┆ 0x884f85b ┆ null      ┆ 0xff70c85 ┆ []        │\n",
       "│ 23:19:29.0 ┆           ┆        ┆ 08d6c7fab6 ┆   ┆ d235d9719 ┆           ┆ 6f231b6bb ┆           │\n",
       "│ 00000521   ┆           ┆        ┆ 0032c8dd51 ┆   ┆ a203c3d93 ┆           ┆ c0c32e067 ┆           │\n",
       "│            ┆           ┆        ┆ 7a…        ┆   ┆ 06fb0…    ┆           ┆ f6480…    ┆           │\n",
       "│ 2024-02-21 ┆ 270640970 ┆ 360806 ┆ 0xc788d83d ┆ … ┆ 0x474be58 ┆ https://w ┆ 0xd79fd36 ┆ []        │\n",
       "│ 23:19:29.0 ┆           ┆        ┆ 3b9f41e96a ┆   ┆ 5e70bd33f ┆ arpcast.c ┆ 1bfa4b1c6 ┆           │\n",
       "│ 00000807   ┆           ┆        ┆ c4b085176d ┆   ┆ 128834351 ┆ om/~/chan ┆ cbc0cd294 ┆           │\n",
       "│            ┆           ┆        ┆ 4c…        ┆   ┆ a1129…    ┆ nel/a…    ┆ 0130b…    ┆           │\n",
       "│ 2024-02-21 ┆ 270640706 ┆ 360806 ┆ 0x79495558 ┆ … ┆ null      ┆ null      ┆ 0x7949555 ┆ []        │\n",
       "│ 23:19:28.0 ┆           ┆        ┆ ca2e300b0f ┆   ┆           ┆           ┆ 8ca2e300b ┆           │\n",
       "│ 00000512   ┆           ┆        ┆ 52c5b8b0d3 ┆   ┆           ┆           ┆ 0f52c5b8b ┆           │\n",
       "│            ┆           ┆        ┆ ea…        ┆   ┆           ┆           ┆ 0d3ea…    ┆           │\n",
       "│ 2024-02-21 ┆ 270640717 ┆ 360806 ┆ 0xab84f6c3 ┆ … ┆ 0x7949555 ┆ null      ┆ 0x7949555 ┆ []        │\n",
       "│ 23:19:28.0 ┆           ┆        ┆ bf4902eed2 ┆   ┆ 8ca2e300b ┆           ┆ 8ca2e300b ┆           │\n",
       "│ 00000527   ┆           ┆        ┆ 493cad4c34 ┆   ┆ 0f52c5b8b ┆           ┆ 0f52c5b8b ┆           │\n",
       "│            ┆           ┆        ┆ 78…        ┆   ┆ 0d3ea…    ┆           ┆ 0d3ea…    ┆           │\n",
       "└────────────┴───────────┴────────┴────────────┴───┴───────────┴───────────┴───────────┴───────────┘"
      ]
     },
     "execution_count": 28,
     "metadata": {},
     "output_type": "execute_result"
    }
   ],
   "source": [
    "value_to_match = \"360806\"\n",
    "\n",
    "\n",
    "filtered_df = df.filter(df[\"fid\"] == value_to_match)\n",
    "\n",
    "filtered_df.head(20)\n"
   ]
  },
  {
   "cell_type": "code",
   "execution_count": 33,
   "metadata": {},
   "outputs": [
    {
     "name": "stdout",
     "output_type": "stream",
     "text": [
      "{\"users\":[{\"object\":\"user\",\"fid\":360806,\"custody_address\":\"0x79eee75978dfae1cd36244a6a49512c35c947590\",\"username\":\"fdegen\",\"display_name\":\"fardegen\",\"pfp_url\":\"https://i.imgur.com/ujrgXmS.jpg\",\"profile\":{\"bio\":{\"text\":\"fardegen\",\"mentioned_profiles\":[]}},\"follower_count\":16,\"following_count\":132,\"verifications\":[\"0x79eee75978dfae1cd36244a6a49512c35c947590\"],\"verified_addresses\":{\"eth_addresses\":[\"0x79eee75978dfae1cd36244a6a49512c35c947590\"],\"sol_addresses\":[\"ViMNB9LpjxzRWh5Uc4mVHhERBNBVLyd3ECfmHUSg4yb\"]},\"active_status\":\"inactive\",\"power_badge\":false}]}\n"
     ]
    }
   ],
   "source": [
    "import requests\n",
    "\n",
    "url = \"https://api.neynar.com/v2/farcaster/user/bulk?fids=360806\"\n",
    "\n",
    "headers = {\n",
    "    \"accept\": \"application/json\",\n",
    "    \"api_key\": \"NEYNAR_API_DOCS\"\n",
    "}\n",
    "\n",
    "response = requests.get(url, headers=headers)\n",
    "print(response.text)\n"
   ]
  }
 ],
 "metadata": {
  "kernelspec": {
   "display_name": ".venv",
   "language": "python",
   "name": "python3"
  },
  "language_info": {
   "codemirror_mode": {
    "name": "ipython",
    "version": 3
   },
   "file_extension": ".py",
   "mimetype": "text/x-python",
   "name": "python",
   "nbconvert_exporter": "python",
   "pygments_lexer": "ipython3",
   "version": "3.11.8"
  }
 },
 "nbformat": 4,
 "nbformat_minor": 2
}
